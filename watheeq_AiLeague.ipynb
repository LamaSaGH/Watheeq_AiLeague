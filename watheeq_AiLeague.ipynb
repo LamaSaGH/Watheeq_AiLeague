{
  "nbformat": 4,
  "nbformat_minor": 0,
  "metadata": {
    "colab": {
      "provenance": []
    },
    "kernelspec": {
      "name": "python3",
      "display_name": "Python 3"
    },
    "language_info": {
      "name": "python"
    }
  },
  "cells": [
    {
      "cell_type": "markdown",
      "source": [
        "https://www.kaggle.com/datasets/jessicali9530/lfw-dataset"
      ],
      "metadata": {
        "id": "xdzl3tSQcmgT"
      }
    },
    {
      "cell_type": "code",
      "source": [
        "from google.colab import drive\n",
        "drive.mount('/content/drive')"
      ],
      "metadata": {
        "colab": {
          "base_uri": "https://localhost:8080/"
        },
        "id": "ZfWk9L1KYPQ3",
        "outputId": "42c241aa-050c-4661-c5c5-5faaaf328488"
      },
      "execution_count": 2,
      "outputs": [
        {
          "output_type": "stream",
          "name": "stdout",
          "text": [
            "Mounted at /content/drive\n"
          ]
        }
      ]
    },
    {
      "cell_type": "code",
      "source": [
        "!pip install opencv-python\n",
        "!pip install insightface\n",
        "!pip install onnxruntime"
      ],
      "metadata": {
        "colab": {
          "base_uri": "https://localhost:8080/"
        },
        "id": "WSxPrR3kd0Wp",
        "outputId": "0342d9b0-980e-4c41-9bdf-f78916201e97"
      },
      "execution_count": 3,
      "outputs": [
        {
          "output_type": "stream",
          "name": "stdout",
          "text": [
            "Requirement already satisfied: opencv-python in /usr/local/lib/python3.11/dist-packages (4.11.0.86)\n",
            "Requirement already satisfied: numpy>=1.21.2 in /usr/local/lib/python3.11/dist-packages (from opencv-python) (2.0.2)\n",
            "Collecting insightface\n",
            "  Downloading insightface-0.7.3.tar.gz (439 kB)\n",
            "\u001b[2K     \u001b[90m━━━━━━━━━━━━━━━━━━━━━━━━━━━━━━━━━━━━━━━━\u001b[0m \u001b[32m439.5/439.5 kB\u001b[0m \u001b[31m18.6 MB/s\u001b[0m eta \u001b[36m0:00:00\u001b[0m\n",
            "\u001b[?25h  Installing build dependencies ... \u001b[?25l\u001b[?25hdone\n",
            "  Getting requirements to build wheel ... \u001b[?25l\u001b[?25hdone\n",
            "  Preparing metadata (pyproject.toml) ... \u001b[?25l\u001b[?25hdone\n",
            "Requirement already satisfied: numpy in /usr/local/lib/python3.11/dist-packages (from insightface) (2.0.2)\n",
            "Collecting onnx (from insightface)\n",
            "  Downloading onnx-1.17.0-cp311-cp311-manylinux_2_17_x86_64.manylinux2014_x86_64.whl.metadata (16 kB)\n",
            "Requirement already satisfied: tqdm in /usr/local/lib/python3.11/dist-packages (from insightface) (4.67.1)\n",
            "Requirement already satisfied: requests in /usr/local/lib/python3.11/dist-packages (from insightface) (2.32.3)\n",
            "Requirement already satisfied: matplotlib in /usr/local/lib/python3.11/dist-packages (from insightface) (3.10.0)\n",
            "Requirement already satisfied: Pillow in /usr/local/lib/python3.11/dist-packages (from insightface) (11.1.0)\n",
            "Requirement already satisfied: scipy in /usr/local/lib/python3.11/dist-packages (from insightface) (1.14.1)\n",
            "Requirement already satisfied: scikit-learn in /usr/local/lib/python3.11/dist-packages (from insightface) (1.6.1)\n",
            "Requirement already satisfied: scikit-image in /usr/local/lib/python3.11/dist-packages (from insightface) (0.25.2)\n",
            "Requirement already satisfied: easydict in /usr/local/lib/python3.11/dist-packages (from insightface) (1.13)\n",
            "Requirement already satisfied: cython in /usr/local/lib/python3.11/dist-packages (from insightface) (3.0.12)\n",
            "Requirement already satisfied: albumentations in /usr/local/lib/python3.11/dist-packages (from insightface) (2.0.5)\n",
            "Requirement already satisfied: prettytable in /usr/local/lib/python3.11/dist-packages (from insightface) (3.16.0)\n",
            "Requirement already satisfied: PyYAML in /usr/local/lib/python3.11/dist-packages (from albumentations->insightface) (6.0.2)\n",
            "Requirement already satisfied: pydantic>=2.9.2 in /usr/local/lib/python3.11/dist-packages (from albumentations->insightface) (2.11.2)\n",
            "Requirement already satisfied: albucore==0.0.23 in /usr/local/lib/python3.11/dist-packages (from albumentations->insightface) (0.0.23)\n",
            "Requirement already satisfied: opencv-python-headless>=4.9.0.80 in /usr/local/lib/python3.11/dist-packages (from albumentations->insightface) (4.11.0.86)\n",
            "Requirement already satisfied: stringzilla>=3.10.4 in /usr/local/lib/python3.11/dist-packages (from albucore==0.0.23->albumentations->insightface) (3.12.3)\n",
            "Requirement already satisfied: simsimd>=5.9.2 in /usr/local/lib/python3.11/dist-packages (from albucore==0.0.23->albumentations->insightface) (6.2.1)\n",
            "Requirement already satisfied: contourpy>=1.0.1 in /usr/local/lib/python3.11/dist-packages (from matplotlib->insightface) (1.3.1)\n",
            "Requirement already satisfied: cycler>=0.10 in /usr/local/lib/python3.11/dist-packages (from matplotlib->insightface) (0.12.1)\n",
            "Requirement already satisfied: fonttools>=4.22.0 in /usr/local/lib/python3.11/dist-packages (from matplotlib->insightface) (4.57.0)\n",
            "Requirement already satisfied: kiwisolver>=1.3.1 in /usr/local/lib/python3.11/dist-packages (from matplotlib->insightface) (1.4.8)\n",
            "Requirement already satisfied: packaging>=20.0 in /usr/local/lib/python3.11/dist-packages (from matplotlib->insightface) (24.2)\n",
            "Requirement already satisfied: pyparsing>=2.3.1 in /usr/local/lib/python3.11/dist-packages (from matplotlib->insightface) (3.2.3)\n",
            "Requirement already satisfied: python-dateutil>=2.7 in /usr/local/lib/python3.11/dist-packages (from matplotlib->insightface) (2.8.2)\n",
            "Requirement already satisfied: protobuf>=3.20.2 in /usr/local/lib/python3.11/dist-packages (from onnx->insightface) (5.29.4)\n",
            "Requirement already satisfied: wcwidth in /usr/local/lib/python3.11/dist-packages (from prettytable->insightface) (0.2.13)\n",
            "Requirement already satisfied: charset-normalizer<4,>=2 in /usr/local/lib/python3.11/dist-packages (from requests->insightface) (3.4.1)\n",
            "Requirement already satisfied: idna<4,>=2.5 in /usr/local/lib/python3.11/dist-packages (from requests->insightface) (3.10)\n",
            "Requirement already satisfied: urllib3<3,>=1.21.1 in /usr/local/lib/python3.11/dist-packages (from requests->insightface) (2.3.0)\n",
            "Requirement already satisfied: certifi>=2017.4.17 in /usr/local/lib/python3.11/dist-packages (from requests->insightface) (2025.1.31)\n",
            "Requirement already satisfied: networkx>=3.0 in /usr/local/lib/python3.11/dist-packages (from scikit-image->insightface) (3.4.2)\n",
            "Requirement already satisfied: imageio!=2.35.0,>=2.33 in /usr/local/lib/python3.11/dist-packages (from scikit-image->insightface) (2.37.0)\n",
            "Requirement already satisfied: tifffile>=2022.8.12 in /usr/local/lib/python3.11/dist-packages (from scikit-image->insightface) (2025.3.30)\n",
            "Requirement already satisfied: lazy-loader>=0.4 in /usr/local/lib/python3.11/dist-packages (from scikit-image->insightface) (0.4)\n",
            "Requirement already satisfied: joblib>=1.2.0 in /usr/local/lib/python3.11/dist-packages (from scikit-learn->insightface) (1.4.2)\n",
            "Requirement already satisfied: threadpoolctl>=3.1.0 in /usr/local/lib/python3.11/dist-packages (from scikit-learn->insightface) (3.6.0)\n",
            "Requirement already satisfied: annotated-types>=0.6.0 in /usr/local/lib/python3.11/dist-packages (from pydantic>=2.9.2->albumentations->insightface) (0.7.0)\n",
            "Requirement already satisfied: pydantic-core==2.33.1 in /usr/local/lib/python3.11/dist-packages (from pydantic>=2.9.2->albumentations->insightface) (2.33.1)\n",
            "Requirement already satisfied: typing-extensions>=4.12.2 in /usr/local/lib/python3.11/dist-packages (from pydantic>=2.9.2->albumentations->insightface) (4.13.1)\n",
            "Requirement already satisfied: typing-inspection>=0.4.0 in /usr/local/lib/python3.11/dist-packages (from pydantic>=2.9.2->albumentations->insightface) (0.4.0)\n",
            "Requirement already satisfied: six>=1.5 in /usr/local/lib/python3.11/dist-packages (from python-dateutil>=2.7->matplotlib->insightface) (1.17.0)\n",
            "Downloading onnx-1.17.0-cp311-cp311-manylinux_2_17_x86_64.manylinux2014_x86_64.whl (16.0 MB)\n",
            "\u001b[2K   \u001b[90m━━━━━━━━━━━━━━━━━━━━━━━━━━━━━━━━━━━━━━━━\u001b[0m \u001b[32m16.0/16.0 MB\u001b[0m \u001b[31m39.5 MB/s\u001b[0m eta \u001b[36m0:00:00\u001b[0m\n",
            "\u001b[?25hBuilding wheels for collected packages: insightface\n",
            "  Building wheel for insightface (pyproject.toml) ... \u001b[?25l\u001b[?25hdone\n",
            "  Created wheel for insightface: filename=insightface-0.7.3-cp311-cp311-linux_x86_64.whl size=1064921 sha256=e78378b5efba60260b626a59ad9fa8b555626497e6ab70324ba2bca129621548\n",
            "  Stored in directory: /root/.cache/pip/wheels/27/d8/22/f52d858d16cd06e7b2e6aad34a1777dcfaf000be833bbf8146\n",
            "Successfully built insightface\n",
            "Installing collected packages: onnx, insightface\n",
            "Successfully installed insightface-0.7.3 onnx-1.17.0\n"
          ]
        }
      ]
    },
    {
      "cell_type": "code",
      "source": [
        "import os\n",
        "import cv2\n",
        "import numpy as np\n",
        "import pandas as pd\n",
        "from tqdm import tqdm\n",
        "from itertools import combinations\n",
        "from insightface.app import FaceAnalysis"
      ],
      "metadata": {
        "id": "cmllQQ9vkTw1"
      },
      "execution_count": 5,
      "outputs": []
    },
    {
      "cell_type": "code",
      "source": [
        "# Set paths and threshold\n",
        "IMAGE_ROOT = \"/content/drive/MyDrive/lfw-deepfunneled\"\n",
        "CSV_PATH = \"/content/drive/MyDrive/peopleDevTest.csv\"\n",
        "THRESHOLD = 0.6\n",
        "\n",
        "# Load ArcFace model\n",
        "face_app = FaceAnalysis(name='buffalo_l')\n",
        "face_app.prepare(ctx_id=0)\n",
        "\n",
        "# Load CSV with names and image counts\n",
        "df = pd.read_csv(CSV_PATH)\n",
        "\n",
        "# Get face embedding using ArcFace\n",
        "def get_embedding(image_path):\n",
        "   full_path = os.path.join(IMAGE_ROOT, image_path)\n",
        "   img = cv2.imread(full_path)\n",
        "   if img is None:\n",
        "       return None\n",
        "   faces = face_app.get(img)\n",
        "   return faces[0].embedding if faces else None\n",
        "\n",
        "# Evaluate same-person pairs\n",
        "\n",
        "def evaluate(df):\n",
        "    total = 0\n",
        "    correct = 0\n",
        "    false_negatives = 0\n",
        "    for _, row in tqdm(df.iterrows(), total=len(df), desc=\"Evaluating\"):\n",
        "        person = row['name']\n",
        "        path = os.path.join(IMAGE_ROOT, person)\n",
        "        if not os.path.exists(path):\n",
        "            continue\n",
        "\n",
        "        # Use up to 5 images per person\n",
        "        images = sorted(os.listdir(path))[:5]\n",
        "        if len(images) < 2:\n",
        "            continue\n",
        "        # Generate all pairs from the selected images\n",
        "        pairs = list(combinations(images, 2))\n",
        "        for img1, img2 in pairs:\n",
        "            emb1 = get_embedding(os.path.join(person, img1))\n",
        "            emb2 = get_embedding(os.path.join(person, img2))\n",
        "            if emb1 is None or emb2 is None:\n",
        "                continue\n",
        "\n",
        "            # Cosine similarity between embeddings\n",
        "            similarity = np.dot(emb1, emb2) / (np.linalg.norm(emb1) * np.linalg.norm(emb2))\n",
        "            is_match = similarity > THRESHOLD\n",
        "            total += 1\n",
        "            if is_match:\n",
        "                correct += 1\n",
        "            else:\n",
        "                false_negatives += 1\n",
        "            print(f\"{person}: {img1} vs {img2} → Similarity: {similarity:.3f} → {'Match' if is_match else 'No Match'}\")\n",
        "\n",
        "    # Summary results\n",
        "    print(\"\\nSummary:\")\n",
        "    print(f\"Total Pairs: {total}\")\n",
        "    print(f\"Correct Matches: {correct}\")\n",
        "    print(f\"False Negatives: {false_negatives}\")\n",
        "    print(f\"Accuracy: {correct / total:.4f}\" if total else \"No valid pairs evaluated.\")\n",
        "\n",
        "evaluate(df)"
      ],
      "metadata": {
        "colab": {
          "base_uri": "https://localhost:8080/"
        },
        "id": "UgEyM1CBE6N6",
        "outputId": "def32302-5ab6-45de-c0ff-2a6a545f8de9"
      },
      "execution_count": 6,
      "outputs": [
        {
          "output_type": "stream",
          "name": "stdout",
          "text": [
            "download_path: /root/.insightface/models/buffalo_l\n",
            "Downloading /root/.insightface/models/buffalo_l.zip from https://github.com/deepinsight/insightface/releases/download/v0.7/buffalo_l.zip...\n"
          ]
        },
        {
          "output_type": "stream",
          "name": "stderr",
          "text": [
            "100%|██████████| 281857/281857 [00:06<00:00, 45217.18KB/s]\n",
            "/usr/local/lib/python3.11/dist-packages/onnxruntime/capi/onnxruntime_inference_collection.py:118: UserWarning: Specified provider 'CUDAExecutionProvider' is not in available provider names.Available providers: 'AzureExecutionProvider, CPUExecutionProvider'\n",
            "  warnings.warn(\n"
          ]
        },
        {
          "output_type": "stream",
          "name": "stdout",
          "text": [
            "Applied providers: ['CPUExecutionProvider'], with options: {'CPUExecutionProvider': {}}\n",
            "find model: /root/.insightface/models/buffalo_l/1k3d68.onnx landmark_3d_68 ['None', 3, 192, 192] 0.0 1.0\n",
            "Applied providers: ['CPUExecutionProvider'], with options: {'CPUExecutionProvider': {}}\n",
            "find model: /root/.insightface/models/buffalo_l/2d106det.onnx landmark_2d_106 ['None', 3, 192, 192] 0.0 1.0\n",
            "Applied providers: ['CPUExecutionProvider'], with options: {'CPUExecutionProvider': {}}\n",
            "find model: /root/.insightface/models/buffalo_l/det_10g.onnx detection [1, 3, '?', '?'] 127.5 128.0\n",
            "Applied providers: ['CPUExecutionProvider'], with options: {'CPUExecutionProvider': {}}\n",
            "find model: /root/.insightface/models/buffalo_l/genderage.onnx genderage ['None', 3, 96, 96] 0.0 1.0\n",
            "Applied providers: ['CPUExecutionProvider'], with options: {'CPUExecutionProvider': {}}\n",
            "find model: /root/.insightface/models/buffalo_l/w600k_r50.onnx recognition ['None', 3, 112, 112] 127.5 127.5\n",
            "set det-size: (640, 640)\n"
          ]
        },
        {
          "output_type": "stream",
          "name": "stderr",
          "text": [
            "Evaluating:   0%|          | 5/1711 [00:13<50:57,  1.79s/it]  "
          ]
        },
        {
          "output_type": "stream",
          "name": "stdout",
          "text": [
            "Abdullah_Gul: Abdullah_Gul_0001.jpg vs Abdullah_Gul_0002.jpg → Similarity: 0.619 → Match\n",
            "Abdullah_Gul: Abdullah_Gul_0001.jpg vs Abdullah_Gul_0003.jpg → Similarity: 0.614 → Match\n",
            "Abdullah_Gul: Abdullah_Gul_0001.jpg vs Abdullah_Gul_0004.jpg → Similarity: 0.620 → Match\n",
            "Abdullah_Gul: Abdullah_Gul_0001.jpg vs Abdullah_Gul_0005.jpg → Similarity: 0.640 → Match\n",
            "Abdullah_Gul: Abdullah_Gul_0002.jpg vs Abdullah_Gul_0003.jpg → Similarity: 0.781 → Match\n",
            "Abdullah_Gul: Abdullah_Gul_0002.jpg vs Abdullah_Gul_0004.jpg → Similarity: 0.900 → Match\n",
            "Abdullah_Gul: Abdullah_Gul_0002.jpg vs Abdullah_Gul_0005.jpg → Similarity: 0.716 → Match\n"
          ]
        },
        {
          "output_type": "stream",
          "name": "stderr",
          "text": [
            "\rEvaluating:   0%|          | 5/1711 [00:33<50:57,  1.79s/it]"
          ]
        },
        {
          "output_type": "stream",
          "name": "stdout",
          "text": [
            "Abdullah_Gul: Abdullah_Gul_0003.jpg vs Abdullah_Gul_0004.jpg → Similarity: 0.765 → Match\n",
            "Abdullah_Gul: Abdullah_Gul_0003.jpg vs Abdullah_Gul_0005.jpg → Similarity: 0.649 → Match\n"
          ]
        },
        {
          "output_type": "stream",
          "name": "stderr",
          "text": [
            "\rEvaluating:   0%|          | 7/1711 [00:42<3:17:58,  6.97s/it]"
          ]
        },
        {
          "output_type": "stream",
          "name": "stdout",
          "text": [
            "Abdullah_Gul: Abdullah_Gul_0004.jpg vs Abdullah_Gul_0005.jpg → Similarity: 0.695 → Match\n"
          ]
        },
        {
          "output_type": "stream",
          "name": "stderr",
          "text": [
            "\rEvaluating:   0%|          | 8/1711 [00:45<2:54:12,  6.14s/it]"
          ]
        },
        {
          "output_type": "stream",
          "name": "stdout",
          "text": [
            "Abdullatif_Sener: Abdullatif_Sener_0001.jpg vs Abdullatif_Sener_0002.jpg → Similarity: 0.616 → Match\n",
            "Abid_Hamid_Mahmud_Al-Tikriti: Abid_Hamid_Mahmud_Al-Tikriti_0001.jpg vs Abid_Hamid_Mahmud_Al-Tikriti_0002.jpg → Similarity: 0.538 → No Match\n",
            "Abid_Hamid_Mahmud_Al-Tikriti: Abid_Hamid_Mahmud_Al-Tikriti_0001.jpg vs Abid_Hamid_Mahmud_Al-Tikriti_0003.jpg → Similarity: 0.605 → Match\n"
          ]
        },
        {
          "output_type": "stream",
          "name": "stderr",
          "text": [
            "Evaluating:   1%|          | 12/1711 [00:53<1:36:59,  3.43s/it]"
          ]
        },
        {
          "output_type": "stream",
          "name": "stdout",
          "text": [
            "Abid_Hamid_Mahmud_Al-Tikriti: Abid_Hamid_Mahmud_Al-Tikriti_0002.jpg vs Abid_Hamid_Mahmud_Al-Tikriti_0003.jpg → Similarity: 0.626 → Match\n",
            "Adel_Al-Jubeir: Adel_Al-Jubeir_0001.jpg vs Adel_Al-Jubeir_0002.jpg → Similarity: 0.818 → Match\n",
            "Adel_Al-Jubeir: Adel_Al-Jubeir_0001.jpg vs Adel_Al-Jubeir_0003.jpg → Similarity: 0.790 → Match\n"
          ]
        },
        {
          "output_type": "stream",
          "name": "stderr",
          "text": [
            "Evaluating:   1%|          | 15/1711 [01:00<1:14:05,  2.62s/it]"
          ]
        },
        {
          "output_type": "stream",
          "name": "stdout",
          "text": [
            "Adel_Al-Jubeir: Adel_Al-Jubeir_0002.jpg vs Adel_Al-Jubeir_0003.jpg → Similarity: 0.758 → Match\n"
          ]
        },
        {
          "output_type": "stream",
          "name": "stderr",
          "text": [
            "\rEvaluating:   1%|          | 17/1711 [01:00<49:10,  1.74s/it]  "
          ]
        },
        {
          "output_type": "stream",
          "name": "stdout",
          "text": [
            "Adrien_Brody: Adrien_Brody_0001.jpg vs Adrien_Brody_0002.jpg → Similarity: 0.673 → Match\n",
            "Adrien_Brody: Adrien_Brody_0001.jpg vs Adrien_Brody_0003.jpg → Similarity: 0.726 → Match\n",
            "Adrien_Brody: Adrien_Brody_0001.jpg vs Adrien_Brody_0004.jpg → Similarity: 0.714 → Match\n",
            "Adrien_Brody: Adrien_Brody_0001.jpg vs Adrien_Brody_0005.jpg → Similarity: 0.694 → Match\n",
            "Adrien_Brody: Adrien_Brody_0002.jpg vs Adrien_Brody_0003.jpg → Similarity: 0.743 → Match\n",
            "Adrien_Brody: Adrien_Brody_0002.jpg vs Adrien_Brody_0004.jpg → Similarity: 0.713 → Match\n",
            "Adrien_Brody: Adrien_Brody_0002.jpg vs Adrien_Brody_0005.jpg → Similarity: 0.706 → Match\n",
            "Adrien_Brody: Adrien_Brody_0003.jpg vs Adrien_Brody_0004.jpg → Similarity: 0.683 → Match\n",
            "Adrien_Brody: Adrien_Brody_0003.jpg vs Adrien_Brody_0005.jpg → Similarity: 0.655 → Match\n"
          ]
        },
        {
          "output_type": "stream",
          "name": "stderr",
          "text": [
            "Evaluating:   1%|          | 20/1711 [01:30<2:11:55,  4.68s/it]"
          ]
        },
        {
          "output_type": "stream",
          "name": "stdout",
          "text": [
            "Adrien_Brody: Adrien_Brody_0004.jpg vs Adrien_Brody_0005.jpg → Similarity: 0.758 → Match\n"
          ]
        },
        {
          "output_type": "stream",
          "name": "stderr",
          "text": [
            "Evaluating:   1%|▏         | 24/1711 [01:34<1:13:43,  2.62s/it]"
          ]
        },
        {
          "output_type": "stream",
          "name": "stdout",
          "text": [
            "Aitor_Gonzalez: Aitor_Gonzalez_0001.jpg vs Aitor_Gonzalez_0002.jpg → Similarity: 0.668 → Match\n"
          ]
        },
        {
          "output_type": "stream",
          "name": "stderr",
          "text": [
            "\rEvaluating:   2%|▏         | 26/1711 [01:36<1:02:24,  2.22s/it]"
          ]
        },
        {
          "output_type": "stream",
          "name": "stdout",
          "text": [
            "Al_Davis: Al_Davis_0001.jpg vs Al_Davis_0002.jpg → Similarity: 0.642 → Match\n",
            "Al_Pacino: Al_Pacino_0001.jpg vs Al_Pacino_0002.jpg → Similarity: 0.654 → Match\n",
            "Al_Pacino: Al_Pacino_0001.jpg vs Al_Pacino_0003.jpg → Similarity: 0.710 → Match\n"
          ]
        },
        {
          "output_type": "stream",
          "name": "stderr",
          "text": [
            "\rEvaluating:   2%|▏         | 27/1711 [01:45<1:37:07,  3.46s/it]"
          ]
        },
        {
          "output_type": "stream",
          "name": "stdout",
          "text": [
            "Al_Pacino: Al_Pacino_0002.jpg vs Al_Pacino_0003.jpg → Similarity: 0.639 → Match\n",
            "Alan_Greenspan: Alan_Greenspan_0001.jpg vs Alan_Greenspan_0002.jpg → Similarity: 0.719 → Match\n",
            "Alan_Greenspan: Alan_Greenspan_0001.jpg vs Alan_Greenspan_0003.jpg → Similarity: 0.718 → Match\n",
            "Alan_Greenspan: Alan_Greenspan_0001.jpg vs Alan_Greenspan_0004.jpg → Similarity: 0.780 → Match\n",
            "Alan_Greenspan: Alan_Greenspan_0001.jpg vs Alan_Greenspan_0005.jpg → Similarity: 0.697 → Match\n",
            "Alan_Greenspan: Alan_Greenspan_0002.jpg vs Alan_Greenspan_0003.jpg → Similarity: 0.713 → Match\n",
            "Alan_Greenspan: Alan_Greenspan_0002.jpg vs Alan_Greenspan_0004.jpg → Similarity: 0.747 → Match\n",
            "Alan_Greenspan: Alan_Greenspan_0002.jpg vs Alan_Greenspan_0005.jpg → Similarity: 0.710 → Match\n",
            "Alan_Greenspan: Alan_Greenspan_0003.jpg vs Alan_Greenspan_0004.jpg → Similarity: 0.750 → Match\n",
            "Alan_Greenspan: Alan_Greenspan_0003.jpg vs Alan_Greenspan_0005.jpg → Similarity: 0.739 → Match\n"
          ]
        },
        {
          "output_type": "stream",
          "name": "stderr",
          "text": [
            "Evaluating:   2%|▏         | 31/1711 [02:09<1:59:00,  4.25s/it]"
          ]
        },
        {
          "output_type": "stream",
          "name": "stdout",
          "text": [
            "Alan_Greenspan: Alan_Greenspan_0004.jpg vs Alan_Greenspan_0005.jpg → Similarity: 0.722 → Match\n",
            "Albert_Costa: Albert_Costa_0001.jpg vs Albert_Costa_0002.jpg → Similarity: 0.726 → Match\n",
            "Albert_Costa: Albert_Costa_0001.jpg vs Albert_Costa_0003.jpg → Similarity: 0.655 → Match\n",
            "Albert_Costa: Albert_Costa_0001.jpg vs Albert_Costa_0004.jpg → Similarity: 0.709 → Match\n",
            "Albert_Costa: Albert_Costa_0001.jpg vs Albert_Costa_0005.jpg → Similarity: 0.716 → Match\n",
            "Albert_Costa: Albert_Costa_0002.jpg vs Albert_Costa_0003.jpg → Similarity: 0.634 → Match\n",
            "Albert_Costa: Albert_Costa_0002.jpg vs Albert_Costa_0004.jpg → Similarity: 0.644 → Match\n",
            "Albert_Costa: Albert_Costa_0002.jpg vs Albert_Costa_0005.jpg → Similarity: 0.700 → Match\n",
            "Albert_Costa: Albert_Costa_0003.jpg vs Albert_Costa_0004.jpg → Similarity: 0.583 → No Match\n",
            "Albert_Costa: Albert_Costa_0003.jpg vs Albert_Costa_0005.jpg → Similarity: 0.559 → No Match\n"
          ]
        },
        {
          "output_type": "stream",
          "name": "stderr",
          "text": [
            "\rEvaluating:   2%|▏         | 32/1711 [02:33<3:45:26,  8.06s/it]"
          ]
        },
        {
          "output_type": "stream",
          "name": "stdout",
          "text": [
            "Albert_Costa: Albert_Costa_0004.jpg vs Albert_Costa_0005.jpg → Similarity: 0.685 → Match\n"
          ]
        },
        {
          "output_type": "stream",
          "name": "stderr",
          "text": [
            "\rEvaluating:   2%|▏         | 34/1711 [02:36<2:38:51,  5.68s/it]"
          ]
        },
        {
          "output_type": "stream",
          "name": "stdout",
          "text": [
            "Alejandro_Atchugarry: Alejandro_Atchugarry_0001.jpg vs Alejandro_Atchugarry_0002.jpg → Similarity: 0.764 → Match\n",
            "Aleksander_Kwasniewski: Aleksander_Kwasniewski_0001.jpg vs Aleksander_Kwasniewski_0002.jpg → Similarity: 0.788 → Match\n",
            "Aleksander_Kwasniewski: Aleksander_Kwasniewski_0001.jpg vs Aleksander_Kwasniewski_0003.jpg → Similarity: 0.678 → Match\n",
            "Aleksander_Kwasniewski: Aleksander_Kwasniewski_0001.jpg vs Aleksander_Kwasniewski_0004.jpg → Similarity: 0.755 → Match\n",
            "Aleksander_Kwasniewski: Aleksander_Kwasniewski_0002.jpg vs Aleksander_Kwasniewski_0003.jpg → Similarity: 0.702 → Match\n",
            "Aleksander_Kwasniewski: Aleksander_Kwasniewski_0002.jpg vs Aleksander_Kwasniewski_0004.jpg → Similarity: 0.793 → Match\n"
          ]
        },
        {
          "output_type": "stream",
          "name": "stderr",
          "text": [
            "Evaluating:   2%|▏         | 38/1711 [02:50<1:58:08,  4.24s/it]"
          ]
        },
        {
          "output_type": "stream",
          "name": "stdout",
          "text": [
            "Aleksander_Kwasniewski: Aleksander_Kwasniewski_0003.jpg vs Aleksander_Kwasniewski_0004.jpg → Similarity: 0.749 → Match\n"
          ]
        },
        {
          "output_type": "stream",
          "name": "stderr",
          "text": [
            "Evaluating:   3%|▎         | 43/1711 [02:55<56:59,  2.05s/it]  "
          ]
        },
        {
          "output_type": "stream",
          "name": "stdout",
          "text": [
            "Alex_Penelas: Alex_Penelas_0001.jpg vs Alex_Penelas_0002.jpg → Similarity: 0.794 → Match\n"
          ]
        },
        {
          "output_type": "stream",
          "name": "stderr",
          "text": [
            "Evaluating:   3%|▎         | 49/1711 [02:55<19:08,  1.45it/s]"
          ]
        },
        {
          "output_type": "stream",
          "name": "stdout",
          "text": [
            "Ali_Naimi: Ali_Naimi_0001.jpg vs Ali_Naimi_0002.jpg → Similarity: 0.808 → Match\n",
            "Ali_Naimi: Ali_Naimi_0001.jpg vs Ali_Naimi_0003.jpg → Similarity: 0.798 → Match\n",
            "Ali_Naimi: Ali_Naimi_0001.jpg vs Ali_Naimi_0004.jpg → Similarity: 0.617 → Match\n",
            "Ali_Naimi: Ali_Naimi_0001.jpg vs Ali_Naimi_0005.jpg → Similarity: 0.640 → Match\n",
            "Ali_Naimi: Ali_Naimi_0002.jpg vs Ali_Naimi_0003.jpg → Similarity: 0.855 → Match\n",
            "Ali_Naimi: Ali_Naimi_0002.jpg vs Ali_Naimi_0004.jpg → Similarity: 0.543 → No Match\n"
          ]
        },
        {
          "output_type": "stream",
          "name": "stderr",
          "text": [
            "\rEvaluating:   3%|▎         | 49/1711 [03:13<19:08,  1.45it/s]"
          ]
        },
        {
          "output_type": "stream",
          "name": "stdout",
          "text": [
            "Ali_Naimi: Ali_Naimi_0002.jpg vs Ali_Naimi_0005.jpg → Similarity: 0.709 → Match\n",
            "Ali_Naimi: Ali_Naimi_0003.jpg vs Ali_Naimi_0004.jpg → Similarity: 0.620 → Match\n",
            "Ali_Naimi: Ali_Naimi_0003.jpg vs Ali_Naimi_0005.jpg → Similarity: 0.694 → Match\n"
          ]
        },
        {
          "output_type": "stream",
          "name": "stderr",
          "text": [
            "Evaluating:   3%|▎         | 52/1711 [03:24<1:47:00,  3.87s/it]"
          ]
        },
        {
          "output_type": "stream",
          "name": "stdout",
          "text": [
            "Ali_Naimi: Ali_Naimi_0004.jpg vs Ali_Naimi_0005.jpg → Similarity: 0.573 → No Match\n"
          ]
        },
        {
          "output_type": "stream",
          "name": "stderr",
          "text": [
            "Evaluating:   3%|▎         | 56/1711 [03:27<1:01:53,  2.24s/it]"
          ]
        },
        {
          "output_type": "stream",
          "name": "stdout",
          "text": [
            "Allison_Janney: Allison_Janney_0001.jpg vs Allison_Janney_0002.jpg → Similarity: 0.622 → Match\n",
            "Allyson_Felix: Allyson_Felix_0001.jpg vs Allyson_Felix_0002.jpg → Similarity: 0.550 → No Match\n",
            "Allyson_Felix: Allyson_Felix_0001.jpg vs Allyson_Felix_0003.jpg → Similarity: 0.549 → No Match\n",
            "Allyson_Felix: Allyson_Felix_0001.jpg vs Allyson_Felix_0004.jpg → Similarity: 0.648 → Match\n",
            "Allyson_Felix: Allyson_Felix_0001.jpg vs Allyson_Felix_0005.jpg → Similarity: 0.656 → Match\n",
            "Allyson_Felix: Allyson_Felix_0002.jpg vs Allyson_Felix_0003.jpg → Similarity: 0.672 → Match\n",
            "Allyson_Felix: Allyson_Felix_0002.jpg vs Allyson_Felix_0004.jpg → Similarity: 0.564 → No Match\n",
            "Allyson_Felix: Allyson_Felix_0002.jpg vs Allyson_Felix_0005.jpg → Similarity: 0.601 → Match\n",
            "Allyson_Felix: Allyson_Felix_0003.jpg vs Allyson_Felix_0004.jpg → Similarity: 0.569 → No Match\n",
            "Allyson_Felix: Allyson_Felix_0003.jpg vs Allyson_Felix_0005.jpg → Similarity: 0.571 → No Match\n"
          ]
        },
        {
          "output_type": "stream",
          "name": "stderr",
          "text": [
            "\rEvaluating:   3%|▎         | 58/1711 [03:51<2:27:05,  5.34s/it]"
          ]
        },
        {
          "output_type": "stream",
          "name": "stdout",
          "text": [
            "Allyson_Felix: Allyson_Felix_0004.jpg vs Allyson_Felix_0005.jpg → Similarity: 0.674 → Match\n",
            "Alvaro_Uribe: Alvaro_Uribe_0001.jpg vs Alvaro_Uribe_0002.jpg → Similarity: 0.571 → No Match\n",
            "Alvaro_Uribe: Alvaro_Uribe_0001.jpg vs Alvaro_Uribe_0003.jpg → Similarity: 0.596 → No Match\n",
            "Alvaro_Uribe: Alvaro_Uribe_0001.jpg vs Alvaro_Uribe_0004.jpg → Similarity: 0.696 → Match\n",
            "Alvaro_Uribe: Alvaro_Uribe_0001.jpg vs Alvaro_Uribe_0005.jpg → Similarity: 0.637 → Match\n",
            "Alvaro_Uribe: Alvaro_Uribe_0002.jpg vs Alvaro_Uribe_0003.jpg → Similarity: 0.544 → No Match\n",
            "Alvaro_Uribe: Alvaro_Uribe_0002.jpg vs Alvaro_Uribe_0004.jpg → Similarity: 0.532 → No Match\n",
            "Alvaro_Uribe: Alvaro_Uribe_0002.jpg vs Alvaro_Uribe_0005.jpg → Similarity: 0.548 → No Match\n",
            "Alvaro_Uribe: Alvaro_Uribe_0003.jpg vs Alvaro_Uribe_0004.jpg → Similarity: 0.611 → Match\n",
            "Alvaro_Uribe: Alvaro_Uribe_0003.jpg vs Alvaro_Uribe_0005.jpg → Similarity: 0.626 → Match\n"
          ]
        },
        {
          "output_type": "stream",
          "name": "stderr",
          "text": [
            "\rEvaluating:   3%|▎         | 59/1711 [04:15<3:58:14,  8.65s/it]"
          ]
        },
        {
          "output_type": "stream",
          "name": "stdout",
          "text": [
            "Alvaro_Uribe: Alvaro_Uribe_0004.jpg vs Alvaro_Uribe_0005.jpg → Similarity: 0.513 → No Match\n",
            "Amanda_Bynes: Amanda_Bynes_0001.jpg vs Amanda_Bynes_0002.jpg → Similarity: 0.644 → Match\n",
            "Amanda_Bynes: Amanda_Bynes_0001.jpg vs Amanda_Bynes_0003.jpg → Similarity: 0.583 → No Match\n",
            "Amanda_Bynes: Amanda_Bynes_0001.jpg vs Amanda_Bynes_0004.jpg → Similarity: 0.554 → No Match\n",
            "Amanda_Bynes: Amanda_Bynes_0002.jpg vs Amanda_Bynes_0003.jpg → Similarity: 0.592 → No Match\n",
            "Amanda_Bynes: Amanda_Bynes_0002.jpg vs Amanda_Bynes_0004.jpg → Similarity: 0.619 → Match\n"
          ]
        },
        {
          "output_type": "stream",
          "name": "stderr",
          "text": [
            "Evaluating:   4%|▎         | 62/1711 [04:34<3:07:42,  6.83s/it]"
          ]
        },
        {
          "output_type": "stream",
          "name": "stdout",
          "text": [
            "Amanda_Bynes: Amanda_Bynes_0003.jpg vs Amanda_Bynes_0004.jpg → Similarity: 0.682 → Match\n",
            "Amelie_Mauresmo: Amelie_Mauresmo_0001.jpg vs Amelie_Mauresmo_0002.jpg → Similarity: 0.661 → Match\n",
            "Amelie_Mauresmo: Amelie_Mauresmo_0001.jpg vs Amelie_Mauresmo_0003.jpg → Similarity: 0.690 → Match\n",
            "Amelie_Mauresmo: Amelie_Mauresmo_0001.jpg vs Amelie_Mauresmo_0004.jpg → Similarity: 0.699 → Match\n",
            "Amelie_Mauresmo: Amelie_Mauresmo_0001.jpg vs Amelie_Mauresmo_0005.jpg → Similarity: 0.697 → Match\n",
            "Amelie_Mauresmo: Amelie_Mauresmo_0002.jpg vs Amelie_Mauresmo_0003.jpg → Similarity: 0.625 → Match\n",
            "Amelie_Mauresmo: Amelie_Mauresmo_0002.jpg vs Amelie_Mauresmo_0004.jpg → Similarity: 0.643 → Match\n",
            "Amelie_Mauresmo: Amelie_Mauresmo_0002.jpg vs Amelie_Mauresmo_0005.jpg → Similarity: 0.588 → No Match\n",
            "Amelie_Mauresmo: Amelie_Mauresmo_0003.jpg vs Amelie_Mauresmo_0004.jpg → Similarity: 0.784 → Match\n",
            "Amelie_Mauresmo: Amelie_Mauresmo_0003.jpg vs Amelie_Mauresmo_0005.jpg → Similarity: 0.808 → Match\n"
          ]
        },
        {
          "output_type": "stream",
          "name": "stderr",
          "text": [
            "Evaluating:   4%|▍         | 65/1711 [05:06<3:25:42,  7.50s/it]"
          ]
        },
        {
          "output_type": "stream",
          "name": "stdout",
          "text": [
            "Amelie_Mauresmo: Amelie_Mauresmo_0004.jpg vs Amelie_Mauresmo_0005.jpg → Similarity: 0.784 → Match\n"
          ]
        },
        {
          "output_type": "stream",
          "name": "stderr",
          "text": [
            "\rEvaluating:   4%|▍         | 67/1711 [05:06<2:14:34,  4.91s/it]"
          ]
        },
        {
          "output_type": "stream",
          "name": "stdout",
          "text": [
            "Ana_Palacio: Ana_Palacio_0001.jpg vs Ana_Palacio_0002.jpg → Similarity: 0.611 → Match\n",
            "Ana_Palacio: Ana_Palacio_0001.jpg vs Ana_Palacio_0003.jpg → Similarity: 0.669 → Match\n",
            "Ana_Palacio: Ana_Palacio_0001.jpg vs Ana_Palacio_0004.jpg → Similarity: 0.657 → Match\n",
            "Ana_Palacio: Ana_Palacio_0001.jpg vs Ana_Palacio_0005.jpg → Similarity: 0.573 → No Match\n",
            "Ana_Palacio: Ana_Palacio_0002.jpg vs Ana_Palacio_0003.jpg → Similarity: 0.696 → Match\n"
          ]
        },
        {
          "output_type": "stream",
          "name": "stderr",
          "text": [
            "\rEvaluating:   4%|▍         | 67/1711 [05:23<2:14:34,  4.91s/it]"
          ]
        },
        {
          "output_type": "stream",
          "name": "stdout",
          "text": [
            "Ana_Palacio: Ana_Palacio_0002.jpg vs Ana_Palacio_0004.jpg → Similarity: 0.636 → Match\n",
            "Ana_Palacio: Ana_Palacio_0002.jpg vs Ana_Palacio_0005.jpg → Similarity: 0.556 → No Match\n",
            "Ana_Palacio: Ana_Palacio_0003.jpg vs Ana_Palacio_0004.jpg → Similarity: 0.624 → Match\n",
            "Ana_Palacio: Ana_Palacio_0003.jpg vs Ana_Palacio_0005.jpg → Similarity: 0.657 → Match\n"
          ]
        },
        {
          "output_type": "stream",
          "name": "stderr",
          "text": [
            "Evaluating:   4%|▍         | 70/1711 [05:35<2:49:53,  6.21s/it]"
          ]
        },
        {
          "output_type": "stream",
          "name": "stdout",
          "text": [
            "Ana_Palacio: Ana_Palacio_0004.jpg vs Ana_Palacio_0005.jpg → Similarity: 0.603 → Match\n",
            "Anders_Ebbeson: Anders_Ebbeson_0001.jpg vs Anders_Ebbeson_0002.jpg → Similarity: 0.628 → Match\n",
            "Anders_Ebbeson: Anders_Ebbeson_0001.jpg vs Anders_Ebbeson_0003.jpg → Similarity: 0.730 → Match\n"
          ]
        },
        {
          "output_type": "stream",
          "name": "stderr",
          "text": [
            "\rEvaluating:   4%|▍         | 72/1711 [05:44<2:36:52,  5.74s/it]"
          ]
        },
        {
          "output_type": "stream",
          "name": "stdout",
          "text": [
            "Anders_Ebbeson: Anders_Ebbeson_0002.jpg vs Anders_Ebbeson_0003.jpg → Similarity: 0.770 → Match\n"
          ]
        },
        {
          "output_type": "stream",
          "name": "stderr",
          "text": [
            "Evaluating:   5%|▍         | 78/1711 [05:47<57:52,  2.13s/it]  "
          ]
        },
        {
          "output_type": "stream",
          "name": "stdout",
          "text": [
            "Andrei_Mikhnevich: Andrei_Mikhnevich_0001.jpg vs Andrei_Mikhnevich_0002.jpg → Similarity: 0.822 → Match\n"
          ]
        },
        {
          "output_type": "stream",
          "name": "stderr",
          "text": [
            "Evaluating:   5%|▍         | 82/1711 [05:50<39:34,  1.46s/it]"
          ]
        },
        {
          "output_type": "stream",
          "name": "stdout",
          "text": [
            "Andy_Hebb: Andy_Hebb_0001.jpg vs Andy_Hebb_0002.jpg → Similarity: 0.742 → Match\n",
            "Angelo_Reyes: Angelo_Reyes_0001.jpg vs Angelo_Reyes_0002.jpg → Similarity: 0.769 → Match\n",
            "Angelo_Reyes: Angelo_Reyes_0001.jpg vs Angelo_Reyes_0003.jpg → Similarity: 0.686 → Match\n",
            "Angelo_Reyes: Angelo_Reyes_0001.jpg vs Angelo_Reyes_0004.jpg → Similarity: 0.711 → Match\n",
            "Angelo_Reyes: Angelo_Reyes_0002.jpg vs Angelo_Reyes_0003.jpg → Similarity: 0.717 → Match\n",
            "Angelo_Reyes: Angelo_Reyes_0002.jpg vs Angelo_Reyes_0004.jpg → Similarity: 0.797 → Match\n"
          ]
        },
        {
          "output_type": "stream",
          "name": "stderr",
          "text": [
            "Evaluating:   5%|▍         | 85/1711 [06:05<1:12:21,  2.67s/it]"
          ]
        },
        {
          "output_type": "stream",
          "name": "stdout",
          "text": [
            "Angelo_Reyes: Angelo_Reyes_0003.jpg vs Angelo_Reyes_0004.jpg → Similarity: 0.782 → Match\n",
            "Ann_Veneman: Ann_Veneman_0001.jpg vs Ann_Veneman_0002.jpg → Similarity: 0.724 → Match\n",
            "Ann_Veneman: Ann_Veneman_0001.jpg vs Ann_Veneman_0003.jpg → Similarity: 0.681 → Match\n",
            "Ann_Veneman: Ann_Veneman_0001.jpg vs Ann_Veneman_0004.jpg → Similarity: 0.657 → Match\n",
            "Ann_Veneman: Ann_Veneman_0001.jpg vs Ann_Veneman_0005.jpg → Similarity: 0.628 → Match\n",
            "Ann_Veneman: Ann_Veneman_0002.jpg vs Ann_Veneman_0003.jpg → Similarity: 0.748 → Match\n",
            "Ann_Veneman: Ann_Veneman_0002.jpg vs Ann_Veneman_0004.jpg → Similarity: 0.631 → Match\n",
            "Ann_Veneman: Ann_Veneman_0002.jpg vs Ann_Veneman_0005.jpg → Similarity: 0.660 → Match\n",
            "Ann_Veneman: Ann_Veneman_0003.jpg vs Ann_Veneman_0004.jpg → Similarity: 0.757 → Match\n",
            "Ann_Veneman: Ann_Veneman_0003.jpg vs Ann_Veneman_0005.jpg → Similarity: 0.802 → Match\n"
          ]
        },
        {
          "output_type": "stream",
          "name": "stderr",
          "text": [
            "Evaluating:   5%|▌         | 88/1711 [06:29<2:00:48,  4.47s/it]"
          ]
        },
        {
          "output_type": "stream",
          "name": "stdout",
          "text": [
            "Ann_Veneman: Ann_Veneman_0004.jpg vs Ann_Veneman_0005.jpg → Similarity: 0.748 → Match\n"
          ]
        },
        {
          "output_type": "stream",
          "name": "stderr",
          "text": [
            "\rEvaluating:   5%|▌         | 89/1711 [06:32<1:50:07,  4.07s/it]"
          ]
        },
        {
          "output_type": "stream",
          "name": "stdout",
          "text": [
            "Anna_Nicole_Smith: Anna_Nicole_Smith_0001.jpg vs Anna_Nicole_Smith_0002.jpg → Similarity: 0.430 → No Match\n",
            "Anne_Krueger: Anne_Krueger_0001.jpg vs Anne_Krueger_0002.jpg → Similarity: 0.764 → Match\n",
            "Anne_Krueger: Anne_Krueger_0001.jpg vs Anne_Krueger_0003.jpg → Similarity: 0.720 → Match\n"
          ]
        },
        {
          "output_type": "stream",
          "name": "stderr",
          "text": [
            "\rEvaluating:   5%|▌         | 90/1711 [06:40<2:15:50,  5.03s/it]"
          ]
        },
        {
          "output_type": "stream",
          "name": "stdout",
          "text": [
            "Anne_Krueger: Anne_Krueger_0002.jpg vs Anne_Krueger_0003.jpg → Similarity: 0.662 → Match\n",
            "Anne_McLellan: Anne_McLellan_0001.jpg vs Anne_McLellan_0002.jpg → Similarity: 0.599 → No Match\n",
            "Anne_McLellan: Anne_McLellan_0001.jpg vs Anne_McLellan_0003.jpg → Similarity: 0.511 → No Match\n"
          ]
        },
        {
          "output_type": "stream",
          "name": "stderr",
          "text": [
            "\rEvaluating:   5%|▌         | 91/1711 [06:47<2:30:03,  5.56s/it]"
          ]
        },
        {
          "output_type": "stream",
          "name": "stdout",
          "text": [
            "Anne_McLellan: Anne_McLellan_0002.jpg vs Anne_McLellan_0003.jpg → Similarity: 0.783 → Match\n",
            "Annette_Lu: Annette_Lu_0001.jpg vs Annette_Lu_0002.jpg → Similarity: 0.647 → Match\n",
            "Annette_Lu: Annette_Lu_0001.jpg vs Annette_Lu_0003.jpg → Similarity: 0.640 → Match\n"
          ]
        },
        {
          "output_type": "stream",
          "name": "stderr",
          "text": [
            "Evaluating:   5%|▌         | 94/1711 [06:55<1:37:05,  3.60s/it]"
          ]
        },
        {
          "output_type": "stream",
          "name": "stdout",
          "text": [
            "Annette_Lu: Annette_Lu_0002.jpg vs Annette_Lu_0003.jpg → Similarity: 0.820 → Match\n"
          ]
        },
        {
          "output_type": "stream",
          "name": "stderr",
          "text": [
            "\rEvaluating:   6%|▌         | 95/1711 [06:58<1:30:34,  3.36s/it]"
          ]
        },
        {
          "output_type": "stream",
          "name": "stdout",
          "text": [
            "Anthony_LaPaglia: Anthony_LaPaglia_0001.jpg vs Anthony_LaPaglia_0002.jpg → Similarity: 0.758 → Match\n"
          ]
        },
        {
          "output_type": "stream",
          "name": "stderr",
          "text": [
            "\rEvaluating:   6%|▌         | 97/1711 [06:58<55:41,  2.07s/it]  "
          ]
        },
        {
          "output_type": "stream",
          "name": "stdout",
          "text": [
            "Antonio_Palocci: Antonio_Palocci_0001.jpg vs Antonio_Palocci_0002.jpg → Similarity: 0.745 → Match\n",
            "Antonio_Palocci: Antonio_Palocci_0001.jpg vs Antonio_Palocci_0003.jpg → Similarity: 0.688 → Match\n",
            "Antonio_Palocci: Antonio_Palocci_0001.jpg vs Antonio_Palocci_0004.jpg → Similarity: 0.747 → Match\n",
            "Antonio_Palocci: Antonio_Palocci_0001.jpg vs Antonio_Palocci_0005.jpg → Similarity: 0.675 → Match\n",
            "Antonio_Palocci: Antonio_Palocci_0002.jpg vs Antonio_Palocci_0003.jpg → Similarity: 0.712 → Match\n",
            "Antonio_Palocci: Antonio_Palocci_0002.jpg vs Antonio_Palocci_0004.jpg → Similarity: 0.708 → Match\n",
            "Antonio_Palocci: Antonio_Palocci_0002.jpg vs Antonio_Palocci_0005.jpg → Similarity: 0.704 → Match\n",
            "Antonio_Palocci: Antonio_Palocci_0003.jpg vs Antonio_Palocci_0004.jpg → Similarity: 0.717 → Match\n",
            "Antonio_Palocci: Antonio_Palocci_0003.jpg vs Antonio_Palocci_0005.jpg → Similarity: 0.656 → Match\n"
          ]
        },
        {
          "output_type": "stream",
          "name": "stderr",
          "text": [
            "\rEvaluating:   6%|▌         | 99/1711 [07:23<2:34:53,  5.77s/it]"
          ]
        },
        {
          "output_type": "stream",
          "name": "stdout",
          "text": [
            "Antonio_Palocci: Antonio_Palocci_0004.jpg vs Antonio_Palocci_0005.jpg → Similarity: 0.761 → Match\n",
            "Antonio_Trillanes: Antonio_Trillanes_0001.jpg vs Antonio_Trillanes_0002.jpg → Similarity: 0.675 → Match\n",
            "Antonio_Trillanes: Antonio_Trillanes_0001.jpg vs Antonio_Trillanes_0003.jpg → Similarity: 0.687 → Match\n"
          ]
        },
        {
          "output_type": "stream",
          "name": "stderr",
          "text": [
            "Evaluating:   6%|▌         | 102/1711 [07:30<1:41:43,  3.79s/it]"
          ]
        },
        {
          "output_type": "stream",
          "name": "stdout",
          "text": [
            "Antonio_Trillanes: Antonio_Trillanes_0002.jpg vs Antonio_Trillanes_0003.jpg → Similarity: 0.533 → No Match\n",
            "Arlen_Specter: Arlen_Specter_0001.jpg vs Arlen_Specter_0002.jpg → Similarity: 0.587 → No Match\n",
            "Arlen_Specter: Arlen_Specter_0001.jpg vs Arlen_Specter_0003.jpg → Similarity: 0.632 → Match\n"
          ]
        },
        {
          "output_type": "stream",
          "name": "stderr",
          "text": [
            "Evaluating:   6%|▌         | 106/1711 [07:39<1:13:53,  2.76s/it]"
          ]
        },
        {
          "output_type": "stream",
          "name": "stdout",
          "text": [
            "Arlen_Specter: Arlen_Specter_0002.jpg vs Arlen_Specter_0003.jpg → Similarity: 0.576 → No Match\n"
          ]
        },
        {
          "output_type": "stream",
          "name": "stderr",
          "text": [
            "Evaluating:   7%|▋         | 115/1711 [07:40<14:17,  1.86it/s]"
          ]
        },
        {
          "output_type": "stream",
          "name": "stdout",
          "text": [
            "Augustin_Calleri: Augustin_Calleri_0001.jpg vs Augustin_Calleri_0002.jpg → Similarity: 0.645 → Match\n",
            "Augustin_Calleri: Augustin_Calleri_0001.jpg vs Augustin_Calleri_0003.jpg → Similarity: 0.689 → Match\n",
            "Augustin_Calleri: Augustin_Calleri_0001.jpg vs Augustin_Calleri_0004.jpg → Similarity: 0.672 → Match\n",
            "Augustin_Calleri: Augustin_Calleri_0002.jpg vs Augustin_Calleri_0003.jpg → Similarity: 0.625 → Match\n",
            "Augustin_Calleri: Augustin_Calleri_0002.jpg vs Augustin_Calleri_0004.jpg → Similarity: 0.627 → Match\n"
          ]
        },
        {
          "output_type": "stream",
          "name": "stderr",
          "text": [
            "Evaluating:   7%|▋         | 119/1711 [07:55<50:22,  1.90s/it]  "
          ]
        },
        {
          "output_type": "stream",
          "name": "stdout",
          "text": [
            "Augustin_Calleri: Augustin_Calleri_0003.jpg vs Augustin_Calleri_0004.jpg → Similarity: 0.754 → Match\n"
          ]
        },
        {
          "output_type": "stream",
          "name": "stderr",
          "text": [
            "Evaluating:   7%|▋         | 123/1711 [07:58<32:16,  1.22s/it]"
          ]
        },
        {
          "output_type": "stream",
          "name": "stdout",
          "text": [
            "Barbara_Brezigar: Barbara_Brezigar_0001.jpg vs Barbara_Brezigar_0002.jpg → Similarity: 0.632 → Match\n"
          ]
        },
        {
          "output_type": "stream",
          "name": "stderr",
          "text": [
            "Evaluating:   8%|▊         | 133/1711 [07:59<07:05,  3.70it/s]"
          ]
        },
        {
          "output_type": "stream",
          "name": "stdout",
          "text": [
            "Begum_Khaleda_Zia: Begum_Khaleda_Zia_0001.jpg vs Begum_Khaleda_Zia_0002.jpg → Similarity: 0.617 → Match\n",
            "Ben_Affleck: Ben_Affleck_0001.jpg vs Ben_Affleck_0002.jpg → Similarity: 0.661 → Match\n",
            "Ben_Affleck: Ben_Affleck_0001.jpg vs Ben_Affleck_0003.jpg → Similarity: 0.700 → Match\n",
            "Ben_Affleck: Ben_Affleck_0001.jpg vs Ben_Affleck_0004.jpg → Similarity: 0.574 → No Match\n",
            "Ben_Affleck: Ben_Affleck_0001.jpg vs Ben_Affleck_0005.jpg → Similarity: 0.634 → Match\n"
          ]
        },
        {
          "output_type": "stream",
          "name": "stderr",
          "text": [
            "\rEvaluating:   8%|▊         | 133/1711 [08:13<07:05,  3.70it/s]"
          ]
        },
        {
          "output_type": "stream",
          "name": "stdout",
          "text": [
            "Ben_Affleck: Ben_Affleck_0002.jpg vs Ben_Affleck_0003.jpg → Similarity: 0.650 → Match\n",
            "Ben_Affleck: Ben_Affleck_0002.jpg vs Ben_Affleck_0004.jpg → Similarity: 0.576 → No Match\n",
            "Ben_Affleck: Ben_Affleck_0002.jpg vs Ben_Affleck_0005.jpg → Similarity: 0.607 → Match\n",
            "Ben_Affleck: Ben_Affleck_0003.jpg vs Ben_Affleck_0004.jpg → Similarity: 0.696 → Match\n",
            "Ben_Affleck: Ben_Affleck_0003.jpg vs Ben_Affleck_0005.jpg → Similarity: 0.688 → Match\n"
          ]
        },
        {
          "output_type": "stream",
          "name": "stderr",
          "text": [
            "Evaluating:   8%|▊         | 137/1711 [08:28<1:23:55,  3.20s/it]"
          ]
        },
        {
          "output_type": "stream",
          "name": "stdout",
          "text": [
            "Ben_Affleck: Ben_Affleck_0004.jpg vs Ben_Affleck_0005.jpg → Similarity: 0.718 → Match\n"
          ]
        },
        {
          "output_type": "stream",
          "name": "stderr",
          "text": [
            "Evaluating:   8%|▊         | 141/1711 [08:28<42:14,  1.61s/it]"
          ]
        },
        {
          "output_type": "stream",
          "name": "stdout",
          "text": [
            "Bertie_Ahern: Bertie_Ahern_0001.jpg vs Bertie_Ahern_0002.jpg → Similarity: 0.647 → Match\n",
            "Bertie_Ahern: Bertie_Ahern_0001.jpg vs Bertie_Ahern_0003.jpg → Similarity: 0.696 → Match\n",
            "Bertie_Ahern: Bertie_Ahern_0001.jpg vs Bertie_Ahern_0004.jpg → Similarity: 0.654 → Match\n",
            "Bertie_Ahern: Bertie_Ahern_0001.jpg vs Bertie_Ahern_0005.jpg → Similarity: 0.717 → Match\n",
            "Bertie_Ahern: Bertie_Ahern_0002.jpg vs Bertie_Ahern_0003.jpg → Similarity: 0.652 → Match\n"
          ]
        },
        {
          "output_type": "stream",
          "name": "stderr",
          "text": [
            "\rEvaluating:   8%|▊         | 141/1711 [08:43<42:14,  1.61s/it]"
          ]
        },
        {
          "output_type": "stream",
          "name": "stdout",
          "text": [
            "Bertie_Ahern: Bertie_Ahern_0002.jpg vs Bertie_Ahern_0004.jpg → Similarity: 0.561 → No Match\n",
            "Bertie_Ahern: Bertie_Ahern_0002.jpg vs Bertie_Ahern_0005.jpg → Similarity: 0.592 → No Match\n",
            "Bertie_Ahern: Bertie_Ahern_0003.jpg vs Bertie_Ahern_0004.jpg → Similarity: 0.588 → No Match\n",
            "Bertie_Ahern: Bertie_Ahern_0003.jpg vs Bertie_Ahern_0005.jpg → Similarity: 0.608 → Match\n"
          ]
        },
        {
          "output_type": "stream",
          "name": "stderr",
          "text": [
            "Evaluating:   8%|▊         | 144/1711 [08:55<1:45:18,  4.03s/it]"
          ]
        },
        {
          "output_type": "stream",
          "name": "stdout",
          "text": [
            "Bertie_Ahern: Bertie_Ahern_0004.jpg vs Bertie_Ahern_0005.jpg → Similarity: 0.550 → No Match\n"
          ]
        },
        {
          "output_type": "stream",
          "name": "stderr",
          "text": [
            "Evaluating:   9%|▊         | 148/1711 [08:55<49:37,  1.91s/it]  "
          ]
        },
        {
          "output_type": "stream",
          "name": "stdout",
          "text": [
            "Bill_Frist: Bill_Frist_0001.jpg vs Bill_Frist_0002.jpg → Similarity: 0.702 → Match\n",
            "Bill_Frist: Bill_Frist_0001.jpg vs Bill_Frist_0003.jpg → Similarity: 0.746 → Match\n",
            "Bill_Frist: Bill_Frist_0001.jpg vs Bill_Frist_0004.jpg → Similarity: 0.650 → Match\n",
            "Bill_Frist: Bill_Frist_0001.jpg vs Bill_Frist_0005.jpg → Similarity: 0.694 → Match\n",
            "Bill_Frist: Bill_Frist_0002.jpg vs Bill_Frist_0003.jpg → Similarity: 0.631 → Match\n",
            "Bill_Frist: Bill_Frist_0002.jpg vs Bill_Frist_0004.jpg → Similarity: 0.482 → No Match\n"
          ]
        },
        {
          "output_type": "stream",
          "name": "stderr",
          "text": [
            "\rEvaluating:   9%|▊         | 148/1711 [09:13<49:37,  1.91s/it]"
          ]
        },
        {
          "output_type": "stream",
          "name": "stdout",
          "text": [
            "Bill_Frist: Bill_Frist_0002.jpg vs Bill_Frist_0005.jpg → Similarity: 0.674 → Match\n",
            "Bill_Frist: Bill_Frist_0003.jpg vs Bill_Frist_0004.jpg → Similarity: 0.594 → No Match\n",
            "Bill_Frist: Bill_Frist_0003.jpg vs Bill_Frist_0005.jpg → Similarity: 0.637 → Match\n"
          ]
        },
        {
          "output_type": "stream",
          "name": "stderr",
          "text": [
            "Evaluating:   9%|▉         | 152/1711 [09:20<1:33:12,  3.59s/it]"
          ]
        },
        {
          "output_type": "stream",
          "name": "stdout",
          "text": [
            "Bill_Frist: Bill_Frist_0004.jpg vs Bill_Frist_0005.jpg → Similarity: 0.559 → No Match\n",
            "Bill_McBride: Bill_McBride_0001.jpg vs Bill_McBride_0002.jpg → Similarity: 0.699 → Match\n",
            "Bill_McBride: Bill_McBride_0001.jpg vs Bill_McBride_0003.jpg → Similarity: 0.666 → Match\n",
            "Bill_McBride: Bill_McBride_0001.jpg vs Bill_McBride_0004.jpg → Similarity: 0.844 → Match\n",
            "Bill_McBride: Bill_McBride_0001.jpg vs Bill_McBride_0005.jpg → Similarity: 0.785 → Match\n",
            "Bill_McBride: Bill_McBride_0002.jpg vs Bill_McBride_0003.jpg → Similarity: 0.664 → Match\n"
          ]
        },
        {
          "output_type": "stream",
          "name": "stderr",
          "text": [
            "\rEvaluating:   9%|▉         | 152/1711 [09:33<1:33:12,  3.59s/it]"
          ]
        },
        {
          "output_type": "stream",
          "name": "stdout",
          "text": [
            "Bill_McBride: Bill_McBride_0002.jpg vs Bill_McBride_0004.jpg → Similarity: 0.673 → Match\n",
            "Bill_McBride: Bill_McBride_0002.jpg vs Bill_McBride_0005.jpg → Similarity: 0.578 → No Match\n",
            "Bill_McBride: Bill_McBride_0003.jpg vs Bill_McBride_0004.jpg → Similarity: 0.640 → Match\n",
            "Bill_McBride: Bill_McBride_0003.jpg vs Bill_McBride_0005.jpg → Similarity: 0.620 → Match\n"
          ]
        },
        {
          "output_type": "stream",
          "name": "stderr",
          "text": [
            "\rEvaluating:   9%|▉         | 154/1711 [09:44<2:40:34,  6.19s/it]"
          ]
        },
        {
          "output_type": "stream",
          "name": "stdout",
          "text": [
            "Bill_McBride: Bill_McBride_0004.jpg vs Bill_McBride_0005.jpg → Similarity: 0.726 → Match\n",
            "Bill_Paxton: Bill_Paxton_0001.jpg vs Bill_Paxton_0002.jpg → Similarity: 0.578 → No Match\n",
            "Bill_Paxton: Bill_Paxton_0001.jpg vs Bill_Paxton_0003.jpg → Similarity: 0.667 → Match\n",
            "Bill_Paxton: Bill_Paxton_0001.jpg vs Bill_Paxton_0004.jpg → Similarity: 0.769 → Match\n",
            "Bill_Paxton: Bill_Paxton_0002.jpg vs Bill_Paxton_0003.jpg → Similarity: 0.601 → Match\n",
            "Bill_Paxton: Bill_Paxton_0002.jpg vs Bill_Paxton_0004.jpg → Similarity: 0.614 → Match\n"
          ]
        },
        {
          "output_type": "stream",
          "name": "stderr",
          "text": [
            "\rEvaluating:   9%|▉         | 155/1711 [10:04<3:43:19,  8.61s/it]"
          ]
        },
        {
          "output_type": "stream",
          "name": "stdout",
          "text": [
            "Bill_Paxton: Bill_Paxton_0003.jpg vs Bill_Paxton_0004.jpg → Similarity: 0.720 → Match\n"
          ]
        },
        {
          "output_type": "stream",
          "name": "stderr",
          "text": [
            "Evaluating:   9%|▉         | 159/1711 [10:07<1:48:03,  4.18s/it]"
          ]
        },
        {
          "output_type": "stream",
          "name": "stdout",
          "text": [
            "Bill_Sizemore: Bill_Sizemore_0001.jpg vs Bill_Sizemore_0002.jpg → Similarity: 0.749 → Match\n"
          ]
        },
        {
          "output_type": "stream",
          "name": "stderr",
          "text": [
            "Evaluating:  10%|▉         | 164/1711 [10:11<55:39,  2.16s/it]  "
          ]
        },
        {
          "output_type": "stream",
          "name": "stdout",
          "text": [
            "Bob_Colvin: Bob_Colvin_0001.jpg vs Bob_Colvin_0002.jpg → Similarity: 0.831 → Match\n"
          ]
        },
        {
          "output_type": "stream",
          "name": "stderr",
          "text": [
            "Evaluating:  10%|▉         | 171/1711 [10:12<13:43,  1.87it/s]"
          ]
        },
        {
          "output_type": "stream",
          "name": "stdout",
          "text": [
            "Bono: Bono_0001.jpg vs Bono_0002.jpg → Similarity: 0.569 → No Match\n",
            "Bono: Bono_0001.jpg vs Bono_0003.jpg → Similarity: 0.391 → No Match\n"
          ]
        },
        {
          "output_type": "stream",
          "name": "stderr",
          "text": [
            "\rEvaluating:  10%|█         | 173/1711 [10:19<38:17,  1.49s/it]"
          ]
        },
        {
          "output_type": "stream",
          "name": "stdout",
          "text": [
            "Bono: Bono_0002.jpg vs Bono_0003.jpg → Similarity: 0.466 → No Match\n"
          ]
        },
        {
          "output_type": "stream",
          "name": "stderr",
          "text": [
            "Evaluating:  11%|█         | 187/1711 [10:23<18:31,  1.37it/s]"
          ]
        },
        {
          "output_type": "stream",
          "name": "stdout",
          "text": [
            "Brian_Cowen: Brian_Cowen_0001.jpg vs Brian_Cowen_0002.jpg → Similarity: 0.791 → Match\n"
          ]
        },
        {
          "output_type": "stream",
          "name": "stderr",
          "text": [
            "Evaluating:  11%|█         | 190/1711 [10:26<18:19,  1.38it/s]"
          ]
        },
        {
          "output_type": "stream",
          "name": "stdout",
          "text": [
            "Brian_Griese: Brian_Griese_0001.jpg vs Brian_Griese_0002.jpg → Similarity: 0.782 → Match\n"
          ]
        },
        {
          "output_type": "stream",
          "name": "stderr",
          "text": [
            "Evaluating:  11%|█▏        | 193/1711 [10:26<11:09,  2.27it/s]"
          ]
        },
        {
          "output_type": "stream",
          "name": "stdout",
          "text": [
            "Bridget_Fonda: Bridget_Fonda_0001.jpg vs Bridget_Fonda_0002.jpg → Similarity: 0.636 → Match\n",
            "Bridget_Fonda: Bridget_Fonda_0001.jpg vs Bridget_Fonda_0003.jpg → Similarity: 0.653 → Match\n"
          ]
        },
        {
          "output_type": "stream",
          "name": "stderr",
          "text": [
            "\rEvaluating:  11%|█▏        | 194/1711 [10:37<1:04:00,  2.53s/it]"
          ]
        },
        {
          "output_type": "stream",
          "name": "stdout",
          "text": [
            "Bridget_Fonda: Bridget_Fonda_0002.jpg vs Bridget_Fonda_0003.jpg → Similarity: 0.670 → Match\n",
            "Bridgette_Wilson-Sampras: Bridgette_Wilson-Sampras_0001.jpg vs Bridgette_Wilson-Sampras_0002.jpg → Similarity: 0.500 → No Match\n",
            "Bridgette_Wilson-Sampras: Bridgette_Wilson-Sampras_0001.jpg vs Bridgette_Wilson-Sampras_0003.jpg → Similarity: 0.498 → No Match\n"
          ]
        },
        {
          "output_type": "stream",
          "name": "stderr",
          "text": [
            "\rEvaluating:  11%|█▏        | 195/1711 [10:47<1:51:04,  4.40s/it]"
          ]
        },
        {
          "output_type": "stream",
          "name": "stdout",
          "text": [
            "Bridgette_Wilson-Sampras: Bridgette_Wilson-Sampras_0002.jpg vs Bridgette_Wilson-Sampras_0003.jpg → Similarity: 0.631 → Match\n"
          ]
        },
        {
          "output_type": "stream",
          "name": "stderr",
          "text": [
            "Evaluating:  12%|█▏        | 198/1711 [10:52<1:05:06,  2.58s/it]"
          ]
        },
        {
          "output_type": "stream",
          "name": "stdout",
          "text": [
            "Brigitte_Boisselier: Brigitte_Boisselier_0001.jpg vs Brigitte_Boisselier_0002.jpg → Similarity: 0.637 → Match\n"
          ]
        },
        {
          "output_type": "stream",
          "name": "stderr",
          "text": [
            "Evaluating:  12%|█▏        | 204/1711 [10:55<32:22,  1.29s/it]"
          ]
        },
        {
          "output_type": "stream",
          "name": "stdout",
          "text": [
            "Butch_Davis: Butch_Davis_0001.jpg vs Butch_Davis_0002.jpg → Similarity: 0.725 → Match\n"
          ]
        },
        {
          "output_type": "stream",
          "name": "stderr",
          "text": [
            "\rEvaluating:  12%|█▏        | 205/1711 [10:58<38:16,  1.53s/it]"
          ]
        },
        {
          "output_type": "stream",
          "name": "stdout",
          "text": [
            "Byron_Scott: Byron_Scott_0001.jpg vs Byron_Scott_0002.jpg → Similarity: 0.647 → Match\n",
            "Calista_Flockhart: Calista_Flockhart_0001.jpg vs Calista_Flockhart_0002.jpg → Similarity: 0.740 → Match\n",
            "Calista_Flockhart: Calista_Flockhart_0001.jpg vs Calista_Flockhart_0003.jpg → Similarity: 0.618 → Match\n",
            "Calista_Flockhart: Calista_Flockhart_0001.jpg vs Calista_Flockhart_0004.jpg → Similarity: 0.682 → Match\n",
            "Calista_Flockhart: Calista_Flockhart_0001.jpg vs Calista_Flockhart_0005.jpg → Similarity: 0.595 → No Match\n",
            "Calista_Flockhart: Calista_Flockhart_0002.jpg vs Calista_Flockhart_0003.jpg → Similarity: 0.613 → Match\n",
            "Calista_Flockhart: Calista_Flockhart_0002.jpg vs Calista_Flockhart_0004.jpg → Similarity: 0.746 → Match\n",
            "Calista_Flockhart: Calista_Flockhart_0002.jpg vs Calista_Flockhart_0005.jpg → Similarity: 0.592 → No Match\n",
            "Calista_Flockhart: Calista_Flockhart_0003.jpg vs Calista_Flockhart_0004.jpg → Similarity: 0.545 → No Match\n",
            "Calista_Flockhart: Calista_Flockhart_0003.jpg vs Calista_Flockhart_0005.jpg → Similarity: 0.687 → Match\n"
          ]
        },
        {
          "output_type": "stream",
          "name": "stderr",
          "text": [
            "Evaluating:  12%|█▏        | 209/1711 [11:23<1:30:51,  3.63s/it]"
          ]
        },
        {
          "output_type": "stream",
          "name": "stdout",
          "text": [
            "Calista_Flockhart: Calista_Flockhart_0004.jpg vs Calista_Flockhart_0005.jpg → Similarity: 0.596 → No Match\n"
          ]
        },
        {
          "output_type": "stream",
          "name": "stderr",
          "text": [
            "\rEvaluating:  12%|█▏        | 210/1711 [11:26<1:28:26,  3.54s/it]"
          ]
        },
        {
          "output_type": "stream",
          "name": "stdout",
          "text": [
            "Camilla_Parker_Bowles: Camilla_Parker_Bowles_0001.jpg vs Camilla_Parker_Bowles_0002.jpg → Similarity: 0.628 → Match\n",
            "Candice_Bergen: Candice_Bergen_0001.jpg vs Candice_Bergen_0002.jpg → Similarity: 0.612 → Match\n",
            "Candice_Bergen: Candice_Bergen_0001.jpg vs Candice_Bergen_0003.jpg → Similarity: 0.567 → No Match\n"
          ]
        },
        {
          "output_type": "stream",
          "name": "stderr",
          "text": [
            "Evaluating:  13%|█▎        | 214/1711 [11:36<1:05:57,  2.64s/it]"
          ]
        },
        {
          "output_type": "stream",
          "name": "stdout",
          "text": [
            "Candice_Bergen: Candice_Bergen_0002.jpg vs Candice_Bergen_0003.jpg → Similarity: 0.638 → Match\n",
            "Carla_Del_Ponte: Carla_Del_Ponte_0001.jpg vs Carla_Del_Ponte_0002.jpg → Similarity: 0.659 → Match\n",
            "Carla_Del_Ponte: Carla_Del_Ponte_0001.jpg vs Carla_Del_Ponte_0003.jpg → Similarity: 0.750 → Match\n",
            "Carla_Del_Ponte: Carla_Del_Ponte_0001.jpg vs Carla_Del_Ponte_0004.jpg → Similarity: 0.645 → Match\n",
            "Carla_Del_Ponte: Carla_Del_Ponte_0001.jpg vs Carla_Del_Ponte_0005.jpg → Similarity: 0.671 → Match\n",
            "Carla_Del_Ponte: Carla_Del_Ponte_0002.jpg vs Carla_Del_Ponte_0003.jpg → Similarity: 0.690 → Match\n",
            "Carla_Del_Ponte: Carla_Del_Ponte_0002.jpg vs Carla_Del_Ponte_0004.jpg → Similarity: 0.718 → Match\n",
            "Carla_Del_Ponte: Carla_Del_Ponte_0002.jpg vs Carla_Del_Ponte_0005.jpg → Similarity: 0.752 → Match\n",
            "Carla_Del_Ponte: Carla_Del_Ponte_0003.jpg vs Carla_Del_Ponte_0004.jpg → Similarity: 0.661 → Match\n",
            "Carla_Del_Ponte: Carla_Del_Ponte_0003.jpg vs Carla_Del_Ponte_0005.jpg → Similarity: 0.649 → Match\n"
          ]
        },
        {
          "output_type": "stream",
          "name": "stderr",
          "text": [
            "\rEvaluating:  13%|█▎        | 215/1711 [12:04<3:11:48,  7.69s/it]"
          ]
        },
        {
          "output_type": "stream",
          "name": "stdout",
          "text": [
            "Carla_Del_Ponte: Carla_Del_Ponte_0004.jpg vs Carla_Del_Ponte_0005.jpg → Similarity: 0.796 → Match\n",
            "Carlo_Ancelotti: Carlo_Ancelotti_0001.jpg vs Carlo_Ancelotti_0002.jpg → Similarity: 0.774 → Match\n",
            "Carlo_Ancelotti: Carlo_Ancelotti_0001.jpg vs Carlo_Ancelotti_0003.jpg → Similarity: 0.683 → Match\n"
          ]
        },
        {
          "output_type": "stream",
          "name": "stderr",
          "text": [
            "Evaluating:  13%|█▎        | 218/1711 [12:12<1:56:42,  4.69s/it]"
          ]
        },
        {
          "output_type": "stream",
          "name": "stdout",
          "text": [
            "Carlo_Ancelotti: Carlo_Ancelotti_0002.jpg vs Carlo_Ancelotti_0003.jpg → Similarity: 0.696 → Match\n"
          ]
        },
        {
          "output_type": "stream",
          "name": "stderr",
          "text": [
            "Evaluating:  13%|█▎        | 222/1711 [12:16<1:02:11,  2.51s/it]"
          ]
        },
        {
          "output_type": "stream",
          "name": "stdout",
          "text": [
            "Carlos_Ghosn: Carlos_Ghosn_0001.jpg vs Carlos_Ghosn_0002.jpg → Similarity: 0.791 → Match\n",
            "Carlos_Manuel_Pruneda: Carlos_Manuel_Pruneda_0001.jpg vs Carlos_Manuel_Pruneda_0002.jpg → Similarity: 0.714 → Match\n",
            "Carlos_Manuel_Pruneda: Carlos_Manuel_Pruneda_0001.jpg vs Carlos_Manuel_Pruneda_0003.jpg → Similarity: 0.682 → Match\n"
          ]
        },
        {
          "output_type": "stream",
          "name": "stderr",
          "text": [
            "\rEvaluating:  13%|█▎        | 223/1711 [12:23<1:23:25,  3.36s/it]"
          ]
        },
        {
          "output_type": "stream",
          "name": "stdout",
          "text": [
            "Carlos_Manuel_Pruneda: Carlos_Manuel_Pruneda_0002.jpg vs Carlos_Manuel_Pruneda_0003.jpg → Similarity: 0.697 → Match\n",
            "Carlos_Moya: Carlos_Moya_0001.jpg vs Carlos_Moya_0002.jpg → Similarity: 0.665 → Match\n",
            "Carlos_Moya: Carlos_Moya_0001.jpg vs Carlos_Moya_0003.jpg → Similarity: 0.635 → Match\n",
            "Carlos_Moya: Carlos_Moya_0001.jpg vs Carlos_Moya_0004.jpg → Similarity: 0.714 → Match\n",
            "Carlos_Moya: Carlos_Moya_0001.jpg vs Carlos_Moya_0005.jpg → Similarity: 0.691 → Match\n",
            "Carlos_Moya: Carlos_Moya_0002.jpg vs Carlos_Moya_0003.jpg → Similarity: 0.721 → Match\n",
            "Carlos_Moya: Carlos_Moya_0002.jpg vs Carlos_Moya_0004.jpg → Similarity: 0.693 → Match\n",
            "Carlos_Moya: Carlos_Moya_0002.jpg vs Carlos_Moya_0005.jpg → Similarity: 0.720 → Match\n",
            "Carlos_Moya: Carlos_Moya_0003.jpg vs Carlos_Moya_0004.jpg → Similarity: 0.607 → Match\n",
            "Carlos_Moya: Carlos_Moya_0003.jpg vs Carlos_Moya_0005.jpg → Similarity: 0.751 → Match\n"
          ]
        },
        {
          "output_type": "stream",
          "name": "stderr",
          "text": [
            "\rEvaluating:  13%|█▎        | 224/1711 [12:47<3:15:50,  7.90s/it]"
          ]
        },
        {
          "output_type": "stream",
          "name": "stdout",
          "text": [
            "Carlos_Moya: Carlos_Moya_0004.jpg vs Carlos_Moya_0005.jpg → Similarity: 0.623 → Match\n",
            "Carlos_Ortega: Carlos_Ortega_0001.jpg vs Carlos_Ortega_0002.jpg → Similarity: 0.605 → Match\n",
            "Carlos_Ortega: Carlos_Ortega_0001.jpg vs Carlos_Ortega_0003.jpg → Similarity: 0.582 → No Match\n"
          ]
        },
        {
          "output_type": "stream",
          "name": "stderr",
          "text": [
            "\rEvaluating:  13%|█▎        | 225/1711 [12:56<3:22:34,  8.18s/it]"
          ]
        },
        {
          "output_type": "stream",
          "name": "stdout",
          "text": [
            "Carlos_Ortega: Carlos_Ortega_0002.jpg vs Carlos_Ortega_0003.jpg → Similarity: 0.653 → Match\n"
          ]
        },
        {
          "output_type": "stream",
          "name": "stderr",
          "text": [
            "Evaluating:  13%|█▎        | 228/1711 [12:59<1:38:38,  3.99s/it]"
          ]
        },
        {
          "output_type": "stream",
          "name": "stdout",
          "text": [
            "Carlos_Quintanilla_Schmidt: Carlos_Quintanilla_Schmidt_0001.jpg vs Carlos_Quintanilla_Schmidt_0002.jpg → Similarity: 0.795 → Match\n"
          ]
        },
        {
          "output_type": "stream",
          "name": "stderr",
          "text": [
            "\rEvaluating:  13%|█▎        | 230/1711 [12:59<1:02:26,  2.53s/it]"
          ]
        },
        {
          "output_type": "stream",
          "name": "stdout",
          "text": [
            "Carolyn_Dawn_Johnson: Carolyn_Dawn_Johnson_0001.jpg vs Carolyn_Dawn_Johnson_0002.jpg → Similarity: 0.812 → Match\n",
            "Carolyn_Dawn_Johnson: Carolyn_Dawn_Johnson_0001.jpg vs Carolyn_Dawn_Johnson_0003.jpg → Similarity: 0.629 → Match\n"
          ]
        },
        {
          "output_type": "stream",
          "name": "stderr",
          "text": [
            "\rEvaluating:  14%|█▎        | 232/1711 [13:06<1:10:32,  2.86s/it]"
          ]
        },
        {
          "output_type": "stream",
          "name": "stdout",
          "text": [
            "Carolyn_Dawn_Johnson: Carolyn_Dawn_Johnson_0002.jpg vs Carolyn_Dawn_Johnson_0003.jpg → Similarity: 0.605 → Match\n",
            "Carrie-Anne_Moss: Carrie-Anne_Moss_0001.jpg vs Carrie-Anne_Moss_0002.jpg → Similarity: 0.755 → Match\n",
            "Carrie-Anne_Moss: Carrie-Anne_Moss_0001.jpg vs Carrie-Anne_Moss_0003.jpg → Similarity: 0.627 → Match\n",
            "Carrie-Anne_Moss: Carrie-Anne_Moss_0001.jpg vs Carrie-Anne_Moss_0004.jpg → Similarity: 0.618 → Match\n",
            "Carrie-Anne_Moss: Carrie-Anne_Moss_0001.jpg vs Carrie-Anne_Moss_0005.jpg → Similarity: 0.607 → Match\n",
            "Carrie-Anne_Moss: Carrie-Anne_Moss_0002.jpg vs Carrie-Anne_Moss_0003.jpg → Similarity: 0.678 → Match\n",
            "Carrie-Anne_Moss: Carrie-Anne_Moss_0002.jpg vs Carrie-Anne_Moss_0004.jpg → Similarity: 0.656 → Match\n",
            "Carrie-Anne_Moss: Carrie-Anne_Moss_0002.jpg vs Carrie-Anne_Moss_0005.jpg → Similarity: 0.671 → Match\n",
            "Carrie-Anne_Moss: Carrie-Anne_Moss_0003.jpg vs Carrie-Anne_Moss_0004.jpg → Similarity: 0.651 → Match\n",
            "Carrie-Anne_Moss: Carrie-Anne_Moss_0003.jpg vs Carrie-Anne_Moss_0005.jpg → Similarity: 0.769 → Match\n"
          ]
        },
        {
          "output_type": "stream",
          "name": "stderr",
          "text": [
            "\rEvaluating:  14%|█▎        | 233/1711 [13:33<3:08:01,  7.63s/it]"
          ]
        },
        {
          "output_type": "stream",
          "name": "stdout",
          "text": [
            "Carrie-Anne_Moss: Carrie-Anne_Moss_0004.jpg vs Carrie-Anne_Moss_0005.jpg → Similarity: 0.743 → Match\n"
          ]
        },
        {
          "output_type": "stream",
          "name": "stderr",
          "text": [
            "Evaluating:  14%|█▍        | 236/1711 [13:37<1:42:45,  4.18s/it]"
          ]
        },
        {
          "output_type": "stream",
          "name": "stdout",
          "text": [
            "Carson_Daly: Carson_Daly_0001.jpg vs Carson_Daly_0002.jpg → Similarity: 0.591 → No Match\n"
          ]
        },
        {
          "output_type": "stream",
          "name": "stderr",
          "text": [
            "Evaluating:  14%|█▍        | 241/1711 [13:41<43:35,  1.78s/it]  "
          ]
        },
        {
          "output_type": "stream",
          "name": "stdout",
          "text": [
            "Cathy_Freeman: Cathy_Freeman_0001.jpg vs Cathy_Freeman_0002.jpg → Similarity: 0.597 → No Match\n"
          ]
        },
        {
          "output_type": "stream",
          "name": "stderr",
          "text": [
            "\rEvaluating:  14%|█▍        | 243/1711 [13:41<29:43,  1.22s/it]"
          ]
        },
        {
          "output_type": "stream",
          "name": "stdout",
          "text": [
            "Celine_Dion: Celine_Dion_0001.jpg vs Celine_Dion_0002.jpg → Similarity: 0.589 → No Match\n",
            "Celine_Dion: Celine_Dion_0001.jpg vs Celine_Dion_0003.jpg → Similarity: 0.386 → No Match\n",
            "Celine_Dion: Celine_Dion_0001.jpg vs Celine_Dion_0004.jpg → Similarity: 0.537 → No Match\n",
            "Celine_Dion: Celine_Dion_0001.jpg vs Celine_Dion_0005.jpg → Similarity: 0.675 → Match\n",
            "Celine_Dion: Celine_Dion_0002.jpg vs Celine_Dion_0003.jpg → Similarity: 0.487 → No Match\n",
            "Celine_Dion: Celine_Dion_0002.jpg vs Celine_Dion_0004.jpg → Similarity: 0.565 → No Match\n",
            "Celine_Dion: Celine_Dion_0002.jpg vs Celine_Dion_0005.jpg → Similarity: 0.593 → No Match\n",
            "Celine_Dion: Celine_Dion_0003.jpg vs Celine_Dion_0004.jpg → Similarity: 0.570 → No Match\n",
            "Celine_Dion: Celine_Dion_0003.jpg vs Celine_Dion_0005.jpg → Similarity: 0.473 → No Match\n"
          ]
        },
        {
          "output_type": "stream",
          "name": "stderr",
          "text": [
            "\rEvaluating:  14%|█▍        | 244/1711 [14:05<2:17:48,  5.64s/it]"
          ]
        },
        {
          "output_type": "stream",
          "name": "stdout",
          "text": [
            "Celine_Dion: Celine_Dion_0004.jpg vs Celine_Dion_0005.jpg → Similarity: 0.513 → No Match\n"
          ]
        },
        {
          "output_type": "stream",
          "name": "stderr",
          "text": [
            "\rEvaluating:  14%|█▍        | 245/1711 [14:08<2:03:06,  5.04s/it]"
          ]
        },
        {
          "output_type": "stream",
          "name": "stdout",
          "text": [
            "Cesar_Maia: Cesar_Maia_0001.jpg vs Cesar_Maia_0002.jpg → Similarity: 0.470 → No Match\n",
            "Chanda_Rubin: Chanda_Rubin_0001.jpg vs Chanda_Rubin_0002.jpg → Similarity: 0.651 → Match\n",
            "Chanda_Rubin: Chanda_Rubin_0001.jpg vs Chanda_Rubin_0003.jpg → Similarity: 0.562 → No Match\n",
            "Chanda_Rubin: Chanda_Rubin_0001.jpg vs Chanda_Rubin_0004.jpg → Similarity: 0.643 → Match\n",
            "Chanda_Rubin: Chanda_Rubin_0001.jpg vs Chanda_Rubin_0005.jpg → Similarity: 0.716 → Match\n",
            "Chanda_Rubin: Chanda_Rubin_0002.jpg vs Chanda_Rubin_0003.jpg → Similarity: 0.721 → Match\n",
            "Chanda_Rubin: Chanda_Rubin_0002.jpg vs Chanda_Rubin_0004.jpg → Similarity: 0.670 → Match\n",
            "Chanda_Rubin: Chanda_Rubin_0002.jpg vs Chanda_Rubin_0005.jpg → Similarity: 0.680 → Match\n",
            "Chanda_Rubin: Chanda_Rubin_0003.jpg vs Chanda_Rubin_0004.jpg → Similarity: 0.610 → Match\n",
            "Chanda_Rubin: Chanda_Rubin_0003.jpg vs Chanda_Rubin_0005.jpg → Similarity: 0.584 → No Match\n"
          ]
        },
        {
          "output_type": "stream",
          "name": "stderr",
          "text": [
            "\rEvaluating:  14%|█▍        | 246/1711 [14:34<4:08:14, 10.17s/it]"
          ]
        },
        {
          "output_type": "stream",
          "name": "stdout",
          "text": [
            "Chanda_Rubin: Chanda_Rubin_0004.jpg vs Chanda_Rubin_0005.jpg → Similarity: 0.748 → Match\n"
          ]
        },
        {
          "output_type": "stream",
          "name": "stderr",
          "text": [
            "Evaluating:  15%|█▍        | 249/1711 [14:38<1:59:52,  4.92s/it]"
          ]
        },
        {
          "output_type": "stream",
          "name": "stdout",
          "text": [
            "Chang_Dae-whan: Chang_Dae-whan_0001.jpg vs Chang_Dae-whan_0002.jpg → Similarity: 0.764 → Match\n"
          ]
        },
        {
          "output_type": "stream",
          "name": "stderr",
          "text": [
            "Evaluating:  15%|█▍        | 255/1711 [14:38<28:56,  1.19s/it]"
          ]
        },
        {
          "output_type": "stream",
          "name": "stdout",
          "text": [
            "Charles_Taylor: Charles_Taylor_0001.jpg vs Charles_Taylor_0002.jpg → Similarity: 0.756 → Match\n",
            "Charles_Taylor: Charles_Taylor_0001.jpg vs Charles_Taylor_0003.jpg → Similarity: 0.710 → Match\n",
            "Charles_Taylor: Charles_Taylor_0001.jpg vs Charles_Taylor_0004.jpg → Similarity: 0.147 → No Match\n",
            "Charles_Taylor: Charles_Taylor_0001.jpg vs Charles_Taylor_0005.jpg → Similarity: 0.619 → Match\n",
            "Charles_Taylor: Charles_Taylor_0002.jpg vs Charles_Taylor_0003.jpg → Similarity: 0.826 → Match\n",
            "Charles_Taylor: Charles_Taylor_0002.jpg vs Charles_Taylor_0004.jpg → Similarity: 0.117 → No Match\n",
            "Charles_Taylor: Charles_Taylor_0002.jpg vs Charles_Taylor_0005.jpg → Similarity: 0.667 → Match\n",
            "Charles_Taylor: Charles_Taylor_0003.jpg vs Charles_Taylor_0004.jpg → Similarity: 0.080 → No Match\n",
            "Charles_Taylor: Charles_Taylor_0003.jpg vs Charles_Taylor_0005.jpg → Similarity: 0.630 → Match\n"
          ]
        },
        {
          "output_type": "stream",
          "name": "stderr",
          "text": [
            "Evaluating:  15%|█▌        | 259/1711 [15:18<2:07:03,  5.25s/it]"
          ]
        },
        {
          "output_type": "stream",
          "name": "stdout",
          "text": [
            "Charles_Taylor: Charles_Taylor_0004.jpg vs Charles_Taylor_0005.jpg → Similarity: 0.147 → No Match\n"
          ]
        },
        {
          "output_type": "stream",
          "name": "stderr",
          "text": [
            "\rEvaluating:  15%|█▌        | 261/1711 [15:21<1:35:46,  3.96s/it]"
          ]
        },
        {
          "output_type": "stream",
          "name": "stdout",
          "text": [
            "Charlie_Zaa: Charlie_Zaa_0001.jpg vs Charlie_Zaa_0002.jpg → Similarity: 0.707 → Match\n"
          ]
        },
        {
          "output_type": "stream",
          "name": "stderr",
          "text": [
            "\rEvaluating:  15%|█▌        | 263/1711 [15:21<1:05:47,  2.73s/it]"
          ]
        },
        {
          "output_type": "stream",
          "name": "stdout",
          "text": [
            "Chen_Shui-bian: Chen_Shui-bian_0001.jpg vs Chen_Shui-bian_0002.jpg → Similarity: 0.501 → No Match\n",
            "Chen_Shui-bian: Chen_Shui-bian_0001.jpg vs Chen_Shui-bian_0003.jpg → Similarity: 0.679 → Match\n",
            "Chen_Shui-bian: Chen_Shui-bian_0001.jpg vs Chen_Shui-bian_0004.jpg → Similarity: 0.581 → No Match\n",
            "Chen_Shui-bian: Chen_Shui-bian_0001.jpg vs Chen_Shui-bian_0005.jpg → Similarity: 0.573 → No Match\n",
            "Chen_Shui-bian: Chen_Shui-bian_0002.jpg vs Chen_Shui-bian_0003.jpg → Similarity: 0.585 → No Match\n",
            "Chen_Shui-bian: Chen_Shui-bian_0002.jpg vs Chen_Shui-bian_0004.jpg → Similarity: 0.486 → No Match\n",
            "Chen_Shui-bian: Chen_Shui-bian_0002.jpg vs Chen_Shui-bian_0005.jpg → Similarity: 0.546 → No Match\n",
            "Chen_Shui-bian: Chen_Shui-bian_0003.jpg vs Chen_Shui-bian_0004.jpg → Similarity: 0.616 → Match\n",
            "Chen_Shui-bian: Chen_Shui-bian_0003.jpg vs Chen_Shui-bian_0005.jpg → Similarity: 0.647 → Match\n"
          ]
        },
        {
          "output_type": "stream",
          "name": "stderr",
          "text": [
            "\rEvaluating:  15%|█▌        | 264/1711 [15:48<2:53:35,  7.20s/it]"
          ]
        },
        {
          "output_type": "stream",
          "name": "stdout",
          "text": [
            "Chen_Shui-bian: Chen_Shui-bian_0004.jpg vs Chen_Shui-bian_0005.jpg → Similarity: 0.576 → No Match\n",
            "Chick_Hearn: Chick_Hearn_0001.jpg vs Chick_Hearn_0002.jpg → Similarity: 0.747 → Match\n",
            "Chick_Hearn: Chick_Hearn_0001.jpg vs Chick_Hearn_0003.jpg → Similarity: 0.745 → Match\n"
          ]
        },
        {
          "output_type": "stream",
          "name": "stderr",
          "text": [
            "\rEvaluating:  16%|█▌        | 266/1711 [15:55<2:22:52,  5.93s/it]"
          ]
        },
        {
          "output_type": "stream",
          "name": "stdout",
          "text": [
            "Chick_Hearn: Chick_Hearn_0002.jpg vs Chick_Hearn_0003.jpg → Similarity: 0.723 → Match\n"
          ]
        },
        {
          "output_type": "stream",
          "name": "stderr",
          "text": [
            "\rEvaluating:  16%|█▌        | 268/1711 [15:59<1:51:38,  4.64s/it]"
          ]
        },
        {
          "output_type": "stream",
          "name": "stdout",
          "text": [
            "Chita_Rivera: Chita_Rivera_0001.jpg vs Chita_Rivera_0002.jpg → Similarity: 0.721 → Match\n"
          ]
        },
        {
          "output_type": "stream",
          "name": "stderr",
          "text": [
            "Evaluating:  16%|█▌        | 270/1711 [16:02<1:22:44,  3.45s/it]"
          ]
        },
        {
          "output_type": "stream",
          "name": "stdout",
          "text": [
            "Chok_Tong_Goh: Chok_Tong_Goh_0001.jpg vs Chok_Tong_Goh_0002.jpg → Similarity: -0.005 → No Match\n"
          ]
        },
        {
          "output_type": "stream",
          "name": "stderr",
          "text": [
            "\rEvaluating:  16%|█▌        | 271/1711 [16:05<1:18:24,  3.27s/it]"
          ]
        },
        {
          "output_type": "stream",
          "name": "stdout",
          "text": [
            "Chris_Bell: Chris_Bell_0001.jpg vs Chris_Bell_0002.jpg → Similarity: 0.830 → Match\n"
          ]
        },
        {
          "output_type": "stream",
          "name": "stderr",
          "text": [
            "Evaluating:  16%|█▌        | 274/1711 [16:08<46:32,  1.94s/it]  "
          ]
        },
        {
          "output_type": "stream",
          "name": "stdout",
          "text": [
            "Chris_Byrd: Chris_Byrd_0001.jpg vs Chris_Byrd_0002.jpg → Similarity: 0.555 → No Match\n"
          ]
        },
        {
          "output_type": "stream",
          "name": "stderr",
          "text": [
            "Evaluating:  16%|█▌        | 278/1711 [16:09<20:00,  1.19it/s]"
          ]
        },
        {
          "output_type": "stream",
          "name": "stdout",
          "text": [
            "Christian_Longo: Christian_Longo_0001.jpg vs Christian_Longo_0002.jpg → Similarity: 0.787 → Match\n",
            "Christian_Longo: Christian_Longo_0001.jpg vs Christian_Longo_0003.jpg → Similarity: 0.814 → Match\n"
          ]
        },
        {
          "output_type": "stream",
          "name": "stderr",
          "text": [
            "\rEvaluating:  16%|█▋        | 279/1711 [16:16<52:11,  2.19s/it]"
          ]
        },
        {
          "output_type": "stream",
          "name": "stdout",
          "text": [
            "Christian_Longo: Christian_Longo_0002.jpg vs Christian_Longo_0003.jpg → Similarity: 0.735 → Match\n"
          ]
        },
        {
          "output_type": "stream",
          "name": "stderr",
          "text": [
            "\rEvaluating:  16%|█▋        | 281/1711 [16:19<47:33,  2.00s/it]"
          ]
        },
        {
          "output_type": "stream",
          "name": "stdout",
          "text": [
            "Christian_Wulff: Christian_Wulff_0001.jpg vs Christian_Wulff_0002.jpg → Similarity: 0.739 → Match\n"
          ]
        },
        {
          "output_type": "stream",
          "name": "stderr",
          "text": [
            "Evaluating:  17%|█▋        | 284/1711 [16:23<37:48,  1.59s/it]"
          ]
        },
        {
          "output_type": "stream",
          "name": "stdout",
          "text": [
            "Christine_Ebersole: Christine_Ebersole_0001.jpg vs Christine_Ebersole_0002.jpg → Similarity: 0.723 → Match\n",
            "Christine_Todd_Whitman: Christine_Todd_Whitman_0001.jpg vs Christine_Todd_Whitman_0002.jpg → Similarity: 0.581 → No Match\n",
            "Christine_Todd_Whitman: Christine_Todd_Whitman_0001.jpg vs Christine_Todd_Whitman_0003.jpg → Similarity: 0.661 → Match\n",
            "Christine_Todd_Whitman: Christine_Todd_Whitman_0001.jpg vs Christine_Todd_Whitman_0004.jpg → Similarity: 0.750 → Match\n",
            "Christine_Todd_Whitman: Christine_Todd_Whitman_0001.jpg vs Christine_Todd_Whitman_0005.jpg → Similarity: -0.022 → No Match\n",
            "Christine_Todd_Whitman: Christine_Todd_Whitman_0002.jpg vs Christine_Todd_Whitman_0003.jpg → Similarity: 0.500 → No Match\n",
            "Christine_Todd_Whitman: Christine_Todd_Whitman_0002.jpg vs Christine_Todd_Whitman_0004.jpg → Similarity: 0.593 → No Match\n",
            "Christine_Todd_Whitman: Christine_Todd_Whitman_0002.jpg vs Christine_Todd_Whitman_0005.jpg → Similarity: -0.071 → No Match\n",
            "Christine_Todd_Whitman: Christine_Todd_Whitman_0003.jpg vs Christine_Todd_Whitman_0004.jpg → Similarity: 0.664 → Match\n",
            "Christine_Todd_Whitman: Christine_Todd_Whitman_0003.jpg vs Christine_Todd_Whitman_0005.jpg → Similarity: -0.042 → No Match\n"
          ]
        },
        {
          "output_type": "stream",
          "name": "stderr",
          "text": [
            "\rEvaluating:  17%|█▋        | 285/1711 [16:49<2:42:50,  6.85s/it]"
          ]
        },
        {
          "output_type": "stream",
          "name": "stdout",
          "text": [
            "Christine_Todd_Whitman: Christine_Todd_Whitman_0004.jpg vs Christine_Todd_Whitman_0005.jpg → Similarity: -0.060 → No Match\n",
            "Christopher_Reeve: Christopher_Reeve_0001.jpg vs Christopher_Reeve_0002.jpg → Similarity: 0.702 → Match\n",
            "Christopher_Reeve: Christopher_Reeve_0001.jpg vs Christopher_Reeve_0003.jpg → Similarity: 0.687 → Match\n",
            "Christopher_Reeve: Christopher_Reeve_0001.jpg vs Christopher_Reeve_0004.jpg → Similarity: 0.710 → Match\n",
            "Christopher_Reeve: Christopher_Reeve_0002.jpg vs Christopher_Reeve_0003.jpg → Similarity: 0.835 → Match\n",
            "Christopher_Reeve: Christopher_Reeve_0002.jpg vs Christopher_Reeve_0004.jpg → Similarity: 0.794 → Match\n"
          ]
        },
        {
          "output_type": "stream",
          "name": "stderr",
          "text": [
            "Evaluating:  17%|█▋        | 288/1711 [17:04<2:03:32,  5.21s/it]"
          ]
        },
        {
          "output_type": "stream",
          "name": "stdout",
          "text": [
            "Christopher_Reeve: Christopher_Reeve_0003.jpg vs Christopher_Reeve_0004.jpg → Similarity: 0.817 → Match\n"
          ]
        },
        {
          "output_type": "stream",
          "name": "stderr",
          "text": [
            "\rEvaluating:  17%|█▋        | 290/1711 [17:07<1:33:01,  3.93s/it]"
          ]
        },
        {
          "output_type": "stream",
          "name": "stdout",
          "text": [
            "Chung_Mong-joon: Chung_Mong-joon_0001.jpg vs Chung_Mong-joon_0002.jpg → Similarity: 0.630 → Match\n",
            "Cindy_Crawford: Cindy_Crawford_0001.jpg vs Cindy_Crawford_0002.jpg → Similarity: 0.774 → Match\n",
            "Cindy_Crawford: Cindy_Crawford_0001.jpg vs Cindy_Crawford_0003.jpg → Similarity: 0.611 → Match\n"
          ]
        },
        {
          "output_type": "stream",
          "name": "stderr",
          "text": [
            "\rEvaluating:  17%|█▋        | 292/1711 [17:15<1:33:35,  3.96s/it]"
          ]
        },
        {
          "output_type": "stream",
          "name": "stdout",
          "text": [
            "Cindy_Crawford: Cindy_Crawford_0002.jpg vs Cindy_Crawford_0003.jpg → Similarity: 0.562 → No Match\n",
            "Claire_Danes: Claire_Danes_0001.jpg vs Claire_Danes_0002.jpg → Similarity: 0.536 → No Match\n",
            "Claire_Danes: Claire_Danes_0001.jpg vs Claire_Danes_0003.jpg → Similarity: 0.569 → No Match\n"
          ]
        },
        {
          "output_type": "stream",
          "name": "stderr",
          "text": [
            "\rEvaluating:  17%|█▋        | 294/1711 [17:23<1:34:18,  3.99s/it]"
          ]
        },
        {
          "output_type": "stream",
          "name": "stdout",
          "text": [
            "Claire_Danes: Claire_Danes_0002.jpg vs Claire_Danes_0003.jpg → Similarity: 0.784 → Match\n"
          ]
        },
        {
          "output_type": "stream",
          "name": "stderr",
          "text": [
            "Evaluating:  17%|█▋        | 298/1711 [17:26<51:14,  2.18s/it]  "
          ]
        },
        {
          "output_type": "stream",
          "name": "stdout",
          "text": [
            "Claire_Leger: Claire_Leger_0001.jpg vs Claire_Leger_0002.jpg → Similarity: 0.712 → Match\n"
          ]
        },
        {
          "output_type": "stream",
          "name": "stderr",
          "text": [
            "Evaluating:  18%|█▊        | 307/1711 [17:27<11:27,  2.04it/s]"
          ]
        },
        {
          "output_type": "stream",
          "name": "stdout",
          "text": [
            "Conchita_Martinez: Conchita_Martinez_0001.jpg vs Conchita_Martinez_0002.jpg → Similarity: 0.854 → Match\n",
            "Conchita_Martinez: Conchita_Martinez_0001.jpg vs Conchita_Martinez_0003.jpg → Similarity: 0.713 → Match\n"
          ]
        },
        {
          "output_type": "stream",
          "name": "stderr",
          "text": [
            "\rEvaluating:  18%|█▊        | 308/1711 [17:35<47:42,  2.04s/it]"
          ]
        },
        {
          "output_type": "stream",
          "name": "stdout",
          "text": [
            "Conchita_Martinez: Conchita_Martinez_0002.jpg vs Conchita_Martinez_0003.jpg → Similarity: 0.757 → Match\n",
            "Condoleezza_Rice: Condoleezza_Rice_0001.jpg vs Condoleezza_Rice_0002.jpg → Similarity: 0.745 → Match\n",
            "Condoleezza_Rice: Condoleezza_Rice_0001.jpg vs Condoleezza_Rice_0003.jpg → Similarity: 0.712 → Match\n",
            "Condoleezza_Rice: Condoleezza_Rice_0001.jpg vs Condoleezza_Rice_0004.jpg → Similarity: 0.727 → Match\n",
            "Condoleezza_Rice: Condoleezza_Rice_0001.jpg vs Condoleezza_Rice_0005.jpg → Similarity: 0.697 → Match\n",
            "Condoleezza_Rice: Condoleezza_Rice_0002.jpg vs Condoleezza_Rice_0003.jpg → Similarity: 0.802 → Match\n",
            "Condoleezza_Rice: Condoleezza_Rice_0002.jpg vs Condoleezza_Rice_0004.jpg → Similarity: 0.727 → Match\n",
            "Condoleezza_Rice: Condoleezza_Rice_0002.jpg vs Condoleezza_Rice_0005.jpg → Similarity: 0.708 → Match\n",
            "Condoleezza_Rice: Condoleezza_Rice_0003.jpg vs Condoleezza_Rice_0004.jpg → Similarity: 0.774 → Match\n",
            "Condoleezza_Rice: Condoleezza_Rice_0003.jpg vs Condoleezza_Rice_0005.jpg → Similarity: 0.734 → Match\n"
          ]
        },
        {
          "output_type": "stream",
          "name": "stderr",
          "text": [
            "Evaluating:  18%|█▊        | 311/1711 [18:06<2:01:09,  5.19s/it]"
          ]
        },
        {
          "output_type": "stream",
          "name": "stdout",
          "text": [
            "Condoleezza_Rice: Condoleezza_Rice_0004.jpg vs Condoleezza_Rice_0005.jpg → Similarity: 0.833 → Match\n"
          ]
        },
        {
          "output_type": "stream",
          "name": "stderr",
          "text": [
            "Evaluating:  18%|█▊        | 314/1711 [18:09<1:07:17,  2.89s/it]"
          ]
        },
        {
          "output_type": "stream",
          "name": "stdout",
          "text": [
            "Courtney_Love: Courtney_Love_0001.jpg vs Courtney_Love_0002.jpg → Similarity: 0.284 → No Match\n"
          ]
        },
        {
          "output_type": "stream",
          "name": "stderr",
          "text": [
            "Evaluating:  19%|█▊        | 319/1711 [18:12<30:44,  1.32s/it]"
          ]
        },
        {
          "output_type": "stream",
          "name": "stdout",
          "text": [
            "Cristina_Fernandez: Cristina_Fernandez_0001.jpg vs Cristina_Fernandez_0002.jpg → Similarity: 0.015 → No Match\n"
          ]
        },
        {
          "output_type": "stream",
          "name": "stderr",
          "text": [
            "\rEvaluating:  19%|█▊        | 320/1711 [18:15<40:17,  1.74s/it]"
          ]
        },
        {
          "output_type": "stream",
          "name": "stdout",
          "text": [
            "Cyndi_Thompson: Cyndi_Thompson_0001.jpg vs Cyndi_Thompson_0002.jpg → Similarity: 0.732 → Match\n"
          ]
        },
        {
          "output_type": "stream",
          "name": "stderr",
          "text": [
            "\rEvaluating:  19%|█▉        | 321/1711 [18:18<49:05,  2.12s/it]"
          ]
        },
        {
          "output_type": "stream",
          "name": "stdout",
          "text": [
            "Dai_Bachtiar: Dai_Bachtiar_0001.jpg vs Dai_Bachtiar_0002.jpg → Similarity: 0.703 → Match\n",
            "Daisy_Fuentes: Daisy_Fuentes_0001.jpg vs Daisy_Fuentes_0002.jpg → Similarity: 0.517 → No Match\n",
            "Daisy_Fuentes: Daisy_Fuentes_0001.jpg vs Daisy_Fuentes_0003.jpg → Similarity: 0.675 → Match\n",
            "Daisy_Fuentes: Daisy_Fuentes_0001.jpg vs Daisy_Fuentes_0004.jpg → Similarity: 0.641 → Match\n",
            "Daisy_Fuentes: Daisy_Fuentes_0002.jpg vs Daisy_Fuentes_0003.jpg → Similarity: 0.639 → Match\n",
            "Daisy_Fuentes: Daisy_Fuentes_0002.jpg vs Daisy_Fuentes_0004.jpg → Similarity: 0.552 → No Match\n"
          ]
        },
        {
          "output_type": "stream",
          "name": "stderr",
          "text": [
            "Evaluating:  19%|█▉        | 324/1711 [18:33<1:11:10,  3.08s/it]"
          ]
        },
        {
          "output_type": "stream",
          "name": "stdout",
          "text": [
            "Daisy_Fuentes: Daisy_Fuentes_0003.jpg vs Daisy_Fuentes_0004.jpg → Similarity: 0.663 → Match\n"
          ]
        },
        {
          "output_type": "stream",
          "name": "stderr",
          "text": [
            "Evaluating:  20%|██        | 346/1711 [18:35<02:46,  8.22it/s]"
          ]
        },
        {
          "output_type": "stream",
          "name": "stdout",
          "text": [
            "Dave_Campo: Dave_Campo_0001.jpg vs Dave_Campo_0002.jpg → Similarity: 0.619 → Match\n",
            "Dave_Campo: Dave_Campo_0001.jpg vs Dave_Campo_0003.jpg → Similarity: 0.490 → No Match\n"
          ]
        },
        {
          "output_type": "stream",
          "name": "stderr",
          "text": [
            "\rEvaluating:  20%|██        | 348/1711 [18:44<33:27,  1.47s/it]"
          ]
        },
        {
          "output_type": "stream",
          "name": "stdout",
          "text": [
            "Dave_Campo: Dave_Campo_0002.jpg vs Dave_Campo_0003.jpg → Similarity: 0.569 → No Match\n"
          ]
        },
        {
          "output_type": "stream",
          "name": "stderr",
          "text": [
            "Evaluating:  21%|██        | 352/1711 [18:47<27:39,  1.22s/it]"
          ]
        },
        {
          "output_type": "stream",
          "name": "stdout",
          "text": [
            "David_Bell: David_Bell_0001.jpg vs David_Bell_0002.jpg → Similarity: 0.817 → Match\n"
          ]
        },
        {
          "output_type": "stream",
          "name": "stderr",
          "text": [
            "Evaluating:  21%|██        | 362/1711 [18:51<14:42,  1.53it/s]"
          ]
        },
        {
          "output_type": "stream",
          "name": "stdout",
          "text": [
            "David_Kelley: David_Kelley_0001.jpg vs David_Kelley_0002.jpg → Similarity: 0.713 → Match\n",
            "David_Stern: David_Stern_0001.jpg vs David_Stern_0002.jpg → Similarity: 0.630 → Match\n",
            "David_Stern: David_Stern_0001.jpg vs David_Stern_0003.jpg → Similarity: 0.713 → Match\n",
            "David_Stern: David_Stern_0001.jpg vs David_Stern_0004.jpg → Similarity: 0.811 → Match\n",
            "David_Stern: David_Stern_0002.jpg vs David_Stern_0003.jpg → Similarity: 0.587 → No Match\n",
            "David_Stern: David_Stern_0002.jpg vs David_Stern_0004.jpg → Similarity: 0.619 → Match\n"
          ]
        },
        {
          "output_type": "stream",
          "name": "stderr",
          "text": [
            "Evaluating:  21%|██▏       | 366/1711 [19:07<45:16,  2.02s/it]  "
          ]
        },
        {
          "output_type": "stream",
          "name": "stdout",
          "text": [
            "David_Stern: David_Stern_0003.jpg vs David_Stern_0004.jpg → Similarity: 0.756 → Match\n"
          ]
        },
        {
          "output_type": "stream",
          "name": "stderr",
          "text": [
            "Evaluating:  22%|██▏       | 372/1711 [19:12<32:26,  1.45s/it]"
          ]
        },
        {
          "output_type": "stream",
          "name": "stdout",
          "text": [
            "Denise_Johnson: Denise_Johnson_0001.jpg vs Denise_Johnson_0002.jpg → Similarity: 0.244 → No Match\n"
          ]
        },
        {
          "output_type": "stream",
          "name": "stderr",
          "text": [
            "\rEvaluating:  22%|██▏       | 373/1711 [19:15<37:27,  1.68s/it]"
          ]
        },
        {
          "output_type": "stream",
          "name": "stdout",
          "text": [
            "Dennis_Kozlowski: Dennis_Kozlowski_0001.jpg vs Dennis_Kozlowski_0002.jpg → Similarity: 0.625 → Match\n"
          ]
        },
        {
          "output_type": "stream",
          "name": "stderr",
          "text": [
            "\rEvaluating:  22%|██▏       | 374/1711 [19:18<44:27,  2.00s/it]"
          ]
        },
        {
          "output_type": "stream",
          "name": "stdout",
          "text": [
            "Dennis_Powell: Dennis_Powell_0001.jpg vs Dennis_Powell_0002.jpg → Similarity: 0.626 → Match\n",
            "Denzel_Washington: Denzel_Washington_0001.jpg vs Denzel_Washington_0002.jpg → Similarity: 0.603 → Match\n",
            "Denzel_Washington: Denzel_Washington_0001.jpg vs Denzel_Washington_0003.jpg → Similarity: 0.680 → Match\n",
            "Denzel_Washington: Denzel_Washington_0001.jpg vs Denzel_Washington_0004.jpg → Similarity: 0.614 → Match\n",
            "Denzel_Washington: Denzel_Washington_0001.jpg vs Denzel_Washington_0005.jpg → Similarity: 0.685 → Match\n",
            "Denzel_Washington: Denzel_Washington_0002.jpg vs Denzel_Washington_0003.jpg → Similarity: 0.642 → Match\n",
            "Denzel_Washington: Denzel_Washington_0002.jpg vs Denzel_Washington_0004.jpg → Similarity: 0.570 → No Match\n",
            "Denzel_Washington: Denzel_Washington_0002.jpg vs Denzel_Washington_0005.jpg → Similarity: 0.704 → Match\n",
            "Denzel_Washington: Denzel_Washington_0003.jpg vs Denzel_Washington_0004.jpg → Similarity: 0.554 → No Match\n",
            "Denzel_Washington: Denzel_Washington_0003.jpg vs Denzel_Washington_0005.jpg → Similarity: 0.742 → Match\n"
          ]
        },
        {
          "output_type": "stream",
          "name": "stderr",
          "text": [
            "\rEvaluating:  22%|██▏       | 375/1711 [19:47<2:56:06,  7.91s/it]"
          ]
        },
        {
          "output_type": "stream",
          "name": "stdout",
          "text": [
            "Denzel_Washington: Denzel_Washington_0004.jpg vs Denzel_Washington_0005.jpg → Similarity: 0.574 → No Match\n",
            "Derek_Jeter: Derek_Jeter_0001.jpg vs Derek_Jeter_0002.jpg → Similarity: 0.628 → Match\n",
            "Derek_Jeter: Derek_Jeter_0001.jpg vs Derek_Jeter_0003.jpg → Similarity: 0.447 → No Match\n",
            "Derek_Jeter: Derek_Jeter_0001.jpg vs Derek_Jeter_0004.jpg → Similarity: 0.722 → Match\n",
            "Derek_Jeter: Derek_Jeter_0002.jpg vs Derek_Jeter_0003.jpg → Similarity: 0.537 → No Match\n",
            "Derek_Jeter: Derek_Jeter_0002.jpg vs Derek_Jeter_0004.jpg → Similarity: 0.601 → Match\n"
          ]
        },
        {
          "output_type": "stream",
          "name": "stderr",
          "text": [
            "Evaluating:  22%|██▏       | 378/1711 [20:08<2:26:05,  6.58s/it]"
          ]
        },
        {
          "output_type": "stream",
          "name": "stdout",
          "text": [
            "Derek_Jeter: Derek_Jeter_0003.jpg vs Derek_Jeter_0004.jpg → Similarity: 0.493 → No Match\n"
          ]
        },
        {
          "output_type": "stream",
          "name": "stderr",
          "text": [
            "Evaluating:  22%|██▏       | 381/1711 [20:12<1:22:36,  3.73s/it]"
          ]
        },
        {
          "output_type": "stream",
          "name": "stdout",
          "text": [
            "Diane_Green: Diane_Green_0001.jpg vs Diane_Green_0002.jpg → Similarity: 0.690 → Match\n",
            "Dick_Clark: Dick_Clark_0001.jpg vs Dick_Clark_0002.jpg → Similarity: 0.622 → Match\n",
            "Dick_Clark: Dick_Clark_0001.jpg vs Dick_Clark_0003.jpg → Similarity: 0.691 → Match\n"
          ]
        },
        {
          "output_type": "stream",
          "name": "stderr",
          "text": [
            "\rEvaluating:  22%|██▏       | 382/1711 [20:20<1:41:23,  4.58s/it]"
          ]
        },
        {
          "output_type": "stream",
          "name": "stdout",
          "text": [
            "Dick_Clark: Dick_Clark_0002.jpg vs Dick_Clark_0003.jpg → Similarity: 0.558 → No Match\n"
          ]
        },
        {
          "output_type": "stream",
          "name": "stderr",
          "text": [
            "\rEvaluating:  22%|██▏       | 383/1711 [20:23<1:32:33,  4.18s/it]"
          ]
        },
        {
          "output_type": "stream",
          "name": "stdout",
          "text": [
            "Dick_Latessa: Dick_Latessa_0001.jpg vs Dick_Latessa_0002.jpg → Similarity: 0.601 → Match\n"
          ]
        },
        {
          "output_type": "stream",
          "name": "stderr",
          "text": [
            "Evaluating:  23%|██▎       | 386/1711 [20:25<48:59,  2.22s/it]  "
          ]
        },
        {
          "output_type": "stream",
          "name": "stdout",
          "text": [
            "Dick_Vermeil: Dick_Vermeil_0001.jpg vs Dick_Vermeil_0002.jpg → Similarity: 0.582 → No Match\n"
          ]
        },
        {
          "output_type": "stream",
          "name": "stderr",
          "text": [
            "\rEvaluating:  23%|██▎       | 388/1711 [20:26<31:28,  1.43s/it]"
          ]
        },
        {
          "output_type": "stream",
          "name": "stdout",
          "text": [
            "Dominique_de_Villepin: Dominique_de_Villepin_0001.jpg vs Dominique_de_Villepin_0002.jpg → Similarity: 0.826 → Match\n",
            "Dominique_de_Villepin: Dominique_de_Villepin_0001.jpg vs Dominique_de_Villepin_0003.jpg → Similarity: 0.744 → Match\n",
            "Dominique_de_Villepin: Dominique_de_Villepin_0001.jpg vs Dominique_de_Villepin_0004.jpg → Similarity: 0.614 → Match\n",
            "Dominique_de_Villepin: Dominique_de_Villepin_0001.jpg vs Dominique_de_Villepin_0005.jpg → Similarity: 0.657 → Match\n",
            "Dominique_de_Villepin: Dominique_de_Villepin_0002.jpg vs Dominique_de_Villepin_0003.jpg → Similarity: 0.699 → Match\n",
            "Dominique_de_Villepin: Dominique_de_Villepin_0002.jpg vs Dominique_de_Villepin_0004.jpg → Similarity: 0.586 → No Match\n",
            "Dominique_de_Villepin: Dominique_de_Villepin_0002.jpg vs Dominique_de_Villepin_0005.jpg → Similarity: 0.617 → Match\n",
            "Dominique_de_Villepin: Dominique_de_Villepin_0003.jpg vs Dominique_de_Villepin_0004.jpg → Similarity: 0.538 → No Match\n",
            "Dominique_de_Villepin: Dominique_de_Villepin_0003.jpg vs Dominique_de_Villepin_0005.jpg → Similarity: 0.555 → No Match\n"
          ]
        },
        {
          "output_type": "stream",
          "name": "stderr",
          "text": [
            "Evaluating:  23%|██▎       | 392/1711 [20:50<1:15:38,  3.44s/it]"
          ]
        },
        {
          "output_type": "stream",
          "name": "stdout",
          "text": [
            "Dominique_de_Villepin: Dominique_de_Villepin_0004.jpg vs Dominique_de_Villepin_0005.jpg → Similarity: 0.884 → Match\n"
          ]
        },
        {
          "output_type": "stream",
          "name": "stderr",
          "text": [
            "Evaluating:  23%|██▎       | 397/1711 [20:50<28:30,  1.30s/it]"
          ]
        },
        {
          "output_type": "stream",
          "name": "stdout",
          "text": [
            "Donald_Pettit: Donald_Pettit_0001.jpg vs Donald_Pettit_0002.jpg → Similarity: 0.623 → Match\n",
            "Donald_Pettit: Donald_Pettit_0001.jpg vs Donald_Pettit_0003.jpg → Similarity: 0.732 → Match\n"
          ]
        },
        {
          "output_type": "stream",
          "name": "stderr",
          "text": [
            "\rEvaluating:  23%|██▎       | 398/1711 [20:57<52:30,  2.40s/it]"
          ]
        },
        {
          "output_type": "stream",
          "name": "stdout",
          "text": [
            "Donald_Pettit: Donald_Pettit_0002.jpg vs Donald_Pettit_0003.jpg → Similarity: 0.627 → Match\n",
            "Donald_Rumsfeld: Donald_Rumsfeld_0001.jpg vs Donald_Rumsfeld_0002.jpg → Similarity: 0.642 → Match\n",
            "Donald_Rumsfeld: Donald_Rumsfeld_0001.jpg vs Donald_Rumsfeld_0003.jpg → Similarity: 0.712 → Match\n",
            "Donald_Rumsfeld: Donald_Rumsfeld_0001.jpg vs Donald_Rumsfeld_0004.jpg → Similarity: 0.630 → Match\n",
            "Donald_Rumsfeld: Donald_Rumsfeld_0001.jpg vs Donald_Rumsfeld_0005.jpg → Similarity: 0.547 → No Match\n",
            "Donald_Rumsfeld: Donald_Rumsfeld_0002.jpg vs Donald_Rumsfeld_0003.jpg → Similarity: 0.708 → Match\n",
            "Donald_Rumsfeld: Donald_Rumsfeld_0002.jpg vs Donald_Rumsfeld_0004.jpg → Similarity: 0.704 → Match\n",
            "Donald_Rumsfeld: Donald_Rumsfeld_0002.jpg vs Donald_Rumsfeld_0005.jpg → Similarity: 0.595 → No Match\n",
            "Donald_Rumsfeld: Donald_Rumsfeld_0003.jpg vs Donald_Rumsfeld_0004.jpg → Similarity: 0.708 → Match\n",
            "Donald_Rumsfeld: Donald_Rumsfeld_0003.jpg vs Donald_Rumsfeld_0005.jpg → Similarity: 0.668 → Match\n"
          ]
        },
        {
          "output_type": "stream",
          "name": "stderr",
          "text": [
            "Evaluating:  23%|██▎       | 402/1711 [21:22<1:26:43,  3.98s/it]"
          ]
        },
        {
          "output_type": "stream",
          "name": "stdout",
          "text": [
            "Donald_Rumsfeld: Donald_Rumsfeld_0004.jpg vs Donald_Rumsfeld_0005.jpg → Similarity: 0.600 → No Match\n"
          ]
        },
        {
          "output_type": "stream",
          "name": "stderr",
          "text": [
            "Evaluating:  24%|██▎       | 406/1711 [21:25<46:31,  2.14s/it]  "
          ]
        },
        {
          "output_type": "stream",
          "name": "stdout",
          "text": [
            "Doug_Collins: Doug_Collins_0001.jpg vs Doug_Collins_0002.jpg → Similarity: 0.521 → No Match\n"
          ]
        },
        {
          "output_type": "stream",
          "name": "stderr",
          "text": [
            "Evaluating:  24%|██▍       | 417/1711 [21:28<14:40,  1.47it/s]"
          ]
        },
        {
          "output_type": "stream",
          "name": "stdout",
          "text": [
            "Eddie_Sutton: Eddie_Sutton_0001.jpg vs Eddie_Sutton_0002.jpg → Similarity: 0.770 → Match\n"
          ]
        },
        {
          "output_type": "stream",
          "name": "stderr",
          "text": [
            "Evaluating:  25%|██▍       | 420/1711 [21:32<23:27,  1.09s/it]"
          ]
        },
        {
          "output_type": "stream",
          "name": "stdout",
          "text": [
            "Edward_James_Olmos: Edward_James_Olmos_0001.jpg vs Edward_James_Olmos_0002.jpg → Similarity: 0.699 → Match\n",
            "Edward_Lu: Edward_Lu_0001.jpg vs Edward_Lu_0002.jpg → Similarity: 0.714 → Match\n",
            "Edward_Lu: Edward_Lu_0001.jpg vs Edward_Lu_0003.jpg → Similarity: 0.781 → Match\n",
            "Edward_Lu: Edward_Lu_0001.jpg vs Edward_Lu_0004.jpg → Similarity: 0.776 → Match\n",
            "Edward_Lu: Edward_Lu_0001.jpg vs Edward_Lu_0005.jpg → Similarity: 0.758 → Match\n",
            "Edward_Lu: Edward_Lu_0002.jpg vs Edward_Lu_0003.jpg → Similarity: 0.657 → Match\n",
            "Edward_Lu: Edward_Lu_0002.jpg vs Edward_Lu_0004.jpg → Similarity: 0.615 → Match\n",
            "Edward_Lu: Edward_Lu_0002.jpg vs Edward_Lu_0005.jpg → Similarity: 0.742 → Match\n",
            "Edward_Lu: Edward_Lu_0003.jpg vs Edward_Lu_0004.jpg → Similarity: 0.887 → Match\n",
            "Edward_Lu: Edward_Lu_0003.jpg vs Edward_Lu_0005.jpg → Similarity: 0.708 → Match\n"
          ]
        },
        {
          "output_type": "stream",
          "name": "stderr",
          "text": [
            "\rEvaluating:  25%|██▍       | 421/1711 [21:58<2:18:55,  6.46s/it]"
          ]
        },
        {
          "output_type": "stream",
          "name": "stdout",
          "text": [
            "Edward_Lu: Edward_Lu_0004.jpg vs Edward_Lu_0005.jpg → Similarity: 0.718 → Match\n"
          ]
        },
        {
          "output_type": "stream",
          "name": "stderr",
          "text": [
            "\rEvaluating:  25%|██▍       | 422/1711 [22:02<2:05:42,  5.85s/it]"
          ]
        },
        {
          "output_type": "stream",
          "name": "stdout",
          "text": [
            "Edward_Norton: Edward_Norton_0001.jpg vs Edward_Norton_0002.jpg → Similarity: 0.595 → No Match\n",
            "Edwin_Edwards: Edwin_Edwards_0001.jpg vs Edwin_Edwards_0002.jpg → Similarity: 0.578 → No Match\n",
            "Edwin_Edwards: Edwin_Edwards_0001.jpg vs Edwin_Edwards_0003.jpg → Similarity: 0.676 → Match\n"
          ]
        },
        {
          "output_type": "stream",
          "name": "stderr",
          "text": [
            "Evaluating:  25%|██▍       | 426/1711 [22:11<1:13:29,  3.43s/it]"
          ]
        },
        {
          "output_type": "stream",
          "name": "stdout",
          "text": [
            "Edwin_Edwards: Edwin_Edwards_0002.jpg vs Edwin_Edwards_0003.jpg → Similarity: 0.550 → No Match\n"
          ]
        },
        {
          "output_type": "stream",
          "name": "stderr",
          "text": [
            "Evaluating:  25%|██▌       | 431/1711 [22:12<25:00,  1.17s/it]"
          ]
        },
        {
          "output_type": "stream",
          "name": "stdout",
          "text": [
            "Eliane_Karp: Eliane_Karp_0001.jpg vs Eliane_Karp_0002.jpg → Similarity: 0.668 → Match\n",
            "Eliane_Karp: Eliane_Karp_0001.jpg vs Eliane_Karp_0003.jpg → Similarity: 0.571 → No Match\n",
            "Eliane_Karp: Eliane_Karp_0001.jpg vs Eliane_Karp_0004.jpg → Similarity: 0.481 → No Match\n",
            "Eliane_Karp: Eliane_Karp_0002.jpg vs Eliane_Karp_0003.jpg → Similarity: 0.623 → Match\n",
            "Eliane_Karp: Eliane_Karp_0002.jpg vs Eliane_Karp_0004.jpg → Similarity: 0.528 → No Match\n"
          ]
        },
        {
          "output_type": "stream",
          "name": "stderr",
          "text": [
            "\rEvaluating:  25%|██▌       | 433/1711 [22:26<1:07:46,  3.18s/it]"
          ]
        },
        {
          "output_type": "stream",
          "name": "stdout",
          "text": [
            "Eliane_Karp: Eliane_Karp_0003.jpg vs Eliane_Karp_0004.jpg → Similarity: 0.582 → No Match\n"
          ]
        },
        {
          "output_type": "stream",
          "name": "stderr",
          "text": [
            "\rEvaluating:  25%|██▌       | 434/1711 [22:29<1:07:13,  3.16s/it]"
          ]
        },
        {
          "output_type": "stream",
          "name": "stdout",
          "text": [
            "Elin_Nordegren: Elin_Nordegren_0001.jpg vs Elin_Nordegren_0002.jpg → Similarity: 0.575 → No Match\n"
          ]
        },
        {
          "output_type": "stream",
          "name": "stderr",
          "text": [
            "\rEvaluating:  25%|██▌       | 435/1711 [22:32<1:04:44,  3.04s/it]"
          ]
        },
        {
          "output_type": "stream",
          "name": "stdout",
          "text": [
            "Elinor_Caplan: Elinor_Caplan_0001.jpg vs Elinor_Caplan_0002.jpg → Similarity: 0.763 → Match\n"
          ]
        },
        {
          "output_type": "stream",
          "name": "stderr",
          "text": [
            "Evaluating:  26%|██▌       | 439/1711 [22:35<33:10,  1.57s/it]"
          ]
        },
        {
          "output_type": "stream",
          "name": "stdout",
          "text": [
            "Elisabeth_Schumacher: Elisabeth_Schumacher_0001.jpg vs Elisabeth_Schumacher_0002.jpg → Similarity: 0.010 → No Match\n"
          ]
        },
        {
          "output_type": "stream",
          "name": "stderr",
          "text": [
            "\rEvaluating:  26%|██▌       | 441/1711 [22:35<22:40,  1.07s/it]"
          ]
        },
        {
          "output_type": "stream",
          "name": "stdout",
          "text": [
            "Elizabeth_Smart: Elizabeth_Smart_0001.jpg vs Elizabeth_Smart_0002.jpg → Similarity: 0.778 → Match\n",
            "Elizabeth_Smart: Elizabeth_Smart_0001.jpg vs Elizabeth_Smart_0003.jpg → Similarity: 0.579 → No Match\n",
            "Elizabeth_Smart: Elizabeth_Smart_0001.jpg vs Elizabeth_Smart_0004.jpg → Similarity: 0.526 → No Match\n",
            "Elizabeth_Smart: Elizabeth_Smart_0001.jpg vs Elizabeth_Smart_0005.jpg → Similarity: 0.593 → No Match\n",
            "Elizabeth_Smart: Elizabeth_Smart_0002.jpg vs Elizabeth_Smart_0003.jpg → Similarity: 0.521 → No Match\n",
            "Elizabeth_Smart: Elizabeth_Smart_0002.jpg vs Elizabeth_Smart_0004.jpg → Similarity: 0.499 → No Match\n",
            "Elizabeth_Smart: Elizabeth_Smart_0002.jpg vs Elizabeth_Smart_0005.jpg → Similarity: 0.533 → No Match\n",
            "Elizabeth_Smart: Elizabeth_Smart_0003.jpg vs Elizabeth_Smart_0004.jpg → Similarity: 0.517 → No Match\n",
            "Elizabeth_Smart: Elizabeth_Smart_0003.jpg vs Elizabeth_Smart_0005.jpg → Similarity: 0.580 → No Match\n"
          ]
        },
        {
          "output_type": "stream",
          "name": "stderr",
          "text": [
            "Evaluating:  26%|██▌       | 444/1711 [23:04<1:28:08,  4.17s/it]"
          ]
        },
        {
          "output_type": "stream",
          "name": "stdout",
          "text": [
            "Elizabeth_Smart: Elizabeth_Smart_0004.jpg vs Elizabeth_Smart_0005.jpg → Similarity: 0.827 → Match\n"
          ]
        },
        {
          "output_type": "stream",
          "name": "stderr",
          "text": [
            "Evaluating:  26%|██▌       | 447/1711 [23:04<47:57,  2.28s/it]"
          ]
        },
        {
          "output_type": "stream",
          "name": "stdout",
          "text": [
            "Elsa_Zylberstein: Elsa_Zylberstein_0001.jpg vs Elsa_Zylberstein_0002.jpg → Similarity: 0.527 → No Match\n",
            "Elsa_Zylberstein: Elsa_Zylberstein_0001.jpg vs Elsa_Zylberstein_0003.jpg → Similarity: 0.501 → No Match\n",
            "Elsa_Zylberstein: Elsa_Zylberstein_0001.jpg vs Elsa_Zylberstein_0004.jpg → Similarity: 0.531 → No Match\n",
            "Elsa_Zylberstein: Elsa_Zylberstein_0001.jpg vs Elsa_Zylberstein_0005.jpg → Similarity: 0.509 → No Match\n",
            "Elsa_Zylberstein: Elsa_Zylberstein_0002.jpg vs Elsa_Zylberstein_0003.jpg → Similarity: 0.586 → No Match\n",
            "Elsa_Zylberstein: Elsa_Zylberstein_0002.jpg vs Elsa_Zylberstein_0004.jpg → Similarity: 0.783 → Match\n",
            "Elsa_Zylberstein: Elsa_Zylberstein_0002.jpg vs Elsa_Zylberstein_0005.jpg → Similarity: 0.693 → Match\n",
            "Elsa_Zylberstein: Elsa_Zylberstein_0003.jpg vs Elsa_Zylberstein_0004.jpg → Similarity: 0.589 → No Match\n",
            "Elsa_Zylberstein: Elsa_Zylberstein_0003.jpg vs Elsa_Zylberstein_0005.jpg → Similarity: 0.664 → Match\n"
          ]
        },
        {
          "output_type": "stream",
          "name": "stderr",
          "text": [
            "Evaluating:  26%|██▋       | 450/1711 [23:38<2:00:06,  5.72s/it]"
          ]
        },
        {
          "output_type": "stream",
          "name": "stdout",
          "text": [
            "Elsa_Zylberstein: Elsa_Zylberstein_0004.jpg vs Elsa_Zylberstein_0005.jpg → Similarity: 0.801 → Match\n",
            "Emma_Watson: Emma_Watson_0001.jpg vs Emma_Watson_0002.jpg → Similarity: 0.643 → Match\n",
            "Emma_Watson: Emma_Watson_0001.jpg vs Emma_Watson_0003.jpg → Similarity: 0.662 → Match\n",
            "Emma_Watson: Emma_Watson_0001.jpg vs Emma_Watson_0004.jpg → Similarity: 0.683 → Match\n",
            "Emma_Watson: Emma_Watson_0001.jpg vs Emma_Watson_0005.jpg → Similarity: 0.555 → No Match\n",
            "Emma_Watson: Emma_Watson_0002.jpg vs Emma_Watson_0003.jpg → Similarity: 0.731 → Match\n"
          ]
        },
        {
          "output_type": "stream",
          "name": "stderr",
          "text": [
            "\rEvaluating:  26%|██▋       | 450/1711 [23:53<2:00:06,  5.72s/it]"
          ]
        },
        {
          "output_type": "stream",
          "name": "stdout",
          "text": [
            "Emma_Watson: Emma_Watson_0002.jpg vs Emma_Watson_0004.jpg → Similarity: 0.616 → Match\n",
            "Emma_Watson: Emma_Watson_0002.jpg vs Emma_Watson_0005.jpg → Similarity: 0.632 → Match\n",
            "Emma_Watson: Emma_Watson_0003.jpg vs Emma_Watson_0004.jpg → Similarity: 0.684 → Match\n",
            "Emma_Watson: Emma_Watson_0003.jpg vs Emma_Watson_0005.jpg → Similarity: 0.677 → Match\n"
          ]
        },
        {
          "output_type": "stream",
          "name": "stderr",
          "text": [
            "Evaluating:  27%|██▋       | 454/1711 [24:02<1:50:08,  5.26s/it]"
          ]
        },
        {
          "output_type": "stream",
          "name": "stdout",
          "text": [
            "Emma_Watson: Emma_Watson_0004.jpg vs Emma_Watson_0005.jpg → Similarity: 0.781 → Match\n"
          ]
        },
        {
          "output_type": "stream",
          "name": "stderr",
          "text": [
            "Evaluating:  27%|██▋       | 462/1711 [24:03<25:29,  1.22s/it]"
          ]
        },
        {
          "output_type": "stream",
          "name": "stdout",
          "text": [
            "Erik_Morales: Erik_Morales_0001.jpg vs Erik_Morales_0002.jpg → Similarity: 0.676 → Match\n",
            "Erik_Morales: Erik_Morales_0001.jpg vs Erik_Morales_0003.jpg → Similarity: 0.768 → Match\n",
            "Erik_Morales: Erik_Morales_0002.jpg vs Erik_Morales_0003.jpg → Similarity: 0.662 → Match\n"
          ]
        },
        {
          "output_type": "stream",
          "name": "stderr",
          "text": [
            "Evaluating:  27%|██▋       | 464/1711 [24:14<53:20,  2.57s/it]"
          ]
        },
        {
          "output_type": "stream",
          "name": "stdout",
          "text": [
            "Erika_Christensen: Erika_Christensen_0001.jpg vs Erika_Christensen_0002.jpg → Similarity: 0.625 → Match\n",
            "Erin_Runnion: Erin_Runnion_0001.jpg vs Erin_Runnion_0002.jpg → Similarity: 0.693 → Match\n",
            "Erin_Runnion: Erin_Runnion_0001.jpg vs Erin_Runnion_0003.jpg → Similarity: 0.649 → Match\n",
            "Erin_Runnion: Erin_Runnion_0001.jpg vs Erin_Runnion_0004.jpg → Similarity: 0.446 → No Match\n",
            "Erin_Runnion: Erin_Runnion_0002.jpg vs Erin_Runnion_0003.jpg → Similarity: 0.661 → Match\n",
            "Erin_Runnion: Erin_Runnion_0002.jpg vs Erin_Runnion_0004.jpg → Similarity: 0.583 → No Match\n"
          ]
        },
        {
          "output_type": "stream",
          "name": "stderr",
          "text": [
            "\rEvaluating:  27%|██▋       | 466/1711 [24:30<1:28:25,  4.26s/it]"
          ]
        },
        {
          "output_type": "stream",
          "name": "stdout",
          "text": [
            "Erin_Runnion: Erin_Runnion_0003.jpg vs Erin_Runnion_0004.jpg → Similarity: 0.595 → No Match\n"
          ]
        },
        {
          "output_type": "stream",
          "name": "stderr",
          "text": [
            "\rEvaluating:  27%|██▋       | 467/1711 [24:33<1:22:38,  3.99s/it]"
          ]
        },
        {
          "output_type": "stream",
          "name": "stdout",
          "text": [
            "Ernie_Eves: Ernie_Eves_0001.jpg vs Ernie_Eves_0002.jpg → Similarity: 0.724 → Match\n"
          ]
        },
        {
          "output_type": "stream",
          "name": "stderr",
          "text": [
            "Evaluating:  27%|██▋       | 470/1711 [24:38<54:36,  2.64s/it]  "
          ]
        },
        {
          "output_type": "stream",
          "name": "stdout",
          "text": [
            "Ernie_Fletcher: Ernie_Fletcher_0001.jpg vs Ernie_Fletcher_0002.jpg → Similarity: 0.786 → Match\n"
          ]
        },
        {
          "output_type": "stream",
          "name": "stderr",
          "text": [
            "Evaluating:  28%|██▊       | 482/1711 [24:42<12:29,  1.64it/s]"
          ]
        },
        {
          "output_type": "stream",
          "name": "stdout",
          "text": [
            "Fabiola_Zuluaga: Fabiola_Zuluaga_0001.jpg vs Fabiola_Zuluaga_0002.jpg → Similarity: 0.666 → Match\n"
          ]
        },
        {
          "output_type": "stream",
          "name": "stderr",
          "text": [
            "\rEvaluating:  28%|██▊       | 484/1711 [24:42<09:05,  2.25it/s]"
          ]
        },
        {
          "output_type": "stream",
          "name": "stdout",
          "text": [
            "Faye_Dunaway: Faye_Dunaway_0001.jpg vs Faye_Dunaway_0002.jpg → Similarity: 0.611 → Match\n",
            "Faye_Dunaway: Faye_Dunaway_0001.jpg vs Faye_Dunaway_0003.jpg → Similarity: 0.709 → Match\n",
            "Faye_Dunaway: Faye_Dunaway_0002.jpg vs Faye_Dunaway_0003.jpg → Similarity: 0.653 → Match\n"
          ]
        },
        {
          "output_type": "stream",
          "name": "stderr",
          "text": [
            "\rEvaluating:  28%|██▊       | 484/1711 [24:53<09:05,  2.25it/s]"
          ]
        },
        {
          "output_type": "stream",
          "name": "stdout",
          "text": [
            "Felipe_Perez_Roque: Felipe_Perez_Roque_0001.jpg vs Felipe_Perez_Roque_0002.jpg → Similarity: 0.724 → Match\n",
            "Felipe_Perez_Roque: Felipe_Perez_Roque_0001.jpg vs Felipe_Perez_Roque_0003.jpg → Similarity: 0.713 → Match\n",
            "Felipe_Perez_Roque: Felipe_Perez_Roque_0001.jpg vs Felipe_Perez_Roque_0004.jpg → Similarity: 0.690 → Match\n",
            "Felipe_Perez_Roque: Felipe_Perez_Roque_0002.jpg vs Felipe_Perez_Roque_0003.jpg → Similarity: 0.679 → Match\n",
            "Felipe_Perez_Roque: Felipe_Perez_Roque_0002.jpg vs Felipe_Perez_Roque_0004.jpg → Similarity: 0.755 → Match\n"
          ]
        },
        {
          "output_type": "stream",
          "name": "stderr",
          "text": [
            "\rEvaluating:  28%|██▊       | 486/1711 [25:11<1:36:32,  4.73s/it]"
          ]
        },
        {
          "output_type": "stream",
          "name": "stdout",
          "text": [
            "Felipe_Perez_Roque: Felipe_Perez_Roque_0003.jpg vs Felipe_Perez_Roque_0004.jpg → Similarity: 0.674 → Match\n"
          ]
        },
        {
          "output_type": "stream",
          "name": "stderr",
          "text": [
            "\rEvaluating:  29%|██▊       | 488/1711 [25:11<1:08:20,  3.35s/it]"
          ]
        },
        {
          "output_type": "stream",
          "name": "stdout",
          "text": [
            "Fernando_Vargas: Fernando_Vargas_0001.jpg vs Fernando_Vargas_0002.jpg → Similarity: 0.337 → No Match\n",
            "Fernando_Vargas: Fernando_Vargas_0001.jpg vs Fernando_Vargas_0003.jpg → Similarity: 0.389 → No Match\n",
            "Fernando_Vargas: Fernando_Vargas_0001.jpg vs Fernando_Vargas_0004.jpg → Similarity: 0.351 → No Match\n",
            "Fernando_Vargas: Fernando_Vargas_0002.jpg vs Fernando_Vargas_0003.jpg → Similarity: 0.346 → No Match\n",
            "Fernando_Vargas: Fernando_Vargas_0002.jpg vs Fernando_Vargas_0004.jpg → Similarity: 0.371 → No Match\n"
          ]
        },
        {
          "output_type": "stream",
          "name": "stderr",
          "text": [
            "Evaluating:  29%|██▊       | 491/1711 [25:28<1:20:52,  3.98s/it]"
          ]
        },
        {
          "output_type": "stream",
          "name": "stdout",
          "text": [
            "Fernando_Vargas: Fernando_Vargas_0003.jpg vs Fernando_Vargas_0004.jpg → Similarity: 0.414 → No Match\n"
          ]
        },
        {
          "output_type": "stream",
          "name": "stderr",
          "text": [
            "Evaluating:  29%|██▉       | 496/1711 [25:32<37:49,  1.87s/it]"
          ]
        },
        {
          "output_type": "stream",
          "name": "stdout",
          "text": [
            "Flor_Montulo: Flor_Montulo_0001.jpg vs Flor_Montulo_0002.jpg → Similarity: 0.349 → No Match\n"
          ]
        },
        {
          "output_type": "stream",
          "name": "stderr",
          "text": [
            "Evaluating:  29%|██▉       | 499/1711 [25:35<27:31,  1.36s/it]"
          ]
        },
        {
          "output_type": "stream",
          "name": "stdout",
          "text": [
            "Fran_Drescher: Fran_Drescher_0001.jpg vs Fran_Drescher_0002.jpg → Similarity: 0.587 → No Match\n",
            "Frank_Cassell: Frank_Cassell_0001.jpg vs Frank_Cassell_0002.jpg → Similarity: 0.621 → Match\n",
            "Frank_Cassell: Frank_Cassell_0001.jpg vs Frank_Cassell_0003.jpg → Similarity: 0.626 → Match\n"
          ]
        },
        {
          "output_type": "stream",
          "name": "stderr",
          "text": [
            "\rEvaluating:  29%|██▉       | 501/1711 [25:43<47:22,  2.35s/it]"
          ]
        },
        {
          "output_type": "stream",
          "name": "stdout",
          "text": [
            "Frank_Cassell: Frank_Cassell_0002.jpg vs Frank_Cassell_0003.jpg → Similarity: 0.644 → Match\n"
          ]
        },
        {
          "output_type": "stream",
          "name": "stderr",
          "text": [
            "Evaluating:  29%|██▉       | 504/1711 [25:48<37:42,  1.87s/it]"
          ]
        },
        {
          "output_type": "stream",
          "name": "stdout",
          "text": [
            "Frank_Dunham_Jr: Frank_Dunham_Jr_0001.jpg vs Frank_Dunham_Jr_0002.jpg → Similarity: 0.707 → Match\n"
          ]
        },
        {
          "output_type": "stream",
          "name": "stderr",
          "text": [
            "Evaluating:  30%|███       | 515/1711 [25:52<10:41,  1.87it/s]"
          ]
        },
        {
          "output_type": "stream",
          "name": "stdout",
          "text": [
            "Fred_Funk: Fred_Funk_0001.jpg vs Fred_Funk_0002.jpg → Similarity: 0.621 → Match\n",
            "GL_Peiris: GL_Peiris_0001.jpg vs GL_Peiris_0002.jpg → Similarity: 0.761 → Match\n",
            "GL_Peiris: GL_Peiris_0001.jpg vs GL_Peiris_0003.jpg → Similarity: 0.790 → Match\n",
            "GL_Peiris: GL_Peiris_0001.jpg vs GL_Peiris_0004.jpg → Similarity: 0.644 → Match\n",
            "GL_Peiris: GL_Peiris_0002.jpg vs GL_Peiris_0003.jpg → Similarity: 0.886 → Match\n",
            "GL_Peiris: GL_Peiris_0002.jpg vs GL_Peiris_0004.jpg → Similarity: 0.598 → No Match\n"
          ]
        },
        {
          "output_type": "stream",
          "name": "stderr",
          "text": [
            "\rEvaluating:  30%|███       | 517/1711 [26:07<53:54,  2.71s/it]"
          ]
        },
        {
          "output_type": "stream",
          "name": "stdout",
          "text": [
            "GL_Peiris: GL_Peiris_0003.jpg vs GL_Peiris_0004.jpg → Similarity: 0.606 → Match\n"
          ]
        },
        {
          "output_type": "stream",
          "name": "stderr",
          "text": [
            "\rEvaluating:  30%|███       | 519/1711 [26:10<47:11,  2.38s/it]"
          ]
        },
        {
          "output_type": "stream",
          "name": "stdout",
          "text": [
            "Gao_Qiang: Gao_Qiang_0001.jpg vs Gao_Qiang_0002.jpg → Similarity: 0.772 → Match\n"
          ]
        },
        {
          "output_type": "stream",
          "name": "stderr",
          "text": [
            "Evaluating:  31%|███       | 523/1711 [26:14<29:59,  1.51s/it]"
          ]
        },
        {
          "output_type": "stream",
          "name": "stdout",
          "text": [
            "Garry_Trudeau: Garry_Trudeau_0001.jpg vs Garry_Trudeau_0002.jpg → Similarity: 0.705 → Match\n",
            "Gary_Doer: Gary_Doer_0001.jpg vs Gary_Doer_0002.jpg → Similarity: 0.579 → No Match\n",
            "Gary_Doer: Gary_Doer_0001.jpg vs Gary_Doer_0003.jpg → Similarity: 0.567 → No Match\n"
          ]
        },
        {
          "output_type": "stream",
          "name": "stderr",
          "text": [
            "Evaluating:  31%|███       | 526/1711 [26:25<42:40,  2.16s/it]  "
          ]
        },
        {
          "output_type": "stream",
          "name": "stdout",
          "text": [
            "Gary_Doer: Gary_Doer_0002.jpg vs Gary_Doer_0003.jpg → Similarity: 0.548 → No Match\n"
          ]
        },
        {
          "output_type": "stream",
          "name": "stderr",
          "text": [
            "Evaluating:  31%|███       | 529/1711 [26:28<35:14,  1.79s/it]"
          ]
        },
        {
          "output_type": "stream",
          "name": "stdout",
          "text": [
            "Gary_Williams: Gary_Williams_0001.jpg vs Gary_Williams_0002.jpg → Similarity: 0.626 → Match\n"
          ]
        },
        {
          "output_type": "stream",
          "name": "stderr",
          "text": [
            "Evaluating:  31%|███       | 532/1711 [26:31<26:01,  1.32s/it]"
          ]
        },
        {
          "output_type": "stream",
          "name": "stdout",
          "text": [
            "Gary_Winnick: Gary_Winnick_0001.jpg vs Gary_Winnick_0002.jpg → Similarity: 0.611 → Match\n",
            "Gene_Robinson: Gene_Robinson_0001.jpg vs Gene_Robinson_0002.jpg → Similarity: 0.759 → Match\n",
            "Gene_Robinson: Gene_Robinson_0001.jpg vs Gene_Robinson_0003.jpg → Similarity: 0.627 → Match\n",
            "Gene_Robinson: Gene_Robinson_0001.jpg vs Gene_Robinson_0004.jpg → Similarity: 0.690 → Match\n",
            "Gene_Robinson: Gene_Robinson_0001.jpg vs Gene_Robinson_0005.jpg → Similarity: 0.746 → Match\n",
            "Gene_Robinson: Gene_Robinson_0002.jpg vs Gene_Robinson_0003.jpg → Similarity: 0.672 → Match\n",
            "Gene_Robinson: Gene_Robinson_0002.jpg vs Gene_Robinson_0004.jpg → Similarity: 0.775 → Match\n",
            "Gene_Robinson: Gene_Robinson_0002.jpg vs Gene_Robinson_0005.jpg → Similarity: 0.754 → Match\n",
            "Gene_Robinson: Gene_Robinson_0003.jpg vs Gene_Robinson_0004.jpg → Similarity: 0.627 → Match\n",
            "Gene_Robinson: Gene_Robinson_0003.jpg vs Gene_Robinson_0005.jpg → Similarity: 0.665 → Match\n"
          ]
        },
        {
          "output_type": "stream",
          "name": "stderr",
          "text": [
            "Evaluating:  31%|███▏      | 535/1711 [26:55<1:13:40,  3.76s/it]"
          ]
        },
        {
          "output_type": "stream",
          "name": "stdout",
          "text": [
            "Gene_Robinson: Gene_Robinson_0004.jpg vs Gene_Robinson_0005.jpg → Similarity: 0.717 → Match\n"
          ]
        },
        {
          "output_type": "stream",
          "name": "stderr",
          "text": [
            "\rEvaluating:  31%|███▏      | 537/1711 [26:58<1:00:15,  3.08s/it]"
          ]
        },
        {
          "output_type": "stream",
          "name": "stdout",
          "text": [
            "George_Foreman: George_Foreman_0001.jpg vs George_Foreman_0002.jpg → Similarity: 0.682 → Match\n"
          ]
        },
        {
          "output_type": "stream",
          "name": "stderr",
          "text": [
            "Evaluating:  32%|███▏      | 541/1711 [27:01<33:28,  1.72s/it]"
          ]
        },
        {
          "output_type": "stream",
          "name": "stdout",
          "text": [
            "George_Karl: George_Karl_0001.jpg vs George_Karl_0002.jpg → Similarity: 0.647 → Match\n",
            "George_Robertson: George_Robertson_0001.jpg vs George_Robertson_0002.jpg → Similarity: 0.720 → Match\n",
            "George_Robertson: George_Robertson_0001.jpg vs George_Robertson_0003.jpg → Similarity: 0.683 → Match\n",
            "George_Robertson: George_Robertson_0001.jpg vs George_Robertson_0004.jpg → Similarity: 0.684 → Match\n",
            "George_Robertson: George_Robertson_0001.jpg vs George_Robertson_0005.jpg → Similarity: 0.775 → Match\n",
            "George_Robertson: George_Robertson_0002.jpg vs George_Robertson_0003.jpg → Similarity: 0.858 → Match\n",
            "George_Robertson: George_Robertson_0002.jpg vs George_Robertson_0004.jpg → Similarity: 0.751 → Match\n",
            "George_Robertson: George_Robertson_0002.jpg vs George_Robertson_0005.jpg → Similarity: 0.720 → Match\n",
            "George_Robertson: George_Robertson_0003.jpg vs George_Robertson_0004.jpg → Similarity: 0.742 → Match\n",
            "George_Robertson: George_Robertson_0003.jpg vs George_Robertson_0005.jpg → Similarity: 0.697 → Match\n"
          ]
        },
        {
          "output_type": "stream",
          "name": "stderr",
          "text": [
            "\rEvaluating:  32%|███▏      | 542/1711 [27:30<2:12:50,  6.82s/it]"
          ]
        },
        {
          "output_type": "stream",
          "name": "stdout",
          "text": [
            "George_Robertson: George_Robertson_0004.jpg vs George_Robertson_0005.jpg → Similarity: 0.747 → Match\n"
          ]
        },
        {
          "output_type": "stream",
          "name": "stderr",
          "text": [
            "\rEvaluating:  32%|███▏      | 543/1711 [27:33<1:55:28,  5.93s/it]"
          ]
        },
        {
          "output_type": "stream",
          "name": "stdout",
          "text": [
            "George_Tenet: George_Tenet_0001.jpg vs George_Tenet_0002.jpg → Similarity: 0.678 → Match\n"
          ]
        },
        {
          "output_type": "stream",
          "name": "stderr",
          "text": [
            "Evaluating:  32%|███▏      | 546/1711 [27:36<1:01:05,  3.15s/it]"
          ]
        },
        {
          "output_type": "stream",
          "name": "stdout",
          "text": [
            "Georgi_Parvanov: Georgi_Parvanov_0001.jpg vs Georgi_Parvanov_0002.jpg → Similarity: 0.668 → Match\n",
            "Geraldine_Chaplin: Geraldine_Chaplin_0001.jpg vs Geraldine_Chaplin_0002.jpg → Similarity: -0.031 → No Match\n",
            "Geraldine_Chaplin: Geraldine_Chaplin_0001.jpg vs Geraldine_Chaplin_0003.jpg → Similarity: 0.697 → Match\n",
            "Geraldine_Chaplin: Geraldine_Chaplin_0001.jpg vs Geraldine_Chaplin_0004.jpg → Similarity: 0.690 → Match\n",
            "Geraldine_Chaplin: Geraldine_Chaplin_0002.jpg vs Geraldine_Chaplin_0003.jpg → Similarity: 0.008 → No Match\n",
            "Geraldine_Chaplin: Geraldine_Chaplin_0002.jpg vs Geraldine_Chaplin_0004.jpg → Similarity: 0.021 → No Match\n"
          ]
        },
        {
          "output_type": "stream",
          "name": "stderr",
          "text": [
            "Evaluating:  32%|███▏      | 548/1711 [27:55<1:38:01,  5.06s/it]"
          ]
        },
        {
          "output_type": "stream",
          "name": "stdout",
          "text": [
            "Geraldine_Chaplin: Geraldine_Chaplin_0003.jpg vs Geraldine_Chaplin_0004.jpg → Similarity: 0.856 → Match\n"
          ]
        },
        {
          "output_type": "stream",
          "name": "stderr",
          "text": [
            "\rEvaluating:  32%|███▏      | 550/1711 [27:55<58:38,  3.03s/it]  "
          ]
        },
        {
          "output_type": "stream",
          "name": "stdout",
          "text": [
            "Gerhard_Schroeder: Gerhard_Schroeder_0001.jpg vs Gerhard_Schroeder_0002.jpg → Similarity: 0.768 → Match\n",
            "Gerhard_Schroeder: Gerhard_Schroeder_0001.jpg vs Gerhard_Schroeder_0003.jpg → Similarity: 0.636 → Match\n",
            "Gerhard_Schroeder: Gerhard_Schroeder_0001.jpg vs Gerhard_Schroeder_0004.jpg → Similarity: 0.764 → Match\n",
            "Gerhard_Schroeder: Gerhard_Schroeder_0001.jpg vs Gerhard_Schroeder_0005.jpg → Similarity: 0.733 → Match\n",
            "Gerhard_Schroeder: Gerhard_Schroeder_0002.jpg vs Gerhard_Schroeder_0003.jpg → Similarity: 0.651 → Match\n",
            "Gerhard_Schroeder: Gerhard_Schroeder_0002.jpg vs Gerhard_Schroeder_0004.jpg → Similarity: 0.749 → Match\n",
            "Gerhard_Schroeder: Gerhard_Schroeder_0002.jpg vs Gerhard_Schroeder_0005.jpg → Similarity: 0.733 → Match\n",
            "Gerhard_Schroeder: Gerhard_Schroeder_0003.jpg vs Gerhard_Schroeder_0004.jpg → Similarity: 0.699 → Match\n",
            "Gerhard_Schroeder: Gerhard_Schroeder_0003.jpg vs Gerhard_Schroeder_0005.jpg → Similarity: 0.660 → Match\n"
          ]
        },
        {
          "output_type": "stream",
          "name": "stderr",
          "text": [
            "\rEvaluating:  32%|███▏      | 551/1711 [28:20<2:36:59,  8.12s/it]"
          ]
        },
        {
          "output_type": "stream",
          "name": "stdout",
          "text": [
            "Gerhard_Schroeder: Gerhard_Schroeder_0004.jpg vs Gerhard_Schroeder_0005.jpg → Similarity: 0.761 → Match\n",
            "Gerry_Adams: Gerry_Adams_0001.jpg vs Gerry_Adams_0002.jpg → Similarity: 0.683 → Match\n",
            "Gerry_Adams: Gerry_Adams_0001.jpg vs Gerry_Adams_0003.jpg → Similarity: 0.690 → Match\n",
            "Gerry_Adams: Gerry_Adams_0001.jpg vs Gerry_Adams_0004.jpg → Similarity: 0.748 → Match\n",
            "Gerry_Adams: Gerry_Adams_0001.jpg vs Gerry_Adams_0005.jpg → Similarity: 0.703 → Match\n",
            "Gerry_Adams: Gerry_Adams_0002.jpg vs Gerry_Adams_0003.jpg → Similarity: 0.889 → Match\n",
            "Gerry_Adams: Gerry_Adams_0002.jpg vs Gerry_Adams_0004.jpg → Similarity: 0.743 → Match\n",
            "Gerry_Adams: Gerry_Adams_0002.jpg vs Gerry_Adams_0005.jpg → Similarity: 0.734 → Match\n",
            "Gerry_Adams: Gerry_Adams_0003.jpg vs Gerry_Adams_0004.jpg → Similarity: 0.727 → Match\n",
            "Gerry_Adams: Gerry_Adams_0003.jpg vs Gerry_Adams_0005.jpg → Similarity: 0.772 → Match\n"
          ]
        },
        {
          "output_type": "stream",
          "name": "stderr",
          "text": [
            "Evaluating:  32%|███▏      | 554/1711 [28:50<2:31:10,  7.84s/it]"
          ]
        },
        {
          "output_type": "stream",
          "name": "stdout",
          "text": [
            "Gerry_Adams: Gerry_Adams_0004.jpg vs Gerry_Adams_0005.jpg → Similarity: 0.826 → Match\n"
          ]
        },
        {
          "output_type": "stream",
          "name": "stderr",
          "text": [
            "\rEvaluating:  32%|███▏      | 556/1711 [28:50<1:35:44,  4.97s/it]"
          ]
        },
        {
          "output_type": "stream",
          "name": "stdout",
          "text": [
            "Gilberto_Rodriguez_Orejuela: Gilberto_Rodriguez_Orejuela_0001.jpg vs Gilberto_Rodriguez_Orejuela_0002.jpg → Similarity: 0.758 → Match\n",
            "Gilberto_Rodriguez_Orejuela: Gilberto_Rodriguez_Orejuela_0001.jpg vs Gilberto_Rodriguez_Orejuela_0003.jpg → Similarity: 0.711 → Match\n",
            "Gilberto_Rodriguez_Orejuela: Gilberto_Rodriguez_Orejuela_0001.jpg vs Gilberto_Rodriguez_Orejuela_0004.jpg → Similarity: 0.564 → No Match\n",
            "Gilberto_Rodriguez_Orejuela: Gilberto_Rodriguez_Orejuela_0002.jpg vs Gilberto_Rodriguez_Orejuela_0003.jpg → Similarity: 0.827 → Match\n"
          ]
        },
        {
          "output_type": "stream",
          "name": "stderr",
          "text": [
            "\rEvaluating:  32%|███▏      | 556/1711 [29:03<1:35:44,  4.97s/it]"
          ]
        },
        {
          "output_type": "stream",
          "name": "stdout",
          "text": [
            "Gilberto_Rodriguez_Orejuela: Gilberto_Rodriguez_Orejuela_0002.jpg vs Gilberto_Rodriguez_Orejuela_0004.jpg → Similarity: 0.658 → Match\n"
          ]
        },
        {
          "output_type": "stream",
          "name": "stderr",
          "text": [
            "\rEvaluating:  33%|███▎      | 558/1711 [29:07<1:59:49,  6.24s/it]"
          ]
        },
        {
          "output_type": "stream",
          "name": "stdout",
          "text": [
            "Gilberto_Rodriguez_Orejuela: Gilberto_Rodriguez_Orejuela_0003.jpg vs Gilberto_Rodriguez_Orejuela_0004.jpg → Similarity: 0.657 → Match\n",
            "Giuseppe_Gibilisco: Giuseppe_Gibilisco_0001.jpg vs Giuseppe_Gibilisco_0002.jpg → Similarity: 0.597 → No Match\n",
            "Giuseppe_Gibilisco: Giuseppe_Gibilisco_0001.jpg vs Giuseppe_Gibilisco_0003.jpg → Similarity: 0.650 → Match\n",
            "Giuseppe_Gibilisco: Giuseppe_Gibilisco_0001.jpg vs Giuseppe_Gibilisco_0004.jpg → Similarity: 0.607 → Match\n",
            "Giuseppe_Gibilisco: Giuseppe_Gibilisco_0002.jpg vs Giuseppe_Gibilisco_0003.jpg → Similarity: 0.710 → Match\n",
            "Giuseppe_Gibilisco: Giuseppe_Gibilisco_0002.jpg vs Giuseppe_Gibilisco_0004.jpg → Similarity: 0.744 → Match\n"
          ]
        },
        {
          "output_type": "stream",
          "name": "stderr",
          "text": [
            "\rEvaluating:  33%|███▎      | 560/1711 [29:22<2:07:57,  6.67s/it]"
          ]
        },
        {
          "output_type": "stream",
          "name": "stdout",
          "text": [
            "Giuseppe_Gibilisco: Giuseppe_Gibilisco_0003.jpg vs Giuseppe_Gibilisco_0004.jpg → Similarity: 0.691 → Match\n",
            "Glafcos_Clerides: Glafcos_Clerides_0001.jpg vs Glafcos_Clerides_0002.jpg → Similarity: 0.775 → Match\n",
            "Glafcos_Clerides: Glafcos_Clerides_0001.jpg vs Glafcos_Clerides_0003.jpg → Similarity: 0.757 → Match\n",
            "Glafcos_Clerides: Glafcos_Clerides_0001.jpg vs Glafcos_Clerides_0004.jpg → Similarity: 0.744 → Match\n",
            "Glafcos_Clerides: Glafcos_Clerides_0002.jpg vs Glafcos_Clerides_0003.jpg → Similarity: 0.848 → Match\n",
            "Glafcos_Clerides: Glafcos_Clerides_0002.jpg vs Glafcos_Clerides_0004.jpg → Similarity: 0.714 → Match\n"
          ]
        },
        {
          "output_type": "stream",
          "name": "stderr",
          "text": [
            "\rEvaluating:  33%|███▎      | 561/1711 [29:41<2:50:35,  8.90s/it]"
          ]
        },
        {
          "output_type": "stream",
          "name": "stdout",
          "text": [
            "Glafcos_Clerides: Glafcos_Clerides_0003.jpg vs Glafcos_Clerides_0004.jpg → Similarity: 0.760 → Match\n"
          ]
        },
        {
          "output_type": "stream",
          "name": "stderr",
          "text": [
            "Evaluating:  33%|███▎      | 565/1711 [29:41<1:14:09,  3.88s/it]"
          ]
        },
        {
          "output_type": "stream",
          "name": "stdout",
          "text": [
            "Gordon_Brown: Gordon_Brown_0001.jpg vs Gordon_Brown_0002.jpg → Similarity: 0.642 → Match\n",
            "Gordon_Brown: Gordon_Brown_0001.jpg vs Gordon_Brown_0003.jpg → Similarity: 0.669 → Match\n",
            "Gordon_Brown: Gordon_Brown_0001.jpg vs Gordon_Brown_0004.jpg → Similarity: 0.627 → Match\n",
            "Gordon_Brown: Gordon_Brown_0001.jpg vs Gordon_Brown_0005.jpg → Similarity: 0.737 → Match\n"
          ]
        },
        {
          "output_type": "stream",
          "name": "stderr",
          "text": [
            "\rEvaluating:  33%|███▎      | 565/1711 [29:53<1:14:09,  3.88s/it]"
          ]
        },
        {
          "output_type": "stream",
          "name": "stdout",
          "text": [
            "Gordon_Brown: Gordon_Brown_0002.jpg vs Gordon_Brown_0003.jpg → Similarity: 0.655 → Match\n",
            "Gordon_Brown: Gordon_Brown_0002.jpg vs Gordon_Brown_0004.jpg → Similarity: 0.641 → Match\n",
            "Gordon_Brown: Gordon_Brown_0002.jpg vs Gordon_Brown_0005.jpg → Similarity: 0.668 → Match\n",
            "Gordon_Brown: Gordon_Brown_0003.jpg vs Gordon_Brown_0004.jpg → Similarity: 0.733 → Match\n",
            "Gordon_Brown: Gordon_Brown_0003.jpg vs Gordon_Brown_0005.jpg → Similarity: 0.640 → Match\n"
          ]
        },
        {
          "output_type": "stream",
          "name": "stderr",
          "text": [
            "\rEvaluating:  33%|███▎      | 567/1711 [30:06<2:06:19,  6.63s/it]"
          ]
        },
        {
          "output_type": "stream",
          "name": "stdout",
          "text": [
            "Gordon_Brown: Gordon_Brown_0004.jpg vs Gordon_Brown_0005.jpg → Similarity: 0.548 → No Match\n"
          ]
        },
        {
          "output_type": "stream",
          "name": "stderr",
          "text": [
            "Evaluating:  33%|███▎      | 570/1711 [30:08<1:13:02,  3.84s/it]"
          ]
        },
        {
          "output_type": "stream",
          "name": "stdout",
          "text": [
            "Gordon_Campbell: Gordon_Campbell_0001.jpg vs Gordon_Campbell_0002.jpg → Similarity: 0.634 → Match\n",
            "Gray_Davis: Gray_Davis_0001.jpg vs Gray_Davis_0002.jpg → Similarity: 0.725 → Match\n",
            "Gray_Davis: Gray_Davis_0001.jpg vs Gray_Davis_0003.jpg → Similarity: 0.643 → Match\n",
            "Gray_Davis: Gray_Davis_0001.jpg vs Gray_Davis_0004.jpg → Similarity: 0.707 → Match\n",
            "Gray_Davis: Gray_Davis_0001.jpg vs Gray_Davis_0005.jpg → Similarity: 0.604 → Match\n",
            "Gray_Davis: Gray_Davis_0002.jpg vs Gray_Davis_0003.jpg → Similarity: 0.670 → Match\n",
            "Gray_Davis: Gray_Davis_0002.jpg vs Gray_Davis_0004.jpg → Similarity: 0.704 → Match\n",
            "Gray_Davis: Gray_Davis_0002.jpg vs Gray_Davis_0005.jpg → Similarity: 0.608 → Match\n",
            "Gray_Davis: Gray_Davis_0003.jpg vs Gray_Davis_0004.jpg → Similarity: 0.629 → Match\n",
            "Gray_Davis: Gray_Davis_0003.jpg vs Gray_Davis_0005.jpg → Similarity: 0.548 → No Match\n"
          ]
        },
        {
          "output_type": "stream",
          "name": "stderr",
          "text": [
            "\rEvaluating:  33%|███▎      | 571/1711 [30:33<2:29:57,  7.89s/it]"
          ]
        },
        {
          "output_type": "stream",
          "name": "stdout",
          "text": [
            "Gray_Davis: Gray_Davis_0004.jpg vs Gray_Davis_0005.jpg → Similarity: 0.572 → No Match\n"
          ]
        },
        {
          "output_type": "stream",
          "name": "stderr",
          "text": [
            "Evaluating:  33%|███▎      | 573/1711 [30:35<1:37:57,  5.17s/it]"
          ]
        },
        {
          "output_type": "stream",
          "name": "stdout",
          "text": [
            "Greg_Gilbert: Greg_Gilbert_0001.jpg vs Greg_Gilbert_0002.jpg → Similarity: 0.717 → Match\n"
          ]
        },
        {
          "output_type": "stream",
          "name": "stderr",
          "text": [
            "\rEvaluating:  34%|███▎      | 575/1711 [30:39<1:13:25,  3.88s/it]"
          ]
        },
        {
          "output_type": "stream",
          "name": "stdout",
          "text": [
            "Greg_Ostertag: Greg_Ostertag_0001.jpg vs Greg_Ostertag_0002.jpg → Similarity: 0.048 → No Match\n"
          ]
        },
        {
          "output_type": "stream",
          "name": "stderr",
          "text": [
            "\rEvaluating:  34%|███▎      | 577/1711 [30:42<55:49,  2.95s/it]  "
          ]
        },
        {
          "output_type": "stream",
          "name": "stdout",
          "text": [
            "Gregory_Geoffroy: Gregory_Geoffroy_0001.jpg vs Gregory_Geoffroy_0002.jpg → Similarity: 0.786 → Match\n"
          ]
        },
        {
          "output_type": "stream",
          "name": "stderr",
          "text": [
            "Evaluating:  34%|███▍      | 579/1711 [30:46<46:33,  2.47s/it]"
          ]
        },
        {
          "output_type": "stream",
          "name": "stdout",
          "text": [
            "Gregory_Hines: Gregory_Hines_0001.jpg vs Gregory_Hines_0002.jpg → Similarity: 0.740 → Match\n"
          ]
        },
        {
          "output_type": "stream",
          "name": "stderr",
          "text": [
            "Evaluating:  34%|███▍      | 585/1711 [30:47<13:13,  1.42it/s]"
          ]
        },
        {
          "output_type": "stream",
          "name": "stdout",
          "text": [
            "Gus_Van_Sant: Gus_Van_Sant_0001.jpg vs Gus_Van_Sant_0002.jpg → Similarity: 0.773 → Match\n",
            "Gus_Van_Sant: Gus_Van_Sant_0001.jpg vs Gus_Van_Sant_0003.jpg → Similarity: 0.803 → Match\n"
          ]
        },
        {
          "output_type": "stream",
          "name": "stderr",
          "text": [
            "Evaluating:  34%|███▍      | 588/1711 [30:54<23:38,  1.26s/it]"
          ]
        },
        {
          "output_type": "stream",
          "name": "stdout",
          "text": [
            "Gus_Van_Sant: Gus_Van_Sant_0002.jpg vs Gus_Van_Sant_0003.jpg → Similarity: 0.774 → Match\n",
            "Gwendal_Peizerat: Gwendal_Peizerat_0001.jpg vs Gwendal_Peizerat_0002.jpg → Similarity: 0.721 → Match\n",
            "Gwendal_Peizerat: Gwendal_Peizerat_0001.jpg vs Gwendal_Peizerat_0003.jpg → Similarity: 0.511 → No Match\n"
          ]
        },
        {
          "output_type": "stream",
          "name": "stderr",
          "text": [
            "\rEvaluating:  34%|███▍      | 589/1711 [31:04<55:28,  2.97s/it]"
          ]
        },
        {
          "output_type": "stream",
          "name": "stdout",
          "text": [
            "Gwendal_Peizerat: Gwendal_Peizerat_0002.jpg vs Gwendal_Peizerat_0003.jpg → Similarity: 0.544 → No Match\n",
            "Gwyneth_Paltrow: Gwyneth_Paltrow_0001.jpg vs Gwyneth_Paltrow_0002.jpg → Similarity: 0.523 → No Match\n",
            "Gwyneth_Paltrow: Gwyneth_Paltrow_0001.jpg vs Gwyneth_Paltrow_0003.jpg → Similarity: 0.525 → No Match\n",
            "Gwyneth_Paltrow: Gwyneth_Paltrow_0001.jpg vs Gwyneth_Paltrow_0004.jpg → Similarity: 0.600 → Match\n",
            "Gwyneth_Paltrow: Gwyneth_Paltrow_0001.jpg vs Gwyneth_Paltrow_0005.jpg → Similarity: 0.632 → Match\n",
            "Gwyneth_Paltrow: Gwyneth_Paltrow_0002.jpg vs Gwyneth_Paltrow_0003.jpg → Similarity: 0.667 → Match\n",
            "Gwyneth_Paltrow: Gwyneth_Paltrow_0002.jpg vs Gwyneth_Paltrow_0004.jpg → Similarity: 0.612 → Match\n",
            "Gwyneth_Paltrow: Gwyneth_Paltrow_0002.jpg vs Gwyneth_Paltrow_0005.jpg → Similarity: 0.564 → No Match\n",
            "Gwyneth_Paltrow: Gwyneth_Paltrow_0003.jpg vs Gwyneth_Paltrow_0004.jpg → Similarity: 0.701 → Match\n",
            "Gwyneth_Paltrow: Gwyneth_Paltrow_0003.jpg vs Gwyneth_Paltrow_0005.jpg → Similarity: 0.593 → No Match\n"
          ]
        },
        {
          "output_type": "stream",
          "name": "stderr",
          "text": [
            "Evaluating:  35%|███▍      | 592/1711 [31:37<1:52:46,  6.05s/it]"
          ]
        },
        {
          "output_type": "stream",
          "name": "stdout",
          "text": [
            "Gwyneth_Paltrow: Gwyneth_Paltrow_0004.jpg vs Gwyneth_Paltrow_0005.jpg → Similarity: 0.663 → Match\n"
          ]
        },
        {
          "output_type": "stream",
          "name": "stderr",
          "text": [
            "Evaluating:  35%|███▌      | 604/1711 [31:41<19:29,  1.06s/it]"
          ]
        },
        {
          "output_type": "stream",
          "name": "stdout",
          "text": [
            "Harry_Kalas: Harry_Kalas_0001.jpg vs Harry_Kalas_0002.jpg → Similarity: 0.575 → No Match\n"
          ]
        },
        {
          "output_type": "stream",
          "name": "stderr",
          "text": [
            "Evaluating:  36%|███▌      | 608/1711 [31:45<20:42,  1.13s/it]"
          ]
        },
        {
          "output_type": "stream",
          "name": "stdout",
          "text": [
            "Hassan_Wirajuda: Hassan_Wirajuda_0001.jpg vs Hassan_Wirajuda_0002.jpg → Similarity: 0.663 → Match\n"
          ]
        },
        {
          "output_type": "stream",
          "name": "stderr",
          "text": [
            "\rEvaluating:  36%|███▌      | 609/1711 [31:48<25:56,  1.41s/it]"
          ]
        },
        {
          "output_type": "stream",
          "name": "stdout",
          "text": [
            "Hayley_Tullett: Hayley_Tullett_0001.jpg vs Hayley_Tullett_0002.jpg → Similarity: 0.505 → No Match\n",
            "Heather_Mills: Heather_Mills_0001.jpg vs Heather_Mills_0002.jpg → Similarity: 0.064 → No Match\n",
            "Heather_Mills: Heather_Mills_0001.jpg vs Heather_Mills_0003.jpg → Similarity: 0.755 → Match\n",
            "Heather_Mills: Heather_Mills_0001.jpg vs Heather_Mills_0004.jpg → Similarity: 0.722 → Match\n",
            "Heather_Mills: Heather_Mills_0002.jpg vs Heather_Mills_0003.jpg → Similarity: -0.012 → No Match\n",
            "Heather_Mills: Heather_Mills_0002.jpg vs Heather_Mills_0004.jpg → Similarity: 0.098 → No Match\n"
          ]
        },
        {
          "output_type": "stream",
          "name": "stderr",
          "text": [
            "\rEvaluating:  36%|███▌      | 610/1711 [32:04<1:21:58,  4.47s/it]"
          ]
        },
        {
          "output_type": "stream",
          "name": "stdout",
          "text": [
            "Heather_Mills: Heather_Mills_0003.jpg vs Heather_Mills_0004.jpg → Similarity: 0.753 → Match\n",
            "Heidi_Fleiss: Heidi_Fleiss_0001.jpg vs Heidi_Fleiss_0002.jpg → Similarity: 0.380 → No Match\n",
            "Heidi_Fleiss: Heidi_Fleiss_0001.jpg vs Heidi_Fleiss_0003.jpg → Similarity: 0.520 → No Match\n",
            "Heidi_Fleiss: Heidi_Fleiss_0001.jpg vs Heidi_Fleiss_0004.jpg → Similarity: 0.466 → No Match\n",
            "Heidi_Fleiss: Heidi_Fleiss_0002.jpg vs Heidi_Fleiss_0003.jpg → Similarity: 0.445 → No Match\n",
            "Heidi_Fleiss: Heidi_Fleiss_0002.jpg vs Heidi_Fleiss_0004.jpg → Similarity: 0.344 → No Match\n"
          ]
        },
        {
          "output_type": "stream",
          "name": "stderr",
          "text": [
            "Evaluating:  36%|███▌      | 613/1711 [32:19<1:15:34,  4.13s/it]"
          ]
        },
        {
          "output_type": "stream",
          "name": "stdout",
          "text": [
            "Heidi_Fleiss: Heidi_Fleiss_0003.jpg vs Heidi_Fleiss_0004.jpg → Similarity: 0.449 → No Match\n"
          ]
        },
        {
          "output_type": "stream",
          "name": "stderr",
          "text": [
            "Evaluating:  36%|███▋      | 621/1711 [32:23<21:55,  1.21s/it]"
          ]
        },
        {
          "output_type": "stream",
          "name": "stdout",
          "text": [
            "Hermann_Maier: Hermann_Maier_0001.jpg vs Hermann_Maier_0002.jpg → Similarity: 0.599 → No Match\n"
          ]
        },
        {
          "output_type": "stream",
          "name": "stderr",
          "text": [
            "Evaluating:  37%|███▋      | 625/1711 [32:23<11:11,  1.62it/s]"
          ]
        },
        {
          "output_type": "stream",
          "name": "stdout",
          "text": [
            "Horst_Koehler: Horst_Koehler_0001.jpg vs Horst_Koehler_0002.jpg → Similarity: 0.654 → Match\n",
            "Horst_Koehler: Horst_Koehler_0001.jpg vs Horst_Koehler_0003.jpg → Similarity: 0.584 → No Match\n"
          ]
        },
        {
          "output_type": "stream",
          "name": "stderr",
          "text": [
            "\rEvaluating:  37%|███▋      | 627/1711 [32:31<30:05,  1.67s/it]"
          ]
        },
        {
          "output_type": "stream",
          "name": "stdout",
          "text": [
            "Horst_Koehler: Horst_Koehler_0002.jpg vs Horst_Koehler_0003.jpg → Similarity: 0.562 → No Match\n"
          ]
        },
        {
          "output_type": "stream",
          "name": "stderr",
          "text": [
            "Evaluating:  37%|███▋      | 631/1711 [32:34<20:19,  1.13s/it]"
          ]
        },
        {
          "output_type": "stream",
          "name": "stdout",
          "text": [
            "Howard_Smith: Howard_Smith_0001.jpg vs Howard_Smith_0002.jpg → Similarity: 0.582 → No Match\n"
          ]
        },
        {
          "output_type": "stream",
          "name": "stderr",
          "text": [
            "Evaluating:  37%|███▋      | 637/1711 [32:35<07:48,  2.29it/s]"
          ]
        },
        {
          "output_type": "stream",
          "name": "stdout",
          "text": [
            "Ian_Thorpe: Ian_Thorpe_0001.jpg vs Ian_Thorpe_0002.jpg → Similarity: 0.552 → No Match\n",
            "Ian_Thorpe: Ian_Thorpe_0001.jpg vs Ian_Thorpe_0003.jpg → Similarity: 0.721 → Match\n",
            "Ian_Thorpe: Ian_Thorpe_0001.jpg vs Ian_Thorpe_0004.jpg → Similarity: 0.661 → Match\n",
            "Ian_Thorpe: Ian_Thorpe_0001.jpg vs Ian_Thorpe_0005.jpg → Similarity: 0.683 → Match\n",
            "Ian_Thorpe: Ian_Thorpe_0002.jpg vs Ian_Thorpe_0003.jpg → Similarity: 0.542 → No Match\n",
            "Ian_Thorpe: Ian_Thorpe_0002.jpg vs Ian_Thorpe_0004.jpg → Similarity: 0.522 → No Match\n",
            "Ian_Thorpe: Ian_Thorpe_0002.jpg vs Ian_Thorpe_0005.jpg → Similarity: 0.561 → No Match\n"
          ]
        },
        {
          "output_type": "stream",
          "name": "stderr",
          "text": [
            "\rEvaluating:  37%|███▋      | 637/1711 [32:53<07:48,  2.29it/s]"
          ]
        },
        {
          "output_type": "stream",
          "name": "stdout",
          "text": [
            "Ian_Thorpe: Ian_Thorpe_0003.jpg vs Ian_Thorpe_0004.jpg → Similarity: 0.788 → Match\n",
            "Ian_Thorpe: Ian_Thorpe_0003.jpg vs Ian_Thorpe_0005.jpg → Similarity: 0.865 → Match\n"
          ]
        },
        {
          "output_type": "stream",
          "name": "stderr",
          "text": [
            "\rEvaluating:  37%|███▋      | 638/1711 [32:59<1:24:44,  4.74s/it]"
          ]
        },
        {
          "output_type": "stream",
          "name": "stdout",
          "text": [
            "Ian_Thorpe: Ian_Thorpe_0004.jpg vs Ian_Thorpe_0005.jpg → Similarity: 0.816 → Match\n"
          ]
        },
        {
          "output_type": "stream",
          "name": "stderr",
          "text": [
            "Evaluating:  37%|███▋      | 641/1711 [33:02<49:11,  2.76s/it]  "
          ]
        },
        {
          "output_type": "stream",
          "name": "stdout",
          "text": [
            "Iban_Mayo: Iban_Mayo_0001.jpg vs Iban_Mayo_0002.jpg → Similarity: 0.574 → No Match\n"
          ]
        },
        {
          "output_type": "stream",
          "name": "stderr",
          "text": [
            "Evaluating:  38%|███▊      | 647/1711 [33:05<20:34,  1.16s/it]"
          ]
        },
        {
          "output_type": "stream",
          "name": "stdout",
          "text": [
            "Imad_Moustapha: Imad_Moustapha_0001.jpg vs Imad_Moustapha_0002.jpg → Similarity: 0.858 → Match\n"
          ]
        },
        {
          "output_type": "stream",
          "name": "stderr",
          "text": [
            "\rEvaluating:  38%|███▊      | 649/1711 [33:05<14:31,  1.22it/s]"
          ]
        },
        {
          "output_type": "stream",
          "name": "stdout",
          "text": [
            "Isabella_Rossellini: Isabella_Rossellini_0001.jpg vs Isabella_Rossellini_0002.jpg → Similarity: 0.607 → Match\n",
            "Isabella_Rossellini: Isabella_Rossellini_0001.jpg vs Isabella_Rossellini_0003.jpg → Similarity: 0.633 → Match\n"
          ]
        },
        {
          "output_type": "stream",
          "name": "stderr",
          "text": [
            "\rEvaluating:  38%|███▊      | 651/1711 [33:15<35:33,  2.01s/it]"
          ]
        },
        {
          "output_type": "stream",
          "name": "stdout",
          "text": [
            "Isabella_Rossellini: Isabella_Rossellini_0002.jpg vs Isabella_Rossellini_0003.jpg → Similarity: 0.817 → Match\n"
          ]
        },
        {
          "output_type": "stream",
          "name": "stderr",
          "text": [
            "\rEvaluating:  38%|███▊      | 652/1711 [33:17<37:24,  2.12s/it]"
          ]
        },
        {
          "output_type": "stream",
          "name": "stdout",
          "text": [
            "Isabelle_Huppert: Isabelle_Huppert_0001.jpg vs Isabelle_Huppert_0002.jpg → Similarity: 0.547 → No Match\n"
          ]
        },
        {
          "output_type": "stream",
          "name": "stderr",
          "text": [
            "Evaluating:  38%|███▊      | 654/1711 [33:21<32:25,  1.84s/it]"
          ]
        },
        {
          "output_type": "stream",
          "name": "stdout",
          "text": [
            "Isaiah_Washington: Isaiah_Washington_0001.jpg vs Isaiah_Washington_0002.jpg → Similarity: 0.495 → No Match\n"
          ]
        },
        {
          "output_type": "stream",
          "name": "stderr",
          "text": [
            "Evaluating:  38%|███▊      | 658/1711 [33:24<23:50,  1.36s/it]"
          ]
        },
        {
          "output_type": "stream",
          "name": "stdout",
          "text": [
            "Ismail_Merchant: Ismail_Merchant_0001.jpg vs Ismail_Merchant_0002.jpg → Similarity: 0.719 → Match\n"
          ]
        },
        {
          "output_type": "stream",
          "name": "stderr",
          "text": [
            "Evaluating:  39%|███▊      | 662/1711 [33:27<16:15,  1.08it/s]"
          ]
        },
        {
          "output_type": "stream",
          "name": "stdout",
          "text": [
            "Iva_Majoli: Iva_Majoli_0001.jpg vs Iva_Majoli_0002.jpg → Similarity: 0.690 → Match\n"
          ]
        },
        {
          "output_type": "stream",
          "name": "stderr",
          "text": [
            "Evaluating:  39%|███▉      | 665/1711 [33:30<19:39,  1.13s/it]"
          ]
        },
        {
          "output_type": "stream",
          "name": "stdout",
          "text": [
            "Jack_Grubman: Jack_Grubman_0001.jpg vs Jack_Grubman_0002.jpg → Similarity: 0.850 → Match\n",
            "Jack_Nicholson: Jack_Nicholson_0001.jpg vs Jack_Nicholson_0002.jpg → Similarity: 0.589 → No Match\n",
            "Jack_Nicholson: Jack_Nicholson_0001.jpg vs Jack_Nicholson_0003.jpg → Similarity: 0.511 → No Match\n"
          ]
        },
        {
          "output_type": "stream",
          "name": "stderr",
          "text": [
            "\rEvaluating:  39%|███▉      | 666/1711 [33:40<49:40,  2.85s/it]"
          ]
        },
        {
          "output_type": "stream",
          "name": "stdout",
          "text": [
            "Jack_Nicholson: Jack_Nicholson_0002.jpg vs Jack_Nicholson_0003.jpg → Similarity: 0.557 → No Match\n",
            "Jacques_Chirac: Jacques_Chirac_0001.jpg vs Jacques_Chirac_0002.jpg → Similarity: 0.768 → Match\n",
            "Jacques_Chirac: Jacques_Chirac_0001.jpg vs Jacques_Chirac_0003.jpg → Similarity: 0.667 → Match\n",
            "Jacques_Chirac: Jacques_Chirac_0001.jpg vs Jacques_Chirac_0004.jpg → Similarity: 0.732 → Match\n",
            "Jacques_Chirac: Jacques_Chirac_0001.jpg vs Jacques_Chirac_0005.jpg → Similarity: 0.770 → Match\n",
            "Jacques_Chirac: Jacques_Chirac_0002.jpg vs Jacques_Chirac_0003.jpg → Similarity: 0.675 → Match\n",
            "Jacques_Chirac: Jacques_Chirac_0002.jpg vs Jacques_Chirac_0004.jpg → Similarity: 0.788 → Match\n",
            "Jacques_Chirac: Jacques_Chirac_0002.jpg vs Jacques_Chirac_0005.jpg → Similarity: 0.845 → Match\n",
            "Jacques_Chirac: Jacques_Chirac_0003.jpg vs Jacques_Chirac_0004.jpg → Similarity: 0.646 → Match\n",
            "Jacques_Chirac: Jacques_Chirac_0003.jpg vs Jacques_Chirac_0005.jpg → Similarity: 0.671 → Match\n"
          ]
        },
        {
          "output_type": "stream",
          "name": "stderr",
          "text": [
            "\rEvaluating:  39%|███▉      | 668/1711 [34:03<1:47:58,  6.21s/it]"
          ]
        },
        {
          "output_type": "stream",
          "name": "stdout",
          "text": [
            "Jacques_Chirac: Jacques_Chirac_0004.jpg vs Jacques_Chirac_0005.jpg → Similarity: 0.833 → Match\n",
            "Jacques_Rogge: Jacques_Rogge_0001.jpg vs Jacques_Rogge_0002.jpg → Similarity: 0.771 → Match\n",
            "Jacques_Rogge: Jacques_Rogge_0001.jpg vs Jacques_Rogge_0003.jpg → Similarity: 0.786 → Match\n",
            "Jacques_Rogge: Jacques_Rogge_0001.jpg vs Jacques_Rogge_0004.jpg → Similarity: 0.801 → Match\n",
            "Jacques_Rogge: Jacques_Rogge_0001.jpg vs Jacques_Rogge_0005.jpg → Similarity: 0.733 → Match\n",
            "Jacques_Rogge: Jacques_Rogge_0002.jpg vs Jacques_Rogge_0003.jpg → Similarity: 0.778 → Match\n",
            "Jacques_Rogge: Jacques_Rogge_0002.jpg vs Jacques_Rogge_0004.jpg → Similarity: 0.774 → Match\n",
            "Jacques_Rogge: Jacques_Rogge_0002.jpg vs Jacques_Rogge_0005.jpg → Similarity: 0.765 → Match\n",
            "Jacques_Rogge: Jacques_Rogge_0003.jpg vs Jacques_Rogge_0004.jpg → Similarity: 0.759 → Match\n",
            "Jacques_Rogge: Jacques_Rogge_0003.jpg vs Jacques_Rogge_0005.jpg → Similarity: 0.817 → Match\n"
          ]
        },
        {
          "output_type": "stream",
          "name": "stderr",
          "text": [
            "\rEvaluating:  39%|███▉      | 669/1711 [34:30<3:01:06, 10.43s/it]"
          ]
        },
        {
          "output_type": "stream",
          "name": "stdout",
          "text": [
            "Jacques_Rogge: Jacques_Rogge_0004.jpg vs Jacques_Rogge_0005.jpg → Similarity: 0.746 → Match\n",
            "Jake_Gyllenhaal: Jake_Gyllenhaal_0001.jpg vs Jake_Gyllenhaal_0002.jpg → Similarity: 0.632 → Match\n",
            "Jake_Gyllenhaal: Jake_Gyllenhaal_0001.jpg vs Jake_Gyllenhaal_0003.jpg → Similarity: 0.809 → Match\n",
            "Jake_Gyllenhaal: Jake_Gyllenhaal_0001.jpg vs Jake_Gyllenhaal_0004.jpg → Similarity: 0.676 → Match\n",
            "Jake_Gyllenhaal: Jake_Gyllenhaal_0001.jpg vs Jake_Gyllenhaal_0005.jpg → Similarity: 0.797 → Match\n",
            "Jake_Gyllenhaal: Jake_Gyllenhaal_0002.jpg vs Jake_Gyllenhaal_0003.jpg → Similarity: 0.627 → Match\n",
            "Jake_Gyllenhaal: Jake_Gyllenhaal_0002.jpg vs Jake_Gyllenhaal_0004.jpg → Similarity: 0.631 → Match\n",
            "Jake_Gyllenhaal: Jake_Gyllenhaal_0002.jpg vs Jake_Gyllenhaal_0005.jpg → Similarity: 0.604 → Match\n",
            "Jake_Gyllenhaal: Jake_Gyllenhaal_0003.jpg vs Jake_Gyllenhaal_0004.jpg → Similarity: 0.744 → Match\n",
            "Jake_Gyllenhaal: Jake_Gyllenhaal_0003.jpg vs Jake_Gyllenhaal_0005.jpg → Similarity: 0.827 → Match\n"
          ]
        },
        {
          "output_type": "stream",
          "name": "stderr",
          "text": [
            "Evaluating:  39%|███▉      | 672/1711 [34:54<2:23:36,  8.29s/it]"
          ]
        },
        {
          "output_type": "stream",
          "name": "stdout",
          "text": [
            "Jake_Gyllenhaal: Jake_Gyllenhaal_0004.jpg vs Jake_Gyllenhaal_0005.jpg → Similarity: 0.790 → Match\n"
          ]
        },
        {
          "output_type": "stream",
          "name": "stderr",
          "text": [
            "Evaluating:  39%|███▉      | 675/1711 [34:58<1:23:58,  4.86s/it]"
          ]
        },
        {
          "output_type": "stream",
          "name": "stdout",
          "text": [
            "James_Butts: James_Butts_0001.jpg vs James_Butts_0002.jpg → Similarity: 0.786 → Match\n",
            "James_Cameron: James_Cameron_0001.jpg vs James_Cameron_0002.jpg → Similarity: 0.759 → Match\n",
            "James_Cameron: James_Cameron_0001.jpg vs James_Cameron_0003.jpg → Similarity: 0.623 → Match\n"
          ]
        },
        {
          "output_type": "stream",
          "name": "stderr",
          "text": [
            "Evaluating:  40%|███▉      | 678/1711 [35:08<1:04:29,  3.75s/it]"
          ]
        },
        {
          "output_type": "stream",
          "name": "stdout",
          "text": [
            "James_Cameron: James_Cameron_0002.jpg vs James_Cameron_0003.jpg → Similarity: 0.580 → No Match\n"
          ]
        },
        {
          "output_type": "stream",
          "name": "stderr",
          "text": [
            "\rEvaluating:  40%|███▉      | 679/1711 [35:12<1:04:05,  3.73s/it]"
          ]
        },
        {
          "output_type": "stream",
          "name": "stdout",
          "text": [
            "James_Franco: James_Franco_0001.jpg vs James_Franco_0002.jpg → Similarity: 0.623 → Match\n"
          ]
        },
        {
          "output_type": "stream",
          "name": "stderr",
          "text": [
            "\rEvaluating:  40%|███▉      | 681/1711 [35:17<57:15,  3.34s/it]  "
          ]
        },
        {
          "output_type": "stream",
          "name": "stdout",
          "text": [
            "James_Ivory: James_Ivory_0001.jpg vs James_Ivory_0002.jpg → Similarity: 0.803 → Match\n",
            "James_Kelly: James_Kelly_0001.jpg vs James_Kelly_0002.jpg → Similarity: 0.589 → No Match\n",
            "James_Kelly: James_Kelly_0001.jpg vs James_Kelly_0003.jpg → Similarity: 0.668 → Match\n",
            "James_Kelly: James_Kelly_0001.jpg vs James_Kelly_0004.jpg → Similarity: 0.661 → Match\n",
            "James_Kelly: James_Kelly_0001.jpg vs James_Kelly_0005.jpg → Similarity: 0.717 → Match\n",
            "James_Kelly: James_Kelly_0002.jpg vs James_Kelly_0003.jpg → Similarity: 0.582 → No Match\n",
            "James_Kelly: James_Kelly_0002.jpg vs James_Kelly_0004.jpg → Similarity: 0.583 → No Match\n",
            "James_Kelly: James_Kelly_0002.jpg vs James_Kelly_0005.jpg → Similarity: 0.566 → No Match\n",
            "James_Kelly: James_Kelly_0003.jpg vs James_Kelly_0004.jpg → Similarity: 0.773 → Match\n",
            "James_Kelly: James_Kelly_0003.jpg vs James_Kelly_0005.jpg → Similarity: 0.663 → Match\n"
          ]
        },
        {
          "output_type": "stream",
          "name": "stderr",
          "text": [
            "\rEvaluating:  40%|███▉      | 682/1711 [35:41<2:10:41,  7.62s/it]"
          ]
        },
        {
          "output_type": "stream",
          "name": "stdout",
          "text": [
            "James_Kelly: James_Kelly_0004.jpg vs James_Kelly_0005.jpg → Similarity: 0.672 → Match\n",
            "James_Kopp: James_Kopp_0001.jpg vs James_Kopp_0002.jpg → Similarity: 0.600 → Match\n",
            "James_Kopp: James_Kopp_0001.jpg vs James_Kopp_0003.jpg → Similarity: 0.746 → Match\n",
            "James_Kopp: James_Kopp_0001.jpg vs James_Kopp_0004.jpg → Similarity: 0.610 → Match\n",
            "James_Kopp: James_Kopp_0002.jpg vs James_Kopp_0003.jpg → Similarity: 0.574 → No Match\n",
            "James_Kopp: James_Kopp_0002.jpg vs James_Kopp_0004.jpg → Similarity: 0.699 → Match\n"
          ]
        },
        {
          "output_type": "stream",
          "name": "stderr",
          "text": [
            "\rEvaluating:  40%|███▉      | 684/1711 [35:55<2:09:34,  7.57s/it]"
          ]
        },
        {
          "output_type": "stream",
          "name": "stdout",
          "text": [
            "James_Kopp: James_Kopp_0003.jpg vs James_Kopp_0004.jpg → Similarity: 0.624 → Match\n"
          ]
        },
        {
          "output_type": "stream",
          "name": "stderr",
          "text": [
            "\rEvaluating:  40%|████      | 686/1711 [35:59<1:33:35,  5.48s/it]"
          ]
        },
        {
          "output_type": "stream",
          "name": "stdout",
          "text": [
            "James_Maguire: James_Maguire_0001.jpg vs James_Maguire_0002.jpg → Similarity: 0.764 → Match\n",
            "James_McGreevey: James_McGreevey_0001.jpg vs James_McGreevey_0002.jpg → Similarity: 0.552 → No Match\n",
            "James_McGreevey: James_McGreevey_0001.jpg vs James_McGreevey_0003.jpg → Similarity: 0.706 → Match\n",
            "James_McGreevey: James_McGreevey_0001.jpg vs James_McGreevey_0004.jpg → Similarity: 0.734 → Match\n",
            "James_McGreevey: James_McGreevey_0002.jpg vs James_McGreevey_0003.jpg → Similarity: 0.541 → No Match\n",
            "James_McGreevey: James_McGreevey_0002.jpg vs James_McGreevey_0004.jpg → Similarity: 0.526 → No Match\n"
          ]
        },
        {
          "output_type": "stream",
          "name": "stderr",
          "text": [
            "\rEvaluating:  40%|████      | 688/1711 [36:14<1:44:40,  6.14s/it]"
          ]
        },
        {
          "output_type": "stream",
          "name": "stdout",
          "text": [
            "James_McGreevey: James_McGreevey_0003.jpg vs James_McGreevey_0004.jpg → Similarity: 0.656 → Match\n"
          ]
        },
        {
          "output_type": "stream",
          "name": "stderr",
          "text": [
            "Evaluating:  40%|████      | 691/1711 [36:17<1:05:28,  3.85s/it]"
          ]
        },
        {
          "output_type": "stream",
          "name": "stdout",
          "text": [
            "James_Smith: James_Smith_0001.jpg vs James_Smith_0002.jpg → Similarity: 0.776 → Match\n"
          ]
        },
        {
          "output_type": "stream",
          "name": "stderr",
          "text": [
            "Evaluating:  41%|████      | 695/1711 [36:21<35:02,  2.07s/it]"
          ]
        },
        {
          "output_type": "stream",
          "name": "stdout",
          "text": [
            "Jamling_Norgay: Jamling_Norgay_0001.jpg vs Jamling_Norgay_0002.jpg → Similarity: 0.772 → Match\n",
            "Jan_Ullrich: Jan_Ullrich_0001.jpg vs Jan_Ullrich_0002.jpg → Similarity: 0.535 → No Match\n",
            "Jan_Ullrich: Jan_Ullrich_0001.jpg vs Jan_Ullrich_0003.jpg → Similarity: 0.545 → No Match\n",
            "Jan_Ullrich: Jan_Ullrich_0001.jpg vs Jan_Ullrich_0004.jpg → Similarity: 0.614 → Match\n",
            "Jan_Ullrich: Jan_Ullrich_0001.jpg vs Jan_Ullrich_0005.jpg → Similarity: 0.476 → No Match\n",
            "Jan_Ullrich: Jan_Ullrich_0002.jpg vs Jan_Ullrich_0003.jpg → Similarity: 0.883 → Match\n",
            "Jan_Ullrich: Jan_Ullrich_0002.jpg vs Jan_Ullrich_0004.jpg → Similarity: 0.773 → Match\n",
            "Jan_Ullrich: Jan_Ullrich_0002.jpg vs Jan_Ullrich_0005.jpg → Similarity: 0.640 → Match\n",
            "Jan_Ullrich: Jan_Ullrich_0003.jpg vs Jan_Ullrich_0004.jpg → Similarity: 0.802 → Match\n",
            "Jan_Ullrich: Jan_Ullrich_0003.jpg vs Jan_Ullrich_0005.jpg → Similarity: 0.661 → Match\n"
          ]
        },
        {
          "output_type": "stream",
          "name": "stderr",
          "text": [
            "Evaluating:  41%|████      | 698/1711 [36:47<1:20:24,  4.76s/it]"
          ]
        },
        {
          "output_type": "stream",
          "name": "stdout",
          "text": [
            "Jan_Ullrich: Jan_Ullrich_0004.jpg vs Jan_Ullrich_0005.jpg → Similarity: 0.624 → Match\n"
          ]
        },
        {
          "output_type": "stream",
          "name": "stderr",
          "text": [
            "Evaluating:  41%|████▏     | 706/1711 [36:50<20:44,  1.24s/it]"
          ]
        },
        {
          "output_type": "stream",
          "name": "stdout",
          "text": [
            "Janica_Kostelic: Janica_Kostelic_0001.jpg vs Janica_Kostelic_0002.jpg → Similarity: 0.175 → No Match\n"
          ]
        },
        {
          "output_type": "stream",
          "name": "stderr",
          "text": [
            "Evaluating:  42%|████▏     | 712/1711 [36:51<07:44,  2.15it/s]"
          ]
        },
        {
          "output_type": "stream",
          "name": "stdout",
          "text": [
            "Javier_Weber: Javier_Weber_0001.jpg vs Javier_Weber_0002.jpg → Similarity: 0.622 → Match\n",
            "Javier_Weber: Javier_Weber_0001.jpg vs Javier_Weber_0003.jpg → Similarity: 0.672 → Match\n"
          ]
        },
        {
          "output_type": "stream",
          "name": "stderr",
          "text": [
            "Evaluating:  42%|████▏     | 716/1711 [37:01<20:43,  1.25s/it]"
          ]
        },
        {
          "output_type": "stream",
          "name": "stdout",
          "text": [
            "Javier_Weber: Javier_Weber_0002.jpg vs Javier_Weber_0003.jpg → Similarity: 0.691 → Match\n"
          ]
        },
        {
          "output_type": "stream",
          "name": "stderr",
          "text": [
            "\rEvaluating:  42%|████▏     | 718/1711 [37:03<20:47,  1.26s/it]"
          ]
        },
        {
          "output_type": "stream",
          "name": "stdout",
          "text": [
            "Jean-Claude_Juncker: Jean-Claude_Juncker_0001.jpg vs Jean-Claude_Juncker_0002.jpg → Similarity: 0.686 → Match\n"
          ]
        },
        {
          "output_type": "stream",
          "name": "stderr",
          "text": [
            "\rEvaluating:  42%|████▏     | 719/1711 [37:07<29:45,  1.80s/it]"
          ]
        },
        {
          "output_type": "stream",
          "name": "stdout",
          "text": [
            "Jean-Claude_Trichet: Jean-Claude_Trichet_0001.jpg vs Jean-Claude_Trichet_0002.jpg → Similarity: 0.629 → Match\n"
          ]
        },
        {
          "output_type": "stream",
          "name": "stderr",
          "text": [
            "\rEvaluating:  42%|████▏     | 721/1711 [37:12<33:42,  2.04s/it]"
          ]
        },
        {
          "output_type": "stream",
          "name": "stdout",
          "text": [
            "Jean-Marc_de_La_Sabliere: Jean-Marc_de_La_Sabliere_0001.jpg vs Jean-Marc_de_La_Sabliere_0002.jpg → Similarity: 0.066 → No Match\n",
            "Jean-Pierre_Raffarin: Jean-Pierre_Raffarin_0001.jpg vs Jean-Pierre_Raffarin_0002.jpg → Similarity: 0.604 → Match\n",
            "Jean-Pierre_Raffarin: Jean-Pierre_Raffarin_0001.jpg vs Jean-Pierre_Raffarin_0003.jpg → Similarity: 0.582 → No Match\n",
            "Jean-Pierre_Raffarin: Jean-Pierre_Raffarin_0001.jpg vs Jean-Pierre_Raffarin_0004.jpg → Similarity: 0.525 → No Match\n",
            "Jean-Pierre_Raffarin: Jean-Pierre_Raffarin_0001.jpg vs Jean-Pierre_Raffarin_0005.jpg → Similarity: 0.583 → No Match\n",
            "Jean-Pierre_Raffarin: Jean-Pierre_Raffarin_0002.jpg vs Jean-Pierre_Raffarin_0003.jpg → Similarity: 0.709 → Match\n",
            "Jean-Pierre_Raffarin: Jean-Pierre_Raffarin_0002.jpg vs Jean-Pierre_Raffarin_0004.jpg → Similarity: 0.675 → Match\n",
            "Jean-Pierre_Raffarin: Jean-Pierre_Raffarin_0002.jpg vs Jean-Pierre_Raffarin_0005.jpg → Similarity: 0.710 → Match\n",
            "Jean-Pierre_Raffarin: Jean-Pierre_Raffarin_0003.jpg vs Jean-Pierre_Raffarin_0004.jpg → Similarity: 0.623 → Match\n",
            "Jean-Pierre_Raffarin: Jean-Pierre_Raffarin_0003.jpg vs Jean-Pierre_Raffarin_0005.jpg → Similarity: 0.650 → Match\n"
          ]
        },
        {
          "output_type": "stream",
          "name": "stderr",
          "text": [
            "\rEvaluating:  42%|████▏     | 723/1711 [37:36<1:24:43,  5.15s/it]"
          ]
        },
        {
          "output_type": "stream",
          "name": "stdout",
          "text": [
            "Jean-Pierre_Raffarin: Jean-Pierre_Raffarin_0004.jpg vs Jean-Pierre_Raffarin_0005.jpg → Similarity: 0.779 → Match\n"
          ]
        },
        {
          "output_type": "stream",
          "name": "stderr",
          "text": [
            "Evaluating:  42%|████▏     | 726/1711 [37:39<51:36,  3.14s/it]  "
          ]
        },
        {
          "output_type": "stream",
          "name": "stdout",
          "text": [
            "Jean_Carnahan: Jean_Carnahan_0001.jpg vs Jean_Carnahan_0002.jpg → Similarity: 0.548 → No Match\n"
          ]
        },
        {
          "output_type": "stream",
          "name": "stderr",
          "text": [
            "Evaluating:  43%|████▎     | 733/1711 [37:42<17:52,  1.10s/it]"
          ]
        },
        {
          "output_type": "stream",
          "name": "stdout",
          "text": [
            "Jefferson_Perez: Jefferson_Perez_0001.jpg vs Jefferson_Perez_0002.jpg → Similarity: 0.573 → No Match\n"
          ]
        },
        {
          "output_type": "stream",
          "name": "stderr",
          "text": [
            "Evaluating:  43%|████▎     | 739/1711 [37:43<06:36,  2.45it/s]"
          ]
        },
        {
          "output_type": "stream",
          "name": "stdout",
          "text": [
            "Jennifer_Capriati: Jennifer_Capriati_0001.jpg vs Jennifer_Capriati_0002.jpg → Similarity: 0.653 → Match\n",
            "Jennifer_Capriati: Jennifer_Capriati_0001.jpg vs Jennifer_Capriati_0003.jpg → Similarity: 0.694 → Match\n",
            "Jennifer_Capriati: Jennifer_Capriati_0001.jpg vs Jennifer_Capriati_0004.jpg → Similarity: 0.549 → No Match\n",
            "Jennifer_Capriati: Jennifer_Capriati_0001.jpg vs Jennifer_Capriati_0005.jpg → Similarity: 0.505 → No Match\n"
          ]
        },
        {
          "output_type": "stream",
          "name": "stderr",
          "text": [
            "\rEvaluating:  43%|████▎     | 739/1711 [37:53<06:36,  2.45it/s]"
          ]
        },
        {
          "output_type": "stream",
          "name": "stdout",
          "text": [
            "Jennifer_Capriati: Jennifer_Capriati_0002.jpg vs Jennifer_Capriati_0003.jpg → Similarity: 0.696 → Match\n",
            "Jennifer_Capriati: Jennifer_Capriati_0002.jpg vs Jennifer_Capriati_0004.jpg → Similarity: 0.472 → No Match\n",
            "Jennifer_Capriati: Jennifer_Capriati_0002.jpg vs Jennifer_Capriati_0005.jpg → Similarity: 0.362 → No Match\n",
            "Jennifer_Capriati: Jennifer_Capriati_0003.jpg vs Jennifer_Capriati_0004.jpg → Similarity: 0.520 → No Match\n",
            "Jennifer_Capriati: Jennifer_Capriati_0003.jpg vs Jennifer_Capriati_0005.jpg → Similarity: 0.491 → No Match\n"
          ]
        },
        {
          "output_type": "stream",
          "name": "stderr",
          "text": [
            "\rEvaluating:  43%|████▎     | 740/1711 [38:06<1:13:51,  4.56s/it]"
          ]
        },
        {
          "output_type": "stream",
          "name": "stdout",
          "text": [
            "Jennifer_Capriati: Jennifer_Capriati_0004.jpg vs Jennifer_Capriati_0005.jpg → Similarity: 0.650 → Match\n",
            "Jennifer_Connelly: Jennifer_Connelly_0001.jpg vs Jennifer_Connelly_0002.jpg → Similarity: 0.556 → No Match\n",
            "Jennifer_Connelly: Jennifer_Connelly_0001.jpg vs Jennifer_Connelly_0003.jpg → Similarity: 0.736 → Match\n",
            "Jennifer_Connelly: Jennifer_Connelly_0001.jpg vs Jennifer_Connelly_0004.jpg → Similarity: 0.684 → Match\n",
            "Jennifer_Connelly: Jennifer_Connelly_0002.jpg vs Jennifer_Connelly_0003.jpg → Similarity: 0.613 → Match\n",
            "Jennifer_Connelly: Jennifer_Connelly_0002.jpg vs Jennifer_Connelly_0004.jpg → Similarity: 0.601 → Match\n"
          ]
        },
        {
          "output_type": "stream",
          "name": "stderr",
          "text": [
            "\rEvaluating:  43%|████▎     | 741/1711 [38:21<1:47:10,  6.63s/it]"
          ]
        },
        {
          "output_type": "stream",
          "name": "stdout",
          "text": [
            "Jennifer_Connelly: Jennifer_Connelly_0003.jpg vs Jennifer_Connelly_0004.jpg → Similarity: 0.816 → Match\n",
            "Jennifer_Keller: Jennifer_Keller_0001.jpg vs Jennifer_Keller_0002.jpg → Similarity: 0.641 → Match\n",
            "Jennifer_Keller: Jennifer_Keller_0001.jpg vs Jennifer_Keller_0003.jpg → Similarity: 0.703 → Match\n",
            "Jennifer_Keller: Jennifer_Keller_0001.jpg vs Jennifer_Keller_0004.jpg → Similarity: 0.715 → Match\n",
            "Jennifer_Keller: Jennifer_Keller_0002.jpg vs Jennifer_Keller_0003.jpg → Similarity: 0.693 → Match\n",
            "Jennifer_Keller: Jennifer_Keller_0002.jpg vs Jennifer_Keller_0004.jpg → Similarity: 0.699 → Match\n"
          ]
        },
        {
          "output_type": "stream",
          "name": "stderr",
          "text": [
            "\rEvaluating:  43%|████▎     | 743/1711 [38:36<1:51:34,  6.92s/it]"
          ]
        },
        {
          "output_type": "stream",
          "name": "stdout",
          "text": [
            "Jennifer_Keller: Jennifer_Keller_0003.jpg vs Jennifer_Keller_0004.jpg → Similarity: 0.658 → Match\n"
          ]
        },
        {
          "output_type": "stream",
          "name": "stderr",
          "text": [
            "\rEvaluating:  44%|████▎     | 745/1711 [38:39<1:21:16,  5.05s/it]"
          ]
        },
        {
          "output_type": "stream",
          "name": "stdout",
          "text": [
            "Jennifer_Rodriguez: Jennifer_Rodriguez_0001.jpg vs Jennifer_Rodriguez_0002.jpg → Similarity: 0.529 → No Match\n"
          ]
        },
        {
          "output_type": "stream",
          "name": "stderr",
          "text": [
            "\rEvaluating:  44%|████▎     | 746/1711 [38:41<1:13:18,  4.56s/it]"
          ]
        },
        {
          "output_type": "stream",
          "name": "stdout",
          "text": [
            "Jennifer_Thompson: Jennifer_Thompson_0001.jpg vs Jennifer_Thompson_0002.jpg → Similarity: 0.756 → Match\n",
            "Jeong_Se-hyun: Jeong_Se-hyun_0001.jpg vs Jeong_Se-hyun_0002.jpg → Similarity: 0.772 → Match\n",
            "Jeong_Se-hyun: Jeong_Se-hyun_0001.jpg vs Jeong_Se-hyun_0003.jpg → Similarity: 0.791 → Match\n",
            "Jeong_Se-hyun: Jeong_Se-hyun_0001.jpg vs Jeong_Se-hyun_0004.jpg → Similarity: 0.533 → No Match\n",
            "Jeong_Se-hyun: Jeong_Se-hyun_0001.jpg vs Jeong_Se-hyun_0005.jpg → Similarity: 0.506 → No Match\n",
            "Jeong_Se-hyun: Jeong_Se-hyun_0002.jpg vs Jeong_Se-hyun_0003.jpg → Similarity: 0.849 → Match\n",
            "Jeong_Se-hyun: Jeong_Se-hyun_0002.jpg vs Jeong_Se-hyun_0004.jpg → Similarity: 0.590 → No Match\n",
            "Jeong_Se-hyun: Jeong_Se-hyun_0002.jpg vs Jeong_Se-hyun_0005.jpg → Similarity: 0.513 → No Match\n",
            "Jeong_Se-hyun: Jeong_Se-hyun_0003.jpg vs Jeong_Se-hyun_0004.jpg → Similarity: 0.555 → No Match\n",
            "Jeong_Se-hyun: Jeong_Se-hyun_0003.jpg vs Jeong_Se-hyun_0005.jpg → Similarity: 0.505 → No Match\n"
          ]
        },
        {
          "output_type": "stream",
          "name": "stderr",
          "text": [
            "\rEvaluating:  44%|████▎     | 747/1711 [39:12<2:46:15, 10.35s/it]"
          ]
        },
        {
          "output_type": "stream",
          "name": "stdout",
          "text": [
            "Jeong_Se-hyun: Jeong_Se-hyun_0004.jpg vs Jeong_Se-hyun_0005.jpg → Similarity: 0.493 → No Match\n",
            "Jeremy_Greenstock: Jeremy_Greenstock_0001.jpg vs Jeremy_Greenstock_0002.jpg → Similarity: 0.655 → Match\n",
            "Jeremy_Greenstock: Jeremy_Greenstock_0001.jpg vs Jeremy_Greenstock_0003.jpg → Similarity: 0.744 → Match\n",
            "Jeremy_Greenstock: Jeremy_Greenstock_0001.jpg vs Jeremy_Greenstock_0004.jpg → Similarity: 0.532 → No Match\n",
            "Jeremy_Greenstock: Jeremy_Greenstock_0001.jpg vs Jeremy_Greenstock_0005.jpg → Similarity: 0.771 → Match\n",
            "Jeremy_Greenstock: Jeremy_Greenstock_0002.jpg vs Jeremy_Greenstock_0003.jpg → Similarity: 0.636 → Match\n",
            "Jeremy_Greenstock: Jeremy_Greenstock_0002.jpg vs Jeremy_Greenstock_0004.jpg → Similarity: 0.602 → Match\n",
            "Jeremy_Greenstock: Jeremy_Greenstock_0002.jpg vs Jeremy_Greenstock_0005.jpg → Similarity: 0.628 → Match\n",
            "Jeremy_Greenstock: Jeremy_Greenstock_0003.jpg vs Jeremy_Greenstock_0004.jpg → Similarity: 0.500 → No Match\n",
            "Jeremy_Greenstock: Jeremy_Greenstock_0003.jpg vs Jeremy_Greenstock_0005.jpg → Similarity: 0.741 → Match\n"
          ]
        },
        {
          "output_type": "stream",
          "name": "stderr",
          "text": [
            "\rEvaluating:  44%|████▎     | 748/1711 [39:46<4:17:59, 16.07s/it]"
          ]
        },
        {
          "output_type": "stream",
          "name": "stdout",
          "text": [
            "Jeremy_Greenstock: Jeremy_Greenstock_0004.jpg vs Jeremy_Greenstock_0005.jpg → Similarity: 0.496 → No Match\n"
          ]
        },
        {
          "output_type": "stream",
          "name": "stderr",
          "text": [
            "Evaluating:  44%|████▍     | 751/1711 [39:49<1:57:38,  7.35s/it]"
          ]
        },
        {
          "output_type": "stream",
          "name": "stdout",
          "text": [
            "Jeremy_Shockey: Jeremy_Shockey_0001.jpg vs Jeremy_Shockey_0002.jpg → Similarity: 0.864 → Match\n"
          ]
        },
        {
          "output_type": "stream",
          "name": "stderr",
          "text": [
            "Evaluating:  44%|████▍     | 757/1711 [39:50<32:31,  2.05s/it]"
          ]
        },
        {
          "output_type": "stream",
          "name": "stdout",
          "text": [
            "Jesse_Harris: Jesse_Harris_0001.jpg vs Jesse_Harris_0002.jpg → Similarity: 0.791 → Match\n",
            "Jesse_Harris: Jesse_Harris_0001.jpg vs Jesse_Harris_0003.jpg → Similarity: 0.745 → Match\n",
            "Jesse_Harris: Jesse_Harris_0002.jpg vs Jesse_Harris_0003.jpg → Similarity: 0.708 → Match\n"
          ]
        },
        {
          "output_type": "stream",
          "name": "stderr",
          "text": [
            "\rEvaluating:  44%|████▍     | 757/1711 [40:03<32:31,  2.05s/it]"
          ]
        },
        {
          "output_type": "stream",
          "name": "stdout",
          "text": [
            "Jesse_Jackson: Jesse_Jackson_0001.jpg vs Jesse_Jackson_0002.jpg → Similarity: -0.054 → No Match\n",
            "Jesse_Jackson: Jesse_Jackson_0001.jpg vs Jesse_Jackson_0003.jpg → Similarity: -0.051 → No Match\n",
            "Jesse_Jackson: Jesse_Jackson_0001.jpg vs Jesse_Jackson_0004.jpg → Similarity: -0.021 → No Match\n",
            "Jesse_Jackson: Jesse_Jackson_0001.jpg vs Jesse_Jackson_0005.jpg → Similarity: -0.023 → No Match\n",
            "Jesse_Jackson: Jesse_Jackson_0002.jpg vs Jesse_Jackson_0003.jpg → Similarity: 0.901 → Match\n",
            "Jesse_Jackson: Jesse_Jackson_0002.jpg vs Jesse_Jackson_0004.jpg → Similarity: 0.627 → Match\n",
            "Jesse_Jackson: Jesse_Jackson_0002.jpg vs Jesse_Jackson_0005.jpg → Similarity: 0.696 → Match\n",
            "Jesse_Jackson: Jesse_Jackson_0003.jpg vs Jesse_Jackson_0004.jpg → Similarity: 0.695 → Match\n",
            "Jesse_Jackson: Jesse_Jackson_0003.jpg vs Jesse_Jackson_0005.jpg → Similarity: 0.743 → Match\n"
          ]
        },
        {
          "output_type": "stream",
          "name": "stderr",
          "text": [
            "\rEvaluating:  44%|████▍     | 759/1711 [40:36<2:19:33,  8.80s/it]"
          ]
        },
        {
          "output_type": "stream",
          "name": "stdout",
          "text": [
            "Jesse_Jackson: Jesse_Jackson_0004.jpg vs Jesse_Jackson_0005.jpg → Similarity: 0.710 → Match\n",
            "Jesse_Ventura: Jesse_Ventura_0001.jpg vs Jesse_Ventura_0002.jpg → Similarity: 0.674 → Match\n",
            "Jesse_Ventura: Jesse_Ventura_0001.jpg vs Jesse_Ventura_0003.jpg → Similarity: 0.717 → Match\n"
          ]
        },
        {
          "output_type": "stream",
          "name": "stderr",
          "text": [
            "Evaluating:  45%|████▍     | 763/1711 [40:46<1:23:59,  5.32s/it]"
          ]
        },
        {
          "output_type": "stream",
          "name": "stdout",
          "text": [
            "Jesse_Ventura: Jesse_Ventura_0002.jpg vs Jesse_Ventura_0003.jpg → Similarity: 0.639 → Match\n"
          ]
        },
        {
          "output_type": "stream",
          "name": "stderr",
          "text": [
            "\rEvaluating:  45%|████▍     | 765/1711 [40:50<1:05:57,  4.18s/it]"
          ]
        },
        {
          "output_type": "stream",
          "name": "stdout",
          "text": [
            "Jessica_Lange: Jessica_Lange_0001.jpg vs Jessica_Lange_0002.jpg → Similarity: 0.636 → Match\n",
            "Jiang_Zemin: Jiang_Zemin_0001.jpg vs Jiang_Zemin_0002.jpg → Similarity: 0.717 → Match\n",
            "Jiang_Zemin: Jiang_Zemin_0001.jpg vs Jiang_Zemin_0003.jpg → Similarity: 0.804 → Match\n",
            "Jiang_Zemin: Jiang_Zemin_0001.jpg vs Jiang_Zemin_0004.jpg → Similarity: 0.676 → Match\n",
            "Jiang_Zemin: Jiang_Zemin_0001.jpg vs Jiang_Zemin_0005.jpg → Similarity: 0.771 → Match\n",
            "Jiang_Zemin: Jiang_Zemin_0002.jpg vs Jiang_Zemin_0003.jpg → Similarity: 0.741 → Match\n",
            "Jiang_Zemin: Jiang_Zemin_0002.jpg vs Jiang_Zemin_0004.jpg → Similarity: 0.685 → Match\n",
            "Jiang_Zemin: Jiang_Zemin_0002.jpg vs Jiang_Zemin_0005.jpg → Similarity: 0.800 → Match\n",
            "Jiang_Zemin: Jiang_Zemin_0003.jpg vs Jiang_Zemin_0004.jpg → Similarity: 0.600 → No Match\n",
            "Jiang_Zemin: Jiang_Zemin_0003.jpg vs Jiang_Zemin_0005.jpg → Similarity: 0.736 → Match\n"
          ]
        },
        {
          "output_type": "stream",
          "name": "stderr",
          "text": [
            "Evaluating:  45%|████▍     | 768/1711 [41:18<1:29:42,  5.71s/it]"
          ]
        },
        {
          "output_type": "stream",
          "name": "stdout",
          "text": [
            "Jiang_Zemin: Jiang_Zemin_0004.jpg vs Jiang_Zemin_0005.jpg → Similarity: 0.669 → Match\n"
          ]
        },
        {
          "output_type": "stream",
          "name": "stderr",
          "text": [
            "Evaluating:  45%|████▌     | 772/1711 [41:19<41:41,  2.66s/it]  "
          ]
        },
        {
          "output_type": "stream",
          "name": "stdout",
          "text": [
            "Jim_Hahn: Jim_Hahn_0001.jpg vs Jim_Hahn_0002.jpg → Similarity: 0.580 → No Match\n",
            "Jim_Hahn: Jim_Hahn_0001.jpg vs Jim_Hahn_0003.jpg → Similarity: 0.750 → Match\n",
            "Jim_Hahn: Jim_Hahn_0001.jpg vs Jim_Hahn_0004.jpg → Similarity: 0.553 → No Match\n",
            "Jim_Hahn: Jim_Hahn_0002.jpg vs Jim_Hahn_0003.jpg → Similarity: 0.694 → Match\n",
            "Jim_Hahn: Jim_Hahn_0002.jpg vs Jim_Hahn_0004.jpg → Similarity: 0.710 → Match\n"
          ]
        },
        {
          "output_type": "stream",
          "name": "stderr",
          "text": [
            "\rEvaluating:  45%|████▌     | 774/1711 [41:33<1:04:00,  4.10s/it]"
          ]
        },
        {
          "output_type": "stream",
          "name": "stdout",
          "text": [
            "Jim_Hahn: Jim_Hahn_0003.jpg vs Jim_Hahn_0004.jpg → Similarity: 0.698 → Match\n"
          ]
        },
        {
          "output_type": "stream",
          "name": "stderr",
          "text": [
            "Evaluating:  45%|████▌     | 777/1711 [41:38<43:43,  2.81s/it]  "
          ]
        },
        {
          "output_type": "stream",
          "name": "stdout",
          "text": [
            "Jim_Harrick: Jim_Harrick_0001.jpg vs Jim_Harrick_0002.jpg → Similarity: 0.719 → Match\n"
          ]
        },
        {
          "output_type": "stream",
          "name": "stderr",
          "text": [
            "\rEvaluating:  46%|████▌     | 779/1711 [41:38<29:39,  1.91s/it]"
          ]
        },
        {
          "output_type": "stream",
          "name": "stdout",
          "text": [
            "Jimmy_Carter: Jimmy_Carter_0001.jpg vs Jimmy_Carter_0002.jpg → Similarity: 0.740 → Match\n",
            "Jimmy_Carter: Jimmy_Carter_0001.jpg vs Jimmy_Carter_0003.jpg → Similarity: 0.766 → Match\n",
            "Jimmy_Carter: Jimmy_Carter_0001.jpg vs Jimmy_Carter_0004.jpg → Similarity: 0.709 → Match\n",
            "Jimmy_Carter: Jimmy_Carter_0001.jpg vs Jimmy_Carter_0005.jpg → Similarity: 0.709 → Match\n",
            "Jimmy_Carter: Jimmy_Carter_0002.jpg vs Jimmy_Carter_0003.jpg → Similarity: 0.817 → Match\n"
          ]
        },
        {
          "output_type": "stream",
          "name": "stderr",
          "text": [
            "\rEvaluating:  46%|████▌     | 779/1711 [41:53<29:39,  1.91s/it]"
          ]
        },
        {
          "output_type": "stream",
          "name": "stdout",
          "text": [
            "Jimmy_Carter: Jimmy_Carter_0002.jpg vs Jimmy_Carter_0004.jpg → Similarity: 0.749 → Match\n",
            "Jimmy_Carter: Jimmy_Carter_0002.jpg vs Jimmy_Carter_0005.jpg → Similarity: 0.802 → Match\n",
            "Jimmy_Carter: Jimmy_Carter_0003.jpg vs Jimmy_Carter_0004.jpg → Similarity: 0.747 → Match\n",
            "Jimmy_Carter: Jimmy_Carter_0003.jpg vs Jimmy_Carter_0005.jpg → Similarity: 0.708 → Match\n"
          ]
        },
        {
          "output_type": "stream",
          "name": "stderr",
          "text": [
            "\rEvaluating:  46%|████▌     | 781/1711 [42:04<1:23:37,  5.39s/it]"
          ]
        },
        {
          "output_type": "stream",
          "name": "stdout",
          "text": [
            "Jimmy_Carter: Jimmy_Carter_0004.jpg vs Jimmy_Carter_0005.jpg → Similarity: 0.751 → Match\n"
          ]
        },
        {
          "output_type": "stream",
          "name": "stderr",
          "text": [
            "Evaluating:  46%|████▌     | 784/1711 [42:07<50:48,  3.29s/it]  "
          ]
        },
        {
          "output_type": "stream",
          "name": "stdout",
          "text": [
            "Jimmy_Kimmel: Jimmy_Kimmel_0001.jpg vs Jimmy_Kimmel_0002.jpg → Similarity: 0.721 → Match\n"
          ]
        },
        {
          "output_type": "stream",
          "name": "stderr",
          "text": [
            "Evaluating:  46%|████▌     | 788/1711 [42:10<29:46,  1.94s/it]"
          ]
        },
        {
          "output_type": "stream",
          "name": "stdout",
          "text": [
            "Joe_Mantello: Joe_Mantello_0001.jpg vs Joe_Mantello_0002.jpg → Similarity: 0.752 → Match\n",
            "Joe_Nichols: Joe_Nichols_0001.jpg vs Joe_Nichols_0002.jpg → Similarity: 0.613 → Match\n",
            "Joe_Nichols: Joe_Nichols_0001.jpg vs Joe_Nichols_0003.jpg → Similarity: 0.711 → Match\n",
            "Joe_Nichols: Joe_Nichols_0001.jpg vs Joe_Nichols_0004.jpg → Similarity: 0.707 → Match\n",
            "Joe_Nichols: Joe_Nichols_0002.jpg vs Joe_Nichols_0003.jpg → Similarity: 0.675 → Match\n",
            "Joe_Nichols: Joe_Nichols_0002.jpg vs Joe_Nichols_0004.jpg → Similarity: 0.713 → Match\n"
          ]
        },
        {
          "output_type": "stream",
          "name": "stderr",
          "text": [
            "Evaluating:  46%|████▌     | 791/1711 [42:25<43:02,  2.81s/it]  "
          ]
        },
        {
          "output_type": "stream",
          "name": "stdout",
          "text": [
            "Joe_Nichols: Joe_Nichols_0003.jpg vs Joe_Nichols_0004.jpg → Similarity: 0.880 → Match\n"
          ]
        },
        {
          "output_type": "stream",
          "name": "stderr",
          "text": [
            "Evaluating:  47%|████▋     | 797/1711 [42:25<14:05,  1.08it/s]"
          ]
        },
        {
          "output_type": "stream",
          "name": "stdout",
          "text": [
            "John_Blaney: John_Blaney_0001.jpg vs John_Blaney_0002.jpg → Similarity: 0.653 → Match\n",
            "John_Bolton: John_Bolton_0001.jpg vs John_Bolton_0002.jpg → Similarity: 0.783 → Match\n",
            "John_Bolton: John_Bolton_0001.jpg vs John_Bolton_0003.jpg → Similarity: 0.748 → Match\n",
            "John_Bolton: John_Bolton_0001.jpg vs John_Bolton_0004.jpg → Similarity: 0.744 → Match\n",
            "John_Bolton: John_Bolton_0001.jpg vs John_Bolton_0005.jpg → Similarity: 0.668 → Match\n"
          ]
        },
        {
          "output_type": "stream",
          "name": "stderr",
          "text": [
            "\rEvaluating:  47%|████▋     | 797/1711 [42:43<14:05,  1.08it/s]"
          ]
        },
        {
          "output_type": "stream",
          "name": "stdout",
          "text": [
            "John_Bolton: John_Bolton_0002.jpg vs John_Bolton_0003.jpg → Similarity: 0.819 → Match\n",
            "John_Bolton: John_Bolton_0002.jpg vs John_Bolton_0004.jpg → Similarity: 0.771 → Match\n",
            "John_Bolton: John_Bolton_0002.jpg vs John_Bolton_0005.jpg → Similarity: 0.688 → Match\n",
            "John_Bolton: John_Bolton_0003.jpg vs John_Bolton_0004.jpg → Similarity: 0.827 → Match\n",
            "John_Bolton: John_Bolton_0003.jpg vs John_Bolton_0005.jpg → Similarity: 0.691 → Match\n"
          ]
        },
        {
          "output_type": "stream",
          "name": "stderr",
          "text": [
            "Evaluating:  47%|████▋     | 801/1711 [42:57<58:53,  3.88s/it]  "
          ]
        },
        {
          "output_type": "stream",
          "name": "stdout",
          "text": [
            "John_Bolton: John_Bolton_0004.jpg vs John_Bolton_0005.jpg → Similarity: 0.680 → Match\n"
          ]
        },
        {
          "output_type": "stream",
          "name": "stderr",
          "text": [
            "Evaluating:  47%|████▋     | 805/1711 [43:01<36:56,  2.45s/it]"
          ]
        },
        {
          "output_type": "stream",
          "name": "stdout",
          "text": [
            "John_Garamendi: John_Garamendi_0001.jpg vs John_Garamendi_0002.jpg → Similarity: 0.650 → Match\n"
          ]
        },
        {
          "output_type": "stream",
          "name": "stderr",
          "text": [
            "Evaluating:  47%|████▋     | 809/1711 [43:01<18:29,  1.23s/it]"
          ]
        },
        {
          "output_type": "stream",
          "name": "stdout",
          "text": [
            "John_Mayer: John_Mayer_0001.jpg vs John_Mayer_0002.jpg → Similarity: 0.853 → Match\n",
            "John_Mayer: John_Mayer_0001.jpg vs John_Mayer_0003.jpg → Similarity: 0.792 → Match\n"
          ]
        },
        {
          "output_type": "stream",
          "name": "stderr",
          "text": [
            "\rEvaluating:  47%|████▋     | 811/1711 [43:08<28:46,  1.92s/it]"
          ]
        },
        {
          "output_type": "stream",
          "name": "stdout",
          "text": [
            "John_Mayer: John_Mayer_0002.jpg vs John_Mayer_0003.jpg → Similarity: 0.867 → Match\n"
          ]
        },
        {
          "output_type": "stream",
          "name": "stderr",
          "text": [
            "Evaluating:  48%|████▊     | 814/1711 [43:11<20:30,  1.37s/it]"
          ]
        },
        {
          "output_type": "stream",
          "name": "stdout",
          "text": [
            "John_McCallum: John_McCallum_0001.jpg vs John_McCallum_0002.jpg → Similarity: 0.592 → No Match\n",
            "John_Negroponte: John_Negroponte_0001.jpg vs John_Negroponte_0002.jpg → Similarity: 0.852 → Match\n",
            "John_Negroponte: John_Negroponte_0001.jpg vs John_Negroponte_0003.jpg → Similarity: 0.483 → No Match\n",
            "John_Negroponte: John_Negroponte_0001.jpg vs John_Negroponte_0004.jpg → Similarity: 0.076 → No Match\n",
            "John_Negroponte: John_Negroponte_0001.jpg vs John_Negroponte_0005.jpg → Similarity: 0.648 → Match\n",
            "John_Negroponte: John_Negroponte_0002.jpg vs John_Negroponte_0003.jpg → Similarity: 0.533 → No Match\n",
            "John_Negroponte: John_Negroponte_0002.jpg vs John_Negroponte_0004.jpg → Similarity: 0.100 → No Match\n",
            "John_Negroponte: John_Negroponte_0002.jpg vs John_Negroponte_0005.jpg → Similarity: 0.668 → Match\n",
            "John_Negroponte: John_Negroponte_0003.jpg vs John_Negroponte_0004.jpg → Similarity: 0.075 → No Match\n",
            "John_Negroponte: John_Negroponte_0003.jpg vs John_Negroponte_0005.jpg → Similarity: 0.563 → No Match\n"
          ]
        },
        {
          "output_type": "stream",
          "name": "stderr",
          "text": [
            "Evaluating:  48%|████▊     | 817/1711 [43:40<1:04:31,  4.33s/it]"
          ]
        },
        {
          "output_type": "stream",
          "name": "stdout",
          "text": [
            "John_Negroponte: John_Negroponte_0004.jpg vs John_Negroponte_0005.jpg → Similarity: 0.049 → No Match\n"
          ]
        },
        {
          "output_type": "stream",
          "name": "stderr",
          "text": [
            "\rEvaluating:  48%|████▊     | 818/1711 [43:44<1:02:50,  4.22s/it]"
          ]
        },
        {
          "output_type": "stream",
          "name": "stdout",
          "text": [
            "John_Rowland: John_Rowland_0001.jpg vs John_Rowland_0002.jpg → Similarity: 0.607 → Match\n"
          ]
        },
        {
          "output_type": "stream",
          "name": "stderr",
          "text": [
            "\rEvaluating:  48%|████▊     | 819/1711 [43:46<57:13,  3.85s/it]  "
          ]
        },
        {
          "output_type": "stream",
          "name": "stdout",
          "text": [
            "John_Stallworth: John_Stallworth_0001.jpg vs John_Stallworth_0002.jpg → Similarity: 0.468 → No Match\n",
            "John_Travolta: John_Travolta_0001.jpg vs John_Travolta_0002.jpg → Similarity: 0.819 → Match\n",
            "John_Travolta: John_Travolta_0001.jpg vs John_Travolta_0003.jpg → Similarity: 0.574 → No Match\n",
            "John_Travolta: John_Travolta_0001.jpg vs John_Travolta_0004.jpg → Similarity: 0.797 → Match\n",
            "John_Travolta: John_Travolta_0001.jpg vs John_Travolta_0005.jpg → Similarity: 0.628 → Match\n",
            "John_Travolta: John_Travolta_0002.jpg vs John_Travolta_0003.jpg → Similarity: 0.556 → No Match\n",
            "John_Travolta: John_Travolta_0002.jpg vs John_Travolta_0004.jpg → Similarity: 0.735 → Match\n",
            "John_Travolta: John_Travolta_0002.jpg vs John_Travolta_0005.jpg → Similarity: 0.618 → Match\n",
            "John_Travolta: John_Travolta_0003.jpg vs John_Travolta_0004.jpg → Similarity: 0.546 → No Match\n",
            "John_Travolta: John_Travolta_0003.jpg vs John_Travolta_0005.jpg → Similarity: 0.366 → No Match\n"
          ]
        },
        {
          "output_type": "stream",
          "name": "stderr",
          "text": [
            "\rEvaluating:  48%|████▊     | 820/1711 [44:15<2:27:05,  9.91s/it]"
          ]
        },
        {
          "output_type": "stream",
          "name": "stdout",
          "text": [
            "John_Travolta: John_Travolta_0004.jpg vs John_Travolta_0005.jpg → Similarity: 0.596 → No Match\n"
          ]
        },
        {
          "output_type": "stream",
          "name": "stderr",
          "text": [
            "\rEvaluating:  48%|████▊     | 822/1711 [44:18<1:34:41,  6.39s/it]"
          ]
        },
        {
          "output_type": "stream",
          "name": "stdout",
          "text": [
            "John_Walsh: John_Walsh_0001.jpg vs John_Walsh_0002.jpg → Similarity: 0.699 → Match\n"
          ]
        },
        {
          "output_type": "stream",
          "name": "stderr",
          "text": [
            "\rEvaluating:  48%|████▊     | 824/1711 [44:20<1:06:59,  4.53s/it]"
          ]
        },
        {
          "output_type": "stream",
          "name": "stdout",
          "text": [
            "Johnny_Carson: Johnny_Carson_0001.jpg vs Johnny_Carson_0002.jpg → Similarity: 0.631 → Match\n"
          ]
        },
        {
          "output_type": "stream",
          "name": "stderr",
          "text": [
            "\rEvaluating:  48%|████▊     | 825/1711 [44:24<1:03:41,  4.31s/it]"
          ]
        },
        {
          "output_type": "stream",
          "name": "stdout",
          "text": [
            "Johnny_Depp: Johnny_Depp_0001.jpg vs Johnny_Depp_0002.jpg → Similarity: 0.448 → No Match\n"
          ]
        },
        {
          "output_type": "stream",
          "name": "stderr",
          "text": [
            "\rEvaluating:  48%|████▊     | 826/1711 [44:26<57:42,  3.91s/it]  "
          ]
        },
        {
          "output_type": "stream",
          "name": "stdout",
          "text": [
            "Johnny_Unitas: Johnny_Unitas_0001.jpg vs Johnny_Unitas_0002.jpg → Similarity: 0.770 → Match\n",
            "Jon_Corzine: Jon_Corzine_0001.jpg vs Jon_Corzine_0002.jpg → Similarity: 0.555 → No Match\n",
            "Jon_Corzine: Jon_Corzine_0001.jpg vs Jon_Corzine_0003.jpg → Similarity: 0.537 → No Match\n"
          ]
        },
        {
          "output_type": "stream",
          "name": "stderr",
          "text": [
            "\rEvaluating:  48%|████▊     | 827/1711 [44:35<1:13:22,  4.98s/it]"
          ]
        },
        {
          "output_type": "stream",
          "name": "stdout",
          "text": [
            "Jon_Corzine: Jon_Corzine_0002.jpg vs Jon_Corzine_0003.jpg → Similarity: 0.675 → Match\n"
          ]
        },
        {
          "output_type": "stream",
          "name": "stderr",
          "text": [
            "\rEvaluating:  48%|████▊     | 829/1711 [44:38<53:44,  3.66s/it]  "
          ]
        },
        {
          "output_type": "stream",
          "name": "stdout",
          "text": [
            "Jorge_Arce: Jorge_Arce_0001.jpg vs Jorge_Arce_0002.jpg → Similarity: 0.790 → Match\n"
          ]
        },
        {
          "output_type": "stream",
          "name": "stderr",
          "text": [
            "Evaluating:  49%|████▊     | 832/1711 [44:42<32:15,  2.20s/it]"
          ]
        },
        {
          "output_type": "stream",
          "name": "stdout",
          "text": [
            "Jorge_Castaneda: Jorge_Castaneda_0001.jpg vs Jorge_Castaneda_0002.jpg → Similarity: 0.685 → Match\n"
          ]
        },
        {
          "output_type": "stream",
          "name": "stderr",
          "text": [
            "Evaluating:  49%|████▉     | 839/1711 [44:45<12:30,  1.16it/s]"
          ]
        },
        {
          "output_type": "stream",
          "name": "stdout",
          "text": [
            "Jose_Dirceu: Jose_Dirceu_0001.jpg vs Jose_Dirceu_0002.jpg → Similarity: 0.668 → Match\n",
            "Joseph_Deiss: Joseph_Deiss_0001.jpg vs Joseph_Deiss_0002.jpg → Similarity: 0.835 → Match\n",
            "Joseph_Deiss: Joseph_Deiss_0001.jpg vs Joseph_Deiss_0003.jpg → Similarity: 0.638 → Match\n"
          ]
        },
        {
          "output_type": "stream",
          "name": "stderr",
          "text": [
            "Evaluating:  49%|████▉     | 843/1711 [44:53<19:35,  1.35s/it]"
          ]
        },
        {
          "output_type": "stream",
          "name": "stdout",
          "text": [
            "Joseph_Deiss: Joseph_Deiss_0002.jpg vs Joseph_Deiss_0003.jpg → Similarity: 0.669 → Match\n"
          ]
        },
        {
          "output_type": "stream",
          "name": "stderr",
          "text": [
            "Evaluating:  50%|████▉     | 851/1711 [44:57<11:59,  1.20it/s]"
          ]
        },
        {
          "output_type": "stream",
          "name": "stdout",
          "text": [
            "Jude_Law: Jude_Law_0001.jpg vs Jude_Law_0002.jpg → Similarity: 0.514 → No Match\n"
          ]
        },
        {
          "output_type": "stream",
          "name": "stderr",
          "text": [
            "Evaluating:  50%|████▉     | 854/1711 [45:01<13:17,  1.07it/s]"
          ]
        },
        {
          "output_type": "stream",
          "name": "stdout",
          "text": [
            "Judi_Dench: Judi_Dench_0001.jpg vs Judi_Dench_0002.jpg → Similarity: 0.567 → No Match\n"
          ]
        },
        {
          "output_type": "stream",
          "name": "stderr",
          "text": [
            "\rEvaluating:  50%|█████     | 856/1711 [45:01<09:17,  1.53it/s]"
          ]
        },
        {
          "output_type": "stream",
          "name": "stdout",
          "text": [
            "Julie_Gerberding: Julie_Gerberding_0001.jpg vs Julie_Gerberding_0002.jpg → Similarity: 0.861 → Match\n",
            "Julie_Gerberding: Julie_Gerberding_0001.jpg vs Julie_Gerberding_0003.jpg → Similarity: 0.719 → Match\n",
            "Julie_Gerberding: Julie_Gerberding_0001.jpg vs Julie_Gerberding_0004.jpg → Similarity: 0.721 → Match\n",
            "Julie_Gerberding: Julie_Gerberding_0001.jpg vs Julie_Gerberding_0005.jpg → Similarity: 0.722 → Match\n",
            "Julie_Gerberding: Julie_Gerberding_0002.jpg vs Julie_Gerberding_0003.jpg → Similarity: 0.768 → Match\n",
            "Julie_Gerberding: Julie_Gerberding_0002.jpg vs Julie_Gerberding_0004.jpg → Similarity: 0.741 → Match\n",
            "Julie_Gerberding: Julie_Gerberding_0002.jpg vs Julie_Gerberding_0005.jpg → Similarity: 0.793 → Match\n",
            "Julie_Gerberding: Julie_Gerberding_0003.jpg vs Julie_Gerberding_0004.jpg → Similarity: 0.719 → Match\n",
            "Julie_Gerberding: Julie_Gerberding_0003.jpg vs Julie_Gerberding_0005.jpg → Similarity: 0.724 → Match\n"
          ]
        },
        {
          "output_type": "stream",
          "name": "stderr",
          "text": [
            "Evaluating:  50%|█████     | 860/1711 [45:28<45:36,  3.22s/it]  "
          ]
        },
        {
          "output_type": "stream",
          "name": "stdout",
          "text": [
            "Julie_Gerberding: Julie_Gerberding_0004.jpg vs Julie_Gerberding_0005.jpg → Similarity: 0.794 → Match\n"
          ]
        },
        {
          "output_type": "stream",
          "name": "stderr",
          "text": [
            "\rEvaluating:  50%|█████     | 862/1711 [45:28<31:48,  2.25s/it]"
          ]
        },
        {
          "output_type": "stream",
          "name": "stdout",
          "text": [
            "Justin_Leonard: Justin_Leonard_0001.jpg vs Justin_Leonard_0002.jpg → Similarity: 0.673 → Match\n",
            "Justin_Leonard: Justin_Leonard_0001.jpg vs Justin_Leonard_0003.jpg → Similarity: 0.731 → Match\n",
            "Justin_Leonard: Justin_Leonard_0001.jpg vs Justin_Leonard_0004.jpg → Similarity: 0.605 → Match\n",
            "Justin_Leonard: Justin_Leonard_0002.jpg vs Justin_Leonard_0003.jpg → Similarity: 0.719 → Match\n",
            "Justin_Leonard: Justin_Leonard_0002.jpg vs Justin_Leonard_0004.jpg → Similarity: 0.623 → Match\n",
            "Justin_Leonard: Justin_Leonard_0003.jpg vs Justin_Leonard_0004.jpg → Similarity: 0.695 → Match\n"
          ]
        },
        {
          "output_type": "stream",
          "name": "stderr",
          "text": [
            "\rEvaluating:  50%|█████     | 862/1711 [45:43<31:48,  2.25s/it]"
          ]
        },
        {
          "output_type": "stream",
          "name": "stdout",
          "text": [
            "Justine_Henin: Justine_Henin_0001.jpg vs Justine_Henin_0002.jpg → Similarity: 0.741 → Match\n",
            "Justine_Henin: Justine_Henin_0001.jpg vs Justine_Henin_0003.jpg → Similarity: 0.609 → Match\n"
          ]
        },
        {
          "output_type": "stream",
          "name": "stderr",
          "text": [
            "Evaluating:  51%|█████     | 865/1711 [45:52<1:00:06,  4.26s/it]"
          ]
        },
        {
          "output_type": "stream",
          "name": "stdout",
          "text": [
            "Justine_Henin: Justine_Henin_0002.jpg vs Justine_Henin_0003.jpg → Similarity: 0.593 → No Match\n",
            "Kamal_Kharrazi: Kamal_Kharrazi_0001.jpg vs Kamal_Kharrazi_0002.jpg → Similarity: 0.806 → Match\n",
            "Kamal_Kharrazi: Kamal_Kharrazi_0001.jpg vs Kamal_Kharrazi_0003.jpg → Similarity: 0.818 → Match\n",
            "Kamal_Kharrazi: Kamal_Kharrazi_0001.jpg vs Kamal_Kharrazi_0004.jpg → Similarity: 0.754 → Match\n"
          ]
        },
        {
          "output_type": "stream",
          "name": "stderr",
          "text": [
            "\rEvaluating:  51%|█████     | 865/1711 [46:03<1:00:06,  4.26s/it]"
          ]
        },
        {
          "output_type": "stream",
          "name": "stdout",
          "text": [
            "Kamal_Kharrazi: Kamal_Kharrazi_0001.jpg vs Kamal_Kharrazi_0005.jpg → Similarity: 0.787 → Match\n",
            "Kamal_Kharrazi: Kamal_Kharrazi_0002.jpg vs Kamal_Kharrazi_0003.jpg → Similarity: 0.751 → Match\n",
            "Kamal_Kharrazi: Kamal_Kharrazi_0002.jpg vs Kamal_Kharrazi_0004.jpg → Similarity: 0.684 → Match\n",
            "Kamal_Kharrazi: Kamal_Kharrazi_0002.jpg vs Kamal_Kharrazi_0005.jpg → Similarity: 0.729 → Match\n",
            "Kamal_Kharrazi: Kamal_Kharrazi_0003.jpg vs Kamal_Kharrazi_0004.jpg → Similarity: 0.822 → Match\n",
            "Kamal_Kharrazi: Kamal_Kharrazi_0003.jpg vs Kamal_Kharrazi_0005.jpg → Similarity: 0.794 → Match\n"
          ]
        },
        {
          "output_type": "stream",
          "name": "stderr",
          "text": [
            "Evaluating:  51%|█████     | 869/1711 [46:21<1:13:13,  5.22s/it]"
          ]
        },
        {
          "output_type": "stream",
          "name": "stdout",
          "text": [
            "Kamal_Kharrazi: Kamal_Kharrazi_0004.jpg vs Kamal_Kharrazi_0005.jpg → Similarity: 0.759 → Match\n"
          ]
        },
        {
          "output_type": "stream",
          "name": "stderr",
          "text": [
            "Evaluating:  51%|█████     | 873/1711 [46:23<38:33,  2.76s/it]"
          ]
        },
        {
          "output_type": "stream",
          "name": "stdout",
          "text": [
            "Karin_Stoiber: Karin_Stoiber_0001.jpg vs Karin_Stoiber_0002.jpg → Similarity: 0.620 → Match\n"
          ]
        },
        {
          "output_type": "stream",
          "name": "stderr",
          "text": [
            "Evaluating:  51%|█████▏    | 877/1711 [46:24<19:00,  1.37s/it]"
          ]
        },
        {
          "output_type": "stream",
          "name": "stdout",
          "text": [
            "Keith_Bogans: Keith_Bogans_0001.jpg vs Keith_Bogans_0002.jpg → Similarity: 0.581 → No Match\n",
            "Keith_Bogans: Keith_Bogans_0001.jpg vs Keith_Bogans_0003.jpg → Similarity: 0.609 → Match\n"
          ]
        },
        {
          "output_type": "stream",
          "name": "stderr",
          "text": [
            "Evaluating:  51%|█████▏    | 881/1711 [46:32<21:17,  1.54s/it]"
          ]
        },
        {
          "output_type": "stream",
          "name": "stdout",
          "text": [
            "Keith_Bogans: Keith_Bogans_0002.jpg vs Keith_Bogans_0003.jpg → Similarity: 0.792 → Match\n"
          ]
        },
        {
          "output_type": "stream",
          "name": "stderr",
          "text": [
            "\rEvaluating:  52%|█████▏    | 883/1711 [46:32<15:11,  1.10s/it]"
          ]
        },
        {
          "output_type": "stream",
          "name": "stdout",
          "text": [
            "Ken_Macha: Ken_Macha_0001.jpg vs Ken_Macha_0002.jpg → Similarity: 0.376 → No Match\n",
            "Ken_Macha: Ken_Macha_0001.jpg vs Ken_Macha_0003.jpg → Similarity: 0.553 → No Match\n"
          ]
        },
        {
          "output_type": "stream",
          "name": "stderr",
          "text": [
            "\rEvaluating:  52%|█████▏    | 885/1711 [46:39<25:08,  1.83s/it]"
          ]
        },
        {
          "output_type": "stream",
          "name": "stdout",
          "text": [
            "Ken_Macha: Ken_Macha_0002.jpg vs Ken_Macha_0003.jpg → Similarity: 0.368 → No Match\n"
          ]
        },
        {
          "output_type": "stream",
          "name": "stderr",
          "text": [
            "Evaluating:  52%|█████▏    | 888/1711 [46:44<21:29,  1.57s/it]"
          ]
        },
        {
          "output_type": "stream",
          "name": "stdout",
          "text": [
            "Kenneth_Evans: Kenneth_Evans_0001.jpg vs Kenneth_Evans_0002.jpg → Similarity: 0.845 → Match\n"
          ]
        },
        {
          "output_type": "stream",
          "name": "stderr",
          "text": [
            "Evaluating:  52%|█████▏    | 894/1711 [46:44<07:29,  1.82it/s]"
          ]
        },
        {
          "output_type": "stream",
          "name": "stdout",
          "text": [
            "Kim_Jong-Il: Kim_Jong-Il_0001.jpg vs Kim_Jong-Il_0002.jpg → Similarity: -0.032 → No Match\n",
            "Kim_Jong-Il: Kim_Jong-Il_0001.jpg vs Kim_Jong-Il_0003.jpg → Similarity: -0.019 → No Match\n",
            "Kim_Jong-Il: Kim_Jong-Il_0001.jpg vs Kim_Jong-Il_0004.jpg → Similarity: -0.061 → No Match\n",
            "Kim_Jong-Il: Kim_Jong-Il_0002.jpg vs Kim_Jong-Il_0003.jpg → Similarity: 0.791 → Match\n",
            "Kim_Jong-Il: Kim_Jong-Il_0002.jpg vs Kim_Jong-Il_0004.jpg → Similarity: 0.810 → Match\n"
          ]
        },
        {
          "output_type": "stream",
          "name": "stderr",
          "text": [
            "\rEvaluating:  52%|█████▏    | 896/1711 [47:01<40:17,  2.97s/it]"
          ]
        },
        {
          "output_type": "stream",
          "name": "stdout",
          "text": [
            "Kim_Jong-Il: Kim_Jong-Il_0003.jpg vs Kim_Jong-Il_0004.jpg → Similarity: 0.804 → Match\n",
            "Kim_Yong-il: Kim_Yong-il_0001.jpg vs Kim_Yong-il_0002.jpg → Similarity: 0.652 → Match\n",
            "Kim_Yong-il: Kim_Yong-il_0001.jpg vs Kim_Yong-il_0003.jpg → Similarity: 0.677 → Match\n"
          ]
        },
        {
          "output_type": "stream",
          "name": "stderr",
          "text": [
            "\rEvaluating:  52%|█████▏    | 897/1711 [47:10<55:31,  4.09s/it]"
          ]
        },
        {
          "output_type": "stream",
          "name": "stdout",
          "text": [
            "Kim_Yong-il: Kim_Yong-il_0002.jpg vs Kim_Yong-il_0003.jpg → Similarity: 0.628 → Match\n",
            "King_Abdullah_II: King_Abdullah_II_0001.jpg vs King_Abdullah_II_0002.jpg → Similarity: 0.768 → Match\n",
            "King_Abdullah_II: King_Abdullah_II_0001.jpg vs King_Abdullah_II_0003.jpg → Similarity: 0.763 → Match\n",
            "King_Abdullah_II: King_Abdullah_II_0001.jpg vs King_Abdullah_II_0004.jpg → Similarity: 0.725 → Match\n",
            "King_Abdullah_II: King_Abdullah_II_0001.jpg vs King_Abdullah_II_0005.jpg → Similarity: 0.755 → Match\n",
            "King_Abdullah_II: King_Abdullah_II_0002.jpg vs King_Abdullah_II_0003.jpg → Similarity: 0.617 → Match\n",
            "King_Abdullah_II: King_Abdullah_II_0002.jpg vs King_Abdullah_II_0004.jpg → Similarity: 0.705 → Match\n",
            "King_Abdullah_II: King_Abdullah_II_0002.jpg vs King_Abdullah_II_0005.jpg → Similarity: 0.610 → Match\n",
            "King_Abdullah_II: King_Abdullah_II_0003.jpg vs King_Abdullah_II_0004.jpg → Similarity: 0.682 → Match\n",
            "King_Abdullah_II: King_Abdullah_II_0003.jpg vs King_Abdullah_II_0005.jpg → Similarity: 0.779 → Match\n"
          ]
        },
        {
          "output_type": "stream",
          "name": "stderr",
          "text": [
            "\rEvaluating:  52%|█████▏    | 898/1711 [47:39<2:03:38,  9.13s/it]"
          ]
        },
        {
          "output_type": "stream",
          "name": "stdout",
          "text": [
            "King_Abdullah_II: King_Abdullah_II_0004.jpg vs King_Abdullah_II_0005.jpg → Similarity: 0.599 → No Match\n"
          ]
        },
        {
          "output_type": "stream",
          "name": "stderr",
          "text": [
            "\rEvaluating:  53%|█████▎    | 900/1711 [47:42<1:24:25,  6.25s/it]"
          ]
        },
        {
          "output_type": "stream",
          "name": "stdout",
          "text": [
            "Kirk_Ferentz: Kirk_Ferentz_0001.jpg vs Kirk_Ferentz_0002.jpg → Similarity: 0.547 → No Match\n",
            "Kjell_Magne_Bondevik: Kjell_Magne_Bondevik_0001.jpg vs Kjell_Magne_Bondevik_0002.jpg → Similarity: 0.601 → Match\n",
            "Kjell_Magne_Bondevik: Kjell_Magne_Bondevik_0001.jpg vs Kjell_Magne_Bondevik_0003.jpg → Similarity: 0.649 → Match\n"
          ]
        },
        {
          "output_type": "stream",
          "name": "stderr",
          "text": [
            "\rEvaluating:  53%|█████▎    | 902/1711 [47:49<1:11:07,  5.28s/it]"
          ]
        },
        {
          "output_type": "stream",
          "name": "stdout",
          "text": [
            "Kjell_Magne_Bondevik: Kjell_Magne_Bondevik_0002.jpg vs Kjell_Magne_Bondevik_0003.jpg → Similarity: 0.609 → Match\n"
          ]
        },
        {
          "output_type": "stream",
          "name": "stderr",
          "text": [
            "\rEvaluating:  53%|█████▎    | 903/1711 [47:52<1:06:41,  4.95s/it]"
          ]
        },
        {
          "output_type": "stream",
          "name": "stdout",
          "text": [
            "Klaus_Zwickel: Klaus_Zwickel_0001.jpg vs Klaus_Zwickel_0002.jpg → Similarity: 0.811 → Match\n",
            "Kofi_Annan: Kofi_Annan_0001.jpg vs Kofi_Annan_0002.jpg → Similarity: 0.809 → Match\n",
            "Kofi_Annan: Kofi_Annan_0001.jpg vs Kofi_Annan_0004.jpg → Similarity: 0.023 → No Match\n",
            "Kofi_Annan: Kofi_Annan_0001.jpg vs Kofi_Annan_0005.jpg → Similarity: 0.788 → Match\n",
            "Kofi_Annan: Kofi_Annan_0002.jpg vs Kofi_Annan_0004.jpg → Similarity: 0.017 → No Match\n",
            "Kofi_Annan: Kofi_Annan_0002.jpg vs Kofi_Annan_0005.jpg → Similarity: 0.823 → Match\n"
          ]
        },
        {
          "output_type": "stream",
          "name": "stderr",
          "text": [
            "Evaluating:  53%|█████▎    | 906/1711 [48:15<1:14:00,  5.52s/it]"
          ]
        },
        {
          "output_type": "stream",
          "name": "stdout",
          "text": [
            "Kofi_Annan: Kofi_Annan_0004.jpg vs Kofi_Annan_0005.jpg → Similarity: 0.061 → No Match\n"
          ]
        },
        {
          "output_type": "stream",
          "name": "stderr",
          "text": [
            "\rEvaluating:  53%|█████▎    | 908/1711 [48:20<57:32,  4.30s/it]  "
          ]
        },
        {
          "output_type": "stream",
          "name": "stdout",
          "text": [
            "Kosuke_Kitajima: Kosuke_Kitajima_0001.jpg vs Kosuke_Kitajima_0002.jpg → Similarity: 0.033 → No Match\n",
            "Kristanna_Loken: Kristanna_Loken_0001.jpg vs Kristanna_Loken_0002.jpg → Similarity: 0.715 → Match\n",
            "Kristanna_Loken: Kristanna_Loken_0001.jpg vs Kristanna_Loken_0003.jpg → Similarity: 0.581 → No Match\n",
            "Kristanna_Loken: Kristanna_Loken_0001.jpg vs Kristanna_Loken_0004.jpg → Similarity: 0.691 → Match\n",
            "Kristanna_Loken: Kristanna_Loken_0001.jpg vs Kristanna_Loken_0005.jpg → Similarity: 0.645 → Match\n",
            "Kristanna_Loken: Kristanna_Loken_0002.jpg vs Kristanna_Loken_0003.jpg → Similarity: 0.557 → No Match\n",
            "Kristanna_Loken: Kristanna_Loken_0002.jpg vs Kristanna_Loken_0004.jpg → Similarity: 0.693 → Match\n",
            "Kristanna_Loken: Kristanna_Loken_0002.jpg vs Kristanna_Loken_0005.jpg → Similarity: 0.626 → Match\n",
            "Kristanna_Loken: Kristanna_Loken_0003.jpg vs Kristanna_Loken_0004.jpg → Similarity: 0.449 → No Match\n",
            "Kristanna_Loken: Kristanna_Loken_0003.jpg vs Kristanna_Loken_0005.jpg → Similarity: 0.508 → No Match\n"
          ]
        },
        {
          "output_type": "stream",
          "name": "stderr",
          "text": [
            "\rEvaluating:  53%|█████▎    | 909/1711 [48:45<1:54:02,  8.53s/it]"
          ]
        },
        {
          "output_type": "stream",
          "name": "stdout",
          "text": [
            "Kristanna_Loken: Kristanna_Loken_0004.jpg vs Kristanna_Loken_0005.jpg → Similarity: 0.687 → Match\n",
            "Kristen_Breitweiser: Kristen_Breitweiser_0001.jpg vs Kristen_Breitweiser_0002.jpg → Similarity: 0.859 → Match\n",
            "Kristen_Breitweiser: Kristen_Breitweiser_0001.jpg vs Kristen_Breitweiser_0003.jpg → Similarity: 0.847 → Match\n"
          ]
        },
        {
          "output_type": "stream",
          "name": "stderr",
          "text": [
            "\rEvaluating:  53%|█████▎    | 910/1711 [48:54<1:54:52,  8.61s/it]"
          ]
        },
        {
          "output_type": "stream",
          "name": "stdout",
          "text": [
            "Kristen_Breitweiser: Kristen_Breitweiser_0002.jpg vs Kristen_Breitweiser_0003.jpg → Similarity: 0.842 → Match\n",
            "Kristin_Davis: Kristin_Davis_0001.jpg vs Kristin_Davis_0002.jpg → Similarity: 0.846 → Match\n",
            "Kristin_Davis: Kristin_Davis_0001.jpg vs Kristin_Davis_0003.jpg → Similarity: 0.749 → Match\n"
          ]
        },
        {
          "output_type": "stream",
          "name": "stderr",
          "text": [
            "Evaluating:  53%|█████▎    | 913/1711 [49:04<1:11:37,  5.39s/it]"
          ]
        },
        {
          "output_type": "stream",
          "name": "stdout",
          "text": [
            "Kristin_Davis: Kristin_Davis_0002.jpg vs Kristin_Davis_0003.jpg → Similarity: 0.752 → Match\n",
            "Kurt_Warner: Kurt_Warner_0001.jpg vs Kurt_Warner_0002.jpg → Similarity: 0.631 → Match\n",
            "Kurt_Warner: Kurt_Warner_0001.jpg vs Kurt_Warner_0003.jpg → Similarity: 0.626 → Match\n",
            "Kurt_Warner: Kurt_Warner_0001.jpg vs Kurt_Warner_0004.jpg → Similarity: 0.658 → Match\n",
            "Kurt_Warner: Kurt_Warner_0001.jpg vs Kurt_Warner_0005.jpg → Similarity: 0.639 → Match\n",
            "Kurt_Warner: Kurt_Warner_0002.jpg vs Kurt_Warner_0003.jpg → Similarity: 0.546 → No Match\n",
            "Kurt_Warner: Kurt_Warner_0002.jpg vs Kurt_Warner_0004.jpg → Similarity: 0.819 → Match\n",
            "Kurt_Warner: Kurt_Warner_0002.jpg vs Kurt_Warner_0005.jpg → Similarity: 0.794 → Match\n",
            "Kurt_Warner: Kurt_Warner_0003.jpg vs Kurt_Warner_0004.jpg → Similarity: 0.534 → No Match\n",
            "Kurt_Warner: Kurt_Warner_0003.jpg vs Kurt_Warner_0005.jpg → Similarity: 0.524 → No Match\n"
          ]
        },
        {
          "output_type": "stream",
          "name": "stderr",
          "text": [
            "\rEvaluating:  53%|█████▎    | 914/1711 [49:33<2:22:01, 10.69s/it]"
          ]
        },
        {
          "output_type": "stream",
          "name": "stdout",
          "text": [
            "Kurt_Warner: Kurt_Warner_0004.jpg vs Kurt_Warner_0005.jpg → Similarity: 0.696 → Match\n",
            "LK_Advani: LK_Advani_0001.jpg vs LK_Advani_0002.jpg → Similarity: 0.182 → No Match\n",
            "LK_Advani: LK_Advani_0001.jpg vs LK_Advani_0003.jpg → Similarity: -0.017 → No Match\n"
          ]
        },
        {
          "output_type": "stream",
          "name": "stderr",
          "text": [
            "\rEvaluating:  54%|█████▎    | 916/1711 [49:45<1:56:17,  8.78s/it]"
          ]
        },
        {
          "output_type": "stream",
          "name": "stdout",
          "text": [
            "LK_Advani: LK_Advani_0002.jpg vs LK_Advani_0003.jpg → Similarity: -0.061 → No Match\n",
            "Lance_Armstrong: Lance_Armstrong_0001.jpg vs Lance_Armstrong_0002.jpg → Similarity: 0.720 → Match\n",
            "Lance_Armstrong: Lance_Armstrong_0001.jpg vs Lance_Armstrong_0003.jpg → Similarity: 0.593 → No Match\n",
            "Lance_Armstrong: Lance_Armstrong_0001.jpg vs Lance_Armstrong_0004.jpg → Similarity: 0.685 → Match\n",
            "Lance_Armstrong: Lance_Armstrong_0001.jpg vs Lance_Armstrong_0005.jpg → Similarity: 0.558 → No Match\n",
            "Lance_Armstrong: Lance_Armstrong_0002.jpg vs Lance_Armstrong_0003.jpg → Similarity: 0.621 → Match\n",
            "Lance_Armstrong: Lance_Armstrong_0002.jpg vs Lance_Armstrong_0004.jpg → Similarity: 0.690 → Match\n",
            "Lance_Armstrong: Lance_Armstrong_0002.jpg vs Lance_Armstrong_0005.jpg → Similarity: 0.587 → No Match\n",
            "Lance_Armstrong: Lance_Armstrong_0003.jpg vs Lance_Armstrong_0004.jpg → Similarity: 0.548 → No Match\n",
            "Lance_Armstrong: Lance_Armstrong_0003.jpg vs Lance_Armstrong_0005.jpg → Similarity: 0.474 → No Match\n"
          ]
        },
        {
          "output_type": "stream",
          "name": "stderr",
          "text": [
            "\rEvaluating:  54%|█████▎    | 917/1711 [50:08<2:36:51, 11.85s/it]"
          ]
        },
        {
          "output_type": "stream",
          "name": "stdout",
          "text": [
            "Lance_Armstrong: Lance_Armstrong_0004.jpg vs Lance_Armstrong_0005.jpg → Similarity: 0.574 → No Match\n",
            "Lance_Bass: Lance_Bass_0001.jpg vs Lance_Bass_0002.jpg → Similarity: 0.700 → Match\n",
            "Lance_Bass: Lance_Bass_0001.jpg vs Lance_Bass_0003.jpg → Similarity: 0.731 → Match\n",
            "Lance_Bass: Lance_Bass_0001.jpg vs Lance_Bass_0004.jpg → Similarity: 0.710 → Match\n",
            "Lance_Bass: Lance_Bass_0001.jpg vs Lance_Bass_0005.jpg → Similarity: 0.602 → Match\n",
            "Lance_Bass: Lance_Bass_0002.jpg vs Lance_Bass_0003.jpg → Similarity: 0.712 → Match\n",
            "Lance_Bass: Lance_Bass_0002.jpg vs Lance_Bass_0004.jpg → Similarity: 0.653 → Match\n",
            "Lance_Bass: Lance_Bass_0002.jpg vs Lance_Bass_0005.jpg → Similarity: 0.603 → Match\n",
            "Lance_Bass: Lance_Bass_0003.jpg vs Lance_Bass_0004.jpg → Similarity: 0.650 → Match\n",
            "Lance_Bass: Lance_Bass_0003.jpg vs Lance_Bass_0005.jpg → Similarity: 0.563 → No Match\n"
          ]
        },
        {
          "output_type": "stream",
          "name": "stderr",
          "text": [
            "Evaluating:  54%|█████▍    | 920/1711 [50:37<2:05:20,  9.51s/it]"
          ]
        },
        {
          "output_type": "stream",
          "name": "stdout",
          "text": [
            "Lance_Bass: Lance_Bass_0004.jpg vs Lance_Bass_0005.jpg → Similarity: 0.603 → Match\n"
          ]
        },
        {
          "output_type": "stream",
          "name": "stderr",
          "text": [
            "\rEvaluating:  54%|█████▍    | 921/1711 [50:40<1:46:31,  8.09s/it]"
          ]
        },
        {
          "output_type": "stream",
          "name": "stdout",
          "text": [
            "Larry_Bowa: Larry_Bowa_0001.jpg vs Larry_Bowa_0002.jpg → Similarity: 0.745 → Match\n",
            "Larry_Coker: Larry_Coker_0001.jpg vs Larry_Coker_0002.jpg → Similarity: 0.745 → Match\n",
            "Larry_Coker: Larry_Coker_0001.jpg vs Larry_Coker_0003.jpg → Similarity: 0.725 → Match\n",
            "Larry_Coker: Larry_Coker_0001.jpg vs Larry_Coker_0004.jpg → Similarity: 0.692 → Match\n",
            "Larry_Coker: Larry_Coker_0002.jpg vs Larry_Coker_0003.jpg → Similarity: 0.632 → Match\n",
            "Larry_Coker: Larry_Coker_0002.jpg vs Larry_Coker_0004.jpg → Similarity: 0.700 → Match\n"
          ]
        },
        {
          "output_type": "stream",
          "name": "stderr",
          "text": [
            "Evaluating:  54%|█████▍    | 924/1711 [50:55<1:15:36,  5.76s/it]"
          ]
        },
        {
          "output_type": "stream",
          "name": "stdout",
          "text": [
            "Larry_Coker: Larry_Coker_0003.jpg vs Larry_Coker_0004.jpg → Similarity: 0.696 → Match\n"
          ]
        },
        {
          "output_type": "stream",
          "name": "stderr",
          "text": [
            "\rEvaluating:  54%|█████▍    | 926/1711 [50:55<48:01,  3.67s/it]  "
          ]
        },
        {
          "output_type": "stream",
          "name": "stdout",
          "text": [
            "Larry_Thompson: Larry_Thompson_0001.jpg vs Larry_Thompson_0002.jpg → Similarity: 0.796 → Match\n",
            "Larry_Thompson: Larry_Thompson_0001.jpg vs Larry_Thompson_0003.jpg → Similarity: 0.649 → Match\n",
            "Larry_Thompson: Larry_Thompson_0001.jpg vs Larry_Thompson_0004.jpg → Similarity: 0.735 → Match\n",
            "Larry_Thompson: Larry_Thompson_0002.jpg vs Larry_Thompson_0003.jpg → Similarity: 0.676 → Match\n",
            "Larry_Thompson: Larry_Thompson_0002.jpg vs Larry_Thompson_0004.jpg → Similarity: 0.771 → Match\n"
          ]
        },
        {
          "output_type": "stream",
          "name": "stderr",
          "text": [
            "\rEvaluating:  54%|█████▍    | 928/1711 [51:11<1:08:21,  5.24s/it]"
          ]
        },
        {
          "output_type": "stream",
          "name": "stdout",
          "text": [
            "Larry_Thompson: Larry_Thompson_0003.jpg vs Larry_Thompson_0004.jpg → Similarity: 0.751 → Match\n"
          ]
        },
        {
          "output_type": "stream",
          "name": "stderr",
          "text": [
            "\rEvaluating:  54%|█████▍    | 930/1711 [51:14<51:13,  3.94s/it]  "
          ]
        },
        {
          "output_type": "stream",
          "name": "stdout",
          "text": [
            "Latrell_Sprewell: Latrell_Sprewell_0001.jpg vs Latrell_Sprewell_0002.jpg → Similarity: 0.500 → No Match\n",
            "Laura_Linney: Laura_Linney_0001.jpg vs Laura_Linney_0002.jpg → Similarity: 0.660 → Match\n",
            "Laura_Linney: Laura_Linney_0001.jpg vs Laura_Linney_0003.jpg → Similarity: 0.675 → Match\n",
            "Laura_Linney: Laura_Linney_0001.jpg vs Laura_Linney_0004.jpg → Similarity: 0.693 → Match\n",
            "Laura_Linney: Laura_Linney_0002.jpg vs Laura_Linney_0003.jpg → Similarity: 0.709 → Match\n",
            "Laura_Linney: Laura_Linney_0002.jpg vs Laura_Linney_0004.jpg → Similarity: 0.683 → Match\n"
          ]
        },
        {
          "output_type": "stream",
          "name": "stderr",
          "text": [
            "Evaluating:  55%|█████▍    | 934/1711 [51:28<44:31,  3.44s/it]  "
          ]
        },
        {
          "output_type": "stream",
          "name": "stdout",
          "text": [
            "Laura_Linney: Laura_Linney_0003.jpg vs Laura_Linney_0004.jpg → Similarity: 0.655 → Match\n"
          ]
        },
        {
          "output_type": "stream",
          "name": "stderr",
          "text": [
            "\rEvaluating:  55%|█████▍    | 936/1711 [51:34<41:11,  3.19s/it]"
          ]
        },
        {
          "output_type": "stream",
          "name": "stdout",
          "text": [
            "Lauren_Killian: Lauren_Killian_0001.jpg vs Lauren_Killian_0002.jpg → Similarity: 0.729 → Match\n"
          ]
        },
        {
          "output_type": "stream",
          "name": "stderr",
          "text": [
            "Evaluating:  55%|█████▍    | 939/1711 [51:37<26:41,  2.07s/it]"
          ]
        },
        {
          "output_type": "stream",
          "name": "stdout",
          "text": [
            "Laurent_Jalabert: Laurent_Jalabert_0001.jpg vs Laurent_Jalabert_0002.jpg → Similarity: 0.799 → Match\n"
          ]
        },
        {
          "output_type": "stream",
          "name": "stderr",
          "text": [
            "\rEvaluating:  55%|█████▍    | 941/1711 [51:37<18:16,  1.42s/it]"
          ]
        },
        {
          "output_type": "stream",
          "name": "stdout",
          "text": [
            "LeBron_James: LeBron_James_0001.jpg vs LeBron_James_0002.jpg → Similarity: 0.768 → Match\n",
            "LeBron_James: LeBron_James_0001.jpg vs LeBron_James_0003.jpg → Similarity: 0.592 → No Match\n",
            "LeBron_James: LeBron_James_0001.jpg vs LeBron_James_0004.jpg → Similarity: 0.656 → Match\n",
            "LeBron_James: LeBron_James_0001.jpg vs LeBron_James_0005.jpg → Similarity: 0.664 → Match\n",
            "LeBron_James: LeBron_James_0002.jpg vs LeBron_James_0003.jpg → Similarity: 0.641 → Match\n",
            "LeBron_James: LeBron_James_0002.jpg vs LeBron_James_0004.jpg → Similarity: 0.588 → No Match\n",
            "LeBron_James: LeBron_James_0002.jpg vs LeBron_James_0005.jpg → Similarity: 0.695 → Match\n",
            "LeBron_James: LeBron_James_0003.jpg vs LeBron_James_0004.jpg → Similarity: 0.637 → Match\n",
            "LeBron_James: LeBron_James_0003.jpg vs LeBron_James_0005.jpg → Similarity: 0.680 → Match\n"
          ]
        },
        {
          "output_type": "stream",
          "name": "stderr",
          "text": [
            "\rEvaluating:  55%|█████▌    | 942/1711 [52:03<1:18:37,  6.13s/it]"
          ]
        },
        {
          "output_type": "stream",
          "name": "stdout",
          "text": [
            "LeBron_James: LeBron_James_0004.jpg vs LeBron_James_0005.jpg → Similarity: 0.522 → No Match\n"
          ]
        },
        {
          "output_type": "stream",
          "name": "stderr",
          "text": [
            "Evaluating:  55%|█████▌    | 946/1711 [52:08<40:40,  3.19s/it]  "
          ]
        },
        {
          "output_type": "stream",
          "name": "stdout",
          "text": [
            "Lea_Fastow: Lea_Fastow_0001.jpg vs Lea_Fastow_0002.jpg → Similarity: 0.811 → Match\n"
          ]
        },
        {
          "output_type": "stream",
          "name": "stderr",
          "text": [
            "Evaluating:  56%|█████▌    | 952/1711 [52:08<13:33,  1.07s/it]"
          ]
        },
        {
          "output_type": "stream",
          "name": "stdout",
          "text": [
            "Leonardo_DiCaprio: Leonardo_DiCaprio_0001.jpg vs Leonardo_DiCaprio_0002.jpg → Similarity: 0.870 → Match\n",
            "Leonardo_DiCaprio: Leonardo_DiCaprio_0001.jpg vs Leonardo_DiCaprio_0003.jpg → Similarity: 0.677 → Match\n",
            "Leonardo_DiCaprio: Leonardo_DiCaprio_0001.jpg vs Leonardo_DiCaprio_0004.jpg → Similarity: 0.668 → Match\n",
            "Leonardo_DiCaprio: Leonardo_DiCaprio_0001.jpg vs Leonardo_DiCaprio_0005.jpg → Similarity: 0.675 → Match\n",
            "Leonardo_DiCaprio: Leonardo_DiCaprio_0002.jpg vs Leonardo_DiCaprio_0003.jpg → Similarity: 0.670 → Match\n",
            "Leonardo_DiCaprio: Leonardo_DiCaprio_0002.jpg vs Leonardo_DiCaprio_0004.jpg → Similarity: 0.665 → Match\n"
          ]
        },
        {
          "output_type": "stream",
          "name": "stderr",
          "text": [
            "\rEvaluating:  56%|█████▌    | 952/1711 [52:23<13:33,  1.07s/it]"
          ]
        },
        {
          "output_type": "stream",
          "name": "stdout",
          "text": [
            "Leonardo_DiCaprio: Leonardo_DiCaprio_0002.jpg vs Leonardo_DiCaprio_0005.jpg → Similarity: 0.650 → Match\n",
            "Leonardo_DiCaprio: Leonardo_DiCaprio_0003.jpg vs Leonardo_DiCaprio_0004.jpg → Similarity: 0.789 → Match\n",
            "Leonardo_DiCaprio: Leonardo_DiCaprio_0003.jpg vs Leonardo_DiCaprio_0005.jpg → Similarity: 0.800 → Match\n"
          ]
        },
        {
          "output_type": "stream",
          "name": "stderr",
          "text": [
            "\rEvaluating:  56%|█████▌    | 953/1711 [52:32<1:07:07,  5.31s/it]"
          ]
        },
        {
          "output_type": "stream",
          "name": "stdout",
          "text": [
            "Leonardo_DiCaprio: Leonardo_DiCaprio_0004.jpg vs Leonardo_DiCaprio_0005.jpg → Similarity: 0.711 → Match\n",
            "Leonid_Kuchma: Leonid_Kuchma_0001.jpg vs Leonid_Kuchma_0002.jpg → Similarity: 0.727 → Match\n",
            "Leonid_Kuchma: Leonid_Kuchma_0001.jpg vs Leonid_Kuchma_0003.jpg → Similarity: 0.730 → Match\n",
            "Leonid_Kuchma: Leonid_Kuchma_0001.jpg vs Leonid_Kuchma_0004.jpg → Similarity: 0.727 → Match\n",
            "Leonid_Kuchma: Leonid_Kuchma_0001.jpg vs Leonid_Kuchma_0005.jpg → Similarity: 0.784 → Match\n",
            "Leonid_Kuchma: Leonid_Kuchma_0002.jpg vs Leonid_Kuchma_0003.jpg → Similarity: 0.811 → Match\n",
            "Leonid_Kuchma: Leonid_Kuchma_0002.jpg vs Leonid_Kuchma_0004.jpg → Similarity: 0.741 → Match\n",
            "Leonid_Kuchma: Leonid_Kuchma_0002.jpg vs Leonid_Kuchma_0005.jpg → Similarity: 0.715 → Match\n",
            "Leonid_Kuchma: Leonid_Kuchma_0003.jpg vs Leonid_Kuchma_0004.jpg → Similarity: 0.828 → Match\n",
            "Leonid_Kuchma: Leonid_Kuchma_0003.jpg vs Leonid_Kuchma_0005.jpg → Similarity: 0.689 → Match\n"
          ]
        },
        {
          "output_type": "stream",
          "name": "stderr",
          "text": [
            "Evaluating:  56%|█████▌    | 955/1711 [52:59<1:34:33,  7.51s/it]"
          ]
        },
        {
          "output_type": "stream",
          "name": "stdout",
          "text": [
            "Leonid_Kuchma: Leonid_Kuchma_0004.jpg vs Leonid_Kuchma_0005.jpg → Similarity: 0.649 → Match\n"
          ]
        },
        {
          "output_type": "stream",
          "name": "stderr",
          "text": [
            "\rEvaluating:  56%|█████▌    | 956/1711 [53:03<1:22:57,  6.59s/it]"
          ]
        },
        {
          "output_type": "stream",
          "name": "stdout",
          "text": [
            "Leslie_Moonves: Leslie_Moonves_0001.jpg vs Leslie_Moonves_0002.jpg → Similarity: 0.721 → Match\n",
            "Leszek_Miller: Leszek_Miller_0001.jpg vs Leszek_Miller_0002.jpg → Similarity: 0.689 → Match\n",
            "Leszek_Miller: Leszek_Miller_0001.jpg vs Leszek_Miller_0003.jpg → Similarity: 0.665 → Match\n"
          ]
        },
        {
          "output_type": "stream",
          "name": "stderr",
          "text": [
            "\rEvaluating:  56%|█████▌    | 958/1711 [53:13<1:15:45,  6.04s/it]"
          ]
        },
        {
          "output_type": "stream",
          "name": "stdout",
          "text": [
            "Leszek_Miller: Leszek_Miller_0002.jpg vs Leszek_Miller_0003.jpg → Similarity: 0.731 → Match\n"
          ]
        },
        {
          "output_type": "stream",
          "name": "stderr",
          "text": [
            "Evaluating:  56%|█████▌    | 962/1711 [53:16<35:40,  2.86s/it]"
          ]
        },
        {
          "output_type": "stream",
          "name": "stdout",
          "text": [
            "Lily_Tomlin: Lily_Tomlin_0001.jpg vs Lily_Tomlin_0002.jpg → Similarity: 0.569 → No Match\n"
          ]
        },
        {
          "output_type": "stream",
          "name": "stderr",
          "text": [
            "\rEvaluating:  56%|█████▋    | 964/1711 [53:17<24:09,  1.94s/it]"
          ]
        },
        {
          "output_type": "stream",
          "name": "stdout",
          "text": [
            "Lino_Oviedo: Lino_Oviedo_0001.jpg vs Lino_Oviedo_0002.jpg → Similarity: 0.816 → Match\n",
            "Lino_Oviedo: Lino_Oviedo_0001.jpg vs Lino_Oviedo_0003.jpg → Similarity: 0.878 → Match\n"
          ]
        },
        {
          "output_type": "stream",
          "name": "stderr",
          "text": [
            "Evaluating:  57%|█████▋    | 968/1711 [53:30<29:06,  2.35s/it]"
          ]
        },
        {
          "output_type": "stream",
          "name": "stdout",
          "text": [
            "Lino_Oviedo: Lino_Oviedo_0002.jpg vs Lino_Oviedo_0003.jpg → Similarity: 0.778 → Match\n",
            "Lisa_Marie_Presley: Lisa_Marie_Presley_0001.jpg vs Lisa_Marie_Presley_0002.jpg → Similarity: 0.643 → Match\n",
            "Lisa_Marie_Presley: Lisa_Marie_Presley_0001.jpg vs Lisa_Marie_Presley_0003.jpg → Similarity: 0.605 → Match\n",
            "Lisa_Marie_Presley: Lisa_Marie_Presley_0001.jpg vs Lisa_Marie_Presley_0004.jpg → Similarity: 0.597 → No Match\n",
            "Lisa_Marie_Presley: Lisa_Marie_Presley_0002.jpg vs Lisa_Marie_Presley_0003.jpg → Similarity: 0.795 → Match\n",
            "Lisa_Marie_Presley: Lisa_Marie_Presley_0002.jpg vs Lisa_Marie_Presley_0004.jpg → Similarity: 0.670 → Match\n"
          ]
        },
        {
          "output_type": "stream",
          "name": "stderr",
          "text": [
            "\rEvaluating:  57%|█████▋    | 969/1711 [53:44<56:54,  4.60s/it]"
          ]
        },
        {
          "output_type": "stream",
          "name": "stdout",
          "text": [
            "Lisa_Marie_Presley: Lisa_Marie_Presley_0003.jpg vs Lisa_Marie_Presley_0004.jpg → Similarity: 0.630 → Match\n"
          ]
        },
        {
          "output_type": "stream",
          "name": "stderr",
          "text": [
            "\rEvaluating:  57%|█████▋    | 971/1711 [53:46<41:45,  3.39s/it]"
          ]
        },
        {
          "output_type": "stream",
          "name": "stdout",
          "text": [
            "Liza_Minnelli: Liza_Minnelli_0001.jpg vs Liza_Minnelli_0002.jpg → Similarity: 0.713 → Match\n",
            "Liza_Minnelli: Liza_Minnelli_0001.jpg vs Liza_Minnelli_0003.jpg → Similarity: 0.689 → Match\n",
            "Liza_Minnelli: Liza_Minnelli_0001.jpg vs Liza_Minnelli_0004.jpg → Similarity: 0.621 → Match\n",
            "Liza_Minnelli: Liza_Minnelli_0001.jpg vs Liza_Minnelli_0005.jpg → Similarity: 0.541 → No Match\n",
            "Liza_Minnelli: Liza_Minnelli_0002.jpg vs Liza_Minnelli_0003.jpg → Similarity: 0.797 → Match\n",
            "Liza_Minnelli: Liza_Minnelli_0002.jpg vs Liza_Minnelli_0004.jpg → Similarity: 0.572 → No Match\n",
            "Liza_Minnelli: Liza_Minnelli_0002.jpg vs Liza_Minnelli_0005.jpg → Similarity: 0.498 → No Match\n",
            "Liza_Minnelli: Liza_Minnelli_0003.jpg vs Liza_Minnelli_0004.jpg → Similarity: 0.614 → Match\n",
            "Liza_Minnelli: Liza_Minnelli_0003.jpg vs Liza_Minnelli_0005.jpg → Similarity: 0.584 → No Match\n"
          ]
        },
        {
          "output_type": "stream",
          "name": "stderr",
          "text": [
            "\rEvaluating:  57%|█████▋    | 972/1711 [54:15<1:42:55,  8.36s/it]"
          ]
        },
        {
          "output_type": "stream",
          "name": "stdout",
          "text": [
            "Liza_Minnelli: Liza_Minnelli_0004.jpg vs Liza_Minnelli_0005.jpg → Similarity: 0.707 → Match\n"
          ]
        },
        {
          "output_type": "stream",
          "name": "stderr",
          "text": [
            "\rEvaluating:  57%|█████▋    | 974/1711 [54:18<1:11:55,  5.86s/it]"
          ]
        },
        {
          "output_type": "stream",
          "name": "stdout",
          "text": [
            "Lloyd_Ward: Lloyd_Ward_0001.jpg vs Lloyd_Ward_0002.jpg → Similarity: 0.695 → Match\n"
          ]
        },
        {
          "output_type": "stream",
          "name": "stderr",
          "text": [
            "Evaluating:  57%|█████▋    | 977/1711 [54:18<38:40,  3.16s/it]"
          ]
        },
        {
          "output_type": "stream",
          "name": "stdout",
          "text": [
            "Luciano_Pavarotti: Luciano_Pavarotti_0001.jpg vs Luciano_Pavarotti_0002.jpg → Similarity: 0.851 → Match\n",
            "Luciano_Pavarotti: Luciano_Pavarotti_0001.jpg vs Luciano_Pavarotti_0003.jpg → Similarity: 0.778 → Match\n"
          ]
        },
        {
          "output_type": "stream",
          "name": "stderr",
          "text": [
            "\rEvaluating:  57%|█████▋    | 978/1711 [54:26<52:04,  4.26s/it]"
          ]
        },
        {
          "output_type": "stream",
          "name": "stdout",
          "text": [
            "Luciano_Pavarotti: Luciano_Pavarotti_0002.jpg vs Luciano_Pavarotti_0003.jpg → Similarity: 0.840 → Match\n",
            "Lucio_Gutierrez: Lucio_Gutierrez_0001.jpg vs Lucio_Gutierrez_0002.jpg → Similarity: 0.682 → Match\n",
            "Lucio_Gutierrez: Lucio_Gutierrez_0001.jpg vs Lucio_Gutierrez_0003.jpg → Similarity: 0.664 → Match\n",
            "Lucio_Gutierrez: Lucio_Gutierrez_0001.jpg vs Lucio_Gutierrez_0004.jpg → Similarity: 0.702 → Match\n",
            "Lucio_Gutierrez: Lucio_Gutierrez_0001.jpg vs Lucio_Gutierrez_0005.jpg → Similarity: 0.724 → Match\n",
            "Lucio_Gutierrez: Lucio_Gutierrez_0002.jpg vs Lucio_Gutierrez_0003.jpg → Similarity: 0.675 → Match\n",
            "Lucio_Gutierrez: Lucio_Gutierrez_0002.jpg vs Lucio_Gutierrez_0004.jpg → Similarity: 0.593 → No Match\n",
            "Lucio_Gutierrez: Lucio_Gutierrez_0002.jpg vs Lucio_Gutierrez_0005.jpg → Similarity: 0.629 → Match\n",
            "Lucio_Gutierrez: Lucio_Gutierrez_0003.jpg vs Lucio_Gutierrez_0004.jpg → Similarity: 0.658 → Match\n",
            "Lucio_Gutierrez: Lucio_Gutierrez_0003.jpg vs Lucio_Gutierrez_0005.jpg → Similarity: 0.628 → Match\n"
          ]
        },
        {
          "output_type": "stream",
          "name": "stderr",
          "text": [
            "\rEvaluating:  57%|█████▋    | 980/1711 [54:53<1:35:08,  7.81s/it]"
          ]
        },
        {
          "output_type": "stream",
          "name": "stdout",
          "text": [
            "Lucio_Gutierrez: Lucio_Gutierrez_0004.jpg vs Lucio_Gutierrez_0005.jpg → Similarity: 0.743 → Match\n",
            "Lucy_Liu: Lucy_Liu_0001.jpg vs Lucy_Liu_0002.jpg → Similarity: 0.612 → Match\n",
            "Lucy_Liu: Lucy_Liu_0001.jpg vs Lucy_Liu_0003.jpg → Similarity: 0.619 → Match\n",
            "Lucy_Liu: Lucy_Liu_0001.jpg vs Lucy_Liu_0004.jpg → Similarity: 0.501 → No Match\n",
            "Lucy_Liu: Lucy_Liu_0001.jpg vs Lucy_Liu_0005.jpg → Similarity: 0.539 → No Match\n",
            "Lucy_Liu: Lucy_Liu_0002.jpg vs Lucy_Liu_0003.jpg → Similarity: 0.684 → Match\n",
            "Lucy_Liu: Lucy_Liu_0002.jpg vs Lucy_Liu_0004.jpg → Similarity: 0.516 → No Match\n",
            "Lucy_Liu: Lucy_Liu_0002.jpg vs Lucy_Liu_0005.jpg → Similarity: 0.616 → Match\n",
            "Lucy_Liu: Lucy_Liu_0003.jpg vs Lucy_Liu_0004.jpg → Similarity: 0.562 → No Match\n",
            "Lucy_Liu: Lucy_Liu_0003.jpg vs Lucy_Liu_0005.jpg → Similarity: 0.751 → Match\n"
          ]
        },
        {
          "output_type": "stream",
          "name": "stderr",
          "text": [
            "\rEvaluating:  57%|█████▋    | 982/1711 [55:23<2:04:20, 10.23s/it]"
          ]
        },
        {
          "output_type": "stream",
          "name": "stdout",
          "text": [
            "Lucy_Liu: Lucy_Liu_0004.jpg vs Lucy_Liu_0005.jpg → Similarity: 0.572 → No Match\n",
            "Luis_Ernesto_Derbez_Bautista: Luis_Ernesto_Derbez_Bautista_0001.jpg vs Luis_Ernesto_Derbez_Bautista_0002.jpg → Similarity: 0.737 → Match\n",
            "Luis_Ernesto_Derbez_Bautista: Luis_Ernesto_Derbez_Bautista_0001.jpg vs Luis_Ernesto_Derbez_Bautista_0003.jpg → Similarity: 0.630 → Match\n",
            "Luis_Ernesto_Derbez_Bautista: Luis_Ernesto_Derbez_Bautista_0001.jpg vs Luis_Ernesto_Derbez_Bautista_0004.jpg → Similarity: 0.731 → Match\n",
            "Luis_Ernesto_Derbez_Bautista: Luis_Ernesto_Derbez_Bautista_0001.jpg vs Luis_Ernesto_Derbez_Bautista_0005.jpg → Similarity: 0.704 → Match\n",
            "Luis_Ernesto_Derbez_Bautista: Luis_Ernesto_Derbez_Bautista_0002.jpg vs Luis_Ernesto_Derbez_Bautista_0003.jpg → Similarity: 0.653 → Match\n",
            "Luis_Ernesto_Derbez_Bautista: Luis_Ernesto_Derbez_Bautista_0002.jpg vs Luis_Ernesto_Derbez_Bautista_0004.jpg → Similarity: 0.680 → Match\n",
            "Luis_Ernesto_Derbez_Bautista: Luis_Ernesto_Derbez_Bautista_0002.jpg vs Luis_Ernesto_Derbez_Bautista_0005.jpg → Similarity: 0.607 → Match\n",
            "Luis_Ernesto_Derbez_Bautista: Luis_Ernesto_Derbez_Bautista_0003.jpg vs Luis_Ernesto_Derbez_Bautista_0004.jpg → Similarity: 0.599 → No Match\n",
            "Luis_Ernesto_Derbez_Bautista: Luis_Ernesto_Derbez_Bautista_0003.jpg vs Luis_Ernesto_Derbez_Bautista_0005.jpg → Similarity: 0.588 → No Match\n"
          ]
        },
        {
          "output_type": "stream",
          "name": "stderr",
          "text": [
            "\rEvaluating:  58%|█████▊    | 984/1711 [55:49<2:16:39, 11.28s/it]"
          ]
        },
        {
          "output_type": "stream",
          "name": "stdout",
          "text": [
            "Luis_Ernesto_Derbez_Bautista: Luis_Ernesto_Derbez_Bautista_0004.jpg vs Luis_Ernesto_Derbez_Bautista_0005.jpg → Similarity: 0.830 → Match\n",
            "Luis_Figo: Luis_Figo_0001.jpg vs Luis_Figo_0002.jpg → Similarity: 0.642 → Match\n",
            "Luis_Figo: Luis_Figo_0001.jpg vs Luis_Figo_0003.jpg → Similarity: 0.685 → Match\n",
            "Luis_Figo: Luis_Figo_0001.jpg vs Luis_Figo_0004.jpg → Similarity: 0.718 → Match\n",
            "Luis_Figo: Luis_Figo_0002.jpg vs Luis_Figo_0003.jpg → Similarity: 0.654 → Match\n",
            "Luis_Figo: Luis_Figo_0002.jpg vs Luis_Figo_0004.jpg → Similarity: 0.665 → Match\n"
          ]
        },
        {
          "output_type": "stream",
          "name": "stderr",
          "text": [
            "\rEvaluating:  58%|█████▊    | 985/1711 [56:06<2:28:35, 12.28s/it]"
          ]
        },
        {
          "output_type": "stream",
          "name": "stdout",
          "text": [
            "Luis_Figo: Luis_Figo_0003.jpg vs Luis_Figo_0004.jpg → Similarity: 0.789 → Match\n",
            "Luis_Horna: Luis_Horna_0001.jpg vs Luis_Horna_0002.jpg → Similarity: 0.570 → No Match\n",
            "Luis_Horna: Luis_Horna_0001.jpg vs Luis_Horna_0003.jpg → Similarity: 0.758 → Match\n",
            "Luis_Horna: Luis_Horna_0001.jpg vs Luis_Horna_0004.jpg → Similarity: 0.669 → Match\n",
            "Luis_Horna: Luis_Horna_0001.jpg vs Luis_Horna_0005.jpg → Similarity: 0.696 → Match\n",
            "Luis_Horna: Luis_Horna_0002.jpg vs Luis_Horna_0003.jpg → Similarity: 0.560 → No Match\n",
            "Luis_Horna: Luis_Horna_0002.jpg vs Luis_Horna_0004.jpg → Similarity: 0.427 → No Match\n",
            "Luis_Horna: Luis_Horna_0002.jpg vs Luis_Horna_0005.jpg → Similarity: 0.478 → No Match\n",
            "Luis_Horna: Luis_Horna_0003.jpg vs Luis_Horna_0004.jpg → Similarity: 0.669 → Match\n",
            "Luis_Horna: Luis_Horna_0003.jpg vs Luis_Horna_0005.jpg → Similarity: 0.720 → Match\n"
          ]
        },
        {
          "output_type": "stream",
          "name": "stderr",
          "text": [
            "Evaluating:  58%|█████▊    | 988/1711 [56:30<1:51:13,  9.23s/it]"
          ]
        },
        {
          "output_type": "stream",
          "name": "stdout",
          "text": [
            "Luis_Horna: Luis_Horna_0004.jpg vs Luis_Horna_0005.jpg → Similarity: 0.843 → Match\n"
          ]
        },
        {
          "output_type": "stream",
          "name": "stderr",
          "text": [
            "\rEvaluating:  58%|█████▊    | 990/1711 [56:36<1:23:37,  6.96s/it]"
          ]
        },
        {
          "output_type": "stream",
          "name": "stdout",
          "text": [
            "Lynn_Abraham: Lynn_Abraham_0001.jpg vs Lynn_Abraham_0002.jpg → Similarity: 0.819 → Match\n"
          ]
        },
        {
          "output_type": "stream",
          "name": "stderr",
          "text": [
            "Evaluating:  58%|█████▊    | 994/1711 [56:39<41:35,  3.48s/it]  "
          ]
        },
        {
          "output_type": "stream",
          "name": "stdout",
          "text": [
            "Mack_Brown: Mack_Brown_0001.jpg vs Mack_Brown_0002.jpg → Similarity: 0.584 → No Match\n",
            "Mahmoud_Abbas: Mahmoud_Abbas_0001.jpg vs Mahmoud_Abbas_0002.jpg → Similarity: 0.592 → No Match\n",
            "Mahmoud_Abbas: Mahmoud_Abbas_0001.jpg vs Mahmoud_Abbas_0003.jpg → Similarity: 0.669 → Match\n",
            "Mahmoud_Abbas: Mahmoud_Abbas_0001.jpg vs Mahmoud_Abbas_0004.jpg → Similarity: 0.803 → Match\n",
            "Mahmoud_Abbas: Mahmoud_Abbas_0001.jpg vs Mahmoud_Abbas_0005.jpg → Similarity: 0.632 → Match\n",
            "Mahmoud_Abbas: Mahmoud_Abbas_0002.jpg vs Mahmoud_Abbas_0003.jpg → Similarity: 0.638 → Match\n",
            "Mahmoud_Abbas: Mahmoud_Abbas_0002.jpg vs Mahmoud_Abbas_0004.jpg → Similarity: 0.618 → Match\n",
            "Mahmoud_Abbas: Mahmoud_Abbas_0002.jpg vs Mahmoud_Abbas_0005.jpg → Similarity: 0.678 → Match\n",
            "Mahmoud_Abbas: Mahmoud_Abbas_0003.jpg vs Mahmoud_Abbas_0004.jpg → Similarity: 0.725 → Match\n",
            "Mahmoud_Abbas: Mahmoud_Abbas_0003.jpg vs Mahmoud_Abbas_0005.jpg → Similarity: 0.681 → Match\n"
          ]
        },
        {
          "output_type": "stream",
          "name": "stderr",
          "text": [
            "\rEvaluating:  58%|█████▊    | 996/1711 [57:03<1:14:18,  6.24s/it]"
          ]
        },
        {
          "output_type": "stream",
          "name": "stdout",
          "text": [
            "Mahmoud_Abbas: Mahmoud_Abbas_0004.jpg vs Mahmoud_Abbas_0005.jpg → Similarity: 0.610 → Match\n",
            "Makhdoom_Amin_Fahim: Makhdoom_Amin_Fahim_0001.jpg vs Makhdoom_Amin_Fahim_0002.jpg → Similarity: 0.767 → Match\n",
            "Makhdoom_Amin_Fahim: Makhdoom_Amin_Fahim_0001.jpg vs Makhdoom_Amin_Fahim_0003.jpg → Similarity: 0.825 → Match\n"
          ]
        },
        {
          "output_type": "stream",
          "name": "stderr",
          "text": [
            "Evaluating:  58%|█████▊    | 999/1711 [57:18<59:59,  5.05s/it]  "
          ]
        },
        {
          "output_type": "stream",
          "name": "stdout",
          "text": [
            "Makhdoom_Amin_Fahim: Makhdoom_Amin_Fahim_0002.jpg vs Makhdoom_Amin_Fahim_0003.jpg → Similarity: 0.814 → Match\n"
          ]
        },
        {
          "output_type": "stream",
          "name": "stderr",
          "text": [
            "Evaluating:  59%|█████▉    | 1007/1711 [57:18<13:32,  1.15s/it]"
          ]
        },
        {
          "output_type": "stream",
          "name": "stdout",
          "text": [
            "Marcelo_Rios: Marcelo_Rios_0001.jpg vs Marcelo_Rios_0002.jpg → Similarity: 0.717 → Match\n",
            "Marcelo_Rios: Marcelo_Rios_0001.jpg vs Marcelo_Rios_0003.jpg → Similarity: 0.765 → Match\n",
            "Marcelo_Rios: Marcelo_Rios_0001.jpg vs Marcelo_Rios_0004.jpg → Similarity: 0.714 → Match\n",
            "Marcelo_Rios: Marcelo_Rios_0001.jpg vs Marcelo_Rios_0005.jpg → Similarity: 0.723 → Match\n",
            "Marcelo_Rios: Marcelo_Rios_0002.jpg vs Marcelo_Rios_0003.jpg → Similarity: 0.741 → Match\n"
          ]
        },
        {
          "output_type": "stream",
          "name": "stderr",
          "text": [
            "\rEvaluating:  59%|█████▉    | 1007/1711 [57:33<13:32,  1.15s/it]"
          ]
        },
        {
          "output_type": "stream",
          "name": "stdout",
          "text": [
            "Marcelo_Rios: Marcelo_Rios_0002.jpg vs Marcelo_Rios_0004.jpg → Similarity: 0.689 → Match\n",
            "Marcelo_Rios: Marcelo_Rios_0002.jpg vs Marcelo_Rios_0005.jpg → Similarity: 0.706 → Match\n",
            "Marcelo_Rios: Marcelo_Rios_0003.jpg vs Marcelo_Rios_0004.jpg → Similarity: 0.685 → Match\n",
            "Marcelo_Rios: Marcelo_Rios_0003.jpg vs Marcelo_Rios_0005.jpg → Similarity: 0.718 → Match\n"
          ]
        },
        {
          "output_type": "stream",
          "name": "stderr",
          "text": [
            "Evaluating:  59%|█████▉    | 1011/1711 [57:45<39:53,  3.42s/it]"
          ]
        },
        {
          "output_type": "stream",
          "name": "stdout",
          "text": [
            "Marcelo_Rios: Marcelo_Rios_0004.jpg vs Marcelo_Rios_0005.jpg → Similarity: 0.706 → Match\n"
          ]
        },
        {
          "output_type": "stream",
          "name": "stderr",
          "text": [
            "Evaluating:  59%|█████▉    | 1015/1711 [57:45<19:56,  1.72s/it]"
          ]
        },
        {
          "output_type": "stream",
          "name": "stdout",
          "text": [
            "Maria_Shriver: Maria_Shriver_0001.jpg vs Maria_Shriver_0002.jpg → Similarity: 0.544 → No Match\n",
            "Maria_Shriver: Maria_Shriver_0001.jpg vs Maria_Shriver_0003.jpg → Similarity: 0.584 → No Match\n",
            "Maria_Shriver: Maria_Shriver_0001.jpg vs Maria_Shriver_0004.jpg → Similarity: 0.527 → No Match\n",
            "Maria_Shriver: Maria_Shriver_0001.jpg vs Maria_Shriver_0005.jpg → Similarity: 0.520 → No Match\n",
            "Maria_Shriver: Maria_Shriver_0002.jpg vs Maria_Shriver_0003.jpg → Similarity: 0.690 → Match\n"
          ]
        },
        {
          "output_type": "stream",
          "name": "stderr",
          "text": [
            "\rEvaluating:  59%|█████▉    | 1015/1711 [58:03<19:56,  1.72s/it]"
          ]
        },
        {
          "output_type": "stream",
          "name": "stdout",
          "text": [
            "Maria_Shriver: Maria_Shriver_0002.jpg vs Maria_Shriver_0004.jpg → Similarity: 0.627 → Match\n",
            "Maria_Shriver: Maria_Shriver_0002.jpg vs Maria_Shriver_0005.jpg → Similarity: 0.618 → Match\n",
            "Maria_Shriver: Maria_Shriver_0003.jpg vs Maria_Shriver_0004.jpg → Similarity: 0.684 → Match\n",
            "Maria_Shriver: Maria_Shriver_0003.jpg vs Maria_Shriver_0005.jpg → Similarity: 0.653 → Match\n"
          ]
        },
        {
          "output_type": "stream",
          "name": "stderr",
          "text": [
            "Evaluating:  59%|█████▉    | 1018/1711 [58:14<50:14,  4.35s/it]  "
          ]
        },
        {
          "output_type": "stream",
          "name": "stdout",
          "text": [
            "Maria_Shriver: Maria_Shriver_0004.jpg vs Maria_Shriver_0005.jpg → Similarity: 0.593 → No Match\n"
          ]
        },
        {
          "output_type": "stream",
          "name": "stderr",
          "text": [
            "\rEvaluating:  60%|█████▉    | 1020/1711 [58:14<34:07,  2.96s/it]"
          ]
        },
        {
          "output_type": "stream",
          "name": "stdout",
          "text": [
            "Marieta_Chrousala: Marieta_Chrousala_0001.jpg vs Marieta_Chrousala_0002.jpg → Similarity: 0.703 → Match\n",
            "Marieta_Chrousala: Marieta_Chrousala_0001.jpg vs Marieta_Chrousala_0003.jpg → Similarity: 0.736 → Match\n"
          ]
        },
        {
          "output_type": "stream",
          "name": "stderr",
          "text": [
            "Evaluating:  60%|█████▉    | 1024/1711 [58:23<26:30,  2.32s/it]"
          ]
        },
        {
          "output_type": "stream",
          "name": "stdout",
          "text": [
            "Marieta_Chrousala: Marieta_Chrousala_0002.jpg vs Marieta_Chrousala_0003.jpg → Similarity: 0.745 → Match\n"
          ]
        },
        {
          "output_type": "stream",
          "name": "stderr",
          "text": [
            "\rEvaluating:  60%|█████▉    | 1025/1711 [58:26<27:24,  2.40s/it]"
          ]
        },
        {
          "output_type": "stream",
          "name": "stdout",
          "text": [
            "Mario_Cipollini: Mario_Cipollini_0001.jpg vs Mario_Cipollini_0002.jpg → Similarity: 0.771 → Match\n"
          ]
        },
        {
          "output_type": "stream",
          "name": "stderr",
          "text": [
            "\rEvaluating:  60%|█████▉    | 1026/1711 [58:29<29:35,  2.59s/it]"
          ]
        },
        {
          "output_type": "stream",
          "name": "stdout",
          "text": [
            "Mario_Dumont: Mario_Dumont_0001.jpg vs Mario_Dumont_0002.jpg → Similarity: 0.048 → No Match\n"
          ]
        },
        {
          "output_type": "stream",
          "name": "stderr",
          "text": [
            "Evaluating:  60%|██████    | 1030/1711 [58:32<16:40,  1.47s/it]"
          ]
        },
        {
          "output_type": "stream",
          "name": "stdout",
          "text": [
            "Mario_Kreutzberger: Mario_Kreutzberger_0001.jpg vs Mario_Kreutzberger_0002.jpg → Similarity: 0.603 → Match\n"
          ]
        },
        {
          "output_type": "stream",
          "name": "stderr",
          "text": [
            "Evaluating:  60%|██████    | 1033/1711 [58:36<14:20,  1.27s/it]"
          ]
        },
        {
          "output_type": "stream",
          "name": "stdout",
          "text": [
            "Marissa_Jaret_Winokur: Marissa_Jaret_Winokur_0001.jpg vs Marissa_Jaret_Winokur_0002.jpg → Similarity: 0.691 → Match\n"
          ]
        },
        {
          "output_type": "stream",
          "name": "stderr",
          "text": [
            "Evaluating:  61%|██████    | 1037/1711 [58:39<10:06,  1.11it/s]"
          ]
        },
        {
          "output_type": "stream",
          "name": "stdout",
          "text": [
            "Mark_Dacey: Mark_Dacey_0001.jpg vs Mark_Dacey_0002.jpg → Similarity: 0.748 → Match\n"
          ]
        },
        {
          "output_type": "stream",
          "name": "stderr",
          "text": [
            "Evaluating:  61%|██████    | 1041/1711 [58:39<05:11,  2.15it/s]"
          ]
        },
        {
          "output_type": "stream",
          "name": "stdout",
          "text": [
            "Mark_Richt: Mark_Richt_0001.jpg vs Mark_Richt_0002.jpg → Similarity: 0.594 → No Match\n",
            "Mark_Richt: Mark_Richt_0001.jpg vs Mark_Richt_0003.jpg → Similarity: 0.695 → Match\n"
          ]
        },
        {
          "output_type": "stream",
          "name": "stderr",
          "text": [
            "Evaluating:  61%|██████    | 1044/1711 [58:50<17:02,  1.53s/it]"
          ]
        },
        {
          "output_type": "stream",
          "name": "stdout",
          "text": [
            "Mark_Richt: Mark_Richt_0002.jpg vs Mark_Richt_0003.jpg → Similarity: 0.650 → Match\n"
          ]
        },
        {
          "output_type": "stream",
          "name": "stderr",
          "text": [
            "\rEvaluating:  61%|██████    | 1046/1711 [58:50<11:42,  1.06s/it]"
          ]
        },
        {
          "output_type": "stream",
          "name": "stdout",
          "text": [
            "Martha_Burk: Martha_Burk_0001.jpg vs Martha_Burk_0002.jpg → Similarity: 0.586 → No Match\n",
            "Martha_Burk: Martha_Burk_0001.jpg vs Martha_Burk_0003.jpg → Similarity: 0.665 → Match\n",
            "Martha_Burk: Martha_Burk_0001.jpg vs Martha_Burk_0004.jpg → Similarity: 0.665 → Match\n",
            "Martha_Burk: Martha_Burk_0002.jpg vs Martha_Burk_0003.jpg → Similarity: 0.658 → Match\n"
          ]
        },
        {
          "output_type": "stream",
          "name": "stderr",
          "text": [
            "\rEvaluating:  61%|██████    | 1046/1711 [59:03<11:42,  1.06s/it]"
          ]
        },
        {
          "output_type": "stream",
          "name": "stdout",
          "text": [
            "Martha_Burk: Martha_Burk_0002.jpg vs Martha_Burk_0004.jpg → Similarity: 0.650 → Match\n"
          ]
        },
        {
          "output_type": "stream",
          "name": "stderr",
          "text": [
            "\rEvaluating:  61%|██████▏   | 1048/1711 [59:09<40:31,  3.67s/it]"
          ]
        },
        {
          "output_type": "stream",
          "name": "stdout",
          "text": [
            "Martha_Burk: Martha_Burk_0003.jpg vs Martha_Burk_0004.jpg → Similarity: 0.765 → Match\n",
            "Martha_Stewart: Martha_Stewart_0001.jpg vs Martha_Stewart_0002.jpg → Similarity: 0.521 → No Match\n",
            "Martha_Stewart: Martha_Stewart_0001.jpg vs Martha_Stewart_0003.jpg → Similarity: 0.569 → No Match\n",
            "Martha_Stewart: Martha_Stewart_0001.jpg vs Martha_Stewart_0004.jpg → Similarity: 0.591 → No Match\n",
            "Martha_Stewart: Martha_Stewart_0001.jpg vs Martha_Stewart_0005.jpg → Similarity: 0.450 → No Match\n",
            "Martha_Stewart: Martha_Stewart_0002.jpg vs Martha_Stewart_0003.jpg → Similarity: 0.828 → Match\n",
            "Martha_Stewart: Martha_Stewart_0002.jpg vs Martha_Stewart_0004.jpg → Similarity: 0.801 → Match\n",
            "Martha_Stewart: Martha_Stewart_0002.jpg vs Martha_Stewart_0005.jpg → Similarity: 0.743 → Match\n",
            "Martha_Stewart: Martha_Stewart_0003.jpg vs Martha_Stewart_0004.jpg → Similarity: 0.878 → Match\n",
            "Martha_Stewart: Martha_Stewart_0003.jpg vs Martha_Stewart_0005.jpg → Similarity: 0.670 → Match\n"
          ]
        },
        {
          "output_type": "stream",
          "name": "stderr",
          "text": [
            "\rEvaluating:  61%|██████▏   | 1049/1711 [59:37<1:32:03,  8.34s/it]"
          ]
        },
        {
          "output_type": "stream",
          "name": "stdout",
          "text": [
            "Martha_Stewart: Martha_Stewart_0004.jpg vs Martha_Stewart_0005.jpg → Similarity: 0.691 → Match\n"
          ]
        },
        {
          "output_type": "stream",
          "name": "stderr",
          "text": [
            "Evaluating:  62%|██████▏   | 1053/1711 [59:40<43:40,  3.98s/it]  "
          ]
        },
        {
          "output_type": "stream",
          "name": "stdout",
          "text": [
            "Martin_Cauchon: Martin_Cauchon_0001.jpg vs Martin_Cauchon_0002.jpg → Similarity: 0.797 → Match\n"
          ]
        },
        {
          "output_type": "stream",
          "name": "stderr",
          "text": [
            "\rEvaluating:  62%|██████▏   | 1055/1711 [59:45<37:06,  3.39s/it]"
          ]
        },
        {
          "output_type": "stream",
          "name": "stdout",
          "text": [
            "Martin_Sheen: Martin_Sheen_0001.jpg vs Martin_Sheen_0002.jpg → Similarity: 0.707 → Match\n",
            "Martin_Verkerk: Martin_Verkerk_0001.jpg vs Martin_Verkerk_0002.jpg → Similarity: 0.762 → Match\n",
            "Martin_Verkerk: Martin_Verkerk_0001.jpg vs Martin_Verkerk_0003.jpg → Similarity: 0.814 → Match\n"
          ]
        },
        {
          "output_type": "stream",
          "name": "stderr",
          "text": [
            "Evaluating:  62%|██████▏   | 1058/1711 [59:52<29:03,  2.67s/it]"
          ]
        },
        {
          "output_type": "stream",
          "name": "stdout",
          "text": [
            "Martin_Verkerk: Martin_Verkerk_0002.jpg vs Martin_Verkerk_0003.jpg → Similarity: 0.685 → Match\n",
            "Mary_Landrieu: Mary_Landrieu_0001.jpg vs Mary_Landrieu_0002.jpg → Similarity: 0.627 → Match\n",
            "Mary_Landrieu: Mary_Landrieu_0001.jpg vs Mary_Landrieu_0003.jpg → Similarity: 0.703 → Match\n"
          ]
        },
        {
          "output_type": "stream",
          "name": "stderr",
          "text": [
            "Evaluating:  62%|██████▏   | 1062/1711 [1:00:01<24:41,  2.28s/it]"
          ]
        },
        {
          "output_type": "stream",
          "name": "stdout",
          "text": [
            "Mary_Landrieu: Mary_Landrieu_0002.jpg vs Mary_Landrieu_0003.jpg → Similarity: 0.574 → No Match\n"
          ]
        },
        {
          "output_type": "stream",
          "name": "stderr",
          "text": [
            "Evaluating:  62%|██████▏   | 1066/1711 [1:00:01<12:02,  1.12s/it]"
          ]
        },
        {
          "output_type": "stream",
          "name": "stdout",
          "text": [
            "Masum_Turker: Masum_Turker_0001.jpg vs Masum_Turker_0002.jpg → Similarity: 0.861 → Match\n",
            "Masum_Turker: Masum_Turker_0001.jpg vs Masum_Turker_0003.jpg → Similarity: 0.635 → Match\n",
            "Masum_Turker: Masum_Turker_0002.jpg vs Masum_Turker_0003.jpg → Similarity: 0.657 → Match\n",
            "Matt_Dillon: Matt_Dillon_0001.jpg vs Matt_Dillon_0002.jpg → Similarity: 0.674 → Match\n"
          ]
        },
        {
          "output_type": "stream",
          "name": "stderr",
          "text": [
            "\rEvaluating:  62%|██████▏   | 1066/1711 [1:00:13<12:02,  1.12s/it]"
          ]
        },
        {
          "output_type": "stream",
          "name": "stdout",
          "text": [
            "Matt_Dillon: Matt_Dillon_0001.jpg vs Matt_Dillon_0003.jpg → Similarity: 0.689 → Match\n"
          ]
        },
        {
          "output_type": "stream",
          "name": "stderr",
          "text": [
            "\rEvaluating:  62%|██████▏   | 1068/1711 [1:00:16<32:53,  3.07s/it]"
          ]
        },
        {
          "output_type": "stream",
          "name": "stdout",
          "text": [
            "Matt_Dillon: Matt_Dillon_0002.jpg vs Matt_Dillon_0003.jpg → Similarity: 0.720 → Match\n",
            "Matt_Doherty: Matt_Doherty_0001.jpg vs Matt_Doherty_0002.jpg → Similarity: 0.755 → Match\n",
            "Matt_Doherty: Matt_Doherty_0001.jpg vs Matt_Doherty_0003.jpg → Similarity: 0.693 → Match\n"
          ]
        },
        {
          "output_type": "stream",
          "name": "stderr",
          "text": [
            "Evaluating:  63%|██████▎   | 1071/1711 [1:00:26<29:47,  2.79s/it]"
          ]
        },
        {
          "output_type": "stream",
          "name": "stdout",
          "text": [
            "Matt_Doherty: Matt_Doherty_0002.jpg vs Matt_Doherty_0003.jpg → Similarity: 0.736 → Match\n",
            "Matthew_Broderick: Matthew_Broderick_0001.jpg vs Matthew_Broderick_0002.jpg → Similarity: 0.505 → No Match\n",
            "Matthew_Broderick: Matthew_Broderick_0001.jpg vs Matthew_Broderick_0003.jpg → Similarity: 0.458 → No Match\n",
            "Matthew_Broderick: Matthew_Broderick_0001.jpg vs Matthew_Broderick_0004.jpg → Similarity: 0.518 → No Match\n",
            "Matthew_Broderick: Matthew_Broderick_0002.jpg vs Matthew_Broderick_0003.jpg → Similarity: 0.623 → Match\n",
            "Matthew_Broderick: Matthew_Broderick_0002.jpg vs Matthew_Broderick_0004.jpg → Similarity: 0.615 → Match\n"
          ]
        },
        {
          "output_type": "stream",
          "name": "stderr",
          "text": [
            "Evaluating:  63%|██████▎   | 1074/1711 [1:00:40<34:48,  3.28s/it]"
          ]
        },
        {
          "output_type": "stream",
          "name": "stdout",
          "text": [
            "Matthew_Broderick: Matthew_Broderick_0003.jpg vs Matthew_Broderick_0004.jpg → Similarity: 0.701 → Match\n"
          ]
        },
        {
          "output_type": "stream",
          "name": "stderr",
          "text": [
            "\rEvaluating:  63%|██████▎   | 1076/1711 [1:00:41<23:16,  2.20s/it]"
          ]
        },
        {
          "output_type": "stream",
          "name": "stdout",
          "text": [
            "Megan_Mullally: Megan_Mullally_0001.jpg vs Megan_Mullally_0002.jpg → Similarity: 0.491 → No Match\n",
            "Megan_Mullally: Megan_Mullally_0001.jpg vs Megan_Mullally_0003.jpg → Similarity: 0.499 → No Match\n"
          ]
        },
        {
          "output_type": "stream",
          "name": "stderr",
          "text": [
            "Evaluating:  63%|██████▎   | 1079/1711 [1:00:49<24:06,  2.29s/it]"
          ]
        },
        {
          "output_type": "stream",
          "name": "stdout",
          "text": [
            "Megan_Mullally: Megan_Mullally_0002.jpg vs Megan_Mullally_0003.jpg → Similarity: 0.712 → Match\n",
            "Melanie_Griffith: Melanie_Griffith_0001.jpg vs Melanie_Griffith_0002.jpg → Similarity: 0.423 → No Match\n",
            "Melanie_Griffith: Melanie_Griffith_0001.jpg vs Melanie_Griffith_0003.jpg → Similarity: 0.439 → No Match\n"
          ]
        },
        {
          "output_type": "stream",
          "name": "stderr",
          "text": [
            "Evaluating:  63%|██████▎   | 1082/1711 [1:00:57<24:45,  2.36s/it]"
          ]
        },
        {
          "output_type": "stream",
          "name": "stdout",
          "text": [
            "Melanie_Griffith: Melanie_Griffith_0002.jpg vs Melanie_Griffith_0003.jpg → Similarity: 0.439 → No Match\n"
          ]
        },
        {
          "output_type": "stream",
          "name": "stderr",
          "text": [
            "Evaluating:  63%|██████▎   | 1086/1711 [1:01:01<15:20,  1.47s/it]"
          ]
        },
        {
          "output_type": "stream",
          "name": "stdout",
          "text": [
            "Melissa_Etheridge: Melissa_Etheridge_0001.jpg vs Melissa_Etheridge_0002.jpg → Similarity: 0.693 → Match\n"
          ]
        },
        {
          "output_type": "stream",
          "name": "stderr",
          "text": [
            "Evaluating:  64%|██████▎   | 1090/1711 [1:01:01<07:25,  1.40it/s]"
          ]
        },
        {
          "output_type": "stream",
          "name": "stdout",
          "text": [
            "Michael_Chang: Michael_Chang_0001.jpg vs Michael_Chang_0002.jpg → Similarity: 0.628 → Match\n",
            "Michael_Chang: Michael_Chang_0001.jpg vs Michael_Chang_0003.jpg → Similarity: 0.583 → No Match\n",
            "Michael_Chang: Michael_Chang_0001.jpg vs Michael_Chang_0004.jpg → Similarity: 0.682 → Match\n",
            "Michael_Chang: Michael_Chang_0001.jpg vs Michael_Chang_0005.jpg → Similarity: 0.490 → No Match\n",
            "Michael_Chang: Michael_Chang_0002.jpg vs Michael_Chang_0003.jpg → Similarity: 0.663 → Match\n",
            "Michael_Chang: Michael_Chang_0002.jpg vs Michael_Chang_0004.jpg → Similarity: 0.600 → No Match\n",
            "Michael_Chang: Michael_Chang_0002.jpg vs Michael_Chang_0005.jpg → Similarity: 0.684 → Match\n",
            "Michael_Chang: Michael_Chang_0003.jpg vs Michael_Chang_0004.jpg → Similarity: 0.578 → No Match\n",
            "Michael_Chang: Michael_Chang_0003.jpg vs Michael_Chang_0005.jpg → Similarity: 0.537 → No Match\n"
          ]
        },
        {
          "output_type": "stream",
          "name": "stderr",
          "text": [
            "Evaluating:  64%|██████▍   | 1094/1711 [1:01:28<33:11,  3.23s/it]"
          ]
        },
        {
          "output_type": "stream",
          "name": "stdout",
          "text": [
            "Michael_Chang: Michael_Chang_0004.jpg vs Michael_Chang_0005.jpg → Similarity: 0.519 → No Match\n"
          ]
        },
        {
          "output_type": "stream",
          "name": "stderr",
          "text": [
            "\rEvaluating:  64%|██████▍   | 1096/1711 [1:01:28<23:12,  2.26s/it]"
          ]
        },
        {
          "output_type": "stream",
          "name": "stdout",
          "text": [
            "Michael_J_Sheehan: Michael_J_Sheehan_0001.jpg vs Michael_J_Sheehan_0002.jpg → Similarity: 0.753 → Match\n",
            "Michael_Jackson: Michael_Jackson_0001.jpg vs Michael_Jackson_0002.jpg → Similarity: 0.619 → Match\n",
            "Michael_Jackson: Michael_Jackson_0001.jpg vs Michael_Jackson_0003.jpg → Similarity: 0.655 → Match\n",
            "Michael_Jackson: Michael_Jackson_0001.jpg vs Michael_Jackson_0004.jpg → Similarity: 0.622 → Match\n",
            "Michael_Jackson: Michael_Jackson_0001.jpg vs Michael_Jackson_0005.jpg → Similarity: 0.659 → Match\n"
          ]
        },
        {
          "output_type": "stream",
          "name": "stderr",
          "text": [
            "\rEvaluating:  64%|██████▍   | 1096/1711 [1:01:43<23:12,  2.26s/it]"
          ]
        },
        {
          "output_type": "stream",
          "name": "stdout",
          "text": [
            "Michael_Jackson: Michael_Jackson_0002.jpg vs Michael_Jackson_0003.jpg → Similarity: 0.710 → Match\n",
            "Michael_Jackson: Michael_Jackson_0002.jpg vs Michael_Jackson_0004.jpg → Similarity: 0.575 → No Match\n",
            "Michael_Jackson: Michael_Jackson_0002.jpg vs Michael_Jackson_0005.jpg → Similarity: 0.534 → No Match\n",
            "Michael_Jackson: Michael_Jackson_0003.jpg vs Michael_Jackson_0004.jpg → Similarity: 0.706 → Match\n",
            "Michael_Jackson: Michael_Jackson_0003.jpg vs Michael_Jackson_0005.jpg → Similarity: 0.690 → Match\n"
          ]
        },
        {
          "output_type": "stream",
          "name": "stderr",
          "text": [
            "\rEvaluating:  64%|██████▍   | 1098/1711 [1:01:56<59:03,  5.78s/it]"
          ]
        },
        {
          "output_type": "stream",
          "name": "stdout",
          "text": [
            "Michael_Jackson: Michael_Jackson_0004.jpg vs Michael_Jackson_0005.jpg → Similarity: 0.786 → Match\n"
          ]
        },
        {
          "output_type": "stream",
          "name": "stderr",
          "text": [
            "Evaluating:  64%|██████▍   | 1101/1711 [1:01:59<36:06,  3.55s/it]"
          ]
        },
        {
          "output_type": "stream",
          "name": "stdout",
          "text": [
            "Michael_Keaton: Michael_Keaton_0001.jpg vs Michael_Keaton_0002.jpg → Similarity: 0.725 → Match\n",
            "Michael_Phelps: Michael_Phelps_0001.jpg vs Michael_Phelps_0002.jpg → Similarity: 0.763 → Match\n",
            "Michael_Phelps: Michael_Phelps_0001.jpg vs Michael_Phelps_0003.jpg → Similarity: 0.655 → Match\n",
            "Michael_Phelps: Michael_Phelps_0001.jpg vs Michael_Phelps_0004.jpg → Similarity: 0.680 → Match\n",
            "Michael_Phelps: Michael_Phelps_0001.jpg vs Michael_Phelps_0005.jpg → Similarity: 0.650 → Match\n",
            "Michael_Phelps: Michael_Phelps_0002.jpg vs Michael_Phelps_0003.jpg → Similarity: 0.669 → Match\n",
            "Michael_Phelps: Michael_Phelps_0002.jpg vs Michael_Phelps_0004.jpg → Similarity: 0.664 → Match\n",
            "Michael_Phelps: Michael_Phelps_0002.jpg vs Michael_Phelps_0005.jpg → Similarity: 0.649 → Match\n",
            "Michael_Phelps: Michael_Phelps_0003.jpg vs Michael_Phelps_0004.jpg → Similarity: 0.847 → Match\n",
            "Michael_Phelps: Michael_Phelps_0003.jpg vs Michael_Phelps_0005.jpg → Similarity: 0.771 → Match\n"
          ]
        },
        {
          "output_type": "stream",
          "name": "stderr",
          "text": [
            "Evaluating:  65%|██████▍   | 1105/1711 [1:02:24<44:35,  4.42s/it]  "
          ]
        },
        {
          "output_type": "stream",
          "name": "stdout",
          "text": [
            "Michael_Phelps: Michael_Phelps_0004.jpg vs Michael_Phelps_0005.jpg → Similarity: 0.746 → Match\n"
          ]
        },
        {
          "output_type": "stream",
          "name": "stderr",
          "text": [
            "\rEvaluating:  65%|██████▍   | 1107/1711 [1:02:27<34:57,  3.47s/it]"
          ]
        },
        {
          "output_type": "stream",
          "name": "stdout",
          "text": [
            "Michael_Sullivan: Michael_Sullivan_0001.jpg vs Michael_Sullivan_0002.jpg → Similarity: 0.734 → Match\n"
          ]
        },
        {
          "output_type": "stream",
          "name": "stderr",
          "text": [
            "Evaluating:  65%|██████▍   | 1110/1711 [1:02:31<26:10,  2.61s/it]"
          ]
        },
        {
          "output_type": "stream",
          "name": "stdout",
          "text": [
            "Michel_Duclos: Michel_Duclos_0001.jpg vs Michel_Duclos_0002.jpg → Similarity: 0.725 → Match\n",
            "Michelle_Yeoh: Michelle_Yeoh_0001.jpg vs Michelle_Yeoh_0002.jpg → Similarity: 0.605 → Match\n",
            "Michelle_Yeoh: Michelle_Yeoh_0001.jpg vs Michelle_Yeoh_0003.jpg → Similarity: 0.618 → Match\n",
            "Michelle_Yeoh: Michelle_Yeoh_0001.jpg vs Michelle_Yeoh_0004.jpg → Similarity: 0.653 → Match\n",
            "Michelle_Yeoh: Michelle_Yeoh_0001.jpg vs Michelle_Yeoh_0005.jpg → Similarity: 0.575 → No Match\n",
            "Michelle_Yeoh: Michelle_Yeoh_0002.jpg vs Michelle_Yeoh_0003.jpg → Similarity: 0.670 → Match\n",
            "Michelle_Yeoh: Michelle_Yeoh_0002.jpg vs Michelle_Yeoh_0004.jpg → Similarity: 0.620 → Match\n",
            "Michelle_Yeoh: Michelle_Yeoh_0002.jpg vs Michelle_Yeoh_0005.jpg → Similarity: 0.588 → No Match\n",
            "Michelle_Yeoh: Michelle_Yeoh_0003.jpg vs Michelle_Yeoh_0004.jpg → Similarity: 0.755 → Match\n",
            "Michelle_Yeoh: Michelle_Yeoh_0003.jpg vs Michelle_Yeoh_0005.jpg → Similarity: 0.652 → Match\n"
          ]
        },
        {
          "output_type": "stream",
          "name": "stderr",
          "text": [
            "\rEvaluating:  65%|██████▍   | 1112/1711 [1:02:57<59:58,  6.01s/it]"
          ]
        },
        {
          "output_type": "stream",
          "name": "stdout",
          "text": [
            "Michelle_Yeoh: Michelle_Yeoh_0004.jpg vs Michelle_Yeoh_0005.jpg → Similarity: 0.586 → No Match\n"
          ]
        },
        {
          "output_type": "stream",
          "name": "stderr",
          "text": [
            "Evaluating:  65%|██████▌   | 1115/1711 [1:03:01<38:09,  3.84s/it]"
          ]
        },
        {
          "output_type": "stream",
          "name": "stdout",
          "text": [
            "Miguel_Contreras: Miguel_Contreras_0001.jpg vs Miguel_Contreras_0002.jpg → Similarity: 0.569 → No Match\n"
          ]
        },
        {
          "output_type": "stream",
          "name": "stderr",
          "text": [
            "Evaluating:  65%|██████▌   | 1120/1711 [1:03:04<16:25,  1.67s/it]"
          ]
        },
        {
          "output_type": "stream",
          "name": "stdout",
          "text": [
            "Mike_Helton: Mike_Helton_0001.jpg vs Mike_Helton_0002.jpg → Similarity: 0.771 → Match\n"
          ]
        },
        {
          "output_type": "stream",
          "name": "stderr",
          "text": [
            "Evaluating:  66%|██████▌   | 1124/1711 [1:03:07<10:33,  1.08s/it]"
          ]
        },
        {
          "output_type": "stream",
          "name": "stdout",
          "text": [
            "Mike_Price: Mike_Price_0001.jpg vs Mike_Price_0002.jpg → Similarity: 0.484 → No Match\n"
          ]
        },
        {
          "output_type": "stream",
          "name": "stderr",
          "text": [
            "Evaluating:  66%|██████▌   | 1127/1711 [1:03:11<12:44,  1.31s/it]"
          ]
        },
        {
          "output_type": "stream",
          "name": "stdout",
          "text": [
            "Mikhail_Gorbachev: Mikhail_Gorbachev_0001.jpg vs Mikhail_Gorbachev_0002.jpg → Similarity: 0.654 → Match\n",
            "Mikhail_Youzhny: Mikhail_Youzhny_0001.jpg vs Mikhail_Youzhny_0002.jpg → Similarity: 0.773 → Match\n",
            "Mikhail_Youzhny: Mikhail_Youzhny_0001.jpg vs Mikhail_Youzhny_0003.jpg → Similarity: 0.680 → Match\n"
          ]
        },
        {
          "output_type": "stream",
          "name": "stderr",
          "text": [
            "\rEvaluating:  66%|██████▌   | 1128/1711 [1:03:18<25:09,  2.59s/it]"
          ]
        },
        {
          "output_type": "stream",
          "name": "stdout",
          "text": [
            "Mikhail_Youzhny: Mikhail_Youzhny_0002.jpg vs Mikhail_Youzhny_0003.jpg → Similarity: 0.669 → Match\n"
          ]
        },
        {
          "output_type": "stream",
          "name": "stderr",
          "text": [
            "Evaluating:  66%|██████▌   | 1131/1711 [1:03:21<15:36,  1.61s/it]"
          ]
        },
        {
          "output_type": "stream",
          "name": "stdout",
          "text": [
            "Mikulas_Dzurinda: Mikulas_Dzurinda_0001.jpg vs Mikulas_Dzurinda_0002.jpg → Similarity: 0.772 → Match\n",
            "Mireya_Moscoso: Mireya_Moscoso_0001.jpg vs Mireya_Moscoso_0002.jpg → Similarity: 0.509 → No Match\n",
            "Mireya_Moscoso: Mireya_Moscoso_0001.jpg vs Mireya_Moscoso_0003.jpg → Similarity: 0.471 → No Match\n",
            "Mireya_Moscoso: Mireya_Moscoso_0001.jpg vs Mireya_Moscoso_0004.jpg → Similarity: 0.429 → No Match\n",
            "Mireya_Moscoso: Mireya_Moscoso_0001.jpg vs Mireya_Moscoso_0005.jpg → Similarity: 0.553 → No Match\n",
            "Mireya_Moscoso: Mireya_Moscoso_0002.jpg vs Mireya_Moscoso_0003.jpg → Similarity: 0.868 → Match\n",
            "Mireya_Moscoso: Mireya_Moscoso_0002.jpg vs Mireya_Moscoso_0004.jpg → Similarity: 0.714 → Match\n",
            "Mireya_Moscoso: Mireya_Moscoso_0002.jpg vs Mireya_Moscoso_0005.jpg → Similarity: 0.587 → No Match\n",
            "Mireya_Moscoso: Mireya_Moscoso_0003.jpg vs Mireya_Moscoso_0004.jpg → Similarity: 0.689 → Match\n",
            "Mireya_Moscoso: Mireya_Moscoso_0003.jpg vs Mireya_Moscoso_0005.jpg → Similarity: 0.587 → No Match\n"
          ]
        },
        {
          "output_type": "stream",
          "name": "stderr",
          "text": [
            "Evaluating:  66%|██████▋   | 1135/1711 [1:03:46<34:47,  3.62s/it]"
          ]
        },
        {
          "output_type": "stream",
          "name": "stdout",
          "text": [
            "Mireya_Moscoso: Mireya_Moscoso_0004.jpg vs Mireya_Moscoso_0005.jpg → Similarity: 0.650 → Match\n"
          ]
        },
        {
          "output_type": "stream",
          "name": "stderr",
          "text": [
            "Evaluating:  67%|██████▋   | 1139/1711 [1:03:46<16:13,  1.70s/it]"
          ]
        },
        {
          "output_type": "stream",
          "name": "stdout",
          "text": [
            "Mohamed_ElBaradei: Mohamed_ElBaradei_0001.jpg vs Mohamed_ElBaradei_0002.jpg → Similarity: 0.736 → Match\n",
            "Mohamed_ElBaradei: Mohamed_ElBaradei_0001.jpg vs Mohamed_ElBaradei_0003.jpg → Similarity: 0.751 → Match\n",
            "Mohamed_ElBaradei: Mohamed_ElBaradei_0001.jpg vs Mohamed_ElBaradei_0004.jpg → Similarity: 0.708 → Match\n",
            "Mohamed_ElBaradei: Mohamed_ElBaradei_0001.jpg vs Mohamed_ElBaradei_0005.jpg → Similarity: 0.700 → Match\n",
            "Mohamed_ElBaradei: Mohamed_ElBaradei_0002.jpg vs Mohamed_ElBaradei_0003.jpg → Similarity: 0.802 → Match\n"
          ]
        },
        {
          "output_type": "stream",
          "name": "stderr",
          "text": [
            "\rEvaluating:  67%|██████▋   | 1139/1711 [1:04:03<16:13,  1.70s/it]"
          ]
        },
        {
          "output_type": "stream",
          "name": "stdout",
          "text": [
            "Mohamed_ElBaradei: Mohamed_ElBaradei_0002.jpg vs Mohamed_ElBaradei_0004.jpg → Similarity: 0.759 → Match\n",
            "Mohamed_ElBaradei: Mohamed_ElBaradei_0002.jpg vs Mohamed_ElBaradei_0005.jpg → Similarity: 0.763 → Match\n",
            "Mohamed_ElBaradei: Mohamed_ElBaradei_0003.jpg vs Mohamed_ElBaradei_0004.jpg → Similarity: 0.724 → Match\n",
            "Mohamed_ElBaradei: Mohamed_ElBaradei_0003.jpg vs Mohamed_ElBaradei_0005.jpg → Similarity: 0.760 → Match\n"
          ]
        },
        {
          "output_type": "stream",
          "name": "stderr",
          "text": [
            "Evaluating:  67%|██████▋   | 1142/1711 [1:04:15<42:10,  4.45s/it]  "
          ]
        },
        {
          "output_type": "stream",
          "name": "stdout",
          "text": [
            "Mohamed_ElBaradei: Mohamed_ElBaradei_0004.jpg vs Mohamed_ElBaradei_0005.jpg → Similarity: 0.695 → Match\n",
            "Mohammad_Khatami: Mohammad_Khatami_0001.jpg vs Mohammad_Khatami_0002.jpg → Similarity: 0.738 → Match\n",
            "Mohammad_Khatami: Mohammad_Khatami_0001.jpg vs Mohammad_Khatami_0003.jpg → Similarity: 0.658 → Match\n",
            "Mohammad_Khatami: Mohammad_Khatami_0001.jpg vs Mohammad_Khatami_0004.jpg → Similarity: 0.694 → Match\n",
            "Mohammad_Khatami: Mohammad_Khatami_0001.jpg vs Mohammad_Khatami_0005.jpg → Similarity: 0.672 → Match\n",
            "Mohammad_Khatami: Mohammad_Khatami_0002.jpg vs Mohammad_Khatami_0003.jpg → Similarity: 0.675 → Match\n",
            "Mohammad_Khatami: Mohammad_Khatami_0002.jpg vs Mohammad_Khatami_0004.jpg → Similarity: 0.660 → Match\n",
            "Mohammad_Khatami: Mohammad_Khatami_0002.jpg vs Mohammad_Khatami_0005.jpg → Similarity: 0.747 → Match\n"
          ]
        },
        {
          "output_type": "stream",
          "name": "stderr",
          "text": [
            "\rEvaluating:  67%|██████▋   | 1142/1711 [1:04:33<42:10,  4.45s/it]"
          ]
        },
        {
          "output_type": "stream",
          "name": "stdout",
          "text": [
            "Mohammad_Khatami: Mohammad_Khatami_0003.jpg vs Mohammad_Khatami_0004.jpg → Similarity: 0.688 → Match\n",
            "Mohammad_Khatami: Mohammad_Khatami_0003.jpg vs Mohammad_Khatami_0005.jpg → Similarity: 0.727 → Match\n"
          ]
        },
        {
          "output_type": "stream",
          "name": "stderr",
          "text": [
            "Evaluating:  67%|██████▋   | 1145/1711 [1:04:42<53:27,  5.67s/it]  "
          ]
        },
        {
          "output_type": "stream",
          "name": "stdout",
          "text": [
            "Mohammad_Khatami: Mohammad_Khatami_0004.jpg vs Mohammad_Khatami_0005.jpg → Similarity: 0.683 → Match\n",
            "Mohammed_Baqir_al-Hakim: Mohammed_Baqir_al-Hakim_0001.jpg vs Mohammed_Baqir_al-Hakim_0002.jpg → Similarity: 0.710 → Match\n",
            "Mohammed_Baqir_al-Hakim: Mohammed_Baqir_al-Hakim_0001.jpg vs Mohammed_Baqir_al-Hakim_0003.jpg → Similarity: 0.811 → Match\n"
          ]
        },
        {
          "output_type": "stream",
          "name": "stderr",
          "text": [
            "\rEvaluating:  67%|██████▋   | 1147/1711 [1:04:50<47:32,  5.06s/it]"
          ]
        },
        {
          "output_type": "stream",
          "name": "stdout",
          "text": [
            "Mohammed_Baqir_al-Hakim: Mohammed_Baqir_al-Hakim_0002.jpg vs Mohammed_Baqir_al-Hakim_0003.jpg → Similarity: 0.601 → Match\n"
          ]
        },
        {
          "output_type": "stream",
          "name": "stderr",
          "text": [
            "\rEvaluating:  67%|██████▋   | 1149/1711 [1:04:50<32:05,  3.43s/it]"
          ]
        },
        {
          "output_type": "stream",
          "name": "stdout",
          "text": [
            "Monica_Lewinsky: Monica_Lewinsky_0001.jpg vs Monica_Lewinsky_0002.jpg → Similarity: 0.610 → Match\n",
            "Monica_Lewinsky: Monica_Lewinsky_0001.jpg vs Monica_Lewinsky_0003.jpg → Similarity: 0.510 → No Match\n"
          ]
        },
        {
          "output_type": "stream",
          "name": "stderr",
          "text": [
            "\rEvaluating:  67%|██████▋   | 1151/1711 [1:04:57<32:29,  3.48s/it]"
          ]
        },
        {
          "output_type": "stream",
          "name": "stdout",
          "text": [
            "Monica_Lewinsky: Monica_Lewinsky_0002.jpg vs Monica_Lewinsky_0003.jpg → Similarity: 0.591 → No Match\n",
            "Muhammad_Ali: Muhammad_Ali_0001.jpg vs Muhammad_Ali_0002.jpg → Similarity: 0.551 → No Match\n",
            "Muhammad_Ali: Muhammad_Ali_0001.jpg vs Muhammad_Ali_0003.jpg → Similarity: 0.532 → No Match\n",
            "Muhammad_Ali: Muhammad_Ali_0001.jpg vs Muhammad_Ali_0004.jpg → Similarity: 0.554 → No Match\n",
            "Muhammad_Ali: Muhammad_Ali_0001.jpg vs Muhammad_Ali_0005.jpg → Similarity: 0.532 → No Match\n",
            "Muhammad_Ali: Muhammad_Ali_0002.jpg vs Muhammad_Ali_0003.jpg → Similarity: 0.743 → Match\n",
            "Muhammad_Ali: Muhammad_Ali_0002.jpg vs Muhammad_Ali_0004.jpg → Similarity: 0.709 → Match\n",
            "Muhammad_Ali: Muhammad_Ali_0002.jpg vs Muhammad_Ali_0005.jpg → Similarity: 0.707 → Match\n",
            "Muhammad_Ali: Muhammad_Ali_0003.jpg vs Muhammad_Ali_0004.jpg → Similarity: 0.747 → Match\n",
            "Muhammad_Ali: Muhammad_Ali_0003.jpg vs Muhammad_Ali_0005.jpg → Similarity: 0.726 → Match\n"
          ]
        },
        {
          "output_type": "stream",
          "name": "stderr",
          "text": [
            "\rEvaluating:  67%|██████▋   | 1153/1711 [1:05:26<1:04:09,  6.90s/it]"
          ]
        },
        {
          "output_type": "stream",
          "name": "stdout",
          "text": [
            "Muhammad_Ali: Muhammad_Ali_0004.jpg vs Muhammad_Ali_0005.jpg → Similarity: 0.895 → Match\n",
            "Nancy_Pelosi: Nancy_Pelosi_0001.jpg vs Nancy_Pelosi_0002.jpg → Similarity: 0.644 → Match\n",
            "Nancy_Pelosi: Nancy_Pelosi_0001.jpg vs Nancy_Pelosi_0003.jpg → Similarity: 0.706 → Match\n",
            "Nancy_Pelosi: Nancy_Pelosi_0001.jpg vs Nancy_Pelosi_0004.jpg → Similarity: 0.594 → No Match\n",
            "Nancy_Pelosi: Nancy_Pelosi_0001.jpg vs Nancy_Pelosi_0005.jpg → Similarity: 0.599 → No Match\n",
            "Nancy_Pelosi: Nancy_Pelosi_0002.jpg vs Nancy_Pelosi_0003.jpg → Similarity: 0.719 → Match\n",
            "Nancy_Pelosi: Nancy_Pelosi_0002.jpg vs Nancy_Pelosi_0004.jpg → Similarity: 0.589 → No Match\n",
            "Nancy_Pelosi: Nancy_Pelosi_0002.jpg vs Nancy_Pelosi_0005.jpg → Similarity: 0.677 → Match\n",
            "Nancy_Pelosi: Nancy_Pelosi_0003.jpg vs Nancy_Pelosi_0004.jpg → Similarity: 0.620 → Match\n",
            "Nancy_Pelosi: Nancy_Pelosi_0003.jpg vs Nancy_Pelosi_0005.jpg → Similarity: 0.704 → Match\n"
          ]
        },
        {
          "output_type": "stream",
          "name": "stderr",
          "text": [
            "\rEvaluating:  67%|██████▋   | 1154/1711 [1:05:54<1:40:53, 10.87s/it]"
          ]
        },
        {
          "output_type": "stream",
          "name": "stdout",
          "text": [
            "Nancy_Pelosi: Nancy_Pelosi_0004.jpg vs Nancy_Pelosi_0005.jpg → Similarity: 0.708 → Match\n"
          ]
        },
        {
          "output_type": "stream",
          "name": "stderr",
          "text": [
            "\rEvaluating:  68%|██████▊   | 1155/1711 [1:05:58<1:25:49,  9.26s/it]"
          ]
        },
        {
          "output_type": "stream",
          "name": "stdout",
          "text": [
            "Naomi_Campbell: Naomi_Campbell_0001.jpg vs Naomi_Campbell_0002.jpg → Similarity: 0.681 → Match\n",
            "Naoto_Kan: Naoto_Kan_0001.jpg vs Naoto_Kan_0002.jpg → Similarity: 0.882 → Match\n",
            "Naoto_Kan: Naoto_Kan_0001.jpg vs Naoto_Kan_0003.jpg → Similarity: 0.941 → Match\n",
            "Naoto_Kan: Naoto_Kan_0001.jpg vs Naoto_Kan_0004.jpg → Similarity: 0.695 → Match\n",
            "Naoto_Kan: Naoto_Kan_0002.jpg vs Naoto_Kan_0003.jpg → Similarity: 0.905 → Match\n",
            "Naoto_Kan: Naoto_Kan_0002.jpg vs Naoto_Kan_0004.jpg → Similarity: 0.712 → Match\n"
          ]
        },
        {
          "output_type": "stream",
          "name": "stderr",
          "text": [
            "Evaluating:  68%|██████▊   | 1157/1711 [1:06:12<1:13:11,  7.93s/it]"
          ]
        },
        {
          "output_type": "stream",
          "name": "stdout",
          "text": [
            "Naoto_Kan: Naoto_Kan_0003.jpg vs Naoto_Kan_0004.jpg → Similarity: 0.728 → Match\n"
          ]
        },
        {
          "output_type": "stream",
          "name": "stderr",
          "text": [
            "\rEvaluating:  68%|██████▊   | 1159/1711 [1:06:15<48:55,  5.32s/it]  "
          ]
        },
        {
          "output_type": "stream",
          "name": "stdout",
          "text": [
            "Nasser_al-Kidwa: Nasser_al-Kidwa_0001.jpg vs Nasser_al-Kidwa_0002.jpg → Similarity: 0.725 → Match\n"
          ]
        },
        {
          "output_type": "stream",
          "name": "stderr",
          "text": [
            "\rEvaluating:  68%|██████▊   | 1160/1711 [1:06:18<42:57,  4.68s/it]"
          ]
        },
        {
          "output_type": "stream",
          "name": "stdout",
          "text": [
            "Nastassia_Kinski: Nastassia_Kinski_0001.jpg vs Nastassia_Kinski_0002.jpg → Similarity: 0.778 → Match\n",
            "Natalie_Coughlin: Natalie_Coughlin_0001.jpg vs Natalie_Coughlin_0002.jpg → Similarity: 0.660 → Match\n",
            "Natalie_Coughlin: Natalie_Coughlin_0001.jpg vs Natalie_Coughlin_0003.jpg → Similarity: 0.498 → No Match\n",
            "Natalie_Coughlin: Natalie_Coughlin_0001.jpg vs Natalie_Coughlin_0004.jpg → Similarity: 0.644 → Match\n",
            "Natalie_Coughlin: Natalie_Coughlin_0001.jpg vs Natalie_Coughlin_0005.jpg → Similarity: 0.706 → Match\n",
            "Natalie_Coughlin: Natalie_Coughlin_0002.jpg vs Natalie_Coughlin_0003.jpg → Similarity: 0.465 → No Match\n",
            "Natalie_Coughlin: Natalie_Coughlin_0002.jpg vs Natalie_Coughlin_0004.jpg → Similarity: 0.709 → Match\n",
            "Natalie_Coughlin: Natalie_Coughlin_0002.jpg vs Natalie_Coughlin_0005.jpg → Similarity: 0.699 → Match\n",
            "Natalie_Coughlin: Natalie_Coughlin_0003.jpg vs Natalie_Coughlin_0004.jpg → Similarity: 0.516 → No Match\n",
            "Natalie_Coughlin: Natalie_Coughlin_0003.jpg vs Natalie_Coughlin_0005.jpg → Similarity: 0.583 → No Match\n"
          ]
        },
        {
          "output_type": "stream",
          "name": "stderr",
          "text": [
            "Evaluating:  68%|██████▊   | 1164/1711 [1:06:42<44:36,  4.89s/it]  "
          ]
        },
        {
          "output_type": "stream",
          "name": "stdout",
          "text": [
            "Natalie_Coughlin: Natalie_Coughlin_0004.jpg vs Natalie_Coughlin_0005.jpg → Similarity: 0.772 → Match\n",
            "Natalie_Maines: Natalie_Maines_0001.jpg vs Natalie_Maines_0002.jpg → Similarity: 0.659 → Match\n",
            "Natalie_Maines: Natalie_Maines_0001.jpg vs Natalie_Maines_0003.jpg → Similarity: 0.721 → Match\n",
            "Natalie_Maines: Natalie_Maines_0001.jpg vs Natalie_Maines_0004.jpg → Similarity: 0.691 → Match\n",
            "Natalie_Maines: Natalie_Maines_0001.jpg vs Natalie_Maines_0005.jpg → Similarity: 0.642 → Match\n",
            "Natalie_Maines: Natalie_Maines_0002.jpg vs Natalie_Maines_0003.jpg → Similarity: 0.668 → Match\n",
            "Natalie_Maines: Natalie_Maines_0002.jpg vs Natalie_Maines_0004.jpg → Similarity: 0.712 → Match\n",
            "Natalie_Maines: Natalie_Maines_0002.jpg vs Natalie_Maines_0005.jpg → Similarity: 0.618 → Match\n",
            "Natalie_Maines: Natalie_Maines_0003.jpg vs Natalie_Maines_0004.jpg → Similarity: 0.738 → Match\n",
            "Natalie_Maines: Natalie_Maines_0003.jpg vs Natalie_Maines_0005.jpg → Similarity: 0.702 → Match\n"
          ]
        },
        {
          "output_type": "stream",
          "name": "stderr",
          "text": [
            "Evaluating:  68%|██████▊   | 1166/1711 [1:07:09<1:05:03,  7.16s/it]"
          ]
        },
        {
          "output_type": "stream",
          "name": "stdout",
          "text": [
            "Natalie_Maines: Natalie_Maines_0004.jpg vs Natalie_Maines_0005.jpg → Similarity: 0.665 → Match\n"
          ]
        },
        {
          "output_type": "stream",
          "name": "stderr",
          "text": [
            "Evaluating:  68%|██████▊   | 1170/1711 [1:07:09<25:36,  2.84s/it]"
          ]
        },
        {
          "output_type": "stream",
          "name": "stdout",
          "text": [
            "Nicanor_Duarte_Frutos: Nicanor_Duarte_Frutos_0001.jpg vs Nicanor_Duarte_Frutos_0002.jpg → Similarity: 0.556 → No Match\n",
            "Nicanor_Duarte_Frutos: Nicanor_Duarte_Frutos_0001.jpg vs Nicanor_Duarte_Frutos_0003.jpg → Similarity: 0.736 → Match\n",
            "Nicanor_Duarte_Frutos: Nicanor_Duarte_Frutos_0001.jpg vs Nicanor_Duarte_Frutos_0004.jpg → Similarity: 0.726 → Match\n",
            "Nicanor_Duarte_Frutos: Nicanor_Duarte_Frutos_0001.jpg vs Nicanor_Duarte_Frutos_0005.jpg → Similarity: 0.686 → Match\n",
            "Nicanor_Duarte_Frutos: Nicanor_Duarte_Frutos_0002.jpg vs Nicanor_Duarte_Frutos_0003.jpg → Similarity: 0.623 → Match\n",
            "Nicanor_Duarte_Frutos: Nicanor_Duarte_Frutos_0002.jpg vs Nicanor_Duarte_Frutos_0004.jpg → Similarity: 0.599 → No Match\n",
            "Nicanor_Duarte_Frutos: Nicanor_Duarte_Frutos_0002.jpg vs Nicanor_Duarte_Frutos_0005.jpg → Similarity: 0.604 → Match\n",
            "Nicanor_Duarte_Frutos: Nicanor_Duarte_Frutos_0003.jpg vs Nicanor_Duarte_Frutos_0004.jpg → Similarity: 0.705 → Match\n",
            "Nicanor_Duarte_Frutos: Nicanor_Duarte_Frutos_0003.jpg vs Nicanor_Duarte_Frutos_0005.jpg → Similarity: 0.681 → Match\n"
          ]
        },
        {
          "output_type": "stream",
          "name": "stderr",
          "text": [
            "Evaluating:  69%|██████▊   | 1174/1711 [1:07:38<41:17,  4.61s/it]  "
          ]
        },
        {
          "output_type": "stream",
          "name": "stdout",
          "text": [
            "Nicanor_Duarte_Frutos: Nicanor_Duarte_Frutos_0004.jpg vs Nicanor_Duarte_Frutos_0005.jpg → Similarity: 0.664 → Match\n"
          ]
        },
        {
          "output_type": "stream",
          "name": "stderr",
          "text": [
            "Evaluating:  69%|██████▉   | 1186/1711 [1:07:39<05:00,  1.75it/s]"
          ]
        },
        {
          "output_type": "stream",
          "name": "stdout",
          "text": [
            "Noah_Wyle: Noah_Wyle_0001.jpg vs Noah_Wyle_0002.jpg → Similarity: 0.718 → Match\n",
            "Noah_Wyle: Noah_Wyle_0001.jpg vs Noah_Wyle_0003.jpg → Similarity: 0.886 → Match\n"
          ]
        },
        {
          "output_type": "stream",
          "name": "stderr",
          "text": [
            "Evaluating:  70%|██████▉   | 1190/1711 [1:07:46<09:13,  1.06s/it]"
          ]
        },
        {
          "output_type": "stream",
          "name": "stdout",
          "text": [
            "Noah_Wyle: Noah_Wyle_0002.jpg vs Noah_Wyle_0003.jpg → Similarity: 0.706 → Match\n"
          ]
        },
        {
          "output_type": "stream",
          "name": "stderr",
          "text": [
            "\rEvaluating:  70%|██████▉   | 1191/1711 [1:07:51<14:51,  1.71s/it]"
          ]
        },
        {
          "output_type": "stream",
          "name": "stdout",
          "text": [
            "Nora_Bendijo: Nora_Bendijo_0001.jpg vs Nora_Bendijo_0002.jpg → Similarity: 0.255 → No Match\n",
            "Norm_Coleman: Norm_Coleman_0001.jpg vs Norm_Coleman_0002.jpg → Similarity: 0.645 → Match\n",
            "Norm_Coleman: Norm_Coleman_0001.jpg vs Norm_Coleman_0003.jpg → Similarity: 0.709 → Match\n",
            "Norm_Coleman: Norm_Coleman_0001.jpg vs Norm_Coleman_0004.jpg → Similarity: 0.726 → Match\n",
            "Norm_Coleman: Norm_Coleman_0001.jpg vs Norm_Coleman_0005.jpg → Similarity: 0.648 → Match\n",
            "Norm_Coleman: Norm_Coleman_0002.jpg vs Norm_Coleman_0003.jpg → Similarity: 0.731 → Match\n",
            "Norm_Coleman: Norm_Coleman_0002.jpg vs Norm_Coleman_0004.jpg → Similarity: 0.712 → Match\n",
            "Norm_Coleman: Norm_Coleman_0002.jpg vs Norm_Coleman_0005.jpg → Similarity: 0.622 → Match\n",
            "Norm_Coleman: Norm_Coleman_0003.jpg vs Norm_Coleman_0004.jpg → Similarity: 0.716 → Match\n",
            "Norm_Coleman: Norm_Coleman_0003.jpg vs Norm_Coleman_0005.jpg → Similarity: 0.649 → Match\n"
          ]
        },
        {
          "output_type": "stream",
          "name": "stderr",
          "text": [
            "Evaluating:  70%|██████▉   | 1195/1711 [1:08:20<35:03,  4.08s/it]"
          ]
        },
        {
          "output_type": "stream",
          "name": "stdout",
          "text": [
            "Norm_Coleman: Norm_Coleman_0004.jpg vs Norm_Coleman_0005.jpg → Similarity: 0.614 → Match\n"
          ]
        },
        {
          "output_type": "stream",
          "name": "stderr",
          "text": [
            "Evaluating:  70%|███████   | 1199/1711 [1:08:24<20:53,  2.45s/it]"
          ]
        },
        {
          "output_type": "stream",
          "name": "stdout",
          "text": [
            "Olivia_Newton-John: Olivia_Newton-John_0001.jpg vs Olivia_Newton-John_0002.jpg → Similarity: 0.741 → Match\n"
          ]
        },
        {
          "output_type": "stream",
          "name": "stderr",
          "text": [
            "Evaluating:  70%|███████   | 1202/1711 [1:08:26<15:03,  1.78s/it]"
          ]
        },
        {
          "output_type": "stream",
          "name": "stdout",
          "text": [
            "Osama_bin_Laden: Osama_bin_Laden_0001.jpg vs Osama_bin_Laden_0002.jpg → Similarity: 0.728 → Match\n",
            "Osama_bin_Laden: Osama_bin_Laden_0001.jpg vs Osama_bin_Laden_0003.jpg → Similarity: 0.827 → Match\n",
            "Osama_bin_Laden: Osama_bin_Laden_0001.jpg vs Osama_bin_Laden_0004.jpg → Similarity: 0.909 → Match\n",
            "Osama_bin_Laden: Osama_bin_Laden_0002.jpg vs Osama_bin_Laden_0003.jpg → Similarity: 0.710 → Match\n",
            "Osama_bin_Laden: Osama_bin_Laden_0002.jpg vs Osama_bin_Laden_0004.jpg → Similarity: 0.722 → Match\n"
          ]
        },
        {
          "output_type": "stream",
          "name": "stderr",
          "text": [
            "\rEvaluating:  70%|███████   | 1203/1711 [1:08:40<37:04,  4.38s/it]"
          ]
        },
        {
          "output_type": "stream",
          "name": "stdout",
          "text": [
            "Osama_bin_Laden: Osama_bin_Laden_0003.jpg vs Osama_bin_Laden_0004.jpg → Similarity: 0.811 → Match\n"
          ]
        },
        {
          "output_type": "stream",
          "name": "stderr",
          "text": [
            "Evaluating:  70%|███████   | 1206/1711 [1:08:43<20:35,  2.45s/it]"
          ]
        },
        {
          "output_type": "stream",
          "name": "stdout",
          "text": [
            "Oscar_Elias_Biscet: Oscar_Elias_Biscet_0001.jpg vs Oscar_Elias_Biscet_0002.jpg → Similarity: 0.840 → Match\n"
          ]
        },
        {
          "output_type": "stream",
          "name": "stderr",
          "text": [
            "Evaluating:  71%|███████   | 1208/1711 [1:08:47<18:17,  2.18s/it]"
          ]
        },
        {
          "output_type": "stream",
          "name": "stdout",
          "text": [
            "Owen_Wilson: Owen_Wilson_0001.jpg vs Owen_Wilson_0002.jpg → Similarity: 0.729 → Match\n",
            "Ozzy_Osbourne: Ozzy_Osbourne_0001.jpg vs Ozzy_Osbourne_0002.jpg → Similarity: 0.512 → No Match\n",
            "Ozzy_Osbourne: Ozzy_Osbourne_0001.jpg vs Ozzy_Osbourne_0003.jpg → Similarity: 0.401 → No Match\n"
          ]
        },
        {
          "output_type": "stream",
          "name": "stderr",
          "text": [
            "\rEvaluating:  71%|███████   | 1209/1711 [1:08:58<36:24,  4.35s/it]"
          ]
        },
        {
          "output_type": "stream",
          "name": "stdout",
          "text": [
            "Ozzy_Osbourne: Ozzy_Osbourne_0002.jpg vs Ozzy_Osbourne_0003.jpg → Similarity: 0.647 → Match\n",
            "Padraig_Harrington: Padraig_Harrington_0001.jpg vs Padraig_Harrington_0002.jpg → Similarity: 0.527 → No Match\n",
            "Padraig_Harrington: Padraig_Harrington_0001.jpg vs Padraig_Harrington_0003.jpg → Similarity: 0.644 → Match\n",
            "Padraig_Harrington: Padraig_Harrington_0002.jpg vs Padraig_Harrington_0003.jpg → Similarity: 0.637 → Match\n"
          ]
        },
        {
          "output_type": "stream",
          "name": "stderr",
          "text": [
            "Evaluating:  71%|███████   | 1214/1711 [1:09:14<20:33,  2.48s/it]"
          ]
        },
        {
          "output_type": "stream",
          "name": "stdout",
          "text": [
            "Paris_Hilton: Paris_Hilton_0001.jpg vs Paris_Hilton_0002.jpg → Similarity: 0.900 → Match\n"
          ]
        },
        {
          "output_type": "stream",
          "name": "stderr",
          "text": [
            "Evaluating:  71%|███████   | 1217/1711 [1:09:17<12:40,  1.54s/it]"
          ]
        },
        {
          "output_type": "stream",
          "name": "stdout",
          "text": [
            "Pat_Burns: Pat_Burns_0001.jpg vs Pat_Burns_0002.jpg → Similarity: 0.650 → Match\n"
          ]
        },
        {
          "output_type": "stream",
          "name": "stderr",
          "text": [
            "Evaluating:  71%|███████▏  | 1223/1711 [1:09:21<06:40,  1.22it/s]"
          ]
        },
        {
          "output_type": "stream",
          "name": "stdout",
          "text": [
            "Patrick_Leahy: Patrick_Leahy_0001.jpg vs Patrick_Leahy_0002.jpg → Similarity: 0.024 → No Match\n",
            "Patti_Labelle: Patti_Labelle_0001.jpg vs Patti_Labelle_0002.jpg → Similarity: 0.733 → Match\n",
            "Patti_Labelle: Patti_Labelle_0001.jpg vs Patti_Labelle_0003.jpg → Similarity: 0.745 → Match\n"
          ]
        },
        {
          "output_type": "stream",
          "name": "stderr",
          "text": [
            "\rEvaluating:  72%|███████▏  | 1224/1711 [1:09:30<19:40,  2.42s/it]"
          ]
        },
        {
          "output_type": "stream",
          "name": "stdout",
          "text": [
            "Patti_Labelle: Patti_Labelle_0002.jpg vs Patti_Labelle_0003.jpg → Similarity: 0.704 → Match\n",
            "Patty_Schnyder: Patty_Schnyder_0001.jpg vs Patty_Schnyder_0002.jpg → Similarity: 0.575 → No Match\n",
            "Patty_Schnyder: Patty_Schnyder_0001.jpg vs Patty_Schnyder_0003.jpg → Similarity: 0.493 → No Match\n",
            "Patty_Schnyder: Patty_Schnyder_0001.jpg vs Patty_Schnyder_0004.jpg → Similarity: 0.580 → No Match\n",
            "Patty_Schnyder: Patty_Schnyder_0002.jpg vs Patty_Schnyder_0003.jpg → Similarity: 0.548 → No Match\n",
            "Patty_Schnyder: Patty_Schnyder_0002.jpg vs Patty_Schnyder_0004.jpg → Similarity: 0.716 → Match\n"
          ]
        },
        {
          "output_type": "stream",
          "name": "stderr",
          "text": [
            "\rEvaluating:  72%|███████▏  | 1225/1711 [1:09:45<41:21,  5.11s/it]"
          ]
        },
        {
          "output_type": "stream",
          "name": "stdout",
          "text": [
            "Patty_Schnyder: Patty_Schnyder_0003.jpg vs Patty_Schnyder_0004.jpg → Similarity: 0.585 → No Match\n",
            "Paul-Henri_Mathieu: Paul-Henri_Mathieu_0001.jpg vs Paul-Henri_Mathieu_0002.jpg → Similarity: 0.612 → Match\n",
            "Paul-Henri_Mathieu: Paul-Henri_Mathieu_0001.jpg vs Paul-Henri_Mathieu_0003.jpg → Similarity: 0.666 → Match\n"
          ]
        },
        {
          "output_type": "stream",
          "name": "stderr",
          "text": [
            "\rEvaluating:  72%|███████▏  | 1227/1711 [1:09:55<41:26,  5.14s/it]"
          ]
        },
        {
          "output_type": "stream",
          "name": "stdout",
          "text": [
            "Paul-Henri_Mathieu: Paul-Henri_Mathieu_0002.jpg vs Paul-Henri_Mathieu_0003.jpg → Similarity: 0.786 → Match\n",
            "Paul_Burrell: Paul_Burrell_0001.jpg vs Paul_Burrell_0002.jpg → Similarity: 0.794 → Match\n",
            "Paul_Burrell: Paul_Burrell_0001.jpg vs Paul_Burrell_0003.jpg → Similarity: 0.788 → Match\n",
            "Paul_Burrell: Paul_Burrell_0001.jpg vs Paul_Burrell_0004.jpg → Similarity: 0.784 → Match\n",
            "Paul_Burrell: Paul_Burrell_0001.jpg vs Paul_Burrell_0005.jpg → Similarity: 0.815 → Match\n",
            "Paul_Burrell: Paul_Burrell_0002.jpg vs Paul_Burrell_0003.jpg → Similarity: 0.772 → Match\n",
            "Paul_Burrell: Paul_Burrell_0002.jpg vs Paul_Burrell_0004.jpg → Similarity: 0.808 → Match\n",
            "Paul_Burrell: Paul_Burrell_0002.jpg vs Paul_Burrell_0005.jpg → Similarity: 0.810 → Match\n",
            "Paul_Burrell: Paul_Burrell_0003.jpg vs Paul_Burrell_0004.jpg → Similarity: 0.785 → Match\n",
            "Paul_Burrell: Paul_Burrell_0003.jpg vs Paul_Burrell_0005.jpg → Similarity: 0.780 → Match\n"
          ]
        },
        {
          "output_type": "stream",
          "name": "stderr",
          "text": [
            "Evaluating:  72%|███████▏  | 1230/1711 [1:10:21<50:17,  6.27s/it]  "
          ]
        },
        {
          "output_type": "stream",
          "name": "stdout",
          "text": [
            "Paul_Burrell: Paul_Burrell_0004.jpg vs Paul_Burrell_0005.jpg → Similarity: 0.818 → Match\n"
          ]
        },
        {
          "output_type": "stream",
          "name": "stderr",
          "text": [
            "Evaluating:  72%|███████▏  | 1233/1711 [1:10:25<28:12,  3.54s/it]"
          ]
        },
        {
          "output_type": "stream",
          "name": "stdout",
          "text": [
            "Paul_Hogan: Paul_Hogan_0001.jpg vs Paul_Hogan_0002.jpg → Similarity: 0.777 → Match\n",
            "Paul_Martin: Paul_Martin_0001.jpg vs Paul_Martin_0002.jpg → Similarity: 0.403 → No Match\n",
            "Paul_Martin: Paul_Martin_0001.jpg vs Paul_Martin_0003.jpg → Similarity: 0.473 → No Match\n",
            "Paul_Martin: Paul_Martin_0001.jpg vs Paul_Martin_0004.jpg → Similarity: 0.434 → No Match\n",
            "Paul_Martin: Paul_Martin_0001.jpg vs Paul_Martin_0005.jpg → Similarity: 0.437 → No Match\n",
            "Paul_Martin: Paul_Martin_0002.jpg vs Paul_Martin_0003.jpg → Similarity: 0.587 → No Match\n",
            "Paul_Martin: Paul_Martin_0002.jpg vs Paul_Martin_0004.jpg → Similarity: 0.663 → Match\n",
            "Paul_Martin: Paul_Martin_0002.jpg vs Paul_Martin_0005.jpg → Similarity: 0.595 → No Match\n",
            "Paul_Martin: Paul_Martin_0003.jpg vs Paul_Martin_0004.jpg → Similarity: 0.556 → No Match\n",
            "Paul_Martin: Paul_Martin_0003.jpg vs Paul_Martin_0005.jpg → Similarity: 0.555 → No Match\n"
          ]
        },
        {
          "output_type": "stream",
          "name": "stderr",
          "text": [
            "Evaluating:  72%|███████▏  | 1236/1711 [1:10:48<38:34,  4.87s/it]  "
          ]
        },
        {
          "output_type": "stream",
          "name": "stdout",
          "text": [
            "Paul_Martin: Paul_Martin_0004.jpg vs Paul_Martin_0005.jpg → Similarity: 0.533 → No Match\n"
          ]
        },
        {
          "output_type": "stream",
          "name": "stderr",
          "text": [
            "\rEvaluating:  72%|███████▏  | 1237/1711 [1:10:52<35:53,  4.54s/it]"
          ]
        },
        {
          "output_type": "stream",
          "name": "stdout",
          "text": [
            "Paul_Patton: Paul_Patton_0001.jpg vs Paul_Patton_0002.jpg → Similarity: 0.768 → Match\n"
          ]
        },
        {
          "output_type": "stream",
          "name": "stderr",
          "text": [
            "\rEvaluating:  72%|███████▏  | 1238/1711 [1:10:52<27:48,  3.53s/it]"
          ]
        },
        {
          "output_type": "stream",
          "name": "stdout",
          "text": [
            "Paul_Sarbanes: Paul_Sarbanes_0001.jpg vs Paul_Sarbanes_0002.jpg → Similarity: 0.685 → Match\n",
            "Paul_Sarbanes: Paul_Sarbanes_0001.jpg vs Paul_Sarbanes_0003.jpg → Similarity: 0.674 → Match\n"
          ]
        },
        {
          "output_type": "stream",
          "name": "stderr",
          "text": [
            "Evaluating:  73%|███████▎  | 1241/1711 [1:11:00<21:30,  2.75s/it]"
          ]
        },
        {
          "output_type": "stream",
          "name": "stdout",
          "text": [
            "Paul_Sarbanes: Paul_Sarbanes_0002.jpg vs Paul_Sarbanes_0003.jpg → Similarity: 0.706 → Match\n"
          ]
        },
        {
          "output_type": "stream",
          "name": "stderr",
          "text": [
            "Evaluating:  73%|███████▎  | 1246/1711 [1:11:01<06:45,  1.15it/s]"
          ]
        },
        {
          "output_type": "stream",
          "name": "stdout",
          "text": [
            "Pedro_Malan: Pedro_Malan_0001.jpg vs Pedro_Malan_0002.jpg → Similarity: 0.578 → No Match\n",
            "Pedro_Malan: Pedro_Malan_0001.jpg vs Pedro_Malan_0003.jpg → Similarity: 0.660 → Match\n",
            "Pedro_Malan: Pedro_Malan_0001.jpg vs Pedro_Malan_0004.jpg → Similarity: 0.700 → Match\n",
            "Pedro_Malan: Pedro_Malan_0001.jpg vs Pedro_Malan_0005.jpg → Similarity: 0.561 → No Match\n"
          ]
        },
        {
          "output_type": "stream",
          "name": "stderr",
          "text": [
            "\rEvaluating:  73%|███████▎  | 1246/1711 [1:11:13<06:45,  1.15it/s]"
          ]
        },
        {
          "output_type": "stream",
          "name": "stdout",
          "text": [
            "Pedro_Malan: Pedro_Malan_0002.jpg vs Pedro_Malan_0003.jpg → Similarity: 0.594 → No Match\n",
            "Pedro_Malan: Pedro_Malan_0002.jpg vs Pedro_Malan_0004.jpg → Similarity: 0.612 → Match\n",
            "Pedro_Malan: Pedro_Malan_0002.jpg vs Pedro_Malan_0005.jpg → Similarity: 0.723 → Match\n",
            "Pedro_Malan: Pedro_Malan_0003.jpg vs Pedro_Malan_0004.jpg → Similarity: 0.746 → Match\n",
            "Pedro_Malan: Pedro_Malan_0003.jpg vs Pedro_Malan_0005.jpg → Similarity: 0.518 → No Match\n"
          ]
        },
        {
          "output_type": "stream",
          "name": "stderr",
          "text": [
            "Evaluating:  73%|███████▎  | 1249/1711 [1:11:30<34:56,  4.54s/it]"
          ]
        },
        {
          "output_type": "stream",
          "name": "stdout",
          "text": [
            "Pedro_Malan: Pedro_Malan_0004.jpg vs Pedro_Malan_0005.jpg → Similarity: 0.601 → Match\n",
            "Pedro_Solbes: Pedro_Solbes_0001.jpg vs Pedro_Solbes_0002.jpg → Similarity: 0.735 → Match\n",
            "Pedro_Solbes: Pedro_Solbes_0001.jpg vs Pedro_Solbes_0003.jpg → Similarity: 0.627 → Match\n",
            "Pedro_Solbes: Pedro_Solbes_0001.jpg vs Pedro_Solbes_0004.jpg → Similarity: 0.616 → Match\n",
            "Pedro_Solbes: Pedro_Solbes_0002.jpg vs Pedro_Solbes_0003.jpg → Similarity: 0.730 → Match\n"
          ]
        },
        {
          "output_type": "stream",
          "name": "stderr",
          "text": [
            "\rEvaluating:  73%|███████▎  | 1249/1711 [1:11:43<34:56,  4.54s/it]"
          ]
        },
        {
          "output_type": "stream",
          "name": "stdout",
          "text": [
            "Pedro_Solbes: Pedro_Solbes_0002.jpg vs Pedro_Solbes_0004.jpg → Similarity: 0.679 → Match\n"
          ]
        },
        {
          "output_type": "stream",
          "name": "stderr",
          "text": [
            "\rEvaluating:  73%|███████▎  | 1250/1711 [1:11:47<55:46,  7.26s/it]"
          ]
        },
        {
          "output_type": "stream",
          "name": "stdout",
          "text": [
            "Pedro_Solbes: Pedro_Solbes_0003.jpg vs Pedro_Solbes_0004.jpg → Similarity: 0.737 → Match\n",
            "Penelope_Cruz: Penelope_Cruz_0001.jpg vs Penelope_Cruz_0002.jpg → Similarity: 0.539 → No Match\n",
            "Penelope_Cruz: Penelope_Cruz_0001.jpg vs Penelope_Cruz_0003.jpg → Similarity: 0.586 → No Match\n"
          ]
        },
        {
          "output_type": "stream",
          "name": "stderr",
          "text": [
            "\rEvaluating:  73%|███████▎  | 1251/1711 [1:11:54<55:07,  7.19s/it]"
          ]
        },
        {
          "output_type": "stream",
          "name": "stdout",
          "text": [
            "Penelope_Cruz: Penelope_Cruz_0002.jpg vs Penelope_Cruz_0003.jpg → Similarity: 0.653 → Match\n"
          ]
        },
        {
          "output_type": "stream",
          "name": "stderr",
          "text": [
            "Evaluating:  74%|███████▍  | 1263/1711 [1:11:59<09:04,  1.21s/it]"
          ]
        },
        {
          "output_type": "stream",
          "name": "stdout",
          "text": [
            "Peter_Greenaway: Peter_Greenaway_0001.jpg vs Peter_Greenaway_0002.jpg → Similarity: 0.809 → Match\n"
          ]
        },
        {
          "output_type": "stream",
          "name": "stderr",
          "text": [
            "Evaluating:  74%|███████▍  | 1271/1711 [1:12:00<02:32,  2.88it/s]"
          ]
        },
        {
          "output_type": "stream",
          "name": "stdout",
          "text": [
            "Phan_Van_Khai: Phan_Van_Khai_0001.jpg vs Phan_Van_Khai_0002.jpg → Similarity: 0.794 → Match\n",
            "Phan_Van_Khai: Phan_Van_Khai_0001.jpg vs Phan_Van_Khai_0003.jpg → Similarity: 0.766 → Match\n"
          ]
        },
        {
          "output_type": "stream",
          "name": "stderr",
          "text": [
            "Evaluating:  74%|███████▍  | 1274/1711 [1:12:08<09:01,  1.24s/it]"
          ]
        },
        {
          "output_type": "stream",
          "name": "stdout",
          "text": [
            "Phan_Van_Khai: Phan_Van_Khai_0002.jpg vs Phan_Van_Khai_0003.jpg → Similarity: 0.824 → Match\n"
          ]
        },
        {
          "output_type": "stream",
          "name": "stderr",
          "text": [
            "Evaluating:  75%|███████▍  | 1282/1711 [1:12:09<02:17,  3.12it/s]"
          ]
        },
        {
          "output_type": "stream",
          "name": "stdout",
          "text": [
            "Pierce_Brosnan: Pierce_Brosnan_0001.jpg vs Pierce_Brosnan_0002.jpg → Similarity: 0.618 → Match\n",
            "Pierce_Brosnan: Pierce_Brosnan_0001.jpg vs Pierce_Brosnan_0003.jpg → Similarity: 0.738 → Match\n",
            "Pierce_Brosnan: Pierce_Brosnan_0001.jpg vs Pierce_Brosnan_0004.jpg → Similarity: 0.672 → Match\n",
            "Pierce_Brosnan: Pierce_Brosnan_0001.jpg vs Pierce_Brosnan_0005.jpg → Similarity: 0.609 → Match\n",
            "Pierce_Brosnan: Pierce_Brosnan_0002.jpg vs Pierce_Brosnan_0003.jpg → Similarity: 0.722 → Match\n"
          ]
        },
        {
          "output_type": "stream",
          "name": "stderr",
          "text": [
            "\rEvaluating:  75%|███████▍  | 1282/1711 [1:12:23<02:17,  3.12it/s]"
          ]
        },
        {
          "output_type": "stream",
          "name": "stdout",
          "text": [
            "Pierce_Brosnan: Pierce_Brosnan_0002.jpg vs Pierce_Brosnan_0004.jpg → Similarity: 0.685 → Match\n",
            "Pierce_Brosnan: Pierce_Brosnan_0002.jpg vs Pierce_Brosnan_0005.jpg → Similarity: 0.628 → Match\n",
            "Pierce_Brosnan: Pierce_Brosnan_0003.jpg vs Pierce_Brosnan_0004.jpg → Similarity: 0.760 → Match\n",
            "Pierce_Brosnan: Pierce_Brosnan_0003.jpg vs Pierce_Brosnan_0005.jpg → Similarity: 0.727 → Match\n"
          ]
        },
        {
          "output_type": "stream",
          "name": "stderr",
          "text": [
            "\rEvaluating:  75%|███████▌  | 1284/1711 [1:12:35<30:31,  4.29s/it]"
          ]
        },
        {
          "output_type": "stream",
          "name": "stdout",
          "text": [
            "Pierce_Brosnan: Pierce_Brosnan_0004.jpg vs Pierce_Brosnan_0005.jpg → Similarity: 0.660 → Match\n"
          ]
        },
        {
          "output_type": "stream",
          "name": "stderr",
          "text": [
            "Evaluating:  75%|███████▌  | 1287/1711 [1:12:38<18:42,  2.65s/it]"
          ]
        },
        {
          "output_type": "stream",
          "name": "stdout",
          "text": [
            "Pierre_Boulanger: Pierre_Boulanger_0001.jpg vs Pierre_Boulanger_0002.jpg → Similarity: 0.750 → Match\n"
          ]
        },
        {
          "output_type": "stream",
          "name": "stderr",
          "text": [
            "\rEvaluating:  75%|███████▌  | 1289/1711 [1:12:38<12:44,  1.81s/it]"
          ]
        },
        {
          "output_type": "stream",
          "name": "stdout",
          "text": [
            "Placido_Domingo: Placido_Domingo_0001.jpg vs Placido_Domingo_0002.jpg → Similarity: 0.565 → No Match\n",
            "Placido_Domingo: Placido_Domingo_0001.jpg vs Placido_Domingo_0003.jpg → Similarity: 0.587 → No Match\n"
          ]
        },
        {
          "output_type": "stream",
          "name": "stderr",
          "text": [
            "\rEvaluating:  75%|███████▌  | 1291/1711 [1:12:46<17:47,  2.54s/it]"
          ]
        },
        {
          "output_type": "stream",
          "name": "stdout",
          "text": [
            "Placido_Domingo: Placido_Domingo_0002.jpg vs Placido_Domingo_0003.jpg → Similarity: 0.814 → Match\n"
          ]
        },
        {
          "output_type": "stream",
          "name": "stderr",
          "text": [
            "Evaluating:  76%|███████▌  | 1297/1711 [1:12:49<08:37,  1.25s/it]"
          ]
        },
        {
          "output_type": "stream",
          "name": "stdout",
          "text": [
            "Priscilla_Presley: Priscilla_Presley_0001.jpg vs Priscilla_Presley_0002.jpg → Similarity: 0.734 → Match\n"
          ]
        },
        {
          "output_type": "stream",
          "name": "stderr",
          "text": [
            "\rEvaluating:  76%|███████▌  | 1299/1711 [1:12:49<06:09,  1.11it/s]"
          ]
        },
        {
          "output_type": "stream",
          "name": "stdout",
          "text": [
            "Rachel_Griffiths: Rachel_Griffiths_0001.jpg vs Rachel_Griffiths_0002.jpg → Similarity: 0.682 → Match\n",
            "Rachel_Griffiths: Rachel_Griffiths_0001.jpg vs Rachel_Griffiths_0003.jpg → Similarity: 0.686 → Match\n"
          ]
        },
        {
          "output_type": "stream",
          "name": "stderr",
          "text": [
            "\rEvaluating:  76%|███████▌  | 1301/1711 [1:12:57<12:47,  1.87s/it]"
          ]
        },
        {
          "output_type": "stream",
          "name": "stdout",
          "text": [
            "Rachel_Griffiths: Rachel_Griffiths_0002.jpg vs Rachel_Griffiths_0003.jpg → Similarity: 0.612 → Match\n",
            "Rachel_Hunter: Rachel_Hunter_0001.jpg vs Rachel_Hunter_0002.jpg → Similarity: 0.684 → Match\n",
            "Rachel_Hunter: Rachel_Hunter_0001.jpg vs Rachel_Hunter_0003.jpg → Similarity: 0.556 → No Match\n",
            "Rachel_Hunter: Rachel_Hunter_0001.jpg vs Rachel_Hunter_0004.jpg → Similarity: 0.596 → No Match\n",
            "Rachel_Hunter: Rachel_Hunter_0002.jpg vs Rachel_Hunter_0003.jpg → Similarity: 0.688 → Match\n",
            "Rachel_Hunter: Rachel_Hunter_0002.jpg vs Rachel_Hunter_0004.jpg → Similarity: 0.600 → No Match\n"
          ]
        },
        {
          "output_type": "stream",
          "name": "stderr",
          "text": [
            "Evaluating:  76%|███████▌  | 1304/1711 [1:13:12<18:51,  2.78s/it]"
          ]
        },
        {
          "output_type": "stream",
          "name": "stdout",
          "text": [
            "Rachel_Hunter: Rachel_Hunter_0003.jpg vs Rachel_Hunter_0004.jpg → Similarity: 0.600 → No Match\n"
          ]
        },
        {
          "output_type": "stream",
          "name": "stderr",
          "text": [
            "Evaluating:  76%|███████▋  | 1308/1711 [1:13:15<10:43,  1.60s/it]"
          ]
        },
        {
          "output_type": "stream",
          "name": "stdout",
          "text": [
            "Raghad_Saddam_Hussein: Raghad_Saddam_Hussein_0001.jpg vs Raghad_Saddam_Hussein_0002.jpg → Similarity: 0.832 → Match\n",
            "Ralf_Schumacher: Ralf_Schumacher_0001.jpg vs Ralf_Schumacher_0002.jpg → Similarity: 0.628 → Match\n",
            "Ralf_Schumacher: Ralf_Schumacher_0001.jpg vs Ralf_Schumacher_0003.jpg → Similarity: 0.743 → Match\n",
            "Ralf_Schumacher: Ralf_Schumacher_0001.jpg vs Ralf_Schumacher_0004.jpg → Similarity: 0.686 → Match\n",
            "Ralf_Schumacher: Ralf_Schumacher_0001.jpg vs Ralf_Schumacher_0005.jpg → Similarity: 0.605 → Match\n",
            "Ralf_Schumacher: Ralf_Schumacher_0002.jpg vs Ralf_Schumacher_0003.jpg → Similarity: 0.592 → No Match\n",
            "Ralf_Schumacher: Ralf_Schumacher_0002.jpg vs Ralf_Schumacher_0004.jpg → Similarity: 0.517 → No Match\n",
            "Ralf_Schumacher: Ralf_Schumacher_0002.jpg vs Ralf_Schumacher_0005.jpg → Similarity: 0.591 → No Match\n",
            "Ralf_Schumacher: Ralf_Schumacher_0003.jpg vs Ralf_Schumacher_0004.jpg → Similarity: 0.655 → Match\n",
            "Ralf_Schumacher: Ralf_Schumacher_0003.jpg vs Ralf_Schumacher_0005.jpg → Similarity: 0.609 → Match\n"
          ]
        },
        {
          "output_type": "stream",
          "name": "stderr",
          "text": [
            "Evaluating:  77%|███████▋  | 1311/1711 [1:13:39<25:18,  3.80s/it]"
          ]
        },
        {
          "output_type": "stream",
          "name": "stdout",
          "text": [
            "Ralf_Schumacher: Ralf_Schumacher_0004.jpg vs Ralf_Schumacher_0005.jpg → Similarity: 0.703 → Match\n"
          ]
        },
        {
          "output_type": "stream",
          "name": "stderr",
          "text": [
            "Evaluating:  77%|███████▋  | 1318/1711 [1:13:40<07:11,  1.10s/it]"
          ]
        },
        {
          "output_type": "stream",
          "name": "stdout",
          "text": [
            "Rebecca_Romijn-Stamos: Rebecca_Romijn-Stamos_0001.jpg vs Rebecca_Romijn-Stamos_0002.jpg → Similarity: 0.621 → Match\n",
            "Rebecca_Romijn-Stamos: Rebecca_Romijn-Stamos_0001.jpg vs Rebecca_Romijn-Stamos_0003.jpg → Similarity: 0.578 → No Match\n",
            "Rebecca_Romijn-Stamos: Rebecca_Romijn-Stamos_0001.jpg vs Rebecca_Romijn-Stamos_0004.jpg → Similarity: 0.495 → No Match\n",
            "Rebecca_Romijn-Stamos: Rebecca_Romijn-Stamos_0002.jpg vs Rebecca_Romijn-Stamos_0003.jpg → Similarity: 0.793 → Match\n",
            "Rebecca_Romijn-Stamos: Rebecca_Romijn-Stamos_0002.jpg vs Rebecca_Romijn-Stamos_0004.jpg → Similarity: 0.639 → Match\n"
          ]
        },
        {
          "output_type": "stream",
          "name": "stderr",
          "text": [
            "\rEvaluating:  77%|███████▋  | 1319/1711 [1:13:58<29:51,  4.57s/it]"
          ]
        },
        {
          "output_type": "stream",
          "name": "stdout",
          "text": [
            "Rebecca_Romijn-Stamos: Rebecca_Romijn-Stamos_0003.jpg vs Rebecca_Romijn-Stamos_0004.jpg → Similarity: 0.629 → Match\n",
            "Reese_Witherspoon: Reese_Witherspoon_0001.jpg vs Reese_Witherspoon_0002.jpg → Similarity: 0.697 → Match\n",
            "Reese_Witherspoon: Reese_Witherspoon_0001.jpg vs Reese_Witherspoon_0003.jpg → Similarity: 0.561 → No Match\n",
            "Reese_Witherspoon: Reese_Witherspoon_0001.jpg vs Reese_Witherspoon_0004.jpg → Similarity: 0.578 → No Match\n",
            "Reese_Witherspoon: Reese_Witherspoon_0002.jpg vs Reese_Witherspoon_0003.jpg → Similarity: 0.606 → Match\n",
            "Reese_Witherspoon: Reese_Witherspoon_0002.jpg vs Reese_Witherspoon_0004.jpg → Similarity: 0.722 → Match\n"
          ]
        },
        {
          "output_type": "stream",
          "name": "stderr",
          "text": [
            "Evaluating:  77%|███████▋  | 1322/1711 [1:14:13<27:15,  4.21s/it]"
          ]
        },
        {
          "output_type": "stream",
          "name": "stdout",
          "text": [
            "Reese_Witherspoon: Reese_Witherspoon_0003.jpg vs Reese_Witherspoon_0004.jpg → Similarity: 0.627 → Match\n"
          ]
        },
        {
          "output_type": "stream",
          "name": "stderr",
          "text": [
            "Evaluating:  77%|███████▋  | 1326/1711 [1:14:13<11:39,  1.82s/it]"
          ]
        },
        {
          "output_type": "stream",
          "name": "stdout",
          "text": [
            "Renee_Zellweger: Renee_Zellweger_0001.jpg vs Renee_Zellweger_0002.jpg → Similarity: 0.673 → Match\n",
            "Renee_Zellweger: Renee_Zellweger_0001.jpg vs Renee_Zellweger_0003.jpg → Similarity: 0.540 → No Match\n",
            "Renee_Zellweger: Renee_Zellweger_0001.jpg vs Renee_Zellweger_0004.jpg → Similarity: 0.545 → No Match\n"
          ]
        },
        {
          "output_type": "stream",
          "name": "stderr",
          "text": [
            "\rEvaluating:  77%|███████▋  | 1326/1711 [1:14:23<11:39,  1.82s/it]"
          ]
        },
        {
          "output_type": "stream",
          "name": "stdout",
          "text": [
            "Renee_Zellweger: Renee_Zellweger_0001.jpg vs Renee_Zellweger_0005.jpg → Similarity: 0.575 → No Match\n",
            "Renee_Zellweger: Renee_Zellweger_0002.jpg vs Renee_Zellweger_0003.jpg → Similarity: 0.617 → Match\n",
            "Renee_Zellweger: Renee_Zellweger_0002.jpg vs Renee_Zellweger_0004.jpg → Similarity: 0.585 → No Match\n",
            "Renee_Zellweger: Renee_Zellweger_0002.jpg vs Renee_Zellweger_0005.jpg → Similarity: 0.600 → No Match\n",
            "Renee_Zellweger: Renee_Zellweger_0003.jpg vs Renee_Zellweger_0004.jpg → Similarity: 0.707 → Match\n",
            "Renee_Zellweger: Renee_Zellweger_0003.jpg vs Renee_Zellweger_0005.jpg → Similarity: 0.642 → Match\n"
          ]
        },
        {
          "output_type": "stream",
          "name": "stderr",
          "text": [
            "\rEvaluating:  78%|███████▊  | 1327/1711 [1:14:40<42:40,  6.67s/it]"
          ]
        },
        {
          "output_type": "stream",
          "name": "stdout",
          "text": [
            "Renee_Zellweger: Renee_Zellweger_0004.jpg vs Renee_Zellweger_0005.jpg → Similarity: 0.572 → No Match\n"
          ]
        },
        {
          "output_type": "stream",
          "name": "stderr",
          "text": [
            "\rEvaluating:  78%|███████▊  | 1328/1711 [1:14:43<37:37,  5.89s/it]"
          ]
        },
        {
          "output_type": "stream",
          "name": "stdout",
          "text": [
            "Ricardo_Maduro: Ricardo_Maduro_0001.jpg vs Ricardo_Maduro_0002.jpg → Similarity: 0.700 → Match\n"
          ]
        },
        {
          "output_type": "stream",
          "name": "stderr",
          "text": [
            "\rEvaluating:  78%|███████▊  | 1330/1711 [1:14:47<27:26,  4.32s/it]"
          ]
        },
        {
          "output_type": "stream",
          "name": "stdout",
          "text": [
            "Rich_Gannon: Rich_Gannon_0001.jpg vs Rich_Gannon_0002.jpg → Similarity: 0.756 → Match\n"
          ]
        },
        {
          "output_type": "stream",
          "name": "stderr",
          "text": [
            "\rEvaluating:  78%|███████▊  | 1331/1711 [1:14:49<25:26,  4.02s/it]"
          ]
        },
        {
          "output_type": "stream",
          "name": "stdout",
          "text": [
            "Richard_Butler: Richard_Butler_0001.jpg vs Richard_Butler_0002.jpg → Similarity: 0.739 → Match\n"
          ]
        },
        {
          "output_type": "stream",
          "name": "stderr",
          "text": [
            "\rEvaluating:  78%|███████▊  | 1332/1711 [1:14:50<19:45,  3.13s/it]"
          ]
        },
        {
          "output_type": "stream",
          "name": "stdout",
          "text": [
            "Richard_Gere: Richard_Gere_0001.jpg vs Richard_Gere_0002.jpg → Similarity: 0.616 → Match\n",
            "Richard_Gere: Richard_Gere_0001.jpg vs Richard_Gere_0003.jpg → Similarity: 0.528 → No Match\n",
            "Richard_Gere: Richard_Gere_0001.jpg vs Richard_Gere_0004.jpg → Similarity: 0.653 → Match\n",
            "Richard_Gere: Richard_Gere_0001.jpg vs Richard_Gere_0005.jpg → Similarity: 0.622 → Match\n",
            "Richard_Gere: Richard_Gere_0002.jpg vs Richard_Gere_0003.jpg → Similarity: 0.544 → No Match\n",
            "Richard_Gere: Richard_Gere_0002.jpg vs Richard_Gere_0004.jpg → Similarity: 0.805 → Match\n",
            "Richard_Gere: Richard_Gere_0002.jpg vs Richard_Gere_0005.jpg → Similarity: 0.640 → Match\n",
            "Richard_Gere: Richard_Gere_0003.jpg vs Richard_Gere_0004.jpg → Similarity: 0.610 → Match\n",
            "Richard_Gere: Richard_Gere_0003.jpg vs Richard_Gere_0005.jpg → Similarity: 0.570 → No Match\n"
          ]
        },
        {
          "output_type": "stream",
          "name": "stderr",
          "text": [
            "Evaluating:  78%|███████▊  | 1335/1711 [1:15:13<30:17,  4.83s/it]"
          ]
        },
        {
          "output_type": "stream",
          "name": "stdout",
          "text": [
            "Richard_Gere: Richard_Gere_0004.jpg vs Richard_Gere_0005.jpg → Similarity: 0.701 → Match\n"
          ]
        },
        {
          "output_type": "stream",
          "name": "stderr",
          "text": [
            "Evaluating:  78%|███████▊  | 1338/1711 [1:15:16<16:41,  2.68s/it]"
          ]
        },
        {
          "output_type": "stream",
          "name": "stdout",
          "text": [
            "Richard_Norton-Taylor: Richard_Norton-Taylor_0001.jpg vs Richard_Norton-Taylor_0002.jpg → Similarity: 0.809 → Match\n"
          ]
        },
        {
          "output_type": "stream",
          "name": "stderr",
          "text": [
            "Evaluating:  78%|███████▊  | 1342/1711 [1:15:20<10:39,  1.73s/it]"
          ]
        },
        {
          "output_type": "stream",
          "name": "stdout",
          "text": [
            "Richard_Shelby: Richard_Shelby_0001.jpg vs Richard_Shelby_0002.jpg → Similarity: 0.677 → Match\n"
          ]
        },
        {
          "output_type": "stream",
          "name": "stderr",
          "text": [
            "\rEvaluating:  79%|███████▊  | 1344/1711 [1:15:23<09:58,  1.63s/it]"
          ]
        },
        {
          "output_type": "stream",
          "name": "stdout",
          "text": [
            "Richie_Adubato: Richie_Adubato_0001.jpg vs Richie_Adubato_0002.jpg → Similarity: 0.648 → Match\n",
            "Rick_Carlisle: Rick_Carlisle_0001.jpg vs Rick_Carlisle_0002.jpg → Similarity: 0.605 → Match\n",
            "Rick_Carlisle: Rick_Carlisle_0001.jpg vs Rick_Carlisle_0003.jpg → Similarity: 0.614 → Match\n",
            "Rick_Carlisle: Rick_Carlisle_0001.jpg vs Rick_Carlisle_0004.jpg → Similarity: 0.721 → Match\n",
            "Rick_Carlisle: Rick_Carlisle_0002.jpg vs Rick_Carlisle_0003.jpg → Similarity: 0.704 → Match\n",
            "Rick_Carlisle: Rick_Carlisle_0002.jpg vs Rick_Carlisle_0004.jpg → Similarity: 0.692 → Match\n"
          ]
        },
        {
          "output_type": "stream",
          "name": "stderr",
          "text": [
            "Evaluating:  79%|███████▊  | 1347/1711 [1:15:40<18:45,  3.09s/it]"
          ]
        },
        {
          "output_type": "stream",
          "name": "stdout",
          "text": [
            "Rick_Carlisle: Rick_Carlisle_0003.jpg vs Rick_Carlisle_0004.jpg → Similarity: 0.676 → Match\n",
            "Rick_Dinse: Rick_Dinse_0001.jpg vs Rick_Dinse_0002.jpg → Similarity: 0.829 → Match\n",
            "Rick_Dinse: Rick_Dinse_0001.jpg vs Rick_Dinse_0003.jpg → Similarity: 0.782 → Match\n"
          ]
        },
        {
          "output_type": "stream",
          "name": "stderr",
          "text": [
            "\rEvaluating:  79%|███████▉  | 1348/1711 [1:15:50<27:33,  4.55s/it]"
          ]
        },
        {
          "output_type": "stream",
          "name": "stdout",
          "text": [
            "Rick_Dinse: Rick_Dinse_0002.jpg vs Rick_Dinse_0003.jpg → Similarity: 0.745 → Match\n",
            "Rick_Perry: Rick_Perry_0001.jpg vs Rick_Perry_0002.jpg → Similarity: 0.635 → Match\n",
            "Rick_Perry: Rick_Perry_0001.jpg vs Rick_Perry_0003.jpg → Similarity: 0.656 → Match\n",
            "Rick_Perry: Rick_Perry_0001.jpg vs Rick_Perry_0004.jpg → Similarity: 0.699 → Match\n",
            "Rick_Perry: Rick_Perry_0001.jpg vs Rick_Perry_0005.jpg → Similarity: 0.641 → Match\n",
            "Rick_Perry: Rick_Perry_0002.jpg vs Rick_Perry_0003.jpg → Similarity: 0.650 → Match\n",
            "Rick_Perry: Rick_Perry_0002.jpg vs Rick_Perry_0004.jpg → Similarity: 0.714 → Match\n",
            "Rick_Perry: Rick_Perry_0002.jpg vs Rick_Perry_0005.jpg → Similarity: 0.590 → No Match\n",
            "Rick_Perry: Rick_Perry_0003.jpg vs Rick_Perry_0004.jpg → Similarity: 0.832 → Match\n",
            "Rick_Perry: Rick_Perry_0003.jpg vs Rick_Perry_0005.jpg → Similarity: 0.669 → Match\n"
          ]
        },
        {
          "output_type": "stream",
          "name": "stderr",
          "text": [
            "\rEvaluating:  79%|███████▉  | 1349/1711 [1:16:14<55:02,  9.12s/it]"
          ]
        },
        {
          "output_type": "stream",
          "name": "stdout",
          "text": [
            "Rick_Perry: Rick_Perry_0004.jpg vs Rick_Perry_0005.jpg → Similarity: 0.735 → Match\n",
            "Rick_Pitino: Rick_Pitino_0001.jpg vs Rick_Pitino_0002.jpg → Similarity: 0.685 → Match\n",
            "Rick_Pitino: Rick_Pitino_0001.jpg vs Rick_Pitino_0003.jpg → Similarity: 0.671 → Match\n",
            "Rick_Pitino: Rick_Pitino_0001.jpg vs Rick_Pitino_0004.jpg → Similarity: 0.033 → No Match\n",
            "Rick_Pitino: Rick_Pitino_0002.jpg vs Rick_Pitino_0003.jpg → Similarity: 0.619 → Match\n",
            "Rick_Pitino: Rick_Pitino_0002.jpg vs Rick_Pitino_0004.jpg → Similarity: 0.066 → No Match\n"
          ]
        },
        {
          "output_type": "stream",
          "name": "stderr",
          "text": [
            "\rEvaluating:  79%|███████▉  | 1350/1711 [1:16:31<1:05:53, 10.95s/it]"
          ]
        },
        {
          "output_type": "stream",
          "name": "stdout",
          "text": [
            "Rick_Pitino: Rick_Pitino_0003.jpg vs Rick_Pitino_0004.jpg → Similarity: 0.070 → No Match\n",
            "Rick_Romley: Rick_Romley_0001.jpg vs Rick_Romley_0002.jpg → Similarity: 0.761 → Match\n",
            "Rick_Romley: Rick_Romley_0001.jpg vs Rick_Romley_0003.jpg → Similarity: 0.768 → Match\n"
          ]
        },
        {
          "output_type": "stream",
          "name": "stderr",
          "text": [
            "\rEvaluating:  79%|███████▉  | 1351/1711 [1:16:39<1:01:23, 10.23s/it]"
          ]
        },
        {
          "output_type": "stream",
          "name": "stdout",
          "text": [
            "Rick_Romley: Rick_Romley_0002.jpg vs Rick_Romley_0003.jpg → Similarity: 0.783 → Match\n"
          ]
        },
        {
          "output_type": "stream",
          "name": "stderr",
          "text": [
            "\rEvaluating:  79%|███████▉  | 1352/1711 [1:16:41<48:40,  8.13s/it]  "
          ]
        },
        {
          "output_type": "stream",
          "name": "stdout",
          "text": [
            "Rick_Wagoner: Rick_Wagoner_0001.jpg vs Rick_Wagoner_0002.jpg → Similarity: 0.660 → Match\n"
          ]
        },
        {
          "output_type": "stream",
          "name": "stderr",
          "text": [
            "Evaluating:  79%|███████▉  | 1356/1711 [1:16:44<19:00,  3.21s/it]"
          ]
        },
        {
          "output_type": "stream",
          "name": "stdout",
          "text": [
            "Ricky_Ponting: Ricky_Ponting_0001.jpg vs Ricky_Ponting_0002.jpg → Similarity: 0.718 → Match\n",
            "Rita_Grande: Rita_Grande_0001.jpg vs Rita_Grande_0002.jpg → Similarity: 0.656 → Match\n",
            "Rita_Grande: Rita_Grande_0001.jpg vs Rita_Grande_0003.jpg → Similarity: 0.675 → Match\n"
          ]
        },
        {
          "output_type": "stream",
          "name": "stderr",
          "text": [
            "\rEvaluating:  79%|███████▉  | 1357/1711 [1:16:52<24:47,  4.20s/it]"
          ]
        },
        {
          "output_type": "stream",
          "name": "stdout",
          "text": [
            "Rita_Grande: Rita_Grande_0002.jpg vs Rita_Grande_0003.jpg → Similarity: 0.751 → Match\n"
          ]
        },
        {
          "output_type": "stream",
          "name": "stderr",
          "text": [
            "Evaluating:  79%|███████▉  | 1360/1711 [1:16:55<14:06,  2.41s/it]"
          ]
        },
        {
          "output_type": "stream",
          "name": "stdout",
          "text": [
            "Rita_Moreno: Rita_Moreno_0001.jpg vs Rita_Moreno_0002.jpg → Similarity: 0.736 → Match\n"
          ]
        },
        {
          "output_type": "stream",
          "name": "stderr",
          "text": [
            "Evaluating:  80%|███████▉  | 1362/1711 [1:16:59<13:27,  2.31s/it]"
          ]
        },
        {
          "output_type": "stream",
          "name": "stdout",
          "text": [
            "Rob_Schneider: Rob_Schneider_0001.jpg vs Rob_Schneider_0002.jpg → Similarity: 0.664 → Match\n"
          ]
        },
        {
          "output_type": "stream",
          "name": "stderr",
          "text": [
            "Evaluating:  80%|███████▉  | 1365/1711 [1:17:02<08:05,  1.40s/it]"
          ]
        },
        {
          "output_type": "stream",
          "name": "stdout",
          "text": [
            "Robbie_Fowler: Robbie_Fowler_0001.jpg vs Robbie_Fowler_0002.jpg → Similarity: 0.871 → Match\n"
          ]
        },
        {
          "output_type": "stream",
          "name": "stderr",
          "text": [
            "Evaluating:  80%|███████▉  | 1368/1711 [1:17:06<06:39,  1.16s/it]"
          ]
        },
        {
          "output_type": "stream",
          "name": "stdout",
          "text": [
            "Robby_Ginepri: Robby_Ginepri_0001.jpg vs Robby_Ginepri_0002.jpg → Similarity: 0.590 → No Match\n",
            "Robert_Evans: Robert_Evans_0001.jpg vs Robert_Evans_0002.jpg → Similarity: 0.797 → Match\n",
            "Robert_Evans: Robert_Evans_0001.jpg vs Robert_Evans_0003.jpg → Similarity: 0.718 → Match\n"
          ]
        },
        {
          "output_type": "stream",
          "name": "stderr",
          "text": [
            "Evaluating:  80%|████████  | 1371/1711 [1:17:16<11:24,  2.01s/it]"
          ]
        },
        {
          "output_type": "stream",
          "name": "stdout",
          "text": [
            "Robert_Evans: Robert_Evans_0002.jpg vs Robert_Evans_0003.jpg → Similarity: 0.646 → Match\n"
          ]
        },
        {
          "output_type": "stream",
          "name": "stderr",
          "text": [
            "Evaluating:  80%|████████  | 1376/1711 [1:17:20<06:07,  1.10s/it]"
          ]
        },
        {
          "output_type": "stream",
          "name": "stdout",
          "text": [
            "Robert_Horan: Robert_Horan_0001.jpg vs Robert_Horan_0002.jpg → Similarity: 0.759 → Match\n"
          ]
        },
        {
          "output_type": "stream",
          "name": "stderr",
          "text": [
            "\rEvaluating:  81%|████████  | 1378/1711 [1:17:20<04:11,  1.32it/s]"
          ]
        },
        {
          "output_type": "stream",
          "name": "stdout",
          "text": [
            "Robert_Mueller: Robert_Mueller_0001.jpg vs Robert_Mueller_0002.jpg → Similarity: 0.758 → Match\n",
            "Robert_Mueller: Robert_Mueller_0001.jpg vs Robert_Mueller_0003.jpg → Similarity: 0.809 → Match\n",
            "Robert_Mueller: Robert_Mueller_0001.jpg vs Robert_Mueller_0004.jpg → Similarity: 0.821 → Match\n",
            "Robert_Mueller: Robert_Mueller_0001.jpg vs Robert_Mueller_0005.jpg → Similarity: 0.810 → Match\n",
            "Robert_Mueller: Robert_Mueller_0002.jpg vs Robert_Mueller_0003.jpg → Similarity: 0.783 → Match\n",
            "Robert_Mueller: Robert_Mueller_0002.jpg vs Robert_Mueller_0004.jpg → Similarity: 0.795 → Match\n",
            "Robert_Mueller: Robert_Mueller_0002.jpg vs Robert_Mueller_0005.jpg → Similarity: 0.761 → Match\n",
            "Robert_Mueller: Robert_Mueller_0003.jpg vs Robert_Mueller_0004.jpg → Similarity: 0.807 → Match\n",
            "Robert_Mueller: Robert_Mueller_0003.jpg vs Robert_Mueller_0005.jpg → Similarity: 0.737 → Match\n"
          ]
        },
        {
          "output_type": "stream",
          "name": "stderr",
          "text": [
            "Evaluating:  81%|████████  | 1381/1711 [1:17:43<17:55,  3.26s/it]"
          ]
        },
        {
          "output_type": "stream",
          "name": "stdout",
          "text": [
            "Robert_Mueller: Robert_Mueller_0004.jpg vs Robert_Mueller_0005.jpg → Similarity: 0.783 → Match\n",
            "Robert_Redford: Robert_Redford_0001.jpg vs Robert_Redford_0002.jpg → Similarity: 0.732 → Match\n",
            "Robert_Redford: Robert_Redford_0001.jpg vs Robert_Redford_0003.jpg → Similarity: 0.757 → Match\n"
          ]
        },
        {
          "output_type": "stream",
          "name": "stderr",
          "text": [
            "\rEvaluating:  81%|████████  | 1381/1711 [1:17:53<17:55,  3.26s/it]"
          ]
        },
        {
          "output_type": "stream",
          "name": "stdout",
          "text": [
            "Robert_Redford: Robert_Redford_0001.jpg vs Robert_Redford_0004.jpg → Similarity: 0.668 → Match\n",
            "Robert_Redford: Robert_Redford_0001.jpg vs Robert_Redford_0005.jpg → Similarity: 0.879 → Match\n",
            "Robert_Redford: Robert_Redford_0002.jpg vs Robert_Redford_0003.jpg → Similarity: 0.681 → Match\n",
            "Robert_Redford: Robert_Redford_0002.jpg vs Robert_Redford_0004.jpg → Similarity: 0.572 → No Match\n",
            "Robert_Redford: Robert_Redford_0002.jpg vs Robert_Redford_0005.jpg → Similarity: 0.758 → Match\n",
            "Robert_Redford: Robert_Redford_0003.jpg vs Robert_Redford_0004.jpg → Similarity: 0.514 → No Match\n",
            "Robert_Redford: Robert_Redford_0003.jpg vs Robert_Redford_0005.jpg → Similarity: 0.760 → Match\n"
          ]
        },
        {
          "output_type": "stream",
          "name": "stderr",
          "text": [
            "Evaluating:  81%|████████  | 1384/1711 [1:18:17<33:06,  6.07s/it]"
          ]
        },
        {
          "output_type": "stream",
          "name": "stdout",
          "text": [
            "Robert_Redford: Robert_Redford_0004.jpg vs Robert_Redford_0005.jpg → Similarity: 0.623 → Match\n"
          ]
        },
        {
          "output_type": "stream",
          "name": "stderr",
          "text": [
            "Evaluating:  81%|████████  | 1388/1711 [1:18:21<17:22,  3.23s/it]"
          ]
        },
        {
          "output_type": "stream",
          "name": "stdout",
          "text": [
            "Robin_Cook: Robin_Cook_0001.jpg vs Robin_Cook_0002.jpg → Similarity: 0.812 → Match\n"
          ]
        },
        {
          "output_type": "stream",
          "name": "stderr",
          "text": [
            "\rEvaluating:  81%|████████  | 1390/1711 [1:18:24<14:29,  2.71s/it]"
          ]
        },
        {
          "output_type": "stream",
          "name": "stdout",
          "text": [
            "Rod_Blagojevich: Rod_Blagojevich_0001.jpg vs Rod_Blagojevich_0002.jpg → Similarity: 0.762 → Match\n",
            "Rod_Stewart: Rod_Stewart_0001.jpg vs Rod_Stewart_0002.jpg → Similarity: 0.665 → Match\n",
            "Rod_Stewart: Rod_Stewart_0001.jpg vs Rod_Stewart_0003.jpg → Similarity: 0.684 → Match\n"
          ]
        },
        {
          "output_type": "stream",
          "name": "stderr",
          "text": [
            "Evaluating:  81%|████████▏ | 1392/1711 [1:18:34<16:40,  3.14s/it]"
          ]
        },
        {
          "output_type": "stream",
          "name": "stdout",
          "text": [
            "Rod_Stewart: Rod_Stewart_0002.jpg vs Rod_Stewart_0003.jpg → Similarity: 0.663 → Match\n"
          ]
        },
        {
          "output_type": "stream",
          "name": "stderr",
          "text": [
            "\rEvaluating:  81%|████████▏ | 1393/1711 [1:18:37<16:55,  3.19s/it]"
          ]
        },
        {
          "output_type": "stream",
          "name": "stdout",
          "text": [
            "Rodrigo_Borja: Rodrigo_Borja_0001.jpg vs Rodrigo_Borja_0002.jpg → Similarity: 0.633 → Match\n"
          ]
        },
        {
          "output_type": "stream",
          "name": "stderr",
          "text": [
            "Evaluating:  82%|████████▏ | 1397/1711 [1:18:40<08:42,  1.66s/it]"
          ]
        },
        {
          "output_type": "stream",
          "name": "stdout",
          "text": [
            "Roger_Clemens: Roger_Clemens_0001.jpg vs Roger_Clemens_0002.jpg → Similarity: 0.732 → Match\n"
          ]
        },
        {
          "output_type": "stream",
          "name": "stderr",
          "text": [
            "Evaluating:  82%|████████▏ | 1405/1711 [1:18:41<02:05,  2.44it/s]"
          ]
        },
        {
          "output_type": "stream",
          "name": "stdout",
          "text": [
            "Romano_Prodi: Romano_Prodi_0001.jpg vs Romano_Prodi_0002.jpg → Similarity: 0.664 → Match\n",
            "Romano_Prodi: Romano_Prodi_0001.jpg vs Romano_Prodi_0003.jpg → Similarity: 0.519 → No Match\n",
            "Romano_Prodi: Romano_Prodi_0001.jpg vs Romano_Prodi_0004.jpg → Similarity: 0.493 → No Match\n"
          ]
        },
        {
          "output_type": "stream",
          "name": "stderr",
          "text": [
            "\rEvaluating:  82%|████████▏ | 1405/1711 [1:18:53<02:05,  2.44it/s]"
          ]
        },
        {
          "output_type": "stream",
          "name": "stdout",
          "text": [
            "Romano_Prodi: Romano_Prodi_0001.jpg vs Romano_Prodi_0005.jpg → Similarity: 0.481 → No Match\n",
            "Romano_Prodi: Romano_Prodi_0002.jpg vs Romano_Prodi_0003.jpg → Similarity: 0.591 → No Match\n",
            "Romano_Prodi: Romano_Prodi_0002.jpg vs Romano_Prodi_0004.jpg → Similarity: 0.607 → Match\n",
            "Romano_Prodi: Romano_Prodi_0002.jpg vs Romano_Prodi_0005.jpg → Similarity: 0.567 → No Match\n",
            "Romano_Prodi: Romano_Prodi_0003.jpg vs Romano_Prodi_0004.jpg → Similarity: 0.617 → Match\n",
            "Romano_Prodi: Romano_Prodi_0003.jpg vs Romano_Prodi_0005.jpg → Similarity: 0.554 → No Match\n"
          ]
        },
        {
          "output_type": "stream",
          "name": "stderr",
          "text": [
            "\rEvaluating:  82%|████████▏ | 1406/1711 [1:19:07<25:26,  5.00s/it]"
          ]
        },
        {
          "output_type": "stream",
          "name": "stdout",
          "text": [
            "Romano_Prodi: Romano_Prodi_0004.jpg vs Romano_Prodi_0005.jpg → Similarity: 0.843 → Match\n"
          ]
        },
        {
          "output_type": "stream",
          "name": "stderr",
          "text": [
            "\rEvaluating:  82%|████████▏ | 1407/1711 [1:19:11<24:17,  4.79s/it]"
          ]
        },
        {
          "output_type": "stream",
          "name": "stdout",
          "text": [
            "Ron_Howard: Ron_Howard_0001.jpg vs Ron_Howard_0002.jpg → Similarity: 0.765 → Match\n",
            "Ronaldo_Luis_Nazario_de_Lima: Ronaldo_Luis_Nazario_de_Lima_0001.jpg vs Ronaldo_Luis_Nazario_de_Lima_0002.jpg → Similarity: 0.708 → Match\n",
            "Ronaldo_Luis_Nazario_de_Lima: Ronaldo_Luis_Nazario_de_Lima_0001.jpg vs Ronaldo_Luis_Nazario_de_Lima_0003.jpg → Similarity: 0.719 → Match\n",
            "Ronaldo_Luis_Nazario_de_Lima: Ronaldo_Luis_Nazario_de_Lima_0001.jpg vs Ronaldo_Luis_Nazario_de_Lima_0004.jpg → Similarity: 0.794 → Match\n",
            "Ronaldo_Luis_Nazario_de_Lima: Ronaldo_Luis_Nazario_de_Lima_0002.jpg vs Ronaldo_Luis_Nazario_de_Lima_0003.jpg → Similarity: 0.756 → Match\n",
            "Ronaldo_Luis_Nazario_de_Lima: Ronaldo_Luis_Nazario_de_Lima_0002.jpg vs Ronaldo_Luis_Nazario_de_Lima_0004.jpg → Similarity: 0.694 → Match\n"
          ]
        },
        {
          "output_type": "stream",
          "name": "stderr",
          "text": [
            "\rEvaluating:  82%|████████▏ | 1409/1711 [1:19:25<28:52,  5.74s/it]"
          ]
        },
        {
          "output_type": "stream",
          "name": "stdout",
          "text": [
            "Ronaldo_Luis_Nazario_de_Lima: Ronaldo_Luis_Nazario_de_Lima_0003.jpg vs Ronaldo_Luis_Nazario_de_Lima_0004.jpg → Similarity: 0.781 → Match\n"
          ]
        },
        {
          "output_type": "stream",
          "name": "stderr",
          "text": [
            "Evaluating:  83%|████████▎ | 1416/1711 [1:19:28<08:18,  1.69s/it]"
          ]
        },
        {
          "output_type": "stream",
          "name": "stdout",
          "text": [
            "Rosemarie_Stack: Rosemarie_Stack_0001.jpg vs Rosemarie_Stack_0002.jpg → Similarity: 0.693 → Match\n",
            "Roy_Moore: Roy_Moore_0001.jpg vs Roy_Moore_0002.jpg → Similarity: 0.772 → Match\n",
            "Roy_Moore: Roy_Moore_0001.jpg vs Roy_Moore_0003.jpg → Similarity: -0.055 → No Match\n",
            "Roy_Moore: Roy_Moore_0001.jpg vs Roy_Moore_0004.jpg → Similarity: 0.682 → Match\n",
            "Roy_Moore: Roy_Moore_0001.jpg vs Roy_Moore_0005.jpg → Similarity: 0.623 → Match\n",
            "Roy_Moore: Roy_Moore_0002.jpg vs Roy_Moore_0003.jpg → Similarity: -0.010 → No Match\n",
            "Roy_Moore: Roy_Moore_0002.jpg vs Roy_Moore_0004.jpg → Similarity: 0.703 → Match\n",
            "Roy_Moore: Roy_Moore_0002.jpg vs Roy_Moore_0005.jpg → Similarity: 0.703 → Match\n",
            "Roy_Moore: Roy_Moore_0003.jpg vs Roy_Moore_0004.jpg → Similarity: -0.062 → No Match\n",
            "Roy_Moore: Roy_Moore_0003.jpg vs Roy_Moore_0005.jpg → Similarity: 0.002 → No Match\n"
          ]
        },
        {
          "output_type": "stream",
          "name": "stderr",
          "text": [
            "\rEvaluating:  83%|████████▎ | 1417/1711 [1:20:05<42:26,  8.66s/it]"
          ]
        },
        {
          "output_type": "stream",
          "name": "stdout",
          "text": [
            "Roy_Moore: Roy_Moore_0004.jpg vs Roy_Moore_0005.jpg → Similarity: 0.744 → Match\n",
            "Roy_Williams: Roy_Williams_0001.jpg vs Roy_Williams_0002.jpg → Similarity: 0.620 → Match\n",
            "Roy_Williams: Roy_Williams_0001.jpg vs Roy_Williams_0003.jpg → Similarity: 0.567 → No Match\n",
            "Roy_Williams: Roy_Williams_0001.jpg vs Roy_Williams_0004.jpg → Similarity: 0.587 → No Match\n",
            "Roy_Williams: Roy_Williams_0002.jpg vs Roy_Williams_0003.jpg → Similarity: 0.640 → Match\n",
            "Roy_Williams: Roy_Williams_0002.jpg vs Roy_Williams_0004.jpg → Similarity: 0.578 → No Match\n"
          ]
        },
        {
          "output_type": "stream",
          "name": "stderr",
          "text": [
            "Evaluating:  83%|████████▎ | 1421/1711 [1:20:20<26:10,  5.42s/it]"
          ]
        },
        {
          "output_type": "stream",
          "name": "stdout",
          "text": [
            "Roy_Williams: Roy_Williams_0003.jpg vs Roy_Williams_0004.jpg → Similarity: 0.628 → Match\n",
            "Rupert_Grint: Rupert_Grint_0001.jpg vs Rupert_Grint_0002.jpg → Similarity: 0.831 → Match\n",
            "Rupert_Grint: Rupert_Grint_0001.jpg vs Rupert_Grint_0003.jpg → Similarity: 0.723 → Match\n"
          ]
        },
        {
          "output_type": "stream",
          "name": "stderr",
          "text": [
            "\rEvaluating:  83%|████████▎ | 1423/1711 [1:20:29<24:42,  5.15s/it]"
          ]
        },
        {
          "output_type": "stream",
          "name": "stdout",
          "text": [
            "Rupert_Grint: Rupert_Grint_0002.jpg vs Rupert_Grint_0003.jpg → Similarity: 0.795 → Match\n"
          ]
        },
        {
          "output_type": "stream",
          "name": "stderr",
          "text": [
            "\rEvaluating:  83%|████████▎ | 1424/1711 [1:20:33<23:15,  4.86s/it]"
          ]
        },
        {
          "output_type": "stream",
          "name": "stdout",
          "text": [
            "Rupert_Murdoch: Rupert_Murdoch_0001.jpg vs Rupert_Murdoch_0002.jpg → Similarity: 0.672 → Match\n"
          ]
        },
        {
          "output_type": "stream",
          "name": "stderr",
          "text": [
            "\rEvaluating:  83%|████████▎ | 1426/1711 [1:20:35<17:06,  3.60s/it]"
          ]
        },
        {
          "output_type": "stream",
          "name": "stdout",
          "text": [
            "Russell_Coutts: Russell_Coutts_0001.jpg vs Russell_Coutts_0002.jpg → Similarity: 0.703 → Match\n"
          ]
        },
        {
          "output_type": "stream",
          "name": "stderr",
          "text": [
            "Evaluating:  83%|████████▎ | 1428/1711 [1:20:38<12:59,  2.75s/it]"
          ]
        },
        {
          "output_type": "stream",
          "name": "stdout",
          "text": [
            "Russell_Crowe: Russell_Crowe_0001.jpg vs Russell_Crowe_0002.jpg → Similarity: 0.782 → Match\n"
          ]
        },
        {
          "output_type": "stream",
          "name": "stderr",
          "text": [
            "Evaluating:  84%|████████▎ | 1432/1711 [1:20:39<05:13,  1.12s/it]"
          ]
        },
        {
          "output_type": "stream",
          "name": "stdout",
          "text": [
            "Sally_Kirkland: Sally_Kirkland_0001.jpg vs Sally_Kirkland_0002.jpg → Similarity: 0.612 → Match\n",
            "Sally_Kirkland: Sally_Kirkland_0001.jpg vs Sally_Kirkland_0003.jpg → Similarity: 0.590 → No Match\n",
            "Sally_Kirkland: Sally_Kirkland_0001.jpg vs Sally_Kirkland_0004.jpg → Similarity: 0.618 → Match\n",
            "Sally_Kirkland: Sally_Kirkland_0002.jpg vs Sally_Kirkland_0003.jpg → Similarity: 0.524 → No Match\n",
            "Sally_Kirkland: Sally_Kirkland_0002.jpg vs Sally_Kirkland_0004.jpg → Similarity: 0.515 → No Match\n"
          ]
        },
        {
          "output_type": "stream",
          "name": "stderr",
          "text": [
            "\rEvaluating:  84%|████████▍ | 1433/1711 [1:20:53<17:33,  3.79s/it]"
          ]
        },
        {
          "output_type": "stream",
          "name": "stdout",
          "text": [
            "Sally_Kirkland: Sally_Kirkland_0003.jpg vs Sally_Kirkland_0004.jpg → Similarity: 0.723 → Match\n",
            "Salma_Hayek: Salma_Hayek_0001.jpg vs Salma_Hayek_0002.jpg → Similarity: 0.637 → Match\n",
            "Salma_Hayek: Salma_Hayek_0001.jpg vs Salma_Hayek_0003.jpg → Similarity: 0.594 → No Match\n",
            "Salma_Hayek: Salma_Hayek_0001.jpg vs Salma_Hayek_0004.jpg → Similarity: 0.609 → Match\n",
            "Salma_Hayek: Salma_Hayek_0001.jpg vs Salma_Hayek_0005.jpg → Similarity: 0.613 → Match\n",
            "Salma_Hayek: Salma_Hayek_0002.jpg vs Salma_Hayek_0003.jpg → Similarity: 0.625 → Match\n",
            "Salma_Hayek: Salma_Hayek_0002.jpg vs Salma_Hayek_0004.jpg → Similarity: 0.553 → No Match\n",
            "Salma_Hayek: Salma_Hayek_0002.jpg vs Salma_Hayek_0005.jpg → Similarity: 0.660 → Match\n",
            "Salma_Hayek: Salma_Hayek_0003.jpg vs Salma_Hayek_0004.jpg → Similarity: 0.764 → Match\n",
            "Salma_Hayek: Salma_Hayek_0003.jpg vs Salma_Hayek_0005.jpg → Similarity: 0.872 → Match\n"
          ]
        },
        {
          "output_type": "stream",
          "name": "stderr",
          "text": [
            "Evaluating:  84%|████████▍ | 1436/1711 [1:21:17<23:31,  5.13s/it]"
          ]
        },
        {
          "output_type": "stream",
          "name": "stdout",
          "text": [
            "Salma_Hayek: Salma_Hayek_0004.jpg vs Salma_Hayek_0005.jpg → Similarity: 0.784 → Match\n"
          ]
        },
        {
          "output_type": "stream",
          "name": "stderr",
          "text": [
            "\rEvaluating:  84%|████████▍ | 1438/1711 [1:21:20<17:07,  3.76s/it]"
          ]
        },
        {
          "output_type": "stream",
          "name": "stdout",
          "text": [
            "Sam_Mendes: Sam_Mendes_0001.jpg vs Sam_Mendes_0002.jpg → Similarity: 0.776 → Match\n",
            "Samuel_Waksal: Samuel_Waksal_0001.jpg vs Samuel_Waksal_0002.jpg → Similarity: 0.774 → Match\n",
            "Samuel_Waksal: Samuel_Waksal_0001.jpg vs Samuel_Waksal_0003.jpg → Similarity: 0.713 → Match\n",
            "Samuel_Waksal: Samuel_Waksal_0001.jpg vs Samuel_Waksal_0004.jpg → Similarity: 0.724 → Match\n",
            "Samuel_Waksal: Samuel_Waksal_0002.jpg vs Samuel_Waksal_0003.jpg → Similarity: 0.594 → No Match\n",
            "Samuel_Waksal: Samuel_Waksal_0002.jpg vs Samuel_Waksal_0004.jpg → Similarity: 0.637 → Match\n"
          ]
        },
        {
          "output_type": "stream",
          "name": "stderr",
          "text": [
            "Evaluating:  84%|████████▍ | 1441/1711 [1:21:40<21:37,  4.81s/it]"
          ]
        },
        {
          "output_type": "stream",
          "name": "stdout",
          "text": [
            "Samuel_Waksal: Samuel_Waksal_0003.jpg vs Samuel_Waksal_0004.jpg → Similarity: 0.743 → Match\n"
          ]
        },
        {
          "output_type": "stream",
          "name": "stderr",
          "text": [
            "\rEvaluating:  84%|████████▍ | 1443/1711 [1:21:40<13:55,  3.12s/it]"
          ]
        },
        {
          "output_type": "stream",
          "name": "stdout",
          "text": [
            "Sarah_Jessica_Parker: Sarah_Jessica_Parker_0001.jpg vs Sarah_Jessica_Parker_0002.jpg → Similarity: 0.561 → No Match\n",
            "Sarah_Jessica_Parker: Sarah_Jessica_Parker_0001.jpg vs Sarah_Jessica_Parker_0003.jpg → Similarity: 0.430 → No Match\n",
            "Sarah_Jessica_Parker: Sarah_Jessica_Parker_0001.jpg vs Sarah_Jessica_Parker_0004.jpg → Similarity: 0.575 → No Match\n",
            "Sarah_Jessica_Parker: Sarah_Jessica_Parker_0001.jpg vs Sarah_Jessica_Parker_0005.jpg → Similarity: 0.678 → Match\n",
            "Sarah_Jessica_Parker: Sarah_Jessica_Parker_0002.jpg vs Sarah_Jessica_Parker_0003.jpg → Similarity: 0.397 → No Match\n",
            "Sarah_Jessica_Parker: Sarah_Jessica_Parker_0002.jpg vs Sarah_Jessica_Parker_0004.jpg → Similarity: 0.533 → No Match\n",
            "Sarah_Jessica_Parker: Sarah_Jessica_Parker_0002.jpg vs Sarah_Jessica_Parker_0005.jpg → Similarity: 0.554 → No Match\n",
            "Sarah_Jessica_Parker: Sarah_Jessica_Parker_0003.jpg vs Sarah_Jessica_Parker_0004.jpg → Similarity: 0.586 → No Match\n",
            "Sarah_Jessica_Parker: Sarah_Jessica_Parker_0003.jpg vs Sarah_Jessica_Parker_0005.jpg → Similarity: 0.403 → No Match\n"
          ]
        },
        {
          "output_type": "stream",
          "name": "stderr",
          "text": [
            "Evaluating:  85%|████████▍ | 1446/1711 [1:22:06<21:41,  4.91s/it]"
          ]
        },
        {
          "output_type": "stream",
          "name": "stdout",
          "text": [
            "Sarah_Jessica_Parker: Sarah_Jessica_Parker_0004.jpg vs Sarah_Jessica_Parker_0005.jpg → Similarity: 0.575 → No Match\n"
          ]
        },
        {
          "output_type": "stream",
          "name": "stderr",
          "text": [
            "\rEvaluating:  85%|████████▍ | 1448/1711 [1:22:07<14:13,  3.24s/it]"
          ]
        },
        {
          "output_type": "stream",
          "name": "stdout",
          "text": [
            "Scott_McClellan: Scott_McClellan_0001.jpg vs Scott_McClellan_0002.jpg → Similarity: 0.751 → Match\n",
            "Scott_McClellan: Scott_McClellan_0001.jpg vs Scott_McClellan_0003.jpg → Similarity: 0.867 → Match\n",
            "Scott_McClellan: Scott_McClellan_0001.jpg vs Scott_McClellan_0004.jpg → Similarity: 0.781 → Match\n",
            "Scott_McClellan: Scott_McClellan_0001.jpg vs Scott_McClellan_0005.jpg → Similarity: 0.791 → Match\n",
            "Scott_McClellan: Scott_McClellan_0002.jpg vs Scott_McClellan_0003.jpg → Similarity: 0.775 → Match\n",
            "Scott_McClellan: Scott_McClellan_0002.jpg vs Scott_McClellan_0004.jpg → Similarity: 0.722 → Match\n"
          ]
        },
        {
          "output_type": "stream",
          "name": "stderr",
          "text": [
            "\rEvaluating:  85%|████████▍ | 1448/1711 [1:22:23<14:13,  3.24s/it]"
          ]
        },
        {
          "output_type": "stream",
          "name": "stdout",
          "text": [
            "Scott_McClellan: Scott_McClellan_0002.jpg vs Scott_McClellan_0005.jpg → Similarity: 0.685 → Match\n",
            "Scott_McClellan: Scott_McClellan_0003.jpg vs Scott_McClellan_0004.jpg → Similarity: 0.759 → Match\n",
            "Scott_McClellan: Scott_McClellan_0003.jpg vs Scott_McClellan_0005.jpg → Similarity: 0.763 → Match\n"
          ]
        },
        {
          "output_type": "stream",
          "name": "stderr",
          "text": [
            "\rEvaluating:  85%|████████▍ | 1450/1711 [1:22:30<26:32,  6.10s/it]"
          ]
        },
        {
          "output_type": "stream",
          "name": "stdout",
          "text": [
            "Scott_McClellan: Scott_McClellan_0004.jpg vs Scott_McClellan_0005.jpg → Similarity: 0.768 → Match\n"
          ]
        },
        {
          "output_type": "stream",
          "name": "stderr",
          "text": [
            "Evaluating:  85%|████████▍ | 1453/1711 [1:22:33<15:18,  3.56s/it]"
          ]
        },
        {
          "output_type": "stream",
          "name": "stdout",
          "text": [
            "Scott_McNealy: Scott_McNealy_0001.jpg vs Scott_McNealy_0002.jpg → Similarity: 0.734 → Match\n"
          ]
        },
        {
          "output_type": "stream",
          "name": "stderr",
          "text": [
            "\rEvaluating:  85%|████████▌ | 1455/1711 [1:22:33<10:13,  2.39s/it]"
          ]
        },
        {
          "output_type": "stream",
          "name": "stdout",
          "text": [
            "Sean_Astin: Sean_Astin_0001.jpg vs Sean_Astin_0002.jpg → Similarity: 0.633 → Match\n",
            "Sean_Astin: Sean_Astin_0001.jpg vs Sean_Astin_0003.jpg → Similarity: 0.661 → Match\n"
          ]
        },
        {
          "output_type": "stream",
          "name": "stderr",
          "text": [
            "\rEvaluating:  85%|████████▌ | 1457/1711 [1:22:42<13:06,  3.10s/it]"
          ]
        },
        {
          "output_type": "stream",
          "name": "stdout",
          "text": [
            "Sean_Astin: Sean_Astin_0002.jpg vs Sean_Astin_0003.jpg → Similarity: 0.657 → Match\n",
            "Sean_OKeefe: Sean_OKeefe_0001.jpg vs Sean_OKeefe_0002.jpg → Similarity: 0.725 → Match\n",
            "Sean_OKeefe: Sean_OKeefe_0001.jpg vs Sean_OKeefe_0003.jpg → Similarity: 0.733 → Match\n",
            "Sean_OKeefe: Sean_OKeefe_0001.jpg vs Sean_OKeefe_0004.jpg → Similarity: 0.854 → Match\n",
            "Sean_OKeefe: Sean_OKeefe_0001.jpg vs Sean_OKeefe_0005.jpg → Similarity: 0.741 → Match\n",
            "Sean_OKeefe: Sean_OKeefe_0002.jpg vs Sean_OKeefe_0003.jpg → Similarity: 0.730 → Match\n",
            "Sean_OKeefe: Sean_OKeefe_0002.jpg vs Sean_OKeefe_0004.jpg → Similarity: 0.784 → Match\n",
            "Sean_OKeefe: Sean_OKeefe_0002.jpg vs Sean_OKeefe_0005.jpg → Similarity: 0.670 → Match\n",
            "Sean_OKeefe: Sean_OKeefe_0003.jpg vs Sean_OKeefe_0004.jpg → Similarity: 0.750 → Match\n",
            "Sean_OKeefe: Sean_OKeefe_0003.jpg vs Sean_OKeefe_0005.jpg → Similarity: 0.708 → Match\n"
          ]
        },
        {
          "output_type": "stream",
          "name": "stderr",
          "text": [
            "\rEvaluating:  85%|████████▌ | 1458/1711 [1:23:09<31:19,  7.43s/it]"
          ]
        },
        {
          "output_type": "stream",
          "name": "stdout",
          "text": [
            "Sean_OKeefe: Sean_OKeefe_0004.jpg vs Sean_OKeefe_0005.jpg → Similarity: 0.797 → Match\n",
            "Sean_Patrick_OMalley: Sean_Patrick_OMalley_0001.jpg vs Sean_Patrick_OMalley_0002.jpg → Similarity: 0.834 → Match\n",
            "Sean_Patrick_OMalley: Sean_Patrick_OMalley_0001.jpg vs Sean_Patrick_OMalley_0003.jpg → Similarity: 0.670 → Match\n"
          ]
        },
        {
          "output_type": "stream",
          "name": "stderr",
          "text": [
            "\rEvaluating:  85%|████████▌ | 1459/1711 [1:23:16<31:10,  7.42s/it]"
          ]
        },
        {
          "output_type": "stream",
          "name": "stdout",
          "text": [
            "Sean_Patrick_OMalley: Sean_Patrick_OMalley_0002.jpg vs Sean_Patrick_OMalley_0003.jpg → Similarity: 0.624 → Match\n",
            "Sean_Penn: Sean_Penn_0001.jpg vs Sean_Penn_0002.jpg → Similarity: 0.714 → Match\n",
            "Sean_Penn: Sean_Penn_0001.jpg vs Sean_Penn_0003.jpg → Similarity: 0.885 → Match\n"
          ]
        },
        {
          "output_type": "stream",
          "name": "stderr",
          "text": [
            "Evaluating:  86%|████████▌ | 1463/1711 [1:23:25<16:52,  4.08s/it]"
          ]
        },
        {
          "output_type": "stream",
          "name": "stdout",
          "text": [
            "Sean_Penn: Sean_Penn_0002.jpg vs Sean_Penn_0003.jpg → Similarity: 0.664 → Match\n",
            "Sergey_Lavrov: Sergey_Lavrov_0001.jpg vs Sergey_Lavrov_0002.jpg → Similarity: 0.701 → Match\n",
            "Sergey_Lavrov: Sergey_Lavrov_0001.jpg vs Sergey_Lavrov_0003.jpg → Similarity: 0.791 → Match\n",
            "Sergey_Lavrov: Sergey_Lavrov_0001.jpg vs Sergey_Lavrov_0004.jpg → Similarity: 0.736 → Match\n",
            "Sergey_Lavrov: Sergey_Lavrov_0001.jpg vs Sergey_Lavrov_0005.jpg → Similarity: 0.757 → Match\n",
            "Sergey_Lavrov: Sergey_Lavrov_0002.jpg vs Sergey_Lavrov_0003.jpg → Similarity: 0.667 → Match\n",
            "Sergey_Lavrov: Sergey_Lavrov_0002.jpg vs Sergey_Lavrov_0004.jpg → Similarity: 0.591 → No Match\n",
            "Sergey_Lavrov: Sergey_Lavrov_0002.jpg vs Sergey_Lavrov_0005.jpg → Similarity: 0.674 → Match\n",
            "Sergey_Lavrov: Sergey_Lavrov_0003.jpg vs Sergey_Lavrov_0004.jpg → Similarity: 0.801 → Match\n",
            "Sergey_Lavrov: Sergey_Lavrov_0003.jpg vs Sergey_Lavrov_0005.jpg → Similarity: 0.785 → Match\n"
          ]
        },
        {
          "output_type": "stream",
          "name": "stderr",
          "text": [
            "Evaluating:  86%|████████▌ | 1467/1711 [1:23:49<18:44,  4.61s/it]"
          ]
        },
        {
          "output_type": "stream",
          "name": "stdout",
          "text": [
            "Sergey_Lavrov: Sergey_Lavrov_0004.jpg vs Sergey_Lavrov_0005.jpg → Similarity: 0.861 → Match\n"
          ]
        },
        {
          "output_type": "stream",
          "name": "stderr",
          "text": [
            "Evaluating:  86%|████████▌ | 1471/1711 [1:23:52<09:58,  2.49s/it]"
          ]
        },
        {
          "output_type": "stream",
          "name": "stdout",
          "text": [
            "Shane_Mosley: Shane_Mosley_0001.jpg vs Shane_Mosley_0002.jpg → Similarity: 0.702 → Match\n"
          ]
        },
        {
          "output_type": "stream",
          "name": "stderr",
          "text": [
            "\rEvaluating:  86%|████████▌ | 1472/1711 [1:23:55<10:24,  2.61s/it]"
          ]
        },
        {
          "output_type": "stream",
          "name": "stdout",
          "text": [
            "Shannon_OBrien: Shannon_OBrien_0001.jpg vs Shannon_OBrien_0002.jpg → Similarity: 0.619 → Match\n"
          ]
        },
        {
          "output_type": "stream",
          "name": "stderr",
          "text": [
            "\rEvaluating:  86%|████████▌ | 1473/1711 [1:23:59<11:28,  2.89s/it]"
          ]
        },
        {
          "output_type": "stream",
          "name": "stdout",
          "text": [
            "Shaukat_Aziz: Shaukat_Aziz_0001.jpg vs Shaukat_Aziz_0002.jpg → Similarity: 0.736 → Match\n",
            "Shaul_Mofaz: Shaul_Mofaz_0001.jpg vs Shaul_Mofaz_0002.jpg → Similarity: 0.765 → Match\n",
            "Shaul_Mofaz: Shaul_Mofaz_0001.jpg vs Shaul_Mofaz_0003.jpg → Similarity: 0.668 → Match\n"
          ]
        },
        {
          "output_type": "stream",
          "name": "stderr",
          "text": [
            "Evaluating:  86%|████████▋ | 1476/1711 [1:24:07<09:48,  2.51s/it]"
          ]
        },
        {
          "output_type": "stream",
          "name": "stdout",
          "text": [
            "Shaul_Mofaz: Shaul_Mofaz_0002.jpg vs Shaul_Mofaz_0003.jpg → Similarity: 0.768 → Match\n"
          ]
        },
        {
          "output_type": "stream",
          "name": "stderr",
          "text": [
            "Evaluating:  86%|████████▋ | 1480/1711 [1:24:11<05:37,  1.46s/it]"
          ]
        },
        {
          "output_type": "stream",
          "name": "stdout",
          "text": [
            "Sheila_Wellstone: Sheila_Wellstone_0001.jpg vs Sheila_Wellstone_0002.jpg → Similarity: 0.675 → Match\n"
          ]
        },
        {
          "output_type": "stream",
          "name": "stderr",
          "text": [
            "Evaluating:  87%|████████▋ | 1485/1711 [1:24:12<02:03,  1.83it/s]"
          ]
        },
        {
          "output_type": "stream",
          "name": "stdout",
          "text": [
            "Silvio_Berlusconi: Silvio_Berlusconi_0001.jpg vs Silvio_Berlusconi_0002.jpg → Similarity: 0.657 → Match\n",
            "Silvio_Berlusconi: Silvio_Berlusconi_0001.jpg vs Silvio_Berlusconi_0003.jpg → Similarity: 0.568 → No Match\n",
            "Silvio_Berlusconi: Silvio_Berlusconi_0001.jpg vs Silvio_Berlusconi_0004.jpg → Similarity: 0.740 → Match\n",
            "Silvio_Berlusconi: Silvio_Berlusconi_0001.jpg vs Silvio_Berlusconi_0005.jpg → Similarity: 0.710 → Match\n",
            "Silvio_Berlusconi: Silvio_Berlusconi_0002.jpg vs Silvio_Berlusconi_0003.jpg → Similarity: 0.600 → No Match\n",
            "Silvio_Berlusconi: Silvio_Berlusconi_0002.jpg vs Silvio_Berlusconi_0004.jpg → Similarity: 0.681 → Match\n",
            "Silvio_Berlusconi: Silvio_Berlusconi_0002.jpg vs Silvio_Berlusconi_0005.jpg → Similarity: 0.668 → Match\n",
            "Silvio_Berlusconi: Silvio_Berlusconi_0003.jpg vs Silvio_Berlusconi_0004.jpg → Similarity: 0.682 → Match\n",
            "Silvio_Berlusconi: Silvio_Berlusconi_0003.jpg vs Silvio_Berlusconi_0005.jpg → Similarity: 0.674 → Match\n"
          ]
        },
        {
          "output_type": "stream",
          "name": "stderr",
          "text": [
            "\rEvaluating:  87%|████████▋ | 1486/1711 [1:24:43<27:27,  7.32s/it]"
          ]
        },
        {
          "output_type": "stream",
          "name": "stdout",
          "text": [
            "Silvio_Berlusconi: Silvio_Berlusconi_0004.jpg vs Silvio_Berlusconi_0005.jpg → Similarity: 0.749 → Match\n"
          ]
        },
        {
          "output_type": "stream",
          "name": "stderr",
          "text": [
            "Evaluating:  87%|████████▋ | 1490/1711 [1:24:50<13:54,  3.77s/it]"
          ]
        },
        {
          "output_type": "stream",
          "name": "stdout",
          "text": [
            "Simon_Cowell: Simon_Cowell_0001.jpg vs Simon_Cowell_0002.jpg → Similarity: 0.073 → No Match\n"
          ]
        },
        {
          "output_type": "stream",
          "name": "stderr",
          "text": [
            "\rEvaluating:  87%|████████▋ | 1492/1711 [1:24:50<09:13,  2.53s/it]"
          ]
        },
        {
          "output_type": "stream",
          "name": "stdout",
          "text": [
            "Spencer_Abraham: Spencer_Abraham_0001.jpg vs Spencer_Abraham_0002.jpg → Similarity: 0.683 → Match\n",
            "Spencer_Abraham: Spencer_Abraham_0001.jpg vs Spencer_Abraham_0003.jpg → Similarity: 0.811 → Match\n",
            "Spencer_Abraham: Spencer_Abraham_0001.jpg vs Spencer_Abraham_0004.jpg → Similarity: 0.812 → Match\n",
            "Spencer_Abraham: Spencer_Abraham_0001.jpg vs Spencer_Abraham_0005.jpg → Similarity: 0.731 → Match\n",
            "Spencer_Abraham: Spencer_Abraham_0002.jpg vs Spencer_Abraham_0003.jpg → Similarity: 0.657 → Match\n",
            "Spencer_Abraham: Spencer_Abraham_0002.jpg vs Spencer_Abraham_0004.jpg → Similarity: 0.704 → Match\n",
            "Spencer_Abraham: Spencer_Abraham_0002.jpg vs Spencer_Abraham_0005.jpg → Similarity: 0.648 → Match\n",
            "Spencer_Abraham: Spencer_Abraham_0003.jpg vs Spencer_Abraham_0004.jpg → Similarity: 0.781 → Match\n",
            "Spencer_Abraham: Spencer_Abraham_0003.jpg vs Spencer_Abraham_0005.jpg → Similarity: 0.720 → Match\n"
          ]
        },
        {
          "output_type": "stream",
          "name": "stderr",
          "text": [
            "Evaluating:  87%|████████▋ | 1496/1711 [1:25:15<14:02,  3.92s/it]"
          ]
        },
        {
          "output_type": "stream",
          "name": "stdout",
          "text": [
            "Spencer_Abraham: Spencer_Abraham_0004.jpg vs Spencer_Abraham_0005.jpg → Similarity: 0.748 → Match\n"
          ]
        },
        {
          "output_type": "stream",
          "name": "stderr",
          "text": [
            "Evaluating:  88%|████████▊ | 1500/1711 [1:25:18<08:08,  2.32s/it]"
          ]
        },
        {
          "output_type": "stream",
          "name": "stdout",
          "text": [
            "Stan_Heath: Stan_Heath_0001.jpg vs Stan_Heath_0002.jpg → Similarity: 0.704 → Match\n"
          ]
        },
        {
          "output_type": "stream",
          "name": "stderr",
          "text": [
            "\rEvaluating:  88%|████████▊ | 1501/1711 [1:25:21<08:35,  2.45s/it]"
          ]
        },
        {
          "output_type": "stream",
          "name": "stdout",
          "text": [
            "Stefano_Accorsi: Stefano_Accorsi_0001.jpg vs Stefano_Accorsi_0002.jpg → Similarity: 0.831 → Match\n",
            "Steffi_Graf: Steffi_Graf_0001.jpg vs Steffi_Graf_0002.jpg → Similarity: 0.591 → No Match\n",
            "Steffi_Graf: Steffi_Graf_0001.jpg vs Steffi_Graf_0003.jpg → Similarity: 0.483 → No Match\n",
            "Steffi_Graf: Steffi_Graf_0001.jpg vs Steffi_Graf_0004.jpg → Similarity: 0.457 → No Match\n",
            "Steffi_Graf: Steffi_Graf_0001.jpg vs Steffi_Graf_0005.jpg → Similarity: 0.472 → No Match\n",
            "Steffi_Graf: Steffi_Graf_0002.jpg vs Steffi_Graf_0003.jpg → Similarity: 0.707 → Match\n",
            "Steffi_Graf: Steffi_Graf_0002.jpg vs Steffi_Graf_0004.jpg → Similarity: 0.606 → Match\n",
            "Steffi_Graf: Steffi_Graf_0002.jpg vs Steffi_Graf_0005.jpg → Similarity: 0.662 → Match\n",
            "Steffi_Graf: Steffi_Graf_0003.jpg vs Steffi_Graf_0004.jpg → Similarity: 0.629 → Match\n",
            "Steffi_Graf: Steffi_Graf_0003.jpg vs Steffi_Graf_0005.jpg → Similarity: 0.748 → Match\n"
          ]
        },
        {
          "output_type": "stream",
          "name": "stderr",
          "text": [
            "\rEvaluating:  88%|████████▊ | 1503/1711 [1:25:45<19:22,  5.59s/it]"
          ]
        },
        {
          "output_type": "stream",
          "name": "stdout",
          "text": [
            "Steffi_Graf: Steffi_Graf_0004.jpg vs Steffi_Graf_0005.jpg → Similarity: 0.664 → Match\n"
          ]
        },
        {
          "output_type": "stream",
          "name": "stderr",
          "text": [
            "Evaluating:  88%|████████▊ | 1506/1711 [1:25:48<11:21,  3.33s/it]"
          ]
        },
        {
          "output_type": "stream",
          "name": "stdout",
          "text": [
            "Stellan_Skarsgard: Stellan_Skarsgard_0001.jpg vs Stellan_Skarsgard_0002.jpg → Similarity: 0.696 → Match\n"
          ]
        },
        {
          "output_type": "stream",
          "name": "stderr",
          "text": [
            "Evaluating:  89%|████████▊ | 1517/1711 [1:25:49<01:21,  2.38it/s]"
          ]
        },
        {
          "output_type": "stream",
          "name": "stdout",
          "text": [
            "Steve_Lavin: Steve_Lavin_0001.jpg vs Steve_Lavin_0002.jpg → Similarity: 0.631 → Match\n",
            "Steve_Lavin: Steve_Lavin_0001.jpg vs Steve_Lavin_0003.jpg → Similarity: 0.693 → Match\n",
            "Steve_Lavin: Steve_Lavin_0001.jpg vs Steve_Lavin_0004.jpg → Similarity: 0.706 → Match\n"
          ]
        },
        {
          "output_type": "stream",
          "name": "stderr",
          "text": [
            "\rEvaluating:  89%|████████▊ | 1517/1711 [1:26:03<01:21,  2.38it/s]"
          ]
        },
        {
          "output_type": "stream",
          "name": "stdout",
          "text": [
            "Steve_Lavin: Steve_Lavin_0001.jpg vs Steve_Lavin_0005.jpg → Similarity: 0.666 → Match\n",
            "Steve_Lavin: Steve_Lavin_0002.jpg vs Steve_Lavin_0003.jpg → Similarity: 0.804 → Match\n",
            "Steve_Lavin: Steve_Lavin_0002.jpg vs Steve_Lavin_0004.jpg → Similarity: 0.742 → Match\n",
            "Steve_Lavin: Steve_Lavin_0002.jpg vs Steve_Lavin_0005.jpg → Similarity: 0.648 → Match\n",
            "Steve_Lavin: Steve_Lavin_0003.jpg vs Steve_Lavin_0004.jpg → Similarity: 0.781 → Match\n",
            "Steve_Lavin: Steve_Lavin_0003.jpg vs Steve_Lavin_0005.jpg → Similarity: 0.663 → Match\n"
          ]
        },
        {
          "output_type": "stream",
          "name": "stderr",
          "text": [
            "Evaluating:  89%|████████▉ | 1520/1711 [1:26:18<11:57,  3.76s/it]"
          ]
        },
        {
          "output_type": "stream",
          "name": "stdout",
          "text": [
            "Steve_Lavin: Steve_Lavin_0004.jpg vs Steve_Lavin_0005.jpg → Similarity: 0.692 → Match\n"
          ]
        },
        {
          "output_type": "stream",
          "name": "stderr",
          "text": [
            "Evaluating:  89%|████████▉ | 1528/1711 [1:26:21<03:28,  1.14s/it]"
          ]
        },
        {
          "output_type": "stream",
          "name": "stdout",
          "text": [
            "Steven_Hatfill: Steven_Hatfill_0001.jpg vs Steven_Hatfill_0002.jpg → Similarity: 0.750 → Match\n"
          ]
        },
        {
          "output_type": "stream",
          "name": "stderr",
          "text": [
            "Evaluating:  90%|████████▉ | 1536/1711 [1:26:25<02:10,  1.34it/s]"
          ]
        },
        {
          "output_type": "stream",
          "name": "stdout",
          "text": [
            "Surakait_Sathirathai: Surakait_Sathirathai_0001.jpg vs Surakait_Sathirathai_0002.jpg → Similarity: 0.124 → No Match\n"
          ]
        },
        {
          "output_type": "stream",
          "name": "stderr",
          "text": [
            "\rEvaluating:  90%|████████▉ | 1537/1711 [1:26:27<03:05,  1.07s/it]"
          ]
        },
        {
          "output_type": "stream",
          "name": "stdout",
          "text": [
            "Susan_Collins: Susan_Collins_0001.jpg vs Susan_Collins_0002.jpg → Similarity: 0.575 → No Match\n"
          ]
        },
        {
          "output_type": "stream",
          "name": "stderr",
          "text": [
            "Evaluating:  90%|█████████ | 1541/1711 [1:26:31<02:33,  1.11it/s]"
          ]
        },
        {
          "output_type": "stream",
          "name": "stdout",
          "text": [
            "Susie_Castillo: Susie_Castillo_0001.jpg vs Susie_Castillo_0002.jpg → Similarity: 0.696 → Match\n"
          ]
        },
        {
          "output_type": "stream",
          "name": "stderr",
          "text": [
            "Evaluating:  90%|█████████ | 1544/1711 [1:26:34<02:22,  1.18it/s]"
          ]
        },
        {
          "output_type": "stream",
          "name": "stdout",
          "text": [
            "Svetlana_Koroleva: Svetlana_Koroleva_0001.jpg vs Svetlana_Koroleva_0002.jpg → Similarity: 0.895 → Match\n"
          ]
        },
        {
          "output_type": "stream",
          "name": "stderr",
          "text": [
            "Evaluating:  90%|█████████ | 1548/1711 [1:26:34<01:09,  2.35it/s]"
          ]
        },
        {
          "output_type": "stream",
          "name": "stdout",
          "text": [
            "Tammy_Lynn_Michaels: Tammy_Lynn_Michaels_0001.jpg vs Tammy_Lynn_Michaels_0002.jpg → Similarity: 0.682 → Match\n",
            "Tang_Jiaxuan: Tang_Jiaxuan_0001.jpg vs Tang_Jiaxuan_0002.jpg → Similarity: 0.874 → Match\n",
            "Tang_Jiaxuan: Tang_Jiaxuan_0001.jpg vs Tang_Jiaxuan_0003.jpg → Similarity: 0.857 → Match\n",
            "Tang_Jiaxuan: Tang_Jiaxuan_0001.jpg vs Tang_Jiaxuan_0004.jpg → Similarity: 0.810 → Match\n",
            "Tang_Jiaxuan: Tang_Jiaxuan_0001.jpg vs Tang_Jiaxuan_0005.jpg → Similarity: 0.781 → Match\n",
            "Tang_Jiaxuan: Tang_Jiaxuan_0002.jpg vs Tang_Jiaxuan_0003.jpg → Similarity: 0.926 → Match\n"
          ]
        },
        {
          "output_type": "stream",
          "name": "stderr",
          "text": [
            "\rEvaluating:  90%|█████████ | 1548/1711 [1:26:53<01:09,  2.35it/s]"
          ]
        },
        {
          "output_type": "stream",
          "name": "stdout",
          "text": [
            "Tang_Jiaxuan: Tang_Jiaxuan_0002.jpg vs Tang_Jiaxuan_0004.jpg → Similarity: 0.840 → Match\n",
            "Tang_Jiaxuan: Tang_Jiaxuan_0002.jpg vs Tang_Jiaxuan_0005.jpg → Similarity: 0.805 → Match\n",
            "Tang_Jiaxuan: Tang_Jiaxuan_0003.jpg vs Tang_Jiaxuan_0004.jpg → Similarity: 0.875 → Match\n",
            "Tang_Jiaxuan: Tang_Jiaxuan_0003.jpg vs Tang_Jiaxuan_0005.jpg → Similarity: 0.813 → Match\n"
          ]
        },
        {
          "output_type": "stream",
          "name": "stderr",
          "text": [
            "Evaluating:  91%|█████████ | 1552/1711 [1:27:04<09:17,  3.51s/it]"
          ]
        },
        {
          "output_type": "stream",
          "name": "stdout",
          "text": [
            "Tang_Jiaxuan: Tang_Jiaxuan_0004.jpg vs Tang_Jiaxuan_0005.jpg → Similarity: 0.818 → Match\n",
            "Tassos_Papadopoulos: Tassos_Papadopoulos_0001.jpg vs Tassos_Papadopoulos_0002.jpg → Similarity: 0.743 → Match\n",
            "Tassos_Papadopoulos: Tassos_Papadopoulos_0001.jpg vs Tassos_Papadopoulos_0003.jpg → Similarity: 0.745 → Match\n"
          ]
        },
        {
          "output_type": "stream",
          "name": "stderr",
          "text": [
            "Evaluating:  91%|█████████ | 1556/1711 [1:27:14<07:04,  2.74s/it]"
          ]
        },
        {
          "output_type": "stream",
          "name": "stdout",
          "text": [
            "Tassos_Papadopoulos: Tassos_Papadopoulos_0002.jpg vs Tassos_Papadopoulos_0003.jpg → Similarity: 0.615 → Match\n"
          ]
        },
        {
          "output_type": "stream",
          "name": "stderr",
          "text": [
            "Evaluating:  91%|█████████▏| 1564/1711 [1:27:15<01:44,  1.41it/s]"
          ]
        },
        {
          "output_type": "stream",
          "name": "stdout",
          "text": [
            "Terry_McAuliffe: Terry_McAuliffe_0001.jpg vs Terry_McAuliffe_0002.jpg → Similarity: 0.635 → Match\n",
            "Terry_McAuliffe: Terry_McAuliffe_0001.jpg vs Terry_McAuliffe_0003.jpg → Similarity: 0.706 → Match\n"
          ]
        },
        {
          "output_type": "stream",
          "name": "stderr",
          "text": [
            "\rEvaluating:  92%|█████████▏| 1566/1711 [1:27:22<03:47,  1.57s/it]"
          ]
        },
        {
          "output_type": "stream",
          "name": "stdout",
          "text": [
            "Terry_McAuliffe: Terry_McAuliffe_0002.jpg vs Terry_McAuliffe_0003.jpg → Similarity: 0.650 → Match\n"
          ]
        },
        {
          "output_type": "stream",
          "name": "stderr",
          "text": [
            "\rEvaluating:  92%|█████████▏| 1568/1711 [1:27:22<02:40,  1.12s/it]"
          ]
        },
        {
          "output_type": "stream",
          "name": "stdout",
          "text": [
            "Thabo_Mbeki: Thabo_Mbeki_0001.jpg vs Thabo_Mbeki_0002.jpg → Similarity: 0.538 → No Match\n",
            "Thabo_Mbeki: Thabo_Mbeki_0001.jpg vs Thabo_Mbeki_0003.jpg → Similarity: 0.510 → No Match\n",
            "Thabo_Mbeki: Thabo_Mbeki_0001.jpg vs Thabo_Mbeki_0004.jpg → Similarity: 0.424 → No Match\n",
            "Thabo_Mbeki: Thabo_Mbeki_0001.jpg vs Thabo_Mbeki_0005.jpg → Similarity: 0.424 → No Match\n",
            "Thabo_Mbeki: Thabo_Mbeki_0002.jpg vs Thabo_Mbeki_0003.jpg → Similarity: 0.768 → Match\n",
            "Thabo_Mbeki: Thabo_Mbeki_0002.jpg vs Thabo_Mbeki_0004.jpg → Similarity: 0.677 → Match\n",
            "Thabo_Mbeki: Thabo_Mbeki_0002.jpg vs Thabo_Mbeki_0005.jpg → Similarity: 0.672 → Match\n",
            "Thabo_Mbeki: Thabo_Mbeki_0003.jpg vs Thabo_Mbeki_0004.jpg → Similarity: 0.703 → Match\n",
            "Thabo_Mbeki: Thabo_Mbeki_0003.jpg vs Thabo_Mbeki_0005.jpg → Similarity: 0.687 → Match\n"
          ]
        },
        {
          "output_type": "stream",
          "name": "stderr",
          "text": [
            "\rEvaluating:  92%|█████████▏| 1570/1711 [1:27:46<10:24,  4.43s/it]"
          ]
        },
        {
          "output_type": "stream",
          "name": "stdout",
          "text": [
            "Thabo_Mbeki: Thabo_Mbeki_0004.jpg vs Thabo_Mbeki_0005.jpg → Similarity: 0.654 → Match\n",
            "Thaksin_Shinawatra: Thaksin_Shinawatra_0001.jpg vs Thaksin_Shinawatra_0002.jpg → Similarity: 0.747 → Match\n",
            "Thaksin_Shinawatra: Thaksin_Shinawatra_0001.jpg vs Thaksin_Shinawatra_0003.jpg → Similarity: 0.654 → Match\n",
            "Thaksin_Shinawatra: Thaksin_Shinawatra_0001.jpg vs Thaksin_Shinawatra_0004.jpg → Similarity: 0.767 → Match\n",
            "Thaksin_Shinawatra: Thaksin_Shinawatra_0001.jpg vs Thaksin_Shinawatra_0005.jpg → Similarity: 0.075 → No Match\n",
            "Thaksin_Shinawatra: Thaksin_Shinawatra_0002.jpg vs Thaksin_Shinawatra_0003.jpg → Similarity: 0.671 → Match\n",
            "Thaksin_Shinawatra: Thaksin_Shinawatra_0002.jpg vs Thaksin_Shinawatra_0004.jpg → Similarity: 0.733 → Match\n",
            "Thaksin_Shinawatra: Thaksin_Shinawatra_0002.jpg vs Thaksin_Shinawatra_0005.jpg → Similarity: 0.026 → No Match\n",
            "Thaksin_Shinawatra: Thaksin_Shinawatra_0003.jpg vs Thaksin_Shinawatra_0004.jpg → Similarity: 0.659 → Match\n",
            "Thaksin_Shinawatra: Thaksin_Shinawatra_0003.jpg vs Thaksin_Shinawatra_0005.jpg → Similarity: 0.055 → No Match\n"
          ]
        },
        {
          "output_type": "stream",
          "name": "stderr",
          "text": [
            "\rEvaluating:  92%|█████████▏| 1571/1711 [1:28:28<25:38, 10.99s/it]"
          ]
        },
        {
          "output_type": "stream",
          "name": "stdout",
          "text": [
            "Thaksin_Shinawatra: Thaksin_Shinawatra_0004.jpg vs Thaksin_Shinawatra_0005.jpg → Similarity: 0.045 → No Match\n"
          ]
        },
        {
          "output_type": "stream",
          "name": "stderr",
          "text": [
            "\rEvaluating:  92%|█████████▏| 1572/1711 [1:28:31<21:29,  9.28s/it]"
          ]
        },
        {
          "output_type": "stream",
          "name": "stdout",
          "text": [
            "Theo_Epstein: Theo_Epstein_0001.jpg vs Theo_Epstein_0002.jpg → Similarity: 0.778 → Match\n",
            "Theodore_Tweed_Roosevelt: Theodore_Tweed_Roosevelt_0001.jpg vs Theodore_Tweed_Roosevelt_0002.jpg → Similarity: 0.760 → Match\n",
            "Theodore_Tweed_Roosevelt: Theodore_Tweed_Roosevelt_0001.jpg vs Theodore_Tweed_Roosevelt_0003.jpg → Similarity: 0.800 → Match\n"
          ]
        },
        {
          "output_type": "stream",
          "name": "stderr",
          "text": [
            "Evaluating:  92%|█████████▏| 1575/1711 [1:28:39<12:35,  5.56s/it]"
          ]
        },
        {
          "output_type": "stream",
          "name": "stdout",
          "text": [
            "Theodore_Tweed_Roosevelt: Theodore_Tweed_Roosevelt_0002.jpg vs Theodore_Tweed_Roosevelt_0003.jpg → Similarity: 0.756 → Match\n"
          ]
        },
        {
          "output_type": "stream",
          "name": "stderr",
          "text": [
            "Evaluating:  92%|█████████▏| 1579/1711 [1:28:39<05:17,  2.41s/it]"
          ]
        },
        {
          "output_type": "stream",
          "name": "stdout",
          "text": [
            "Thomas_OBrien: Thomas_OBrien_0001.jpg vs Thomas_OBrien_0002.jpg → Similarity: 0.739 → Match\n",
            "Thomas_OBrien: Thomas_OBrien_0001.jpg vs Thomas_OBrien_0003.jpg → Similarity: 0.726 → Match\n",
            "Thomas_OBrien: Thomas_OBrien_0001.jpg vs Thomas_OBrien_0004.jpg → Similarity: 0.669 → Match\n",
            "Thomas_OBrien: Thomas_OBrien_0001.jpg vs Thomas_OBrien_0005.jpg → Similarity: 0.690 → Match\n"
          ]
        },
        {
          "output_type": "stream",
          "name": "stderr",
          "text": [
            "\rEvaluating:  92%|█████████▏| 1579/1711 [1:28:53<05:17,  2.41s/it]"
          ]
        },
        {
          "output_type": "stream",
          "name": "stdout",
          "text": [
            "Thomas_OBrien: Thomas_OBrien_0002.jpg vs Thomas_OBrien_0003.jpg → Similarity: 0.759 → Match\n",
            "Thomas_OBrien: Thomas_OBrien_0002.jpg vs Thomas_OBrien_0004.jpg → Similarity: 0.713 → Match\n",
            "Thomas_OBrien: Thomas_OBrien_0002.jpg vs Thomas_OBrien_0005.jpg → Similarity: 0.712 → Match\n",
            "Thomas_OBrien: Thomas_OBrien_0003.jpg vs Thomas_OBrien_0004.jpg → Similarity: 0.795 → Match\n",
            "Thomas_OBrien: Thomas_OBrien_0003.jpg vs Thomas_OBrien_0005.jpg → Similarity: 0.767 → Match\n"
          ]
        },
        {
          "output_type": "stream",
          "name": "stderr",
          "text": [
            "Evaluating:  92%|█████████▏| 1582/1711 [1:29:06<09:50,  4.58s/it]"
          ]
        },
        {
          "output_type": "stream",
          "name": "stdout",
          "text": [
            "Thomas_OBrien: Thomas_OBrien_0004.jpg vs Thomas_OBrien_0005.jpg → Similarity: 0.806 → Match\n"
          ]
        },
        {
          "output_type": "stream",
          "name": "stderr",
          "text": [
            "\rEvaluating:  93%|█████████▎| 1584/1711 [1:29:06<06:28,  3.06s/it]"
          ]
        },
        {
          "output_type": "stream",
          "name": "stdout",
          "text": [
            "Tim_Allen: Tim_Allen_0001.jpg vs Tim_Allen_0002.jpg → Similarity: 0.846 → Match\n",
            "Tim_Allen: Tim_Allen_0001.jpg vs Tim_Allen_0003.jpg → Similarity: 0.845 → Match\n",
            "Tim_Allen: Tim_Allen_0001.jpg vs Tim_Allen_0004.jpg → Similarity: 0.720 → Match\n",
            "Tim_Allen: Tim_Allen_0002.jpg vs Tim_Allen_0003.jpg → Similarity: 0.842 → Match\n",
            "Tim_Allen: Tim_Allen_0002.jpg vs Tim_Allen_0004.jpg → Similarity: 0.710 → Match\n"
          ]
        },
        {
          "output_type": "stream",
          "name": "stderr",
          "text": [
            "Evaluating:  93%|█████████▎| 1586/1711 [1:29:24<10:26,  5.01s/it]"
          ]
        },
        {
          "output_type": "stream",
          "name": "stdout",
          "text": [
            "Tim_Allen: Tim_Allen_0003.jpg vs Tim_Allen_0004.jpg → Similarity: 0.729 → Match\n"
          ]
        },
        {
          "output_type": "stream",
          "name": "stderr",
          "text": [
            "Evaluating:  93%|█████████▎| 1589/1711 [1:29:27<06:05,  3.00s/it]"
          ]
        },
        {
          "output_type": "stream",
          "name": "stdout",
          "text": [
            "Tim_Curry: Tim_Curry_0001.jpg vs Tim_Curry_0002.jpg → Similarity: 0.729 → Match\n"
          ]
        },
        {
          "output_type": "stream",
          "name": "stderr",
          "text": [
            "Evaluating:  93%|█████████▎| 1597/1711 [1:29:30<02:11,  1.15s/it]"
          ]
        },
        {
          "output_type": "stream",
          "name": "stdout",
          "text": [
            "Tippi_Hedren: Tippi_Hedren_0001.jpg vs Tippi_Hedren_0002.jpg → Similarity: 0.752 → Match\n",
            "Todd_Haynes: Todd_Haynes_0001.jpg vs Todd_Haynes_0002.jpg → Similarity: 0.738 → Match\n",
            "Todd_Haynes: Todd_Haynes_0001.jpg vs Todd_Haynes_0003.jpg → Similarity: 0.527 → No Match\n",
            "Todd_Haynes: Todd_Haynes_0001.jpg vs Todd_Haynes_0004.jpg → Similarity: 0.696 → Match\n",
            "Todd_Haynes: Todd_Haynes_0002.jpg vs Todd_Haynes_0003.jpg → Similarity: 0.668 → Match\n",
            "Todd_Haynes: Todd_Haynes_0002.jpg vs Todd_Haynes_0004.jpg → Similarity: 0.701 → Match\n"
          ]
        },
        {
          "output_type": "stream",
          "name": "stderr",
          "text": [
            "Evaluating:  94%|█████████▎| 1601/1711 [1:29:48<04:25,  2.41s/it]"
          ]
        },
        {
          "output_type": "stream",
          "name": "stdout",
          "text": [
            "Todd_Haynes: Todd_Haynes_0003.jpg vs Todd_Haynes_0004.jpg → Similarity: 0.614 → Match\n"
          ]
        },
        {
          "output_type": "stream",
          "name": "stderr",
          "text": [
            "\rEvaluating:  94%|█████████▎| 1603/1711 [1:29:50<03:42,  2.06s/it]"
          ]
        },
        {
          "output_type": "stream",
          "name": "stdout",
          "text": [
            "Tom_Coverdale: Tom_Coverdale_0001.jpg vs Tom_Coverdale_0002.jpg → Similarity: 0.614 → Match\n",
            "Tom_Cruise: Tom_Cruise_0001.jpg vs Tom_Cruise_0002.jpg → Similarity: 0.743 → Match\n",
            "Tom_Cruise: Tom_Cruise_0001.jpg vs Tom_Cruise_0003.jpg → Similarity: 0.695 → Match\n",
            "Tom_Cruise: Tom_Cruise_0001.jpg vs Tom_Cruise_0004.jpg → Similarity: 0.568 → No Match\n",
            "Tom_Cruise: Tom_Cruise_0001.jpg vs Tom_Cruise_0005.jpg → Similarity: 0.720 → Match\n",
            "Tom_Cruise: Tom_Cruise_0002.jpg vs Tom_Cruise_0003.jpg → Similarity: 0.681 → Match\n",
            "Tom_Cruise: Tom_Cruise_0002.jpg vs Tom_Cruise_0004.jpg → Similarity: 0.515 → No Match\n",
            "Tom_Cruise: Tom_Cruise_0002.jpg vs Tom_Cruise_0005.jpg → Similarity: 0.604 → Match\n",
            "Tom_Cruise: Tom_Cruise_0003.jpg vs Tom_Cruise_0004.jpg → Similarity: 0.551 → No Match\n",
            "Tom_Cruise: Tom_Cruise_0003.jpg vs Tom_Cruise_0005.jpg → Similarity: 0.659 → Match\n"
          ]
        },
        {
          "output_type": "stream",
          "name": "stderr",
          "text": [
            "\rEvaluating:  94%|█████████▎| 1604/1711 [1:30:17<11:25,  6.40s/it]"
          ]
        },
        {
          "output_type": "stream",
          "name": "stdout",
          "text": [
            "Tom_Cruise: Tom_Cruise_0004.jpg vs Tom_Cruise_0005.jpg → Similarity: 0.550 → No Match\n"
          ]
        },
        {
          "output_type": "stream",
          "name": "stderr",
          "text": [
            "Evaluating:  94%|█████████▍| 1608/1711 [1:30:20<05:36,  3.27s/it]"
          ]
        },
        {
          "output_type": "stream",
          "name": "stdout",
          "text": [
            "Tom_Glavine: Tom_Glavine_0001.jpg vs Tom_Glavine_0002.jpg → Similarity: 0.770 → Match\n"
          ]
        },
        {
          "output_type": "stream",
          "name": "stderr",
          "text": [
            "\rEvaluating:  94%|█████████▍| 1610/1711 [1:30:20<03:47,  2.26s/it]"
          ]
        },
        {
          "output_type": "stream",
          "name": "stdout",
          "text": [
            "Tommy_Franks: Tommy_Franks_0001.jpg vs Tommy_Franks_0002.jpg → Similarity: 0.622 → Match\n",
            "Tommy_Franks: Tommy_Franks_0001.jpg vs Tommy_Franks_0003.jpg → Similarity: 0.617 → Match\n",
            "Tommy_Franks: Tommy_Franks_0001.jpg vs Tommy_Franks_0004.jpg → Similarity: 0.760 → Match\n",
            "Tommy_Franks: Tommy_Franks_0001.jpg vs Tommy_Franks_0005.jpg → Similarity: 0.672 → Match\n",
            "Tommy_Franks: Tommy_Franks_0002.jpg vs Tommy_Franks_0003.jpg → Similarity: 0.689 → Match\n",
            "Tommy_Franks: Tommy_Franks_0002.jpg vs Tommy_Franks_0004.jpg → Similarity: 0.518 → No Match\n",
            "Tommy_Franks: Tommy_Franks_0002.jpg vs Tommy_Franks_0005.jpg → Similarity: 0.748 → Match\n",
            "Tommy_Franks: Tommy_Franks_0003.jpg vs Tommy_Franks_0004.jpg → Similarity: 0.546 → No Match\n",
            "Tommy_Franks: Tommy_Franks_0003.jpg vs Tommy_Franks_0005.jpg → Similarity: 0.827 → Match\n"
          ]
        },
        {
          "output_type": "stream",
          "name": "stderr",
          "text": [
            "\rEvaluating:  94%|█████████▍| 1611/1711 [1:30:47<11:10,  6.70s/it]"
          ]
        },
        {
          "output_type": "stream",
          "name": "stdout",
          "text": [
            "Tommy_Franks: Tommy_Franks_0004.jpg vs Tommy_Franks_0005.jpg → Similarity: 0.563 → No Match\n",
            "Tommy_Haas: Tommy_Haas_0001.jpg vs Tommy_Haas_0002.jpg → Similarity: 0.671 → Match\n",
            "Tommy_Haas: Tommy_Haas_0001.jpg vs Tommy_Haas_0003.jpg → Similarity: 0.724 → Match\n",
            "Tommy_Haas: Tommy_Haas_0001.jpg vs Tommy_Haas_0004.jpg → Similarity: 0.730 → Match\n",
            "Tommy_Haas: Tommy_Haas_0001.jpg vs Tommy_Haas_0005.jpg → Similarity: 0.719 → Match\n",
            "Tommy_Haas: Tommy_Haas_0002.jpg vs Tommy_Haas_0003.jpg → Similarity: 0.639 → Match\n",
            "Tommy_Haas: Tommy_Haas_0002.jpg vs Tommy_Haas_0004.jpg → Similarity: 0.713 → Match\n",
            "Tommy_Haas: Tommy_Haas_0002.jpg vs Tommy_Haas_0005.jpg → Similarity: 0.649 → Match\n",
            "Tommy_Haas: Tommy_Haas_0003.jpg vs Tommy_Haas_0004.jpg → Similarity: 0.662 → Match\n",
            "Tommy_Haas: Tommy_Haas_0003.jpg vs Tommy_Haas_0005.jpg → Similarity: 0.615 → Match\n"
          ]
        },
        {
          "output_type": "stream",
          "name": "stderr",
          "text": [
            "Evaluating:  94%|█████████▍| 1614/1711 [1:31:11<10:30,  6.50s/it]"
          ]
        },
        {
          "output_type": "stream",
          "name": "stdout",
          "text": [
            "Tommy_Haas: Tommy_Haas_0004.jpg vs Tommy_Haas_0005.jpg → Similarity: 0.619 → Match\n"
          ]
        },
        {
          "output_type": "stream",
          "name": "stderr",
          "text": [
            "\rEvaluating:  94%|█████████▍| 1616/1711 [1:31:14<07:34,  4.78s/it]"
          ]
        },
        {
          "output_type": "stream",
          "name": "stdout",
          "text": [
            "Tomoko_Hagiwara: Tomoko_Hagiwara_0001.jpg vs Tomoko_Hagiwara_0002.jpg → Similarity: 0.651 → Match\n",
            "Tony_Shalhoub: Tony_Shalhoub_0001.jpg vs Tony_Shalhoub_0002.jpg → Similarity: 0.633 → Match\n",
            "Tony_Shalhoub: Tony_Shalhoub_0001.jpg vs Tony_Shalhoub_0003.jpg → Similarity: 0.700 → Match\n",
            "Tony_Shalhoub: Tony_Shalhoub_0001.jpg vs Tony_Shalhoub_0004.jpg → Similarity: 0.705 → Match\n",
            "Tony_Shalhoub: Tony_Shalhoub_0002.jpg vs Tony_Shalhoub_0003.jpg → Similarity: 0.712 → Match\n",
            "Tony_Shalhoub: Tony_Shalhoub_0002.jpg vs Tony_Shalhoub_0004.jpg → Similarity: 0.704 → Match\n"
          ]
        },
        {
          "output_type": "stream",
          "name": "stderr",
          "text": [
            "\rEvaluating:  95%|█████████▍| 1618/1711 [1:31:29<08:42,  5.62s/it]"
          ]
        },
        {
          "output_type": "stream",
          "name": "stdout",
          "text": [
            "Tony_Shalhoub: Tony_Shalhoub_0003.jpg vs Tony_Shalhoub_0004.jpg → Similarity: 0.769 → Match\n",
            "Tony_Stewart: Tony_Stewart_0001.jpg vs Tony_Stewart_0002.jpg → Similarity: 0.685 → Match\n",
            "Tony_Stewart: Tony_Stewart_0001.jpg vs Tony_Stewart_0003.jpg → Similarity: 0.636 → Match\n",
            "Tony_Stewart: Tony_Stewart_0001.jpg vs Tony_Stewart_0004.jpg → Similarity: 0.460 → No Match\n",
            "Tony_Stewart: Tony_Stewart_0001.jpg vs Tony_Stewart_0005.jpg → Similarity: 0.625 → Match\n",
            "Tony_Stewart: Tony_Stewart_0002.jpg vs Tony_Stewart_0003.jpg → Similarity: 0.649 → Match\n",
            "Tony_Stewart: Tony_Stewart_0002.jpg vs Tony_Stewart_0004.jpg → Similarity: 0.542 → No Match\n",
            "Tony_Stewart: Tony_Stewart_0002.jpg vs Tony_Stewart_0005.jpg → Similarity: 0.565 → No Match\n",
            "Tony_Stewart: Tony_Stewart_0003.jpg vs Tony_Stewart_0004.jpg → Similarity: 0.590 → No Match\n",
            "Tony_Stewart: Tony_Stewart_0003.jpg vs Tony_Stewart_0005.jpg → Similarity: 0.610 → Match\n"
          ]
        },
        {
          "output_type": "stream",
          "name": "stderr",
          "text": [
            "Evaluating:  95%|█████████▍| 1621/1711 [1:31:58<09:48,  6.54s/it]"
          ]
        },
        {
          "output_type": "stream",
          "name": "stdout",
          "text": [
            "Tony_Stewart: Tony_Stewart_0004.jpg vs Tony_Stewart_0005.jpg → Similarity: 0.443 → No Match\n"
          ]
        },
        {
          "output_type": "stream",
          "name": "stderr",
          "text": [
            "Evaluating:  95%|█████████▍| 1625/1711 [1:32:01<04:41,  3.28s/it]"
          ]
        },
        {
          "output_type": "stream",
          "name": "stdout",
          "text": [
            "Tracee_Ellis_Ross: Tracee_Ellis_Ross_0001.jpg vs Tracee_Ellis_Ross_0002.jpg → Similarity: 0.760 → Match\n"
          ]
        },
        {
          "output_type": "stream",
          "name": "stderr",
          "text": [
            "Evaluating:  95%|█████████▌| 1629/1711 [1:32:04<02:51,  2.09s/it]"
          ]
        },
        {
          "output_type": "stream",
          "name": "stdout",
          "text": [
            "Tsutomu_Takebe: Tsutomu_Takebe_0001.jpg vs Tsutomu_Takebe_0002.jpg → Similarity: 0.766 → Match\n"
          ]
        },
        {
          "output_type": "stream",
          "name": "stderr",
          "text": [
            "\rEvaluating:  95%|█████████▌| 1630/1711 [1:32:07<03:02,  2.26s/it]"
          ]
        },
        {
          "output_type": "stream",
          "name": "stdout",
          "text": [
            "Tyler_Hamilton: Tyler_Hamilton_0001.jpg vs Tyler_Hamilton_0002.jpg → Similarity: 0.556 → No Match\n",
            "Vaclav_Havel: Vaclav_Havel_0001.jpg vs Vaclav_Havel_0002.jpg → Similarity: 0.678 → Match\n",
            "Vaclav_Havel: Vaclav_Havel_0001.jpg vs Vaclav_Havel_0003.jpg → Similarity: 0.639 → Match\n",
            "Vaclav_Havel: Vaclav_Havel_0001.jpg vs Vaclav_Havel_0004.jpg → Similarity: 0.672 → Match\n",
            "Vaclav_Havel: Vaclav_Havel_0001.jpg vs Vaclav_Havel_0005.jpg → Similarity: 0.642 → Match\n",
            "Vaclav_Havel: Vaclav_Havel_0002.jpg vs Vaclav_Havel_0003.jpg → Similarity: 0.691 → Match\n",
            "Vaclav_Havel: Vaclav_Havel_0002.jpg vs Vaclav_Havel_0004.jpg → Similarity: 0.662 → Match\n",
            "Vaclav_Havel: Vaclav_Havel_0002.jpg vs Vaclav_Havel_0005.jpg → Similarity: 0.656 → Match\n",
            "Vaclav_Havel: Vaclav_Havel_0003.jpg vs Vaclav_Havel_0004.jpg → Similarity: 0.794 → Match\n",
            "Vaclav_Havel: Vaclav_Havel_0003.jpg vs Vaclav_Havel_0005.jpg → Similarity: 0.772 → Match\n"
          ]
        },
        {
          "output_type": "stream",
          "name": "stderr",
          "text": [
            "\rEvaluating:  95%|█████████▌| 1631/1711 [1:32:41<11:38,  8.73s/it]"
          ]
        },
        {
          "output_type": "stream",
          "name": "stdout",
          "text": [
            "Vaclav_Havel: Vaclav_Havel_0004.jpg vs Vaclav_Havel_0005.jpg → Similarity: 0.762 → Match\n",
            "Valery_Giscard_dEstaing: Valery_Giscard_dEstaing_0001.jpg vs Valery_Giscard_dEstaing_0002.jpg → Similarity: 0.735 → Match\n",
            "Valery_Giscard_dEstaing: Valery_Giscard_dEstaing_0001.jpg vs Valery_Giscard_dEstaing_0003.jpg → Similarity: 0.747 → Match\n",
            "Valery_Giscard_dEstaing: Valery_Giscard_dEstaing_0001.jpg vs Valery_Giscard_dEstaing_0004.jpg → Similarity: 0.648 → Match\n",
            "Valery_Giscard_dEstaing: Valery_Giscard_dEstaing_0001.jpg vs Valery_Giscard_dEstaing_0005.jpg → Similarity: 0.743 → Match\n",
            "Valery_Giscard_dEstaing: Valery_Giscard_dEstaing_0002.jpg vs Valery_Giscard_dEstaing_0003.jpg → Similarity: 0.745 → Match\n",
            "Valery_Giscard_dEstaing: Valery_Giscard_dEstaing_0002.jpg vs Valery_Giscard_dEstaing_0004.jpg → Similarity: 0.610 → Match\n",
            "Valery_Giscard_dEstaing: Valery_Giscard_dEstaing_0002.jpg vs Valery_Giscard_dEstaing_0005.jpg → Similarity: 0.684 → Match\n",
            "Valery_Giscard_dEstaing: Valery_Giscard_dEstaing_0003.jpg vs Valery_Giscard_dEstaing_0004.jpg → Similarity: 0.673 → Match\n",
            "Valery_Giscard_dEstaing: Valery_Giscard_dEstaing_0003.jpg vs Valery_Giscard_dEstaing_0005.jpg → Similarity: 0.715 → Match\n"
          ]
        },
        {
          "output_type": "stream",
          "name": "stderr",
          "text": [
            "Evaluating:  96%|█████████▌| 1635/1711 [1:33:08<08:41,  6.87s/it]"
          ]
        },
        {
          "output_type": "stream",
          "name": "stdout",
          "text": [
            "Valery_Giscard_dEstaing: Valery_Giscard_dEstaing_0004.jpg vs Valery_Giscard_dEstaing_0005.jpg → Similarity: 0.710 → Match\n"
          ]
        },
        {
          "output_type": "stream",
          "name": "stderr",
          "text": [
            "\rEvaluating:  96%|█████████▌| 1637/1711 [1:33:08<05:41,  4.62s/it]"
          ]
        },
        {
          "output_type": "stream",
          "name": "stdout",
          "text": [
            "Vicente_Fernandez: Vicente_Fernandez_0001.jpg vs Vicente_Fernandez_0002.jpg → Similarity: 0.648 → Match\n",
            "Vicente_Fernandez: Vicente_Fernandez_0001.jpg vs Vicente_Fernandez_0003.jpg → Similarity: 0.648 → Match\n",
            "Vicente_Fernandez: Vicente_Fernandez_0001.jpg vs Vicente_Fernandez_0004.jpg → Similarity: 0.577 → No Match\n",
            "Vicente_Fernandez: Vicente_Fernandez_0001.jpg vs Vicente_Fernandez_0005.jpg → Similarity: 0.677 → Match\n",
            "Vicente_Fernandez: Vicente_Fernandez_0002.jpg vs Vicente_Fernandez_0003.jpg → Similarity: 0.686 → Match\n",
            "Vicente_Fernandez: Vicente_Fernandez_0002.jpg vs Vicente_Fernandez_0004.jpg → Similarity: 0.647 → Match\n",
            "Vicente_Fernandez: Vicente_Fernandez_0002.jpg vs Vicente_Fernandez_0005.jpg → Similarity: 0.590 → No Match\n",
            "Vicente_Fernandez: Vicente_Fernandez_0003.jpg vs Vicente_Fernandez_0004.jpg → Similarity: 0.604 → Match\n",
            "Vicente_Fernandez: Vicente_Fernandez_0003.jpg vs Vicente_Fernandez_0005.jpg → Similarity: 0.682 → Match\n"
          ]
        },
        {
          "output_type": "stream",
          "name": "stderr",
          "text": [
            "\rEvaluating:  96%|█████████▌| 1638/1711 [1:33:34<10:42,  8.80s/it]"
          ]
        },
        {
          "output_type": "stream",
          "name": "stdout",
          "text": [
            "Vicente_Fernandez: Vicente_Fernandez_0004.jpg vs Vicente_Fernandez_0005.jpg → Similarity: 0.514 → No Match\n",
            "Vicente_Fox: Vicente_Fox_0001.jpg vs Vicente_Fox_0002.jpg → Similarity: 0.703 → Match\n",
            "Vicente_Fox: Vicente_Fox_0001.jpg vs Vicente_Fox_0003.jpg → Similarity: 0.690 → Match\n",
            "Vicente_Fox: Vicente_Fox_0001.jpg vs Vicente_Fox_0004.jpg → Similarity: 0.694 → Match\n",
            "Vicente_Fox: Vicente_Fox_0001.jpg vs Vicente_Fox_0005.jpg → Similarity: 0.736 → Match\n",
            "Vicente_Fox: Vicente_Fox_0002.jpg vs Vicente_Fox_0003.jpg → Similarity: 0.755 → Match\n",
            "Vicente_Fox: Vicente_Fox_0002.jpg vs Vicente_Fox_0004.jpg → Similarity: 0.754 → Match\n",
            "Vicente_Fox: Vicente_Fox_0002.jpg vs Vicente_Fox_0005.jpg → Similarity: 0.710 → Match\n",
            "Vicente_Fox: Vicente_Fox_0003.jpg vs Vicente_Fox_0004.jpg → Similarity: 0.861 → Match\n",
            "Vicente_Fox: Vicente_Fox_0003.jpg vs Vicente_Fox_0005.jpg → Similarity: 0.669 → Match\n"
          ]
        },
        {
          "output_type": "stream",
          "name": "stderr",
          "text": [
            "Evaluating:  96%|█████████▌| 1641/1711 [1:34:01<09:12,  7.90s/it]"
          ]
        },
        {
          "output_type": "stream",
          "name": "stdout",
          "text": [
            "Vicente_Fox: Vicente_Fox_0004.jpg vs Vicente_Fox_0005.jpg → Similarity: 0.687 → Match\n",
            "Victoria_Beckham: Victoria_Beckham_0001.jpg vs Victoria_Beckham_0002.jpg → Similarity: 0.277 → No Match\n",
            "Victoria_Beckham: Victoria_Beckham_0001.jpg vs Victoria_Beckham_0003.jpg → Similarity: 0.374 → No Match\n"
          ]
        },
        {
          "output_type": "stream",
          "name": "stderr",
          "text": [
            "Evaluating:  96%|█████████▌| 1644/1711 [1:34:09<05:24,  4.84s/it]"
          ]
        },
        {
          "output_type": "stream",
          "name": "stdout",
          "text": [
            "Victoria_Beckham: Victoria_Beckham_0002.jpg vs Victoria_Beckham_0003.jpg → Similarity: 0.561 → No Match\n"
          ]
        },
        {
          "output_type": "stream",
          "name": "stderr",
          "text": [
            "\rEvaluating:  96%|█████████▌| 1646/1711 [1:34:09<03:26,  3.17s/it]"
          ]
        },
        {
          "output_type": "stream",
          "name": "stdout",
          "text": [
            "Vincent_Brooks: Vincent_Brooks_0001.jpg vs Vincent_Brooks_0002.jpg → Similarity: 0.827 → Match\n",
            "Vincent_Brooks: Vincent_Brooks_0001.jpg vs Vincent_Brooks_0003.jpg → Similarity: 0.804 → Match\n",
            "Vincent_Brooks: Vincent_Brooks_0001.jpg vs Vincent_Brooks_0004.jpg → Similarity: 0.776 → Match\n",
            "Vincent_Brooks: Vincent_Brooks_0001.jpg vs Vincent_Brooks_0005.jpg → Similarity: 0.808 → Match\n",
            "Vincent_Brooks: Vincent_Brooks_0002.jpg vs Vincent_Brooks_0003.jpg → Similarity: 0.840 → Match\n",
            "Vincent_Brooks: Vincent_Brooks_0002.jpg vs Vincent_Brooks_0004.jpg → Similarity: 0.829 → Match\n",
            "Vincent_Brooks: Vincent_Brooks_0002.jpg vs Vincent_Brooks_0005.jpg → Similarity: 0.827 → Match\n",
            "Vincent_Brooks: Vincent_Brooks_0003.jpg vs Vincent_Brooks_0004.jpg → Similarity: 0.871 → Match\n",
            "Vincent_Brooks: Vincent_Brooks_0003.jpg vs Vincent_Brooks_0005.jpg → Similarity: 0.832 → Match\n"
          ]
        },
        {
          "output_type": "stream",
          "name": "stderr",
          "text": [
            "Evaluating:  96%|█████████▋| 1649/1711 [1:34:33<04:50,  4.69s/it]"
          ]
        },
        {
          "output_type": "stream",
          "name": "stdout",
          "text": [
            "Vincent_Brooks: Vincent_Brooks_0004.jpg vs Vincent_Brooks_0005.jpg → Similarity: 0.815 → Match\n"
          ]
        },
        {
          "output_type": "stream",
          "name": "stderr",
          "text": [
            "\rEvaluating:  96%|█████████▋| 1651/1711 [1:34:33<03:06,  3.11s/it]"
          ]
        },
        {
          "output_type": "stream",
          "name": "stdout",
          "text": [
            "Vladimir_Spidla: Vladimir_Spidla_0001.jpg vs Vladimir_Spidla_0002.jpg → Similarity: 0.768 → Match\n",
            "Vladimir_Spidla: Vladimir_Spidla_0001.jpg vs Vladimir_Spidla_0003.jpg → Similarity: 0.756 → Match\n"
          ]
        },
        {
          "output_type": "stream",
          "name": "stderr",
          "text": [
            "\rEvaluating:  97%|█████████▋| 1653/1711 [1:34:42<03:29,  3.61s/it]"
          ]
        },
        {
          "output_type": "stream",
          "name": "stdout",
          "text": [
            "Vladimir_Spidla: Vladimir_Spidla_0002.jpg vs Vladimir_Spidla_0003.jpg → Similarity: 0.751 → Match\n"
          ]
        },
        {
          "output_type": "stream",
          "name": "stderr",
          "text": [
            "Evaluating:  97%|█████████▋| 1656/1711 [1:34:43<01:53,  2.06s/it]"
          ]
        },
        {
          "output_type": "stream",
          "name": "stdout",
          "text": [
            "Wang_Yingfan: Wang_Yingfan_0001.jpg vs Wang_Yingfan_0002.jpg → Similarity: 0.714 → Match\n",
            "Wang_Yingfan: Wang_Yingfan_0001.jpg vs Wang_Yingfan_0003.jpg → Similarity: 0.674 → Match\n"
          ]
        },
        {
          "output_type": "stream",
          "name": "stderr",
          "text": [
            "Evaluating:  97%|█████████▋| 1659/1711 [1:34:50<01:50,  2.12s/it]"
          ]
        },
        {
          "output_type": "stream",
          "name": "stdout",
          "text": [
            "Wang_Yingfan: Wang_Yingfan_0002.jpg vs Wang_Yingfan_0003.jpg → Similarity: 0.684 → Match\n"
          ]
        },
        {
          "output_type": "stream",
          "name": "stderr",
          "text": [
            "\rEvaluating:  97%|█████████▋| 1660/1711 [1:34:54<02:02,  2.40s/it]"
          ]
        },
        {
          "output_type": "stream",
          "name": "stdout",
          "text": [
            "Warren_Beatty: Warren_Beatty_0001.jpg vs Warren_Beatty_0002.jpg → Similarity: 0.718 → Match\n",
            "Warren_Buffett: Warren_Buffett_0001.jpg vs Warren_Buffett_0002.jpg → Similarity: 0.620 → Match\n",
            "Warren_Buffett: Warren_Buffett_0001.jpg vs Warren_Buffett_0003.jpg → Similarity: 0.773 → Match\n"
          ]
        },
        {
          "output_type": "stream",
          "name": "stderr",
          "text": [
            "Evaluating:  97%|█████████▋| 1663/1711 [1:35:01<01:41,  2.11s/it]"
          ]
        },
        {
          "output_type": "stream",
          "name": "stdout",
          "text": [
            "Warren_Buffett: Warren_Buffett_0002.jpg vs Warren_Buffett_0003.jpg → Similarity: 0.599 → No Match\n"
          ]
        },
        {
          "output_type": "stream",
          "name": "stderr",
          "text": [
            "Evaluating:  98%|█████████▊| 1669/1711 [1:35:04<00:39,  1.05it/s]"
          ]
        },
        {
          "output_type": "stream",
          "name": "stdout",
          "text": [
            "Wesley_Clark: Wesley_Clark_0001.jpg vs Wesley_Clark_0002.jpg → Similarity: 0.685 → Match\n"
          ]
        },
        {
          "output_type": "stream",
          "name": "stderr",
          "text": [
            "\rEvaluating:  98%|█████████▊| 1670/1711 [1:35:07<00:57,  1.39s/it]"
          ]
        },
        {
          "output_type": "stream",
          "name": "stdout",
          "text": [
            "Will_Smith: Will_Smith_0001.jpg vs Will_Smith_0002.jpg → Similarity: 0.640 → Match\n"
          ]
        },
        {
          "output_type": "stream",
          "name": "stderr",
          "text": [
            "Evaluating:  98%|█████████▊| 1673/1711 [1:35:10<00:40,  1.06s/it]"
          ]
        },
        {
          "output_type": "stream",
          "name": "stdout",
          "text": [
            "William_Burns: William_Burns_0001.jpg vs William_Burns_0002.jpg → Similarity: 0.732 → Match\n",
            "William_Macy: William_Macy_0001.jpg vs William_Macy_0002.jpg → Similarity: 0.572 → No Match\n",
            "William_Macy: William_Macy_0001.jpg vs William_Macy_0003.jpg → Similarity: 0.772 → Match\n",
            "William_Macy: William_Macy_0001.jpg vs William_Macy_0004.jpg → Similarity: 0.726 → Match\n",
            "William_Macy: William_Macy_0001.jpg vs William_Macy_0005.jpg → Similarity: 0.753 → Match\n",
            "William_Macy: William_Macy_0002.jpg vs William_Macy_0003.jpg → Similarity: 0.547 → No Match\n",
            "William_Macy: William_Macy_0002.jpg vs William_Macy_0004.jpg → Similarity: 0.550 → No Match\n",
            "William_Macy: William_Macy_0002.jpg vs William_Macy_0005.jpg → Similarity: 0.493 → No Match\n",
            "William_Macy: William_Macy_0003.jpg vs William_Macy_0004.jpg → Similarity: 0.891 → Match\n",
            "William_Macy: William_Macy_0003.jpg vs William_Macy_0005.jpg → Similarity: 0.730 → Match\n"
          ]
        },
        {
          "output_type": "stream",
          "name": "stderr",
          "text": [
            "\rEvaluating:  98%|█████████▊| 1675/1711 [1:35:34<02:55,  4.88s/it]"
          ]
        },
        {
          "output_type": "stream",
          "name": "stdout",
          "text": [
            "William_Macy: William_Macy_0004.jpg vs William_Macy_0005.jpg → Similarity: 0.699 → Match\n"
          ]
        },
        {
          "output_type": "stream",
          "name": "stderr",
          "text": [
            "Evaluating:  98%|█████████▊| 1678/1711 [1:35:37<01:34,  2.85s/it]"
          ]
        },
        {
          "output_type": "stream",
          "name": "stdout",
          "text": [
            "William_Martin: William_Martin_0001.jpg vs William_Martin_0002.jpg → Similarity: 0.716 → Match\n"
          ]
        },
        {
          "output_type": "stream",
          "name": "stderr",
          "text": [
            "Evaluating:  98%|█████████▊| 1681/1711 [1:35:39<00:53,  1.79s/it]"
          ]
        },
        {
          "output_type": "stream",
          "name": "stdout",
          "text": [
            "William_Rehnquist: William_Rehnquist_0001.jpg vs William_Rehnquist_0002.jpg → Similarity: 0.727 → Match\n"
          ]
        },
        {
          "output_type": "stream",
          "name": "stderr",
          "text": [
            "\rEvaluating:  98%|█████████▊| 1683/1711 [1:35:40<00:33,  1.20s/it]"
          ]
        },
        {
          "output_type": "stream",
          "name": "stdout",
          "text": [
            "Winona_Ryder: Winona_Ryder_0001.jpg vs Winona_Ryder_0002.jpg → Similarity: 0.512 → No Match\n",
            "Winona_Ryder: Winona_Ryder_0001.jpg vs Winona_Ryder_0003.jpg → Similarity: 0.649 → Match\n",
            "Winona_Ryder: Winona_Ryder_0001.jpg vs Winona_Ryder_0004.jpg → Similarity: 0.739 → Match\n",
            "Winona_Ryder: Winona_Ryder_0001.jpg vs Winona_Ryder_0005.jpg → Similarity: 0.586 → No Match\n",
            "Winona_Ryder: Winona_Ryder_0002.jpg vs Winona_Ryder_0003.jpg → Similarity: 0.520 → No Match\n",
            "Winona_Ryder: Winona_Ryder_0002.jpg vs Winona_Ryder_0004.jpg → Similarity: 0.532 → No Match\n",
            "Winona_Ryder: Winona_Ryder_0002.jpg vs Winona_Ryder_0005.jpg → Similarity: 0.520 → No Match\n",
            "Winona_Ryder: Winona_Ryder_0003.jpg vs Winona_Ryder_0004.jpg → Similarity: 0.608 → Match\n",
            "Winona_Ryder: Winona_Ryder_0003.jpg vs Winona_Ryder_0005.jpg → Similarity: 0.601 → Match\n"
          ]
        },
        {
          "output_type": "stream",
          "name": "stderr",
          "text": [
            "Evaluating:  99%|█████████▊| 1686/1711 [1:36:06<01:40,  4.01s/it]"
          ]
        },
        {
          "output_type": "stream",
          "name": "stdout",
          "text": [
            "Winona_Ryder: Winona_Ryder_0004.jpg vs Winona_Ryder_0005.jpg → Similarity: 0.564 → No Match\n"
          ]
        },
        {
          "output_type": "stream",
          "name": "stderr",
          "text": [
            "Evaluating:  99%|█████████▉| 1694/1711 [1:36:07<00:15,  1.10it/s]"
          ]
        },
        {
          "output_type": "stream",
          "name": "stdout",
          "text": [
            "Yevgeny_Kafelnikov: Yevgeny_Kafelnikov_0001.jpg vs Yevgeny_Kafelnikov_0002.jpg → Similarity: 0.455 → No Match\n",
            "Yevgeny_Kafelnikov: Yevgeny_Kafelnikov_0001.jpg vs Yevgeny_Kafelnikov_0003.jpg → Similarity: 0.601 → Match\n",
            "Yevgeny_Kafelnikov: Yevgeny_Kafelnikov_0001.jpg vs Yevgeny_Kafelnikov_0004.jpg → Similarity: 0.655 → Match\n",
            "Yevgeny_Kafelnikov: Yevgeny_Kafelnikov_0002.jpg vs Yevgeny_Kafelnikov_0003.jpg → Similarity: 0.483 → No Match\n",
            "Yevgeny_Kafelnikov: Yevgeny_Kafelnikov_0002.jpg vs Yevgeny_Kafelnikov_0004.jpg → Similarity: 0.550 → No Match\n"
          ]
        },
        {
          "output_type": "stream",
          "name": "stderr",
          "text": [
            "Evaluating:  99%|█████████▉| 1698/1711 [1:36:22<00:26,  2.02s/it]"
          ]
        },
        {
          "output_type": "stream",
          "name": "stdout",
          "text": [
            "Yevgeny_Kafelnikov: Yevgeny_Kafelnikov_0003.jpg vs Yevgeny_Kafelnikov_0004.jpg → Similarity: 0.824 → Match\n",
            "Yoriko_Kawaguchi: Yoriko_Kawaguchi_0001.jpg vs Yoriko_Kawaguchi_0002.jpg → Similarity: 0.660 → Match\n",
            "Yoriko_Kawaguchi: Yoriko_Kawaguchi_0001.jpg vs Yoriko_Kawaguchi_0003.jpg → Similarity: 0.614 → Match\n",
            "Yoriko_Kawaguchi: Yoriko_Kawaguchi_0001.jpg vs Yoriko_Kawaguchi_0004.jpg → Similarity: 0.649 → Match\n",
            "Yoriko_Kawaguchi: Yoriko_Kawaguchi_0001.jpg vs Yoriko_Kawaguchi_0005.jpg → Similarity: 0.764 → Match\n"
          ]
        },
        {
          "output_type": "stream",
          "name": "stderr",
          "text": [
            "\rEvaluating:  99%|█████████▉| 1698/1711 [1:36:34<00:26,  2.02s/it]"
          ]
        },
        {
          "output_type": "stream",
          "name": "stdout",
          "text": [
            "Yoriko_Kawaguchi: Yoriko_Kawaguchi_0002.jpg vs Yoriko_Kawaguchi_0003.jpg → Similarity: 0.645 → Match\n",
            "Yoriko_Kawaguchi: Yoriko_Kawaguchi_0002.jpg vs Yoriko_Kawaguchi_0004.jpg → Similarity: 0.539 → No Match\n",
            "Yoriko_Kawaguchi: Yoriko_Kawaguchi_0002.jpg vs Yoriko_Kawaguchi_0005.jpg → Similarity: 0.657 → Match\n",
            "Yoriko_Kawaguchi: Yoriko_Kawaguchi_0003.jpg vs Yoriko_Kawaguchi_0004.jpg → Similarity: 0.612 → Match\n",
            "Yoriko_Kawaguchi: Yoriko_Kawaguchi_0003.jpg vs Yoriko_Kawaguchi_0005.jpg → Similarity: 0.624 → Match\n"
          ]
        },
        {
          "output_type": "stream",
          "name": "stderr",
          "text": [
            "\rEvaluating:  99%|█████████▉| 1699/1711 [1:36:49<01:17,  6.45s/it]"
          ]
        },
        {
          "output_type": "stream",
          "name": "stdout",
          "text": [
            "Yoriko_Kawaguchi: Yoriko_Kawaguchi_0004.jpg vs Yoriko_Kawaguchi_0005.jpg → Similarity: 0.662 → Match\n"
          ]
        },
        {
          "output_type": "stream",
          "name": "stderr",
          "text": [
            "Evaluating:  99%|█████████▉| 1702/1711 [1:36:53<00:33,  3.77s/it]"
          ]
        },
        {
          "output_type": "stream",
          "name": "stdout",
          "text": [
            "Yukiko_Okudo: Yukiko_Okudo_0001.jpg vs Yukiko_Okudo_0002.jpg → Similarity: 0.387 → No Match\n"
          ]
        },
        {
          "output_type": "stream",
          "name": "stderr",
          "text": [
            "Evaluating: 100%|█████████▉| 1706/1711 [1:36:53<00:08,  1.70s/it]"
          ]
        },
        {
          "output_type": "stream",
          "name": "stdout",
          "text": [
            "Zhang_Ziyi: Zhang_Ziyi_0001.jpg vs Zhang_Ziyi_0002.jpg → Similarity: 0.341 → No Match\n",
            "Zhang_Ziyi: Zhang_Ziyi_0001.jpg vs Zhang_Ziyi_0003.jpg → Similarity: 0.342 → No Match\n",
            "Zhang_Ziyi: Zhang_Ziyi_0001.jpg vs Zhang_Ziyi_0004.jpg → Similarity: 0.242 → No Match\n"
          ]
        },
        {
          "output_type": "stream",
          "name": "stderr",
          "text": [
            "\rEvaluating: 100%|█████████▉| 1706/1711 [1:37:04<00:08,  1.70s/it]"
          ]
        },
        {
          "output_type": "stream",
          "name": "stdout",
          "text": [
            "Zhang_Ziyi: Zhang_Ziyi_0002.jpg vs Zhang_Ziyi_0003.jpg → Similarity: 0.693 → Match\n",
            "Zhang_Ziyi: Zhang_Ziyi_0002.jpg vs Zhang_Ziyi_0004.jpg → Similarity: 0.686 → Match\n"
          ]
        },
        {
          "output_type": "stream",
          "name": "stderr",
          "text": [
            "\rEvaluating: 100%|█████████▉| 1707/1711 [1:37:10<00:18,  4.62s/it]"
          ]
        },
        {
          "output_type": "stream",
          "name": "stdout",
          "text": [
            "Zhang_Ziyi: Zhang_Ziyi_0003.jpg vs Zhang_Ziyi_0004.jpg → Similarity: 0.675 → Match\n",
            "Zoran_Djindjic: Zoran_Djindjic_0001.jpg vs Zoran_Djindjic_0002.jpg → Similarity: 0.797 → Match\n",
            "Zoran_Djindjic: Zoran_Djindjic_0001.jpg vs Zoran_Djindjic_0003.jpg → Similarity: 0.731 → Match\n",
            "Zoran_Djindjic: Zoran_Djindjic_0001.jpg vs Zoran_Djindjic_0004.jpg → Similarity: 0.695 → Match\n",
            "Zoran_Djindjic: Zoran_Djindjic_0002.jpg vs Zoran_Djindjic_0003.jpg → Similarity: 0.735 → Match\n",
            "Zoran_Djindjic: Zoran_Djindjic_0002.jpg vs Zoran_Djindjic_0004.jpg → Similarity: 0.705 → Match\n"
          ]
        },
        {
          "output_type": "stream",
          "name": "stderr",
          "text": [
            "Evaluating: 100%|██████████| 1711/1711 [1:37:27<00:00,  3.42s/it]"
          ]
        },
        {
          "output_type": "stream",
          "name": "stdout",
          "text": [
            "Zoran_Djindjic: Zoran_Djindjic_0003.jpg vs Zoran_Djindjic_0004.jpg → Similarity: 0.663 → Match\n",
            "\n",
            "Summary:\n",
            "Total Pairs: 2071\n",
            "Correct Matches: 1570\n",
            "False Negatives: 501\n",
            "Accuracy: 0.7581\n"
          ]
        },
        {
          "output_type": "stream",
          "name": "stderr",
          "text": [
            "\n"
          ]
        }
      ]
    }
  ]
}