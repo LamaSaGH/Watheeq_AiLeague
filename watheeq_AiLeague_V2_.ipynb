{
  "nbformat": 4,
  "nbformat_minor": 0,
  "metadata": {
    "colab": {
      "provenance": []
    },
    "kernelspec": {
      "name": "python3",
      "display_name": "Python 3"
    },
    "language_info": {
      "name": "python"
    }
  },
  "cells": [
    {
      "cell_type": "markdown",
      "source": [
        "https://www.kaggle.com/datasets/jessicali9530/lfw-dataset"
      ],
      "metadata": {
        "id": "xdzl3tSQcmgT"
      }
    },
    {
      "cell_type": "code",
      "source": [
        "from google.colab import drive\n",
        "drive.mount('/content/drive')"
      ],
      "metadata": {
        "colab": {
          "base_uri": "https://localhost:8080/"
        },
        "id": "ZfWk9L1KYPQ3",
        "outputId": "584f5529-1c04-4bf5-e760-599574bb7f78"
      },
      "execution_count": null,
      "outputs": [
        {
          "output_type": "stream",
          "name": "stdout",
          "text": [
            "Mounted at /content/drive\n"
          ]
        }
      ]
    },
    {
      "cell_type": "code",
      "source": [
        "!pip install opencv-python\n",
        "!pip install insightface\n",
        "!pip install onnxruntime"
      ],
      "metadata": {
        "colab": {
          "base_uri": "https://localhost:8080/"
        },
        "id": "WSxPrR3kd0Wp",
        "outputId": "4973a714-1272-41a6-ae9c-93af2f21315c"
      },
      "execution_count": null,
      "outputs": [
        {
          "output_type": "stream",
          "name": "stdout",
          "text": [
            "Requirement already satisfied: opencv-python in /usr/local/lib/python3.11/dist-packages (4.11.0.86)\n",
            "Requirement already satisfied: numpy>=1.21.2 in /usr/local/lib/python3.11/dist-packages (from opencv-python) (2.0.2)\n",
            "Collecting insightface\n",
            "  Downloading insightface-0.7.3.tar.gz (439 kB)\n",
            "\u001b[2K     \u001b[90m━━━━━━━━━━━━━━━━━━━━━━━━━━━━━━━━━━━━━━\u001b[0m \u001b[32m439.5/439.5 kB\u001b[0m \u001b[31m17.7 MB/s\u001b[0m eta \u001b[36m0:00:00\u001b[0m\n",
            "\u001b[?25h  Installing build dependencies ... \u001b[?25l\u001b[?25hdone\n",
            "  Getting requirements to build wheel ... \u001b[?25l\u001b[?25hdone\n",
            "  Preparing metadata (pyproject.toml) ... \u001b[?25l\u001b[?25hdone\n",
            "Requirement already satisfied: numpy in /usr/local/lib/python3.11/dist-packages (from insightface) (2.0.2)\n",
            "Collecting onnx (from insightface)\n",
            "  Downloading onnx-1.17.0-cp311-cp311-manylinux_2_17_x86_64.manylinux2014_x86_64.whl.metadata (16 kB)\n",
            "Requirement already satisfied: tqdm in /usr/local/lib/python3.11/dist-packages (from insightface) (4.67.1)\n",
            "Requirement already satisfied: requests in /usr/local/lib/python3.11/dist-packages (from insightface) (2.32.3)\n",
            "Requirement already satisfied: matplotlib in /usr/local/lib/python3.11/dist-packages (from insightface) (3.10.0)\n",
            "Requirement already satisfied: Pillow in /usr/local/lib/python3.11/dist-packages (from insightface) (11.1.0)\n",
            "Requirement already satisfied: scipy in /usr/local/lib/python3.11/dist-packages (from insightface) (1.14.1)\n",
            "Requirement already satisfied: scikit-learn in /usr/local/lib/python3.11/dist-packages (from insightface) (1.6.1)\n",
            "Requirement already satisfied: scikit-image in /usr/local/lib/python3.11/dist-packages (from insightface) (0.25.2)\n",
            "Requirement already satisfied: easydict in /usr/local/lib/python3.11/dist-packages (from insightface) (1.13)\n",
            "Requirement already satisfied: cython in /usr/local/lib/python3.11/dist-packages (from insightface) (3.0.12)\n",
            "Requirement already satisfied: albumentations in /usr/local/lib/python3.11/dist-packages (from insightface) (2.0.5)\n",
            "Requirement already satisfied: prettytable in /usr/local/lib/python3.11/dist-packages (from insightface) (3.16.0)\n",
            "Requirement already satisfied: PyYAML in /usr/local/lib/python3.11/dist-packages (from albumentations->insightface) (6.0.2)\n",
            "Requirement already satisfied: pydantic>=2.9.2 in /usr/local/lib/python3.11/dist-packages (from albumentations->insightface) (2.11.3)\n",
            "Requirement already satisfied: albucore==0.0.23 in /usr/local/lib/python3.11/dist-packages (from albumentations->insightface) (0.0.23)\n",
            "Requirement already satisfied: opencv-python-headless>=4.9.0.80 in /usr/local/lib/python3.11/dist-packages (from albumentations->insightface) (4.11.0.86)\n",
            "Requirement already satisfied: stringzilla>=3.10.4 in /usr/local/lib/python3.11/dist-packages (from albucore==0.0.23->albumentations->insightface) (3.12.4)\n",
            "Requirement already satisfied: simsimd>=5.9.2 in /usr/local/lib/python3.11/dist-packages (from albucore==0.0.23->albumentations->insightface) (6.2.1)\n",
            "Requirement already satisfied: contourpy>=1.0.1 in /usr/local/lib/python3.11/dist-packages (from matplotlib->insightface) (1.3.2)\n",
            "Requirement already satisfied: cycler>=0.10 in /usr/local/lib/python3.11/dist-packages (from matplotlib->insightface) (0.12.1)\n",
            "Requirement already satisfied: fonttools>=4.22.0 in /usr/local/lib/python3.11/dist-packages (from matplotlib->insightface) (4.57.0)\n",
            "Requirement already satisfied: kiwisolver>=1.3.1 in /usr/local/lib/python3.11/dist-packages (from matplotlib->insightface) (1.4.8)\n",
            "Requirement already satisfied: packaging>=20.0 in /usr/local/lib/python3.11/dist-packages (from matplotlib->insightface) (24.2)\n",
            "Requirement already satisfied: pyparsing>=2.3.1 in /usr/local/lib/python3.11/dist-packages (from matplotlib->insightface) (3.2.3)\n",
            "Requirement already satisfied: python-dateutil>=2.7 in /usr/local/lib/python3.11/dist-packages (from matplotlib->insightface) (2.8.2)\n",
            "Requirement already satisfied: protobuf>=3.20.2 in /usr/local/lib/python3.11/dist-packages (from onnx->insightface) (5.29.4)\n",
            "Requirement already satisfied: wcwidth in /usr/local/lib/python3.11/dist-packages (from prettytable->insightface) (0.2.13)\n",
            "Requirement already satisfied: charset-normalizer<4,>=2 in /usr/local/lib/python3.11/dist-packages (from requests->insightface) (3.4.1)\n",
            "Requirement already satisfied: idna<4,>=2.5 in /usr/local/lib/python3.11/dist-packages (from requests->insightface) (3.10)\n",
            "Requirement already satisfied: urllib3<3,>=1.21.1 in /usr/local/lib/python3.11/dist-packages (from requests->insightface) (2.3.0)\n",
            "Requirement already satisfied: certifi>=2017.4.17 in /usr/local/lib/python3.11/dist-packages (from requests->insightface) (2025.1.31)\n",
            "Requirement already satisfied: networkx>=3.0 in /usr/local/lib/python3.11/dist-packages (from scikit-image->insightface) (3.4.2)\n",
            "Requirement already satisfied: imageio!=2.35.0,>=2.33 in /usr/local/lib/python3.11/dist-packages (from scikit-image->insightface) (2.37.0)\n",
            "Requirement already satisfied: tifffile>=2022.8.12 in /usr/local/lib/python3.11/dist-packages (from scikit-image->insightface) (2025.3.30)\n",
            "Requirement already satisfied: lazy-loader>=0.4 in /usr/local/lib/python3.11/dist-packages (from scikit-image->insightface) (0.4)\n",
            "Requirement already satisfied: joblib>=1.2.0 in /usr/local/lib/python3.11/dist-packages (from scikit-learn->insightface) (1.4.2)\n",
            "Requirement already satisfied: threadpoolctl>=3.1.0 in /usr/local/lib/python3.11/dist-packages (from scikit-learn->insightface) (3.6.0)\n",
            "Requirement already satisfied: annotated-types>=0.6.0 in /usr/local/lib/python3.11/dist-packages (from pydantic>=2.9.2->albumentations->insightface) (0.7.0)\n",
            "Requirement already satisfied: pydantic-core==2.33.1 in /usr/local/lib/python3.11/dist-packages (from pydantic>=2.9.2->albumentations->insightface) (2.33.1)\n",
            "Requirement already satisfied: typing-extensions>=4.12.2 in /usr/local/lib/python3.11/dist-packages (from pydantic>=2.9.2->albumentations->insightface) (4.13.2)\n",
            "Requirement already satisfied: typing-inspection>=0.4.0 in /usr/local/lib/python3.11/dist-packages (from pydantic>=2.9.2->albumentations->insightface) (0.4.0)\n",
            "Requirement already satisfied: six>=1.5 in /usr/local/lib/python3.11/dist-packages (from python-dateutil>=2.7->matplotlib->insightface) (1.17.0)\n",
            "Downloading onnx-1.17.0-cp311-cp311-manylinux_2_17_x86_64.manylinux2014_x86_64.whl (16.0 MB)\n",
            "\u001b[2K   \u001b[90m━━━━━━━━━━━━━━━━━━━━━━━━━━━━━━━━━━━━━━━━\u001b[0m \u001b[32m16.0/16.0 MB\u001b[0m \u001b[31m44.3 MB/s\u001b[0m eta \u001b[36m0:00:00\u001b[0m\n",
            "\u001b[?25hBuilding wheels for collected packages: insightface\n",
            "  Building wheel for insightface (pyproject.toml) ... \u001b[?25l\u001b[?25hdone\n",
            "  Created wheel for insightface: filename=insightface-0.7.3-cp311-cp311-linux_x86_64.whl size=1064780 sha256=3105aa644fa56d17d34bb39158c370240b37f343c2ff2e59447b2cdd0730bfbd\n",
            "  Stored in directory: /root/.cache/pip/wheels/27/d8/22/f52d858d16cd06e7b2e6aad34a1777dcfaf000be833bbf8146\n",
            "Successfully built insightface\n",
            "Installing collected packages: onnx, insightface\n",
            "Successfully installed insightface-0.7.3 onnx-1.17.0\n",
            "Collecting onnxruntime\n",
            "  Downloading onnxruntime-1.21.1-cp311-cp311-manylinux_2_27_x86_64.manylinux_2_28_x86_64.whl.metadata (4.5 kB)\n",
            "Collecting coloredlogs (from onnxruntime)\n",
            "  Downloading coloredlogs-15.0.1-py2.py3-none-any.whl.metadata (12 kB)\n",
            "Requirement already satisfied: flatbuffers in /usr/local/lib/python3.11/dist-packages (from onnxruntime) (25.2.10)\n",
            "Requirement already satisfied: numpy>=1.21.6 in /usr/local/lib/python3.11/dist-packages (from onnxruntime) (2.0.2)\n",
            "Requirement already satisfied: packaging in /usr/local/lib/python3.11/dist-packages (from onnxruntime) (24.2)\n",
            "Requirement already satisfied: protobuf in /usr/local/lib/python3.11/dist-packages (from onnxruntime) (5.29.4)\n",
            "Requirement already satisfied: sympy in /usr/local/lib/python3.11/dist-packages (from onnxruntime) (1.13.1)\n",
            "Collecting humanfriendly>=9.1 (from coloredlogs->onnxruntime)\n",
            "  Downloading humanfriendly-10.0-py2.py3-none-any.whl.metadata (9.2 kB)\n",
            "Requirement already satisfied: mpmath<1.4,>=1.1.0 in /usr/local/lib/python3.11/dist-packages (from sympy->onnxruntime) (1.3.0)\n",
            "Downloading onnxruntime-1.21.1-cp311-cp311-manylinux_2_27_x86_64.manylinux_2_28_x86_64.whl (16.0 MB)\n",
            "\u001b[2K   \u001b[90m━━━━━━━━━━━━━━━━━━━━━━━━━━━━━━━━━━━━━━━━\u001b[0m \u001b[32m16.0/16.0 MB\u001b[0m \u001b[31m23.9 MB/s\u001b[0m eta \u001b[36m0:00:00\u001b[0m\n",
            "\u001b[?25hDownloading coloredlogs-15.0.1-py2.py3-none-any.whl (46 kB)\n",
            "\u001b[2K   \u001b[90m━━━━━━━━━━━━━━━━━━━━━━━━━━━━━━━━━━━━━━━━\u001b[0m \u001b[32m46.0/46.0 kB\u001b[0m \u001b[31m2.5 MB/s\u001b[0m eta \u001b[36m0:00:00\u001b[0m\n",
            "\u001b[?25hDownloading humanfriendly-10.0-py2.py3-none-any.whl (86 kB)\n",
            "\u001b[2K   \u001b[90m━━━━━━━━━━━━━━━━━━━━━━━━━━━━━━━━━━━━━━━━\u001b[0m \u001b[32m86.8/86.8 kB\u001b[0m \u001b[31m7.7 MB/s\u001b[0m eta \u001b[36m0:00:00\u001b[0m\n",
            "\u001b[?25hInstalling collected packages: humanfriendly, coloredlogs, onnxruntime\n",
            "Successfully installed coloredlogs-15.0.1 humanfriendly-10.0 onnxruntime-1.21.1\n"
          ]
        }
      ]
    },
    {
      "cell_type": "code",
      "source": [
        "from sklearn.metrics import confusion_matrix, classification_report\n",
        "from insightface.app import FaceAnalysis\n",
        "import os\n",
        "import cv2\n",
        "import numpy as np\n",
        "import pandas as pd\n",
        "from itertools import combinations\n",
        "from tqdm import tqdm\n",
        "\n",
        "# --- Configuration ---\n",
        "IMAGE_ROOT = \"/content/drive/MyDrive/lfw-deepfunneled\"\n",
        "CSV_PATH = \"/content/drive/MyDrive/peopleDevTest.csv\"\n",
        "THRESHOLD = 0.6\n",
        "\n",
        "# Load ArcFace model\n",
        "face_app = FaceAnalysis(name='buffalo_l')\n",
        "face_app.prepare(ctx_id=0)\n",
        "\n",
        "# Load CSV with names\n",
        "df = pd.read_csv(CSV_PATH)\n",
        "\n",
        "def get_embedding(image_path):\n",
        "    full_path = os.path.join(IMAGE_ROOT, image_path)\n",
        "    img = cv2.imread(full_path)\n",
        "    if img is None:\n",
        "        return None\n",
        "    faces = face_app.get(img)\n",
        "    return faces[0].embedding if faces else None\n",
        "\n",
        "def evaluate(df):\n",
        "    y_true = []\n",
        "    y_pred = []\n",
        "\n",
        "    print(\"Evaluating same-person pairs...\")\n",
        "    for _, row in tqdm(df.iterrows(), total=len(df)):\n",
        "        person = row['name']\n",
        "        person_dir = os.path.join(IMAGE_ROOT, person)\n",
        "        if not os.path.isdir(person_dir):\n",
        "            continue\n",
        "\n",
        "        images = sorted(os.listdir(person_dir))\n",
        "        if len(images) < 2:\n",
        "            continue\n",
        "\n",
        "        images = images[:2]\n",
        "        pairs = list(combinations(images, 2))\n",
        "        for img1, img2 in pairs:\n",
        "            emb1 = get_embedding(os.path.join(person, img1))\n",
        "            emb2 = get_embedding(os.path.join(person, img2))\n",
        "            if emb1 is None or emb2 is None:\n",
        "                continue\n",
        "\n",
        "            similarity = np.dot(emb1, emb2) / (np.linalg.norm(emb1) * np.linalg.norm(emb2))\n",
        "            y_true.append(1)\n",
        "            y_pred.append(1 if similarity > THRESHOLD else 0)\n",
        "            print(f\"[SAME] {person}: {img1} vs {img2} → Sim: {similarity:.3f} → {'Match' if similarity > THRESHOLD else 'No Match'}\")\n",
        "\n",
        "    print(\"\\nEvaluating one-to-one different-person pairs (single image only)...\")\n",
        "    single_image_people = []\n",
        "    for _, row in df.iterrows():\n",
        "        person = row['name']\n",
        "        person_dir = os.path.join(IMAGE_ROOT, person)\n",
        "        if not os.path.isdir(person_dir):\n",
        "            continue\n",
        "        images = sorted(os.listdir(person_dir))\n",
        "        if len(images) == 1:\n",
        "            single_image_people.append((person, images[0]))\n",
        "\n",
        "    # Make sure we have an even number of people for pairing\n",
        "    if len(single_image_people) % 2 != 0:\n",
        "        single_image_people = single_image_people[:-1]\n",
        "\n",
        "    for i in range(0, len(single_image_people), 2):\n",
        "        (p1, img1) = single_image_people[i]\n",
        "        (p2, img2) = single_image_people[i+1]\n",
        "\n",
        "        emb1 = get_embedding(os.path.join(p1, img1))\n",
        "        emb2 = get_embedding(os.path.join(p2, img2))\n",
        "        if emb1 is None or emb2 is None:\n",
        "            continue\n",
        "\n",
        "        similarity = np.dot(emb1, emb2) / (np.linalg.norm(emb1) * np.linalg.norm(emb2))\n",
        "        y_true.append(0)\n",
        "        y_pred.append(1 if similarity > THRESHOLD else 0)\n",
        "        print(f\"[DIFFERENT] {p1} vs {p2} → Sim: {similarity:.3f} → {'Match' if similarity > THRESHOLD else 'No Match'}\")\n",
        "\n",
        "    # --- Summary Metrics ---\n",
        "    print(\"\\n--- Confusion Matrix ---\")\n",
        "    print(confusion_matrix(y_true, y_pred, labels=[1, 0]))  # [TP, FN], [FP, TN]\n",
        "\n",
        "    print(\"\\n--- Classification Report ---\")\n",
        "    print(classification_report(y_true, y_pred, target_names=[\"Different-Person (Neg)\", \"Same-Person (Pos)\"]))\n",
        "\n",
        "# --- Run ---\n",
        "evaluate(df)\n"
      ],
      "metadata": {
        "colab": {
          "base_uri": "https://localhost:8080/"
        },
        "id": "26OPIFsJjX9K",
        "outputId": "8959f367-20d3-43ac-c797-be8614f27293"
      },
      "execution_count": null,
      "outputs": [
        {
          "output_type": "stream",
          "name": "stderr",
          "text": [
            "/usr/local/lib/python3.11/dist-packages/onnxruntime/capi/onnxruntime_inference_collection.py:118: UserWarning: Specified provider 'CUDAExecutionProvider' is not in available provider names.Available providers: 'AzureExecutionProvider, CPUExecutionProvider'\n",
            "  warnings.warn(\n"
          ]
        },
        {
          "output_type": "stream",
          "name": "stdout",
          "text": [
            "Applied providers: ['CPUExecutionProvider'], with options: {'CPUExecutionProvider': {}}\n",
            "find model: /root/.insightface/models/buffalo_l/1k3d68.onnx landmark_3d_68 ['None', 3, 192, 192] 0.0 1.0\n",
            "Applied providers: ['CPUExecutionProvider'], with options: {'CPUExecutionProvider': {}}\n",
            "find model: /root/.insightface/models/buffalo_l/2d106det.onnx landmark_2d_106 ['None', 3, 192, 192] 0.0 1.0\n",
            "Applied providers: ['CPUExecutionProvider'], with options: {'CPUExecutionProvider': {}}\n",
            "find model: /root/.insightface/models/buffalo_l/det_10g.onnx detection [1, 3, '?', '?'] 127.5 128.0\n",
            "Applied providers: ['CPUExecutionProvider'], with options: {'CPUExecutionProvider': {}}\n",
            "find model: /root/.insightface/models/buffalo_l/genderage.onnx genderage ['None', 3, 96, 96] 0.0 1.0\n",
            "Applied providers: ['CPUExecutionProvider'], with options: {'CPUExecutionProvider': {}}\n",
            "find model: /root/.insightface/models/buffalo_l/w600k_r50.onnx recognition ['None', 3, 112, 112] 127.5 127.5\n",
            "set det-size: (640, 640)\n",
            "Evaluating same-person pairs...\n"
          ]
        },
        {
          "output_type": "stream",
          "name": "stderr",
          "text": [
            "  0%|          | 7/1711 [00:03<12:43,  2.23it/s]"
          ]
        },
        {
          "output_type": "stream",
          "name": "stdout",
          "text": [
            "[SAME] Abdullah_Gul: Abdullah_Gul_0001.jpg vs Abdullah_Gul_0002.jpg → Sim: 0.619 → Match\n"
          ]
        },
        {
          "output_type": "stream",
          "name": "stderr",
          "text": [
            "\r  0%|          | 8/1711 [00:05<23:05,  1.23it/s]"
          ]
        },
        {
          "output_type": "stream",
          "name": "stdout",
          "text": [
            "[SAME] Abdullatif_Sener: Abdullatif_Sener_0001.jpg vs Abdullatif_Sener_0002.jpg → Sim: 0.616 → Match\n"
          ]
        },
        {
          "output_type": "stream",
          "name": "stderr",
          "text": [
            "\r  1%|          | 10/1711 [00:07<24:58,  1.14it/s]"
          ]
        },
        {
          "output_type": "stream",
          "name": "stdout",
          "text": [
            "[SAME] Abid_Hamid_Mahmud_Al-Tikriti: Abid_Hamid_Mahmud_Al-Tikriti_0001.jpg vs Abid_Hamid_Mahmud_Al-Tikriti_0003.jpg → Sim: 0.605 → Match\n"
          ]
        },
        {
          "output_type": "stream",
          "name": "stderr",
          "text": [
            "\r  1%|          | 13/1711 [00:09<22:32,  1.26it/s]"
          ]
        },
        {
          "output_type": "stream",
          "name": "stdout",
          "text": [
            "[SAME] Adel_Al-Jubeir: Adel_Al-Jubeir_0001.jpg vs Adel_Al-Jubeir_0002.jpg → Sim: 0.818 → Match\n"
          ]
        },
        {
          "output_type": "stream",
          "name": "stderr",
          "text": [
            "\r  1%|          | 18/1711 [00:12<18:34,  1.52it/s]"
          ]
        },
        {
          "output_type": "stream",
          "name": "stdout",
          "text": [
            "[SAME] Adrien_Brody: Adrien_Brody_0001.jpg vs Adrien_Brody_0002.jpg → Sim: 0.673 → Match\n"
          ]
        },
        {
          "output_type": "stream",
          "name": "stderr",
          "text": [
            "\r  1%|▏         | 24/1711 [00:15<15:44,  1.79it/s]"
          ]
        },
        {
          "output_type": "stream",
          "name": "stdout",
          "text": [
            "[SAME] Aitor_Gonzalez: Aitor_Gonzalez_0001.jpg vs Aitor_Gonzalez_0002.jpg → Sim: 0.668 → Match\n"
          ]
        },
        {
          "output_type": "stream",
          "name": "stderr",
          "text": [
            "\r  2%|▏         | 26/1711 [00:17<20:01,  1.40it/s]"
          ]
        },
        {
          "output_type": "stream",
          "name": "stdout",
          "text": [
            "[SAME] Al_Davis: Al_Davis_0001.jpg vs Al_Davis_0002.jpg → Sim: 0.642 → Match\n"
          ]
        },
        {
          "output_type": "stream",
          "name": "stderr",
          "text": [
            "\r  2%|▏         | 27/1711 [00:20<26:00,  1.08it/s]"
          ]
        },
        {
          "output_type": "stream",
          "name": "stdout",
          "text": [
            "[SAME] Al_Pacino: Al_Pacino_0001.jpg vs Al_Pacino_0002.jpg → Sim: 0.654 → Match\n"
          ]
        },
        {
          "output_type": "stream",
          "name": "stderr",
          "text": [
            "\r  2%|▏         | 29/1711 [00:22<26:33,  1.06it/s]"
          ]
        },
        {
          "output_type": "stream",
          "name": "stdout",
          "text": [
            "[SAME] Alan_Greenspan: Alan_Greenspan_0001.jpg vs Alan_Greenspan_0002.jpg → Sim: 0.719 → Match\n"
          ]
        },
        {
          "output_type": "stream",
          "name": "stderr",
          "text": [
            "\r  2%|▏         | 32/1711 [00:24<23:53,  1.17it/s]"
          ]
        },
        {
          "output_type": "stream",
          "name": "stdout",
          "text": [
            "[SAME] Albert_Costa: Albert_Costa_0001.jpg vs Albert_Costa_0002.jpg → Sim: 0.726 → Match\n"
          ]
        },
        {
          "output_type": "stream",
          "name": "stderr",
          "text": [
            "\r  2%|▏         | 34/1711 [00:26<24:56,  1.12it/s]"
          ]
        },
        {
          "output_type": "stream",
          "name": "stdout",
          "text": [
            "[SAME] Alejandro_Atchugarry: Alejandro_Atchugarry_0001.jpg vs Alejandro_Atchugarry_0002.jpg → Sim: 0.764 → Match\n"
          ]
        },
        {
          "output_type": "stream",
          "name": "stderr",
          "text": [
            "\r  2%|▏         | 36/1711 [00:29<27:57,  1.00s/it]"
          ]
        },
        {
          "output_type": "stream",
          "name": "stdout",
          "text": [
            "[SAME] Aleksander_Kwasniewski: Aleksander_Kwasniewski_0001.jpg vs Aleksander_Kwasniewski_0002.jpg → Sim: 0.788 → Match\n"
          ]
        },
        {
          "output_type": "stream",
          "name": "stderr",
          "text": [
            "\r  2%|▏         | 41/1711 [00:32<23:20,  1.19it/s]"
          ]
        },
        {
          "output_type": "stream",
          "name": "stdout",
          "text": [
            "[SAME] Alex_Penelas: Alex_Penelas_0001.jpg vs Alex_Penelas_0002.jpg → Sim: 0.794 → Match\n"
          ]
        },
        {
          "output_type": "stream",
          "name": "stderr",
          "text": [
            "\r  3%|▎         | 50/1711 [00:34<13:48,  2.01it/s]"
          ]
        },
        {
          "output_type": "stream",
          "name": "stdout",
          "text": [
            "[SAME] Ali_Naimi: Ali_Naimi_0001.jpg vs Ali_Naimi_0002.jpg → Sim: 0.808 → Match\n"
          ]
        },
        {
          "output_type": "stream",
          "name": "stderr",
          "text": [
            "\r  3%|▎         | 56/1711 [00:36<12:12,  2.26it/s]"
          ]
        },
        {
          "output_type": "stream",
          "name": "stdout",
          "text": [
            "[SAME] Allison_Janney: Allison_Janney_0001.jpg vs Allison_Janney_0002.jpg → Sim: 0.622 → Match\n"
          ]
        },
        {
          "output_type": "stream",
          "name": "stderr",
          "text": [
            "\r  3%|▎         | 58/1711 [00:38<14:23,  1.91it/s]"
          ]
        },
        {
          "output_type": "stream",
          "name": "stdout",
          "text": [
            "[SAME] Allyson_Felix: Allyson_Felix_0004.jpg vs Allyson_Felix_0005.jpg → Sim: 0.674 → Match\n"
          ]
        },
        {
          "output_type": "stream",
          "name": "stderr",
          "text": [
            "\r  3%|▎         | 59/1711 [00:40<18:08,  1.52it/s]"
          ]
        },
        {
          "output_type": "stream",
          "name": "stdout",
          "text": [
            "[SAME] Alvaro_Uribe: Alvaro_Uribe_0004.jpg vs Alvaro_Uribe_0005.jpg → Sim: 0.513 → No Match\n"
          ]
        },
        {
          "output_type": "stream",
          "name": "stderr",
          "text": [
            "\r  4%|▎         | 60/1711 [00:45<31:13,  1.13s/it]"
          ]
        },
        {
          "output_type": "stream",
          "name": "stdout",
          "text": [
            "[SAME] Amanda_Bynes: Amanda_Bynes_0001.jpg vs Amanda_Bynes_0002.jpg → Sim: 0.644 → Match\n"
          ]
        },
        {
          "output_type": "stream",
          "name": "stderr",
          "text": [
            "\r  4%|▎         | 63/1711 [00:47<27:17,  1.01it/s]"
          ]
        },
        {
          "output_type": "stream",
          "name": "stdout",
          "text": [
            "[SAME] Amelie_Mauresmo: Amelie_Mauresmo_0001.jpg vs Amelie_Mauresmo_0002.jpg → Sim: 0.661 → Match\n"
          ]
        },
        {
          "output_type": "stream",
          "name": "stderr",
          "text": [
            "\r  4%|▍         | 68/1711 [00:50<22:50,  1.20it/s]"
          ]
        },
        {
          "output_type": "stream",
          "name": "stdout",
          "text": [
            "[SAME] Ana_Palacio: Ana_Palacio_0001.jpg vs Ana_Palacio_0002.jpg → Sim: 0.611 → Match\n"
          ]
        },
        {
          "output_type": "stream",
          "name": "stderr",
          "text": [
            "\r  4%|▍         | 71/1711 [00:53<23:02,  1.19it/s]"
          ]
        },
        {
          "output_type": "stream",
          "name": "stdout",
          "text": [
            "[SAME] Anders_Ebbeson: Anders_Ebbeson_0001.jpg vs Anders_Ebbeson_0002.jpg → Sim: 0.628 → Match\n"
          ]
        },
        {
          "output_type": "stream",
          "name": "stderr",
          "text": [
            "\r  4%|▍         | 76/1711 [00:55<18:14,  1.49it/s]"
          ]
        },
        {
          "output_type": "stream",
          "name": "stdout",
          "text": [
            "[SAME] Andrei_Mikhnevich: Andrei_Mikhnevich_0001.jpg vs Andrei_Mikhnevich_0002.jpg → Sim: 0.822 → Match\n"
          ]
        },
        {
          "output_type": "stream",
          "name": "stderr",
          "text": [
            "\r  5%|▍         | 82/1711 [00:58<15:55,  1.71it/s]"
          ]
        },
        {
          "output_type": "stream",
          "name": "stdout",
          "text": [
            "[SAME] Andy_Hebb: Andy_Hebb_0001.jpg vs Andy_Hebb_0002.jpg → Sim: 0.742 → Match\n"
          ]
        },
        {
          "output_type": "stream",
          "name": "stderr",
          "text": [
            "\r  5%|▍         | 84/1711 [01:00<19:00,  1.43it/s]"
          ]
        },
        {
          "output_type": "stream",
          "name": "stdout",
          "text": [
            "[SAME] Angelo_Reyes: Angelo_Reyes_0001.jpg vs Angelo_Reyes_0002.jpg → Sim: 0.769 → Match\n"
          ]
        },
        {
          "output_type": "stream",
          "name": "stderr",
          "text": [
            "\r  5%|▌         | 86/1711 [01:02<20:31,  1.32it/s]"
          ]
        },
        {
          "output_type": "stream",
          "name": "stdout",
          "text": [
            "[SAME] Ann_Veneman: Ann_Veneman_0001.jpg vs Ann_Veneman_0002.jpg → Sim: 0.724 → Match\n"
          ]
        },
        {
          "output_type": "stream",
          "name": "stderr",
          "text": [
            "\r  5%|▌         | 90/1711 [01:04<18:05,  1.49it/s]"
          ]
        },
        {
          "output_type": "stream",
          "name": "stdout",
          "text": [
            "[SAME] Anne_Krueger: Anne_Krueger_0001.jpg vs Anne_Krueger_0002.jpg → Sim: 0.764 → Match\n"
          ]
        },
        {
          "output_type": "stream",
          "name": "stderr",
          "text": [
            "\r  5%|▌         | 92/1711 [01:06<19:53,  1.36it/s]"
          ]
        },
        {
          "output_type": "stream",
          "name": "stdout",
          "text": [
            "[SAME] Annette_Lu: Annette_Lu_0001.jpg vs Annette_Lu_0002.jpg → Sim: 0.647 → Match\n"
          ]
        },
        {
          "output_type": "stream",
          "name": "stderr",
          "text": [
            "\r  6%|▌         | 95/1711 [01:08<19:22,  1.39it/s]"
          ]
        },
        {
          "output_type": "stream",
          "name": "stdout",
          "text": [
            "[SAME] Anthony_LaPaglia: Anthony_LaPaglia_0001.jpg vs Anthony_LaPaglia_0002.jpg → Sim: 0.758 → Match\n"
          ]
        },
        {
          "output_type": "stream",
          "name": "stderr",
          "text": [
            "\r  6%|▌         | 99/1711 [01:11<18:27,  1.46it/s]"
          ]
        },
        {
          "output_type": "stream",
          "name": "stdout",
          "text": [
            "[SAME] Antonio_Palocci: Antonio_Palocci_0001.jpg vs Antonio_Palocci_0002.jpg → Sim: 0.745 → Match\n"
          ]
        },
        {
          "output_type": "stream",
          "name": "stderr",
          "text": [
            "\r  6%|▌         | 100/1711 [01:14<25:13,  1.06it/s]"
          ]
        },
        {
          "output_type": "stream",
          "name": "stdout",
          "text": [
            "[SAME] Antonio_Trillanes: Antonio_Trillanes_0001.jpg vs Antonio_Trillanes_0002.jpg → Sim: 0.675 → Match\n"
          ]
        },
        {
          "output_type": "stream",
          "name": "stderr",
          "text": [
            "\r  6%|▌         | 104/1711 [01:16<20:39,  1.30it/s]"
          ]
        },
        {
          "output_type": "stream",
          "name": "stdout",
          "text": [
            "[SAME] Arlen_Specter: Arlen_Specter_0001.jpg vs Arlen_Specter_0003.jpg → Sim: 0.632 → Match\n"
          ]
        },
        {
          "output_type": "stream",
          "name": "stderr",
          "text": [
            "\r  7%|▋         | 117/1711 [01:18<09:54,  2.68it/s]"
          ]
        },
        {
          "output_type": "stream",
          "name": "stdout",
          "text": [
            "[SAME] Augustin_Calleri: Augustin_Calleri_0001.jpg vs Augustin_Calleri_0002.jpg → Sim: 0.645 → Match\n"
          ]
        },
        {
          "output_type": "stream",
          "name": "stderr",
          "text": [
            "\r  7%|▋         | 121/1711 [01:20<10:40,  2.48it/s]"
          ]
        },
        {
          "output_type": "stream",
          "name": "stdout",
          "text": [
            "[SAME] Barbara_Brezigar: Barbara_Brezigar_0001.jpg vs Barbara_Brezigar_0002.jpg → Sim: 0.632 → Match\n"
          ]
        },
        {
          "output_type": "stream",
          "name": "stderr",
          "text": [
            "\r  8%|▊         | 134/1711 [01:22<07:18,  3.60it/s]"
          ]
        },
        {
          "output_type": "stream",
          "name": "stdout",
          "text": [
            "[SAME] Begum_Khaleda_Zia: Begum_Khaleda_Zia_0001.jpg vs Begum_Khaleda_Zia_0002.jpg → Sim: 0.617 → Match\n"
          ]
        },
        {
          "output_type": "stream",
          "name": "stderr",
          "text": [
            "\r  8%|▊         | 135/1711 [01:24<09:55,  2.64it/s]"
          ]
        },
        {
          "output_type": "stream",
          "name": "stdout",
          "text": [
            "[SAME] Ben_Affleck: Ben_Affleck_0001.jpg vs Ben_Affleck_0002.jpg → Sim: 0.661 → Match\n"
          ]
        },
        {
          "output_type": "stream",
          "name": "stderr",
          "text": [
            "\r  8%|▊         | 142/1711 [01:28<11:50,  2.21it/s]"
          ]
        },
        {
          "output_type": "stream",
          "name": "stdout",
          "text": [
            "[SAME] Bertie_Ahern: Bertie_Ahern_0001.jpg vs Bertie_Ahern_0002.jpg → Sim: 0.647 → Match\n"
          ]
        },
        {
          "output_type": "stream",
          "name": "stderr",
          "text": [
            "\r  9%|▉         | 150/1711 [01:30<09:54,  2.62it/s]"
          ]
        },
        {
          "output_type": "stream",
          "name": "stdout",
          "text": [
            "[SAME] Bill_Frist: Bill_Frist_0001.jpg vs Bill_Frist_0002.jpg → Sim: 0.702 → Match\n"
          ]
        },
        {
          "output_type": "stream",
          "name": "stderr",
          "text": [
            "\r  9%|▉         | 154/1711 [01:32<10:33,  2.46it/s]"
          ]
        },
        {
          "output_type": "stream",
          "name": "stdout",
          "text": [
            "[SAME] Bill_McBride: Bill_McBride_0001.jpg vs Bill_McBride_0002.jpg → Sim: 0.699 → Match\n"
          ]
        },
        {
          "output_type": "stream",
          "name": "stderr",
          "text": [
            "\r  9%|▉         | 155/1711 [01:36<15:58,  1.62it/s]"
          ]
        },
        {
          "output_type": "stream",
          "name": "stdout",
          "text": [
            "[SAME] Bill_Paxton: Bill_Paxton_0001.jpg vs Bill_Paxton_0003.jpg → Sim: 0.667 → Match\n"
          ]
        },
        {
          "output_type": "stream",
          "name": "stderr",
          "text": [
            "\r  9%|▉         | 157/1711 [01:38<17:50,  1.45it/s]"
          ]
        },
        {
          "output_type": "stream",
          "name": "stdout",
          "text": [
            "[SAME] Bill_Sizemore: Bill_Sizemore_0001.jpg vs Bill_Sizemore_0002.jpg → Sim: 0.749 → Match\n"
          ]
        },
        {
          "output_type": "stream",
          "name": "stderr",
          "text": [
            "\r 10%|▉         | 163/1711 [01:42<17:11,  1.50it/s]"
          ]
        },
        {
          "output_type": "stream",
          "name": "stdout",
          "text": [
            "[SAME] Bob_Colvin: Bob_Colvin_0001.jpg vs Bob_Colvin_0002.jpg → Sim: 0.831 → Match\n"
          ]
        },
        {
          "output_type": "stream",
          "name": "stderr",
          "text": [
            "\r 11%|█         | 186/1711 [01:44<06:46,  3.76it/s]"
          ]
        },
        {
          "output_type": "stream",
          "name": "stdout",
          "text": [
            "[SAME] Brian_Cowen: Brian_Cowen_0001.jpg vs Brian_Cowen_0002.jpg → Sim: 0.791 → Match\n"
          ]
        },
        {
          "output_type": "stream",
          "name": "stderr",
          "text": [
            "\r 11%|█         | 188/1711 [01:46<08:18,  3.06it/s]"
          ]
        },
        {
          "output_type": "stream",
          "name": "stdout",
          "text": [
            "[SAME] Brian_Griese: Brian_Griese_0001.jpg vs Brian_Griese_0002.jpg → Sim: 0.782 → Match\n"
          ]
        },
        {
          "output_type": "stream",
          "name": "stderr",
          "text": [
            "\r 11%|█▏        | 194/1711 [01:49<09:33,  2.65it/s]"
          ]
        },
        {
          "output_type": "stream",
          "name": "stdout",
          "text": [
            "[SAME] Bridget_Fonda: Bridget_Fonda_0001.jpg vs Bridget_Fonda_0002.jpg → Sim: 0.636 → Match\n"
          ]
        },
        {
          "output_type": "stream",
          "name": "stderr",
          "text": [
            "\r 11%|█▏        | 196/1711 [01:51<12:02,  2.10it/s]"
          ]
        },
        {
          "output_type": "stream",
          "name": "stdout",
          "text": [
            "[SAME] Brigitte_Boisselier: Brigitte_Boisselier_0001.jpg vs Brigitte_Boisselier_0002.jpg → Sim: 0.637 → Match\n"
          ]
        },
        {
          "output_type": "stream",
          "name": "stderr",
          "text": [
            "\r 12%|█▏        | 204/1711 [01:55<12:00,  2.09it/s]"
          ]
        },
        {
          "output_type": "stream",
          "name": "stdout",
          "text": [
            "[SAME] Butch_Davis: Butch_Davis_0001.jpg vs Butch_Davis_0002.jpg → Sim: 0.725 → Match\n"
          ]
        },
        {
          "output_type": "stream",
          "name": "stderr",
          "text": [
            "\r 12%|█▏        | 205/1711 [01:57<14:35,  1.72it/s]"
          ]
        },
        {
          "output_type": "stream",
          "name": "stdout",
          "text": [
            "[SAME] Byron_Scott: Byron_Scott_0001.jpg vs Byron_Scott_0002.jpg → Sim: 0.647 → Match\n"
          ]
        },
        {
          "output_type": "stream",
          "name": "stderr",
          "text": [
            "\r 12%|█▏        | 207/1711 [01:59<16:15,  1.54it/s]"
          ]
        },
        {
          "output_type": "stream",
          "name": "stdout",
          "text": [
            "[SAME] Calista_Flockhart: Calista_Flockhart_0001.jpg vs Calista_Flockhart_0002.jpg → Sim: 0.740 → Match\n"
          ]
        },
        {
          "output_type": "stream",
          "name": "stderr",
          "text": [
            "\r 12%|█▏        | 212/1711 [02:01<14:03,  1.78it/s]"
          ]
        },
        {
          "output_type": "stream",
          "name": "stdout",
          "text": [
            "[SAME] Candice_Bergen: Candice_Bergen_0001.jpg vs Candice_Bergen_0002.jpg → Sim: 0.612 → Match\n"
          ]
        },
        {
          "output_type": "stream",
          "name": "stderr",
          "text": [
            "\r 13%|█▎        | 215/1711 [02:04<15:47,  1.58it/s]"
          ]
        },
        {
          "output_type": "stream",
          "name": "stdout",
          "text": [
            "[SAME] Carla_Del_Ponte: Carla_Del_Ponte_0001.jpg vs Carla_Del_Ponte_0002.jpg → Sim: 0.659 → Match\n"
          ]
        },
        {
          "output_type": "stream",
          "name": "stderr",
          "text": [
            "\r 13%|█▎        | 216/1711 [02:06<19:48,  1.26it/s]"
          ]
        },
        {
          "output_type": "stream",
          "name": "stdout",
          "text": [
            "[SAME] Carlo_Ancelotti: Carlo_Ancelotti_0001.jpg vs Carlo_Ancelotti_0002.jpg → Sim: 0.774 → Match\n"
          ]
        },
        {
          "output_type": "stream",
          "name": "stderr",
          "text": [
            "\r 13%|█▎        | 220/1711 [02:10<20:51,  1.19it/s]"
          ]
        },
        {
          "output_type": "stream",
          "name": "stdout",
          "text": [
            "[SAME] Carlos_Ghosn: Carlos_Ghosn_0001.jpg vs Carlos_Ghosn_0002.jpg → Sim: 0.791 → Match\n"
          ]
        },
        {
          "output_type": "stream",
          "name": "stderr",
          "text": [
            "\r 13%|█▎        | 223/1711 [02:12<19:42,  1.26it/s]"
          ]
        },
        {
          "output_type": "stream",
          "name": "stdout",
          "text": [
            "[SAME] Carlos_Manuel_Pruneda: Carlos_Manuel_Pruneda_0001.jpg vs Carlos_Manuel_Pruneda_0002.jpg → Sim: 0.714 → Match\n"
          ]
        },
        {
          "output_type": "stream",
          "name": "stderr",
          "text": [
            "\r 13%|█▎        | 224/1711 [02:14<23:17,  1.06it/s]"
          ]
        },
        {
          "output_type": "stream",
          "name": "stdout",
          "text": [
            "[SAME] Carlos_Moya: Carlos_Moya_0001.jpg vs Carlos_Moya_0002.jpg → Sim: 0.665 → Match\n"
          ]
        },
        {
          "output_type": "stream",
          "name": "stderr",
          "text": [
            "\r 13%|█▎        | 225/1711 [02:16<27:14,  1.10s/it]"
          ]
        },
        {
          "output_type": "stream",
          "name": "stdout",
          "text": [
            "[SAME] Carlos_Ortega: Carlos_Ortega_0001.jpg vs Carlos_Ortega_0002.jpg → Sim: 0.605 → Match\n"
          ]
        },
        {
          "output_type": "stream",
          "name": "stderr",
          "text": [
            "\r 13%|█▎        | 226/1711 [02:18<31:07,  1.26s/it]"
          ]
        },
        {
          "output_type": "stream",
          "name": "stdout",
          "text": [
            "[SAME] Carlos_Quintanilla_Schmidt: Carlos_Quintanilla_Schmidt_0001.jpg vs Carlos_Quintanilla_Schmidt_0002.jpg → Sim: 0.795 → Match\n"
          ]
        },
        {
          "output_type": "stream",
          "name": "stderr",
          "text": [
            "\r 14%|█▎        | 232/1711 [02:20<18:04,  1.36it/s]"
          ]
        },
        {
          "output_type": "stream",
          "name": "stdout",
          "text": [
            "[SAME] Carolyn_Dawn_Johnson: Carolyn_Dawn_Johnson_0001.jpg vs Carolyn_Dawn_Johnson_0002.jpg → Sim: 0.812 → Match\n"
          ]
        },
        {
          "output_type": "stream",
          "name": "stderr",
          "text": [
            "\r 14%|█▎        | 233/1711 [02:23<25:08,  1.02s/it]"
          ]
        },
        {
          "output_type": "stream",
          "name": "stdout",
          "text": [
            "[SAME] Carrie-Anne_Moss: Carrie-Anne_Moss_0001.jpg vs Carrie-Anne_Moss_0002.jpg → Sim: 0.755 → Match\n"
          ]
        },
        {
          "output_type": "stream",
          "name": "stderr",
          "text": [
            "\r 14%|█▍        | 244/1711 [02:26<11:34,  2.11it/s]"
          ]
        },
        {
          "output_type": "stream",
          "name": "stdout",
          "text": [
            "[SAME] Celine_Dion: Celine_Dion_0004.jpg vs Celine_Dion_0005.jpg → Sim: 0.513 → No Match\n"
          ]
        },
        {
          "output_type": "stream",
          "name": "stderr",
          "text": [
            "\r 14%|█▍        | 246/1711 [02:28<13:30,  1.81it/s]"
          ]
        },
        {
          "output_type": "stream",
          "name": "stdout",
          "text": [
            "[SAME] Chanda_Rubin: Chanda_Rubin_0001.jpg vs Chanda_Rubin_0002.jpg → Sim: 0.651 → Match\n"
          ]
        },
        {
          "output_type": "stream",
          "name": "stderr",
          "text": [
            "\r 14%|█▍        | 247/1711 [02:30<18:13,  1.34it/s]"
          ]
        },
        {
          "output_type": "stream",
          "name": "stdout",
          "text": [
            "[SAME] Chang_Dae-whan: Chang_Dae-whan_0001.jpg vs Chang_Dae-whan_0002.jpg → Sim: 0.764 → Match\n"
          ]
        },
        {
          "output_type": "stream",
          "name": "stderr",
          "text": [
            "\r 15%|█▌        | 257/1711 [02:33<11:20,  2.14it/s]"
          ]
        },
        {
          "output_type": "stream",
          "name": "stdout",
          "text": [
            "[SAME] Charles_Taylor: Charles_Taylor_0001.jpg vs Charles_Taylor_0002.jpg → Sim: 0.756 → Match\n"
          ]
        },
        {
          "output_type": "stream",
          "name": "stderr",
          "text": [
            "\r 15%|█▌        | 260/1711 [02:35<13:14,  1.83it/s]"
          ]
        },
        {
          "output_type": "stream",
          "name": "stdout",
          "text": [
            "[SAME] Charlie_Zaa: Charlie_Zaa_0001.jpg vs Charlie_Zaa_0002.jpg → Sim: 0.707 → Match\n"
          ]
        },
        {
          "output_type": "stream",
          "name": "stderr",
          "text": [
            "\r 15%|█▌        | 264/1711 [02:38<14:18,  1.69it/s]"
          ]
        },
        {
          "output_type": "stream",
          "name": "stdout",
          "text": [
            "[SAME] Chen_Shui-bian: Chen_Shui-bian_0001.jpg vs Chen_Shui-bian_0003.jpg → Sim: 0.679 → Match\n"
          ]
        },
        {
          "output_type": "stream",
          "name": "stderr",
          "text": [
            "\r 16%|█▌        | 266/1711 [02:40<15:58,  1.51it/s]"
          ]
        },
        {
          "output_type": "stream",
          "name": "stdout",
          "text": [
            "[SAME] Chick_Hearn: Chick_Hearn_0001.jpg vs Chick_Hearn_0002.jpg → Sim: 0.747 → Match\n"
          ]
        },
        {
          "output_type": "stream",
          "name": "stderr",
          "text": [
            "\r 16%|█▌        | 268/1711 [02:43<18:52,  1.27it/s]"
          ]
        },
        {
          "output_type": "stream",
          "name": "stdout",
          "text": [
            "[SAME] Chita_Rivera: Chita_Rivera_0001.jpg vs Chita_Rivera_0002.jpg → Sim: 0.721 → Match\n"
          ]
        },
        {
          "output_type": "stream",
          "name": "stderr",
          "text": [
            "\r 16%|█▌        | 271/1711 [02:45<18:04,  1.33it/s]"
          ]
        },
        {
          "output_type": "stream",
          "name": "stdout",
          "text": [
            "[SAME] Chris_Bell: Chris_Bell_0001.jpg vs Chris_Bell_0002.jpg → Sim: 0.830 → Match\n"
          ]
        },
        {
          "output_type": "stream",
          "name": "stderr",
          "text": [
            "\r 16%|█▋        | 279/1711 [02:47<11:47,  2.03it/s]"
          ]
        },
        {
          "output_type": "stream",
          "name": "stdout",
          "text": [
            "[SAME] Christian_Longo: Christian_Longo_0001.jpg vs Christian_Longo_0002.jpg → Sim: 0.787 → Match\n"
          ]
        },
        {
          "output_type": "stream",
          "name": "stderr",
          "text": [
            "\r 16%|█▋        | 281/1711 [02:50<16:23,  1.45it/s]"
          ]
        },
        {
          "output_type": "stream",
          "name": "stdout",
          "text": [
            "[SAME] Christian_Wulff: Christian_Wulff_0001.jpg vs Christian_Wulff_0002.jpg → Sim: 0.739 → Match\n"
          ]
        },
        {
          "output_type": "stream",
          "name": "stderr",
          "text": [
            "\r 17%|█▋        | 283/1711 [02:53<20:01,  1.19it/s]"
          ]
        },
        {
          "output_type": "stream",
          "name": "stdout",
          "text": [
            "[SAME] Christine_Ebersole: Christine_Ebersole_0001.jpg vs Christine_Ebersole_0002.jpg → Sim: 0.723 → Match\n"
          ]
        },
        {
          "output_type": "stream",
          "name": "stderr",
          "text": [
            "\r 17%|█▋        | 285/1711 [02:56<20:50,  1.14it/s]"
          ]
        },
        {
          "output_type": "stream",
          "name": "stdout",
          "text": [
            "[SAME] Christine_Todd_Whitman: Christine_Todd_Whitman_0001.jpg vs Christine_Todd_Whitman_0003.jpg → Sim: 0.661 → Match\n"
          ]
        },
        {
          "output_type": "stream",
          "name": "stderr",
          "text": [
            "\r 17%|█▋        | 286/1711 [02:58<24:21,  1.03s/it]"
          ]
        },
        {
          "output_type": "stream",
          "name": "stdout",
          "text": [
            "[SAME] Christopher_Reeve: Christopher_Reeve_0001.jpg vs Christopher_Reeve_0002.jpg → Sim: 0.702 → Match\n"
          ]
        },
        {
          "output_type": "stream",
          "name": "stderr",
          "text": [
            "\r 17%|█▋        | 290/1711 [03:00<19:01,  1.25it/s]"
          ]
        },
        {
          "output_type": "stream",
          "name": "stdout",
          "text": [
            "[SAME] Chung_Mong-joon: Chung_Mong-joon_0001.jpg vs Chung_Mong-joon_0002.jpg → Sim: 0.630 → Match\n"
          ]
        },
        {
          "output_type": "stream",
          "name": "stderr",
          "text": [
            "\r 17%|█▋        | 292/1711 [03:02<22:08,  1.07it/s]"
          ]
        },
        {
          "output_type": "stream",
          "name": "stdout",
          "text": [
            "[SAME] Cindy_Crawford: Cindy_Crawford_0001.jpg vs Cindy_Crawford_0002.jpg → Sim: 0.774 → Match\n"
          ]
        },
        {
          "output_type": "stream",
          "name": "stderr",
          "text": [
            "\r 17%|█▋        | 296/1711 [03:05<20:26,  1.15it/s]"
          ]
        },
        {
          "output_type": "stream",
          "name": "stdout",
          "text": [
            "[SAME] Claire_Leger: Claire_Leger_0001.jpg vs Claire_Leger_0002.jpg → Sim: 0.712 → Match\n"
          ]
        },
        {
          "output_type": "stream",
          "name": "stderr",
          "text": [
            "\r 18%|█▊        | 308/1711 [03:08<10:12,  2.29it/s]"
          ]
        },
        {
          "output_type": "stream",
          "name": "stdout",
          "text": [
            "[SAME] Conchita_Martinez: Conchita_Martinez_0001.jpg vs Conchita_Martinez_0002.jpg → Sim: 0.854 → Match\n"
          ]
        },
        {
          "output_type": "stream",
          "name": "stderr",
          "text": [
            "\r 18%|█▊        | 309/1711 [03:10<12:47,  1.83it/s]"
          ]
        },
        {
          "output_type": "stream",
          "name": "stdout",
          "text": [
            "[SAME] Condoleezza_Rice: Condoleezza_Rice_0001.jpg vs Condoleezza_Rice_0002.jpg → Sim: 0.745 → Match\n"
          ]
        },
        {
          "output_type": "stream",
          "name": "stderr",
          "text": [
            "\r 19%|█▊        | 320/1711 [03:12<08:17,  2.80it/s]"
          ]
        },
        {
          "output_type": "stream",
          "name": "stdout",
          "text": [
            "[SAME] Cyndi_Thompson: Cyndi_Thompson_0001.jpg vs Cyndi_Thompson_0002.jpg → Sim: 0.732 → Match\n"
          ]
        },
        {
          "output_type": "stream",
          "name": "stderr",
          "text": [
            "\r 19%|█▉        | 321/1711 [03:14<11:35,  2.00it/s]"
          ]
        },
        {
          "output_type": "stream",
          "name": "stdout",
          "text": [
            "[SAME] Dai_Bachtiar: Dai_Bachtiar_0001.jpg vs Dai_Bachtiar_0002.jpg → Sim: 0.703 → Match\n"
          ]
        },
        {
          "output_type": "stream",
          "name": "stderr",
          "text": [
            "\r 19%|█▉        | 322/1711 [03:16<14:52,  1.56it/s]"
          ]
        },
        {
          "output_type": "stream",
          "name": "stdout",
          "text": [
            "[SAME] Daisy_Fuentes: Daisy_Fuentes_0001.jpg vs Daisy_Fuentes_0003.jpg → Sim: 0.675 → Match\n"
          ]
        },
        {
          "output_type": "stream",
          "name": "stderr",
          "text": [
            "\r 20%|██        | 347/1711 [03:19<05:45,  3.95it/s]"
          ]
        },
        {
          "output_type": "stream",
          "name": "stdout",
          "text": [
            "[SAME] Dave_Campo: Dave_Campo_0001.jpg vs Dave_Campo_0002.jpg → Sim: 0.619 → Match\n"
          ]
        },
        {
          "output_type": "stream",
          "name": "stderr",
          "text": [
            "\r 21%|██        | 351/1711 [03:22<07:11,  3.15it/s]"
          ]
        },
        {
          "output_type": "stream",
          "name": "stdout",
          "text": [
            "[SAME] David_Bell: David_Bell_0001.jpg vs David_Bell_0002.jpg → Sim: 0.817 → Match\n"
          ]
        },
        {
          "output_type": "stream",
          "name": "stderr",
          "text": [
            "\r 21%|██        | 361/1711 [03:24<06:16,  3.58it/s]"
          ]
        },
        {
          "output_type": "stream",
          "name": "stdout",
          "text": [
            "[SAME] David_Kelley: David_Kelley_0001.jpg vs David_Kelley_0002.jpg → Sim: 0.713 → Match\n"
          ]
        },
        {
          "output_type": "stream",
          "name": "stderr",
          "text": [
            "\r 21%|██▏       | 364/1711 [03:26<07:24,  3.03it/s]"
          ]
        },
        {
          "output_type": "stream",
          "name": "stdout",
          "text": [
            "[SAME] David_Stern: David_Stern_0001.jpg vs David_Stern_0002.jpg → Sim: 0.630 → Match\n"
          ]
        },
        {
          "output_type": "stream",
          "name": "stderr",
          "text": [
            "\r 22%|██▏       | 373/1711 [03:28<06:32,  3.41it/s]"
          ]
        },
        {
          "output_type": "stream",
          "name": "stdout",
          "text": [
            "[SAME] Dennis_Kozlowski: Dennis_Kozlowski_0001.jpg vs Dennis_Kozlowski_0002.jpg → Sim: 0.625 → Match\n"
          ]
        },
        {
          "output_type": "stream",
          "name": "stderr",
          "text": [
            "\r 22%|██▏       | 374/1711 [03:31<09:49,  2.27it/s]"
          ]
        },
        {
          "output_type": "stream",
          "name": "stdout",
          "text": [
            "[SAME] Dennis_Powell: Dennis_Powell_0001.jpg vs Dennis_Powell_0002.jpg → Sim: 0.626 → Match\n"
          ]
        },
        {
          "output_type": "stream",
          "name": "stderr",
          "text": [
            "\r 22%|██▏       | 375/1711 [03:35<15:22,  1.45it/s]"
          ]
        },
        {
          "output_type": "stream",
          "name": "stdout",
          "text": [
            "[SAME] Denzel_Washington: Denzel_Washington_0001.jpg vs Denzel_Washington_0002.jpg → Sim: 0.603 → Match\n"
          ]
        },
        {
          "output_type": "stream",
          "name": "stderr",
          "text": [
            "\r 22%|██▏       | 376/1711 [03:38<19:13,  1.16it/s]"
          ]
        },
        {
          "output_type": "stream",
          "name": "stdout",
          "text": [
            "[SAME] Derek_Jeter: Derek_Jeter_0001.jpg vs Derek_Jeter_0002.jpg → Sim: 0.628 → Match\n"
          ]
        },
        {
          "output_type": "stream",
          "name": "stderr",
          "text": [
            "\r 22%|██▏       | 379/1711 [03:42<21:34,  1.03it/s]"
          ]
        },
        {
          "output_type": "stream",
          "name": "stdout",
          "text": [
            "[SAME] Diane_Green: Diane_Green_0001.jpg vs Diane_Green_0002.jpg → Sim: 0.690 → Match\n"
          ]
        },
        {
          "output_type": "stream",
          "name": "stderr",
          "text": [
            "\r 22%|██▏       | 382/1711 [03:44<19:37,  1.13it/s]"
          ]
        },
        {
          "output_type": "stream",
          "name": "stdout",
          "text": [
            "[SAME] Dick_Clark: Dick_Clark_0001.jpg vs Dick_Clark_0002.jpg → Sim: 0.622 → Match\n"
          ]
        },
        {
          "output_type": "stream",
          "name": "stderr",
          "text": [
            "\r 22%|██▏       | 383/1711 [03:47<24:49,  1.12s/it]"
          ]
        },
        {
          "output_type": "stream",
          "name": "stdout",
          "text": [
            "[SAME] Dick_Latessa: Dick_Latessa_0001.jpg vs Dick_Latessa_0002.jpg → Sim: 0.601 → Match\n"
          ]
        },
        {
          "output_type": "stream",
          "name": "stderr",
          "text": [
            "\r 23%|██▎       | 390/1711 [03:49<15:34,  1.41it/s]"
          ]
        },
        {
          "output_type": "stream",
          "name": "stdout",
          "text": [
            "[SAME] Dominique_de_Villepin: Dominique_de_Villepin_0001.jpg vs Dominique_de_Villepin_0002.jpg → Sim: 0.826 → Match\n"
          ]
        },
        {
          "output_type": "stream",
          "name": "stderr",
          "text": [
            "\r 23%|██▎       | 398/1711 [03:51<10:48,  2.03it/s]"
          ]
        },
        {
          "output_type": "stream",
          "name": "stdout",
          "text": [
            "[SAME] Donald_Pettit: Donald_Pettit_0001.jpg vs Donald_Pettit_0002.jpg → Sim: 0.623 → Match\n"
          ]
        },
        {
          "output_type": "stream",
          "name": "stderr",
          "text": [
            "\r 23%|██▎       | 400/1711 [03:53<12:35,  1.73it/s]"
          ]
        },
        {
          "output_type": "stream",
          "name": "stdout",
          "text": [
            "[SAME] Donald_Rumsfeld: Donald_Rumsfeld_0001.jpg vs Donald_Rumsfeld_0002.jpg → Sim: 0.642 → Match\n"
          ]
        },
        {
          "output_type": "stream",
          "name": "stderr",
          "text": [
            "\r 24%|██▍       | 415/1711 [03:55<06:40,  3.23it/s]"
          ]
        },
        {
          "output_type": "stream",
          "name": "stdout",
          "text": [
            "[SAME] Eddie_Sutton: Eddie_Sutton_0001.jpg vs Eddie_Sutton_0002.jpg → Sim: 0.770 → Match\n"
          ]
        },
        {
          "output_type": "stream",
          "name": "stderr",
          "text": [
            "\r 25%|██▍       | 420/1711 [03:57<07:06,  3.03it/s]"
          ]
        },
        {
          "output_type": "stream",
          "name": "stdout",
          "text": [
            "[SAME] Edward_James_Olmos: Edward_James_Olmos_0001.jpg vs Edward_James_Olmos_0002.jpg → Sim: 0.699 → Match\n"
          ]
        },
        {
          "output_type": "stream",
          "name": "stderr",
          "text": [
            "\r 25%|██▍       | 421/1711 [04:01<11:06,  1.94it/s]"
          ]
        },
        {
          "output_type": "stream",
          "name": "stdout",
          "text": [
            "[SAME] Edward_Lu: Edward_Lu_0001.jpg vs Edward_Lu_0002.jpg → Sim: 0.714 → Match\n"
          ]
        },
        {
          "output_type": "stream",
          "name": "stderr",
          "text": [
            "\r 25%|██▍       | 424/1711 [04:04<14:07,  1.52it/s]"
          ]
        },
        {
          "output_type": "stream",
          "name": "stdout",
          "text": [
            "[SAME] Edwin_Edwards: Edwin_Edwards_0001.jpg vs Edwin_Edwards_0003.jpg → Sim: 0.676 → Match\n"
          ]
        },
        {
          "output_type": "stream",
          "name": "stderr",
          "text": [
            "\r 25%|██▌       | 433/1711 [04:06<09:42,  2.19it/s]"
          ]
        },
        {
          "output_type": "stream",
          "name": "stdout",
          "text": [
            "[SAME] Eliane_Karp: Eliane_Karp_0001.jpg vs Eliane_Karp_0002.jpg → Sim: 0.668 → Match\n"
          ]
        },
        {
          "output_type": "stream",
          "name": "stderr",
          "text": [
            "\r 25%|██▌       | 435/1711 [04:08<11:13,  1.89it/s]"
          ]
        },
        {
          "output_type": "stream",
          "name": "stdout",
          "text": [
            "[SAME] Elinor_Caplan: Elinor_Caplan_0001.jpg vs Elinor_Caplan_0002.jpg → Sim: 0.763 → Match\n"
          ]
        },
        {
          "output_type": "stream",
          "name": "stderr",
          "text": [
            "\r 26%|██▌       | 442/1711 [04:11<09:12,  2.30it/s]"
          ]
        },
        {
          "output_type": "stream",
          "name": "stdout",
          "text": [
            "[SAME] Elizabeth_Smart: Elizabeth_Smart_0004.jpg vs Elizabeth_Smart_0005.jpg → Sim: 0.827 → Match\n"
          ]
        },
        {
          "output_type": "stream",
          "name": "stderr",
          "text": [
            "\r 26%|██▌       | 448/1711 [04:14<10:36,  1.98it/s]"
          ]
        },
        {
          "output_type": "stream",
          "name": "stdout",
          "text": [
            "[SAME] Elsa_Zylberstein: Elsa_Zylberstein_0004.jpg vs Elsa_Zylberstein_0005.jpg → Sim: 0.801 → Match\n"
          ]
        },
        {
          "output_type": "stream",
          "name": "stderr",
          "text": [
            "\r 26%|██▋       | 452/1711 [04:17<11:22,  1.85it/s]"
          ]
        },
        {
          "output_type": "stream",
          "name": "stdout",
          "text": [
            "[SAME] Emma_Watson: Emma_Watson_0001.jpg vs Emma_Watson_0002.jpg → Sim: 0.643 → Match\n"
          ]
        },
        {
          "output_type": "stream",
          "name": "stderr",
          "text": [
            "\r 27%|██▋       | 463/1711 [04:19<07:41,  2.70it/s]"
          ]
        },
        {
          "output_type": "stream",
          "name": "stdout",
          "text": [
            "[SAME] Erik_Morales: Erik_Morales_0001.jpg vs Erik_Morales_0002.jpg → Sim: 0.676 → Match\n"
          ]
        },
        {
          "output_type": "stream",
          "name": "stderr",
          "text": [
            "\r 27%|██▋       | 464/1711 [04:22<10:24,  2.00it/s]"
          ]
        },
        {
          "output_type": "stream",
          "name": "stdout",
          "text": [
            "[SAME] Erika_Christensen: Erika_Christensen_0001.jpg vs Erika_Christensen_0002.jpg → Sim: 0.625 → Match\n"
          ]
        },
        {
          "output_type": "stream",
          "name": "stderr",
          "text": [
            "\r 27%|██▋       | 466/1711 [04:24<11:55,  1.74it/s]"
          ]
        },
        {
          "output_type": "stream",
          "name": "stdout",
          "text": [
            "[SAME] Erin_Runnion: Erin_Runnion_0001.jpg vs Erin_Runnion_0002.jpg → Sim: 0.693 → Match\n"
          ]
        },
        {
          "output_type": "stream",
          "name": "stderr",
          "text": [
            "\r 27%|██▋       | 467/1711 [04:26<14:45,  1.41it/s]"
          ]
        },
        {
          "output_type": "stream",
          "name": "stdout",
          "text": [
            "[SAME] Ernie_Eves: Ernie_Eves_0001.jpg vs Ernie_Eves_0002.jpg → Sim: 0.724 → Match\n"
          ]
        },
        {
          "output_type": "stream",
          "name": "stderr",
          "text": [
            "\r 27%|██▋       | 468/1711 [04:30<23:31,  1.14s/it]"
          ]
        },
        {
          "output_type": "stream",
          "name": "stdout",
          "text": [
            "[SAME] Ernie_Fletcher: Ernie_Fletcher_0001.jpg vs Ernie_Fletcher_0002.jpg → Sim: 0.786 → Match\n"
          ]
        },
        {
          "output_type": "stream",
          "name": "stderr",
          "text": [
            "\r 28%|██▊       | 480/1711 [04:32<10:07,  2.03it/s]"
          ]
        },
        {
          "output_type": "stream",
          "name": "stdout",
          "text": [
            "[SAME] Fabiola_Zuluaga: Fabiola_Zuluaga_0001.jpg vs Fabiola_Zuluaga_0002.jpg → Sim: 0.666 → Match\n"
          ]
        },
        {
          "output_type": "stream",
          "name": "stderr",
          "text": [
            "\r 28%|██▊       | 485/1711 [04:35<10:15,  1.99it/s]"
          ]
        },
        {
          "output_type": "stream",
          "name": "stdout",
          "text": [
            "[SAME] Faye_Dunaway: Faye_Dunaway_0001.jpg vs Faye_Dunaway_0002.jpg → Sim: 0.611 → Match\n"
          ]
        },
        {
          "output_type": "stream",
          "name": "stderr",
          "text": [
            "\r 28%|██▊       | 486/1711 [04:37<13:28,  1.51it/s]"
          ]
        },
        {
          "output_type": "stream",
          "name": "stdout",
          "text": [
            "[SAME] Felipe_Perez_Roque: Felipe_Perez_Roque_0001.jpg vs Felipe_Perez_Roque_0002.jpg → Sim: 0.724 → Match\n"
          ]
        },
        {
          "output_type": "stream",
          "name": "stderr",
          "text": [
            "\r 29%|██▉       | 501/1711 [04:39<06:47,  2.97it/s]"
          ]
        },
        {
          "output_type": "stream",
          "name": "stdout",
          "text": [
            "[SAME] Frank_Cassell: Frank_Cassell_0001.jpg vs Frank_Cassell_0002.jpg → Sim: 0.621 → Match\n"
          ]
        },
        {
          "output_type": "stream",
          "name": "stderr",
          "text": [
            "\r 29%|██▉       | 502/1711 [04:44<11:08,  1.81it/s]"
          ]
        },
        {
          "output_type": "stream",
          "name": "stdout",
          "text": [
            "[SAME] Frank_Dunham_Jr: Frank_Dunham_Jr_0001.jpg vs Frank_Dunham_Jr_0002.jpg → Sim: 0.707 → Match\n"
          ]
        },
        {
          "output_type": "stream",
          "name": "stderr",
          "text": [
            "\r 30%|██▉       | 513/1711 [04:46<07:51,  2.54it/s]"
          ]
        },
        {
          "output_type": "stream",
          "name": "stdout",
          "text": [
            "[SAME] Fred_Funk: Fred_Funk_0001.jpg vs Fred_Funk_0002.jpg → Sim: 0.621 → Match\n"
          ]
        },
        {
          "output_type": "stream",
          "name": "stderr",
          "text": [
            "\r 30%|███       | 517/1711 [04:49<09:05,  2.19it/s]"
          ]
        },
        {
          "output_type": "stream",
          "name": "stdout",
          "text": [
            "[SAME] GL_Peiris: GL_Peiris_0001.jpg vs GL_Peiris_0002.jpg → Sim: 0.761 → Match\n"
          ]
        },
        {
          "output_type": "stream",
          "name": "stderr",
          "text": [
            "\r 30%|███       | 519/1711 [04:52<11:40,  1.70it/s]"
          ]
        },
        {
          "output_type": "stream",
          "name": "stdout",
          "text": [
            "[SAME] Gao_Qiang: Gao_Qiang_0001.jpg vs Gao_Qiang_0002.jpg → Sim: 0.772 → Match\n"
          ]
        },
        {
          "output_type": "stream",
          "name": "stderr",
          "text": [
            "\r 30%|███       | 521/1711 [04:54<12:54,  1.54it/s]"
          ]
        },
        {
          "output_type": "stream",
          "name": "stdout",
          "text": [
            "[SAME] Garry_Trudeau: Garry_Trudeau_0001.jpg vs Garry_Trudeau_0002.jpg → Sim: 0.705 → Match\n"
          ]
        },
        {
          "output_type": "stream",
          "name": "stderr",
          "text": [
            "\r 31%|███       | 529/1711 [04:57<10:05,  1.95it/s]"
          ]
        },
        {
          "output_type": "stream",
          "name": "stdout",
          "text": [
            "[SAME] Gary_Williams: Gary_Williams_0001.jpg vs Gary_Williams_0002.jpg → Sim: 0.626 → Match\n"
          ]
        },
        {
          "output_type": "stream",
          "name": "stderr",
          "text": [
            "\r 31%|███       | 530/1711 [04:59<13:08,  1.50it/s]"
          ]
        },
        {
          "output_type": "stream",
          "name": "stdout",
          "text": [
            "[SAME] Gary_Winnick: Gary_Winnick_0001.jpg vs Gary_Winnick_0002.jpg → Sim: 0.611 → Match\n"
          ]
        },
        {
          "output_type": "stream",
          "name": "stderr",
          "text": [
            "\r 31%|███       | 533/1711 [05:01<13:10,  1.49it/s]"
          ]
        },
        {
          "output_type": "stream",
          "name": "stdout",
          "text": [
            "[SAME] Gene_Robinson: Gene_Robinson_0001.jpg vs Gene_Robinson_0002.jpg → Sim: 0.759 → Match\n"
          ]
        },
        {
          "output_type": "stream",
          "name": "stderr",
          "text": [
            "\r 31%|███▏      | 537/1711 [05:03<12:06,  1.62it/s]"
          ]
        },
        {
          "output_type": "stream",
          "name": "stdout",
          "text": [
            "[SAME] George_Foreman: George_Foreman_0001.jpg vs George_Foreman_0002.jpg → Sim: 0.682 → Match\n"
          ]
        },
        {
          "output_type": "stream",
          "name": "stderr",
          "text": [
            "\r 32%|███▏      | 539/1711 [05:05<13:31,  1.44it/s]"
          ]
        },
        {
          "output_type": "stream",
          "name": "stdout",
          "text": [
            "[SAME] George_Karl: George_Karl_0001.jpg vs George_Karl_0002.jpg → Sim: 0.647 → Match\n"
          ]
        },
        {
          "output_type": "stream",
          "name": "stderr",
          "text": [
            "\r 32%|███▏      | 542/1711 [05:07<13:24,  1.45it/s]"
          ]
        },
        {
          "output_type": "stream",
          "name": "stdout",
          "text": [
            "[SAME] George_Robertson: George_Robertson_0001.jpg vs George_Robertson_0002.jpg → Sim: 0.720 → Match\n"
          ]
        },
        {
          "output_type": "stream",
          "name": "stderr",
          "text": [
            "\r 32%|███▏      | 543/1711 [05:10<17:48,  1.09it/s]"
          ]
        },
        {
          "output_type": "stream",
          "name": "stdout",
          "text": [
            "[SAME] George_Tenet: George_Tenet_0001.jpg vs George_Tenet_0002.jpg → Sim: 0.678 → Match\n"
          ]
        },
        {
          "output_type": "stream",
          "name": "stderr",
          "text": [
            "\r 32%|███▏      | 544/1711 [05:13<23:20,  1.20s/it]"
          ]
        },
        {
          "output_type": "stream",
          "name": "stdout",
          "text": [
            "[SAME] Georgi_Parvanov: Georgi_Parvanov_0001.jpg vs Georgi_Parvanov_0002.jpg → Sim: 0.668 → Match\n"
          ]
        },
        {
          "output_type": "stream",
          "name": "stderr",
          "text": [
            "\r 32%|███▏      | 547/1711 [05:15<19:25,  1.00s/it]"
          ]
        },
        {
          "output_type": "stream",
          "name": "stdout",
          "text": [
            "[SAME] Geraldine_Chaplin: Geraldine_Chaplin_0003.jpg vs Geraldine_Chaplin_0004.jpg → Sim: 0.856 → Match\n"
          ]
        },
        {
          "output_type": "stream",
          "name": "stderr",
          "text": [
            "\r 32%|███▏      | 551/1711 [05:17<15:30,  1.25it/s]"
          ]
        },
        {
          "output_type": "stream",
          "name": "stdout",
          "text": [
            "[SAME] Gerhard_Schroeder: Gerhard_Schroeder_0001.jpg vs Gerhard_Schroeder_0002.jpg → Sim: 0.768 → Match\n"
          ]
        },
        {
          "output_type": "stream",
          "name": "stderr",
          "text": [
            "\r 32%|███▏      | 552/1711 [05:19<18:36,  1.04it/s]"
          ]
        },
        {
          "output_type": "stream",
          "name": "stdout",
          "text": [
            "[SAME] Gerry_Adams: Gerry_Adams_0001.jpg vs Gerry_Adams_0002.jpg → Sim: 0.683 → Match\n"
          ]
        },
        {
          "output_type": "stream",
          "name": "stderr",
          "text": [
            "\r 33%|███▎      | 558/1711 [05:21<12:08,  1.58it/s]"
          ]
        },
        {
          "output_type": "stream",
          "name": "stdout",
          "text": [
            "[SAME] Gilberto_Rodriguez_Orejuela: Gilberto_Rodriguez_Orejuela_0001.jpg vs Gilberto_Rodriguez_Orejuela_0002.jpg → Sim: 0.758 → Match\n"
          ]
        },
        {
          "output_type": "stream",
          "name": "stderr",
          "text": [
            "\r 33%|███▎      | 560/1711 [05:23<14:06,  1.36it/s]"
          ]
        },
        {
          "output_type": "stream",
          "name": "stdout",
          "text": [
            "[SAME] Giuseppe_Gibilisco: Giuseppe_Gibilisco_0001.jpg vs Giuseppe_Gibilisco_0003.jpg → Sim: 0.650 → Match\n"
          ]
        },
        {
          "output_type": "stream",
          "name": "stderr",
          "text": [
            "\r 33%|███▎      | 561/1711 [05:26<19:38,  1.02s/it]"
          ]
        },
        {
          "output_type": "stream",
          "name": "stdout",
          "text": [
            "[SAME] Glafcos_Clerides: Glafcos_Clerides_0001.jpg vs Glafcos_Clerides_0002.jpg → Sim: 0.775 → Match\n"
          ]
        },
        {
          "output_type": "stream",
          "name": "stderr",
          "text": [
            "\r 33%|███▎      | 567/1711 [05:29<12:50,  1.48it/s]"
          ]
        },
        {
          "output_type": "stream",
          "name": "stdout",
          "text": [
            "[SAME] Gordon_Brown: Gordon_Brown_0001.jpg vs Gordon_Brown_0002.jpg → Sim: 0.642 → Match\n"
          ]
        },
        {
          "output_type": "stream",
          "name": "stderr",
          "text": [
            "\r 33%|███▎      | 568/1711 [05:31<15:37,  1.22it/s]"
          ]
        },
        {
          "output_type": "stream",
          "name": "stdout",
          "text": [
            "[SAME] Gordon_Campbell: Gordon_Campbell_0001.jpg vs Gordon_Campbell_0002.jpg → Sim: 0.634 → Match\n"
          ]
        },
        {
          "output_type": "stream",
          "name": "stderr",
          "text": [
            "\r 33%|███▎      | 571/1711 [05:33<14:40,  1.30it/s]"
          ]
        },
        {
          "output_type": "stream",
          "name": "stdout",
          "text": [
            "[SAME] Gray_Davis: Gray_Davis_0001.jpg vs Gray_Davis_0002.jpg → Sim: 0.725 → Match\n"
          ]
        },
        {
          "output_type": "stream",
          "name": "stderr",
          "text": [
            "\r 33%|███▎      | 572/1711 [05:35<17:44,  1.07it/s]"
          ]
        },
        {
          "output_type": "stream",
          "name": "stdout",
          "text": [
            "[SAME] Greg_Gilbert: Greg_Gilbert_0001.jpg vs Greg_Gilbert_0002.jpg → Sim: 0.717 → Match\n"
          ]
        },
        {
          "output_type": "stream",
          "name": "stderr",
          "text": [
            "\r 34%|███▎      | 577/1711 [05:37<12:47,  1.48it/s]"
          ]
        },
        {
          "output_type": "stream",
          "name": "stdout",
          "text": [
            "[SAME] Gregory_Geoffroy: Gregory_Geoffroy_0001.jpg vs Gregory_Geoffroy_0002.jpg → Sim: 0.786 → Match\n"
          ]
        },
        {
          "output_type": "stream",
          "name": "stderr",
          "text": [
            "\r 34%|███▍      | 578/1711 [05:40<20:05,  1.06s/it]"
          ]
        },
        {
          "output_type": "stream",
          "name": "stdout",
          "text": [
            "[SAME] Gregory_Hines: Gregory_Hines_0001.jpg vs Gregory_Hines_0002.jpg → Sim: 0.740 → Match\n"
          ]
        },
        {
          "output_type": "stream",
          "name": "stderr",
          "text": [
            "\r 34%|███▍      | 586/1711 [05:43<11:11,  1.67it/s]"
          ]
        },
        {
          "output_type": "stream",
          "name": "stdout",
          "text": [
            "[SAME] Gus_Van_Sant: Gus_Van_Sant_0001.jpg vs Gus_Van_Sant_0002.jpg → Sim: 0.773 → Match\n"
          ]
        },
        {
          "output_type": "stream",
          "name": "stderr",
          "text": [
            "\r 34%|███▍      | 590/1711 [05:46<13:03,  1.43it/s]"
          ]
        },
        {
          "output_type": "stream",
          "name": "stdout",
          "text": [
            "[SAME] Gwyneth_Paltrow: Gwyneth_Paltrow_0004.jpg vs Gwyneth_Paltrow_0005.jpg → Sim: 0.663 → Match\n"
          ]
        },
        {
          "output_type": "stream",
          "name": "stderr",
          "text": [
            "\r 36%|███▌      | 608/1711 [05:49<06:11,  2.97it/s]"
          ]
        },
        {
          "output_type": "stream",
          "name": "stdout",
          "text": [
            "[SAME] Hassan_Wirajuda: Hassan_Wirajuda_0001.jpg vs Hassan_Wirajuda_0002.jpg → Sim: 0.663 → Match\n"
          ]
        },
        {
          "output_type": "stream",
          "name": "stderr",
          "text": [
            "\r 36%|███▌      | 610/1711 [05:51<07:27,  2.46it/s]"
          ]
        },
        {
          "output_type": "stream",
          "name": "stdout",
          "text": [
            "[SAME] Heather_Mills: Heather_Mills_0003.jpg vs Heather_Mills_0004.jpg → Sim: 0.753 → Match\n"
          ]
        },
        {
          "output_type": "stream",
          "name": "stderr",
          "text": [
            "\r 37%|███▋      | 627/1711 [05:54<05:08,  3.51it/s]"
          ]
        },
        {
          "output_type": "stream",
          "name": "stdout",
          "text": [
            "[SAME] Horst_Koehler: Horst_Koehler_0001.jpg vs Horst_Koehler_0002.jpg → Sim: 0.654 → Match\n"
          ]
        },
        {
          "output_type": "stream",
          "name": "stderr",
          "text": [
            "\r 37%|███▋      | 638/1711 [05:56<04:38,  3.85it/s]"
          ]
        },
        {
          "output_type": "stream",
          "name": "stdout",
          "text": [
            "[SAME] Ian_Thorpe: Ian_Thorpe_0001.jpg vs Ian_Thorpe_0003.jpg → Sim: 0.721 → Match\n"
          ]
        },
        {
          "output_type": "stream",
          "name": "stderr",
          "text": [
            "\r 38%|███▊      | 645/1711 [05:58<04:44,  3.75it/s]"
          ]
        },
        {
          "output_type": "stream",
          "name": "stdout",
          "text": [
            "[SAME] Imad_Moustapha: Imad_Moustapha_0001.jpg vs Imad_Moustapha_0002.jpg → Sim: 0.858 → Match\n"
          ]
        },
        {
          "output_type": "stream",
          "name": "stderr",
          "text": [
            "\r 38%|███▊      | 651/1711 [06:01<05:21,  3.30it/s]"
          ]
        },
        {
          "output_type": "stream",
          "name": "stdout",
          "text": [
            "[SAME] Isabella_Rossellini: Isabella_Rossellini_0001.jpg vs Isabella_Rossellini_0002.jpg → Sim: 0.607 → Match\n"
          ]
        },
        {
          "output_type": "stream",
          "name": "stderr",
          "text": [
            "\r 38%|███▊      | 658/1711 [06:03<05:14,  3.35it/s]"
          ]
        },
        {
          "output_type": "stream",
          "name": "stdout",
          "text": [
            "[SAME] Ismail_Merchant: Ismail_Merchant_0001.jpg vs Ismail_Merchant_0002.jpg → Sim: 0.719 → Match\n"
          ]
        },
        {
          "output_type": "stream",
          "name": "stderr",
          "text": [
            "\r 39%|███▊      | 660/1711 [06:05<06:32,  2.68it/s]"
          ]
        },
        {
          "output_type": "stream",
          "name": "stdout",
          "text": [
            "[SAME] Iva_Majoli: Iva_Majoli_0001.jpg vs Iva_Majoli_0002.jpg → Sim: 0.690 → Match\n"
          ]
        },
        {
          "output_type": "stream",
          "name": "stderr",
          "text": [
            "\r 39%|███▉      | 665/1711 [06:09<08:16,  2.11it/s]"
          ]
        },
        {
          "output_type": "stream",
          "name": "stdout",
          "text": [
            "[SAME] Jack_Grubman: Jack_Grubman_0001.jpg vs Jack_Grubman_0002.jpg → Sim: 0.850 → Match\n"
          ]
        },
        {
          "output_type": "stream",
          "name": "stderr",
          "text": [
            "\r 39%|███▉      | 668/1711 [06:11<08:54,  1.95it/s]"
          ]
        },
        {
          "output_type": "stream",
          "name": "stdout",
          "text": [
            "[SAME] Jacques_Chirac: Jacques_Chirac_0001.jpg vs Jacques_Chirac_0002.jpg → Sim: 0.768 → Match\n"
          ]
        },
        {
          "output_type": "stream",
          "name": "stderr",
          "text": [
            "\r 39%|███▉      | 669/1711 [06:13<11:00,  1.58it/s]"
          ]
        },
        {
          "output_type": "stream",
          "name": "stdout",
          "text": [
            "[SAME] Jacques_Rogge: Jacques_Rogge_0001.jpg vs Jacques_Rogge_0002.jpg → Sim: 0.771 → Match\n"
          ]
        },
        {
          "output_type": "stream",
          "name": "stderr",
          "text": [
            "\r 39%|███▉      | 670/1711 [06:15<13:30,  1.28it/s]"
          ]
        },
        {
          "output_type": "stream",
          "name": "stdout",
          "text": [
            "[SAME] Jake_Gyllenhaal: Jake_Gyllenhaal_0001.jpg vs Jake_Gyllenhaal_0002.jpg → Sim: 0.632 → Match\n"
          ]
        },
        {
          "output_type": "stream",
          "name": "stderr",
          "text": [
            "\r 39%|███▉      | 675/1711 [06:18<11:34,  1.49it/s]"
          ]
        },
        {
          "output_type": "stream",
          "name": "stdout",
          "text": [
            "[SAME] James_Butts: James_Butts_0001.jpg vs James_Butts_0002.jpg → Sim: 0.786 → Match\n"
          ]
        },
        {
          "output_type": "stream",
          "name": "stderr",
          "text": [
            "\r 40%|███▉      | 676/1711 [06:21<16:19,  1.06it/s]"
          ]
        },
        {
          "output_type": "stream",
          "name": "stdout",
          "text": [
            "[SAME] James_Cameron: James_Cameron_0001.jpg vs James_Cameron_0002.jpg → Sim: 0.759 → Match\n"
          ]
        },
        {
          "output_type": "stream",
          "name": "stderr",
          "text": [
            "\r 40%|███▉      | 679/1711 [06:25<18:05,  1.05s/it]"
          ]
        },
        {
          "output_type": "stream",
          "name": "stdout",
          "text": [
            "[SAME] James_Franco: James_Franco_0001.jpg vs James_Franco_0002.jpg → Sim: 0.623 → Match\n"
          ]
        },
        {
          "output_type": "stream",
          "name": "stderr",
          "text": [
            "\r 40%|███▉      | 681/1711 [06:28<21:19,  1.24s/it]"
          ]
        },
        {
          "output_type": "stream",
          "name": "stdout",
          "text": [
            "[SAME] James_Ivory: James_Ivory_0001.jpg vs James_Ivory_0002.jpg → Sim: 0.803 → Match\n"
          ]
        },
        {
          "output_type": "stream",
          "name": "stderr",
          "text": [
            "\r 40%|███▉      | 682/1711 [06:31<23:14,  1.36s/it]"
          ]
        },
        {
          "output_type": "stream",
          "name": "stdout",
          "text": [
            "[SAME] James_Kelly: James_Kelly_0001.jpg vs James_Kelly_0003.jpg → Sim: 0.668 → Match\n"
          ]
        },
        {
          "output_type": "stream",
          "name": "stderr",
          "text": [
            "\r 40%|███▉      | 684/1711 [06:33<21:29,  1.26s/it]"
          ]
        },
        {
          "output_type": "stream",
          "name": "stdout",
          "text": [
            "[SAME] James_Kopp: James_Kopp_0001.jpg vs James_Kopp_0002.jpg → Sim: 0.600 → Match\n"
          ]
        },
        {
          "output_type": "stream",
          "name": "stderr",
          "text": [
            "\r 40%|████      | 686/1711 [06:35<22:11,  1.30s/it]"
          ]
        },
        {
          "output_type": "stream",
          "name": "stdout",
          "text": [
            "[SAME] James_Maguire: James_Maguire_0001.jpg vs James_Maguire_0002.jpg → Sim: 0.764 → Match\n"
          ]
        },
        {
          "output_type": "stream",
          "name": "stderr",
          "text": [
            "\r 40%|████      | 688/1711 [06:38<22:01,  1.29s/it]"
          ]
        },
        {
          "output_type": "stream",
          "name": "stdout",
          "text": [
            "[SAME] James_McGreevey: James_McGreevey_0001.jpg vs James_McGreevey_0003.jpg → Sim: 0.706 → Match\n"
          ]
        },
        {
          "output_type": "stream",
          "name": "stderr",
          "text": [
            "\r 40%|████      | 690/1711 [06:40<21:58,  1.29s/it]"
          ]
        },
        {
          "output_type": "stream",
          "name": "stdout",
          "text": [
            "[SAME] James_Smith: James_Smith_0001.jpg vs James_Smith_0002.jpg → Sim: 0.776 → Match\n"
          ]
        },
        {
          "output_type": "stream",
          "name": "stderr",
          "text": [
            "\r 41%|████      | 694/1711 [06:43<16:54,  1.00it/s]"
          ]
        },
        {
          "output_type": "stream",
          "name": "stdout",
          "text": [
            "[SAME] Jamling_Norgay: Jamling_Norgay_0001.jpg vs Jamling_Norgay_0002.jpg → Sim: 0.772 → Match\n"
          ]
        },
        {
          "output_type": "stream",
          "name": "stderr",
          "text": [
            "\r 41%|████      | 696/1711 [06:46<18:06,  1.07s/it]"
          ]
        },
        {
          "output_type": "stream",
          "name": "stdout",
          "text": [
            "[SAME] Jan_Ullrich: Jan_Ullrich_0004.jpg vs Jan_Ullrich_0005.jpg → Sim: 0.624 → Match\n"
          ]
        },
        {
          "output_type": "stream",
          "name": "stderr",
          "text": [
            "\r 42%|████▏     | 714/1711 [06:49<06:34,  2.53it/s]"
          ]
        },
        {
          "output_type": "stream",
          "name": "stdout",
          "text": [
            "[SAME] Javier_Weber: Javier_Weber_0001.jpg vs Javier_Weber_0002.jpg → Sim: 0.622 → Match\n"
          ]
        },
        {
          "output_type": "stream",
          "name": "stderr",
          "text": [
            "\r 42%|████▏     | 718/1711 [06:52<07:27,  2.22it/s]"
          ]
        },
        {
          "output_type": "stream",
          "name": "stdout",
          "text": [
            "[SAME] Jean-Claude_Juncker: Jean-Claude_Juncker_0001.jpg vs Jean-Claude_Juncker_0002.jpg → Sim: 0.686 → Match\n"
          ]
        },
        {
          "output_type": "stream",
          "name": "stderr",
          "text": [
            "\r 42%|████▏     | 719/1711 [06:55<10:59,  1.51it/s]"
          ]
        },
        {
          "output_type": "stream",
          "name": "stdout",
          "text": [
            "[SAME] Jean-Claude_Trichet: Jean-Claude_Trichet_0001.jpg vs Jean-Claude_Trichet_0002.jpg → Sim: 0.629 → Match\n"
          ]
        },
        {
          "output_type": "stream",
          "name": "stderr",
          "text": [
            "\r 42%|████▏     | 723/1711 [06:57<10:13,  1.61it/s]"
          ]
        },
        {
          "output_type": "stream",
          "name": "stdout",
          "text": [
            "[SAME] Jean-Pierre_Raffarin: Jean-Pierre_Raffarin_0001.jpg vs Jean-Pierre_Raffarin_0002.jpg → Sim: 0.604 → Match\n"
          ]
        },
        {
          "output_type": "stream",
          "name": "stderr",
          "text": [
            "\r 43%|████▎     | 740/1711 [06:59<05:00,  3.23it/s]"
          ]
        },
        {
          "output_type": "stream",
          "name": "stdout",
          "text": [
            "[SAME] Jennifer_Capriati: Jennifer_Capriati_0001.jpg vs Jennifer_Capriati_0002.jpg → Sim: 0.653 → Match\n"
          ]
        },
        {
          "output_type": "stream",
          "name": "stderr",
          "text": [
            "\r 43%|████▎     | 741/1711 [07:02<06:30,  2.48it/s]"
          ]
        },
        {
          "output_type": "stream",
          "name": "stdout",
          "text": [
            "[SAME] Jennifer_Connelly: Jennifer_Connelly_0001.jpg vs Jennifer_Connelly_0003.jpg → Sim: 0.736 → Match\n"
          ]
        },
        {
          "output_type": "stream",
          "name": "stderr",
          "text": [
            "\r 43%|████▎     | 743/1711 [07:05<08:46,  1.84it/s]"
          ]
        },
        {
          "output_type": "stream",
          "name": "stdout",
          "text": [
            "[SAME] Jennifer_Keller: Jennifer_Keller_0001.jpg vs Jennifer_Keller_0002.jpg → Sim: 0.641 → Match\n"
          ]
        },
        {
          "output_type": "stream",
          "name": "stderr",
          "text": [
            "\r 44%|████▎     | 746/1711 [07:07<09:19,  1.72it/s]"
          ]
        },
        {
          "output_type": "stream",
          "name": "stdout",
          "text": [
            "[SAME] Jennifer_Thompson: Jennifer_Thompson_0001.jpg vs Jennifer_Thompson_0002.jpg → Sim: 0.756 → Match\n"
          ]
        },
        {
          "output_type": "stream",
          "name": "stderr",
          "text": [
            "\r 44%|████▎     | 747/1711 [07:09<11:24,  1.41it/s]"
          ]
        },
        {
          "output_type": "stream",
          "name": "stdout",
          "text": [
            "[SAME] Jeong_Se-hyun: Jeong_Se-hyun_0001.jpg vs Jeong_Se-hyun_0002.jpg → Sim: 0.772 → Match\n"
          ]
        },
        {
          "output_type": "stream",
          "name": "stderr",
          "text": [
            "\r 44%|████▎     | 748/1711 [07:12<15:59,  1.00it/s]"
          ]
        },
        {
          "output_type": "stream",
          "name": "stdout",
          "text": [
            "[SAME] Jeremy_Greenstock: Jeremy_Greenstock_0001.jpg vs Jeremy_Greenstock_0002.jpg → Sim: 0.655 → Match\n"
          ]
        },
        {
          "output_type": "stream",
          "name": "stderr",
          "text": [
            "\r 44%|████▍     | 749/1711 [07:14<18:17,  1.14s/it]"
          ]
        },
        {
          "output_type": "stream",
          "name": "stdout",
          "text": [
            "[SAME] Jeremy_Shockey: Jeremy_Shockey_0001.jpg vs Jeremy_Shockey_0002.jpg → Sim: 0.864 → Match\n"
          ]
        },
        {
          "output_type": "stream",
          "name": "stderr",
          "text": [
            "\r 44%|████▍     | 758/1711 [07:17<09:20,  1.70it/s]"
          ]
        },
        {
          "output_type": "stream",
          "name": "stdout",
          "text": [
            "[SAME] Jesse_Harris: Jesse_Harris_0001.jpg vs Jesse_Harris_0002.jpg → Sim: 0.791 → Match\n"
          ]
        },
        {
          "output_type": "stream",
          "name": "stderr",
          "text": [
            "\r 44%|████▍     | 759/1711 [07:20<13:30,  1.17it/s]"
          ]
        },
        {
          "output_type": "stream",
          "name": "stdout",
          "text": [
            "[SAME] Jesse_Jackson: Jesse_Jackson_0003.jpg vs Jesse_Jackson_0004.jpg → Sim: 0.695 → Match\n"
          ]
        },
        {
          "output_type": "stream",
          "name": "stderr",
          "text": [
            "\r 44%|████▍     | 761/1711 [07:23<15:54,  1.01s/it]"
          ]
        },
        {
          "output_type": "stream",
          "name": "stdout",
          "text": [
            "[SAME] Jesse_Ventura: Jesse_Ventura_0001.jpg vs Jesse_Ventura_0002.jpg → Sim: 0.674 → Match\n"
          ]
        },
        {
          "output_type": "stream",
          "name": "stderr",
          "text": [
            "\r 45%|████▍     | 764/1711 [07:26<15:11,  1.04it/s]"
          ]
        },
        {
          "output_type": "stream",
          "name": "stdout",
          "text": [
            "[SAME] Jessica_Lange: Jessica_Lange_0001.jpg vs Jessica_Lange_0002.jpg → Sim: 0.636 → Match\n"
          ]
        },
        {
          "output_type": "stream",
          "name": "stderr",
          "text": [
            "\r 45%|████▍     | 766/1711 [07:28<15:20,  1.03it/s]"
          ]
        },
        {
          "output_type": "stream",
          "name": "stdout",
          "text": [
            "[SAME] Jiang_Zemin: Jiang_Zemin_0001.jpg vs Jiang_Zemin_0002.jpg → Sim: 0.717 → Match\n"
          ]
        },
        {
          "output_type": "stream",
          "name": "stderr",
          "text": [
            "\r 45%|████▌     | 774/1711 [07:30<09:09,  1.71it/s]"
          ]
        },
        {
          "output_type": "stream",
          "name": "stdout",
          "text": [
            "[SAME] Jim_Hahn: Jim_Hahn_0001.jpg vs Jim_Hahn_0003.jpg → Sim: 0.750 → Match\n"
          ]
        },
        {
          "output_type": "stream",
          "name": "stderr",
          "text": [
            "\r 45%|████▌     | 775/1711 [07:34<14:20,  1.09it/s]"
          ]
        },
        {
          "output_type": "stream",
          "name": "stdout",
          "text": [
            "[SAME] Jim_Harrick: Jim_Harrick_0001.jpg vs Jim_Harrick_0002.jpg → Sim: 0.719 → Match\n"
          ]
        },
        {
          "output_type": "stream",
          "name": "stderr",
          "text": [
            "\r 46%|████▌     | 781/1711 [07:37<10:55,  1.42it/s]"
          ]
        },
        {
          "output_type": "stream",
          "name": "stdout",
          "text": [
            "[SAME] Jimmy_Carter: Jimmy_Carter_0001.jpg vs Jimmy_Carter_0002.jpg → Sim: 0.740 → Match\n"
          ]
        },
        {
          "output_type": "stream",
          "name": "stderr",
          "text": [
            "\r 46%|████▌     | 782/1711 [07:39<12:51,  1.20it/s]"
          ]
        },
        {
          "output_type": "stream",
          "name": "stdout",
          "text": [
            "[SAME] Jimmy_Kimmel: Jimmy_Kimmel_0001.jpg vs Jimmy_Kimmel_0002.jpg → Sim: 0.721 → Match\n"
          ]
        },
        {
          "output_type": "stream",
          "name": "stderr",
          "text": [
            "\r 46%|████▌     | 788/1711 [07:41<09:24,  1.63it/s]"
          ]
        },
        {
          "output_type": "stream",
          "name": "stdout",
          "text": [
            "[SAME] Joe_Mantello: Joe_Mantello_0001.jpg vs Joe_Mantello_0002.jpg → Sim: 0.752 → Match\n"
          ]
        },
        {
          "output_type": "stream",
          "name": "stderr",
          "text": [
            "\r 46%|████▌     | 789/1711 [07:43<11:30,  1.34it/s]"
          ]
        },
        {
          "output_type": "stream",
          "name": "stdout",
          "text": [
            "[SAME] Joe_Nichols: Joe_Nichols_0001.jpg vs Joe_Nichols_0002.jpg → Sim: 0.613 → Match\n"
          ]
        },
        {
          "output_type": "stream",
          "name": "stderr",
          "text": [
            "\r 47%|████▋     | 798/1711 [07:47<08:32,  1.78it/s]"
          ]
        },
        {
          "output_type": "stream",
          "name": "stdout",
          "text": [
            "[SAME] John_Blaney: John_Blaney_0001.jpg vs John_Blaney_0002.jpg → Sim: 0.653 → Match\n"
          ]
        },
        {
          "output_type": "stream",
          "name": "stderr",
          "text": [
            "\r 47%|████▋     | 799/1711 [07:49<10:36,  1.43it/s]"
          ]
        },
        {
          "output_type": "stream",
          "name": "stdout",
          "text": [
            "[SAME] John_Bolton: John_Bolton_0001.jpg vs John_Bolton_0002.jpg → Sim: 0.783 → Match\n"
          ]
        },
        {
          "output_type": "stream",
          "name": "stderr",
          "text": [
            "\r 47%|████▋     | 804/1711 [07:51<08:55,  1.69it/s]"
          ]
        },
        {
          "output_type": "stream",
          "name": "stdout",
          "text": [
            "[SAME] John_Garamendi: John_Garamendi_0001.jpg vs John_Garamendi_0002.jpg → Sim: 0.650 → Match\n"
          ]
        },
        {
          "output_type": "stream",
          "name": "stderr",
          "text": [
            "\r 47%|████▋     | 811/1711 [07:53<06:57,  2.15it/s]"
          ]
        },
        {
          "output_type": "stream",
          "name": "stdout",
          "text": [
            "[SAME] John_Mayer: John_Mayer_0001.jpg vs John_Mayer_0002.jpg → Sim: 0.853 → Match\n"
          ]
        },
        {
          "output_type": "stream",
          "name": "stderr",
          "text": [
            "\r 48%|████▊     | 815/1711 [07:56<07:39,  1.95it/s]"
          ]
        },
        {
          "output_type": "stream",
          "name": "stdout",
          "text": [
            "[SAME] John_Negroponte: John_Negroponte_0001.jpg vs John_Negroponte_0002.jpg → Sim: 0.852 → Match\n"
          ]
        },
        {
          "output_type": "stream",
          "name": "stderr",
          "text": [
            "\r 48%|████▊     | 818/1711 [07:59<09:14,  1.61it/s]"
          ]
        },
        {
          "output_type": "stream",
          "name": "stdout",
          "text": [
            "[SAME] John_Rowland: John_Rowland_0001.jpg vs John_Rowland_0002.jpg → Sim: 0.607 → Match\n"
          ]
        },
        {
          "output_type": "stream",
          "name": "stderr",
          "text": [
            "\r 48%|████▊     | 820/1711 [08:02<12:02,  1.23it/s]"
          ]
        },
        {
          "output_type": "stream",
          "name": "stdout",
          "text": [
            "[SAME] John_Travolta: John_Travolta_0001.jpg vs John_Travolta_0002.jpg → Sim: 0.819 → Match\n"
          ]
        },
        {
          "output_type": "stream",
          "name": "stderr",
          "text": [
            "\r 48%|████▊     | 822/1711 [08:04<12:36,  1.18it/s]"
          ]
        },
        {
          "output_type": "stream",
          "name": "stdout",
          "text": [
            "[SAME] John_Walsh: John_Walsh_0001.jpg vs John_Walsh_0002.jpg → Sim: 0.699 → Match\n"
          ]
        },
        {
          "output_type": "stream",
          "name": "stderr",
          "text": [
            "\r 48%|████▊     | 824/1711 [08:06<13:07,  1.13it/s]"
          ]
        },
        {
          "output_type": "stream",
          "name": "stdout",
          "text": [
            "[SAME] Johnny_Carson: Johnny_Carson_0001.jpg vs Johnny_Carson_0002.jpg → Sim: 0.631 → Match\n"
          ]
        },
        {
          "output_type": "stream",
          "name": "stderr",
          "text": [
            "\r 48%|████▊     | 826/1711 [08:08<13:32,  1.09it/s]"
          ]
        },
        {
          "output_type": "stream",
          "name": "stdout",
          "text": [
            "[SAME] Johnny_Unitas: Johnny_Unitas_0001.jpg vs Johnny_Unitas_0002.jpg → Sim: 0.770 → Match\n"
          ]
        },
        {
          "output_type": "stream",
          "name": "stderr",
          "text": [
            "\r 48%|████▊     | 829/1711 [08:10<12:19,  1.19it/s]"
          ]
        },
        {
          "output_type": "stream",
          "name": "stdout",
          "text": [
            "[SAME] Jorge_Arce: Jorge_Arce_0001.jpg vs Jorge_Arce_0002.jpg → Sim: 0.790 → Match\n"
          ]
        },
        {
          "output_type": "stream",
          "name": "stderr",
          "text": [
            "\r 49%|████▊     | 830/1711 [08:14<17:18,  1.18s/it]"
          ]
        },
        {
          "output_type": "stream",
          "name": "stdout",
          "text": [
            "[SAME] Jorge_Castaneda: Jorge_Castaneda_0001.jpg vs Jorge_Castaneda_0002.jpg → Sim: 0.685 → Match\n"
          ]
        },
        {
          "output_type": "stream",
          "name": "stderr",
          "text": [
            "\r 49%|████▉     | 837/1711 [08:16<10:27,  1.39it/s]"
          ]
        },
        {
          "output_type": "stream",
          "name": "stdout",
          "text": [
            "[SAME] Jose_Dirceu: Jose_Dirceu_0001.jpg vs Jose_Dirceu_0002.jpg → Sim: 0.668 → Match\n"
          ]
        },
        {
          "output_type": "stream",
          "name": "stderr",
          "text": [
            "\r 49%|████▉     | 841/1711 [08:18<09:24,  1.54it/s]"
          ]
        },
        {
          "output_type": "stream",
          "name": "stdout",
          "text": [
            "[SAME] Joseph_Deiss: Joseph_Deiss_0001.jpg vs Joseph_Deiss_0002.jpg → Sim: 0.835 → Match\n"
          ]
        },
        {
          "output_type": "stream",
          "name": "stderr",
          "text": [
            "\r 50%|█████     | 858/1711 [08:21<04:34,  3.11it/s]"
          ]
        },
        {
          "output_type": "stream",
          "name": "stdout",
          "text": [
            "[SAME] Julie_Gerberding: Julie_Gerberding_0001.jpg vs Julie_Gerberding_0002.jpg → Sim: 0.861 → Match\n"
          ]
        },
        {
          "output_type": "stream",
          "name": "stderr",
          "text": [
            "\r 50%|█████     | 863/1711 [08:23<04:47,  2.94it/s]"
          ]
        },
        {
          "output_type": "stream",
          "name": "stdout",
          "text": [
            "[SAME] Justin_Leonard: Justin_Leonard_0001.jpg vs Justin_Leonard_0002.jpg → Sim: 0.673 → Match\n"
          ]
        },
        {
          "output_type": "stream",
          "name": "stderr",
          "text": [
            "\r 50%|█████     | 864/1711 [08:26<06:42,  2.11it/s]"
          ]
        },
        {
          "output_type": "stream",
          "name": "stdout",
          "text": [
            "[SAME] Justine_Henin: Justine_Henin_0001.jpg vs Justine_Henin_0002.jpg → Sim: 0.741 → Match\n"
          ]
        },
        {
          "output_type": "stream",
          "name": "stderr",
          "text": [
            "\r 51%|█████     | 867/1711 [08:30<09:30,  1.48it/s]"
          ]
        },
        {
          "output_type": "stream",
          "name": "stdout",
          "text": [
            "[SAME] Kamal_Kharrazi: Kamal_Kharrazi_0001.jpg vs Kamal_Kharrazi_0002.jpg → Sim: 0.806 → Match\n"
          ]
        },
        {
          "output_type": "stream",
          "name": "stderr",
          "text": [
            "\r 51%|█████     | 871/1711 [08:32<08:48,  1.59it/s]"
          ]
        },
        {
          "output_type": "stream",
          "name": "stdout",
          "text": [
            "[SAME] Karin_Stoiber: Karin_Stoiber_0001.jpg vs Karin_Stoiber_0002.jpg → Sim: 0.620 → Match\n"
          ]
        },
        {
          "output_type": "stream",
          "name": "stderr",
          "text": [
            "\r 51%|█████▏    | 879/1711 [08:34<06:25,  2.16it/s]"
          ]
        },
        {
          "output_type": "stream",
          "name": "stdout",
          "text": [
            "[SAME] Keith_Bogans: Keith_Bogans_0001.jpg vs Keith_Bogans_0003.jpg → Sim: 0.609 → Match\n"
          ]
        },
        {
          "output_type": "stream",
          "name": "stderr",
          "text": [
            "\r 52%|█████▏    | 886/1711 [08:37<06:19,  2.17it/s]"
          ]
        },
        {
          "output_type": "stream",
          "name": "stdout",
          "text": [
            "[SAME] Kenneth_Evans: Kenneth_Evans_0001.jpg vs Kenneth_Evans_0002.jpg → Sim: 0.845 → Match\n"
          ]
        },
        {
          "output_type": "stream",
          "name": "stderr",
          "text": [
            "\r 52%|█████▏    | 895/1711 [08:39<05:00,  2.71it/s]"
          ]
        },
        {
          "output_type": "stream",
          "name": "stdout",
          "text": [
            "[SAME] Kim_Jong-Il: Kim_Jong-Il_0003.jpg vs Kim_Jong-Il_0004.jpg → Sim: 0.804 → Match\n"
          ]
        },
        {
          "output_type": "stream",
          "name": "stderr",
          "text": [
            "\r 52%|█████▏    | 897/1711 [08:43<07:16,  1.86it/s]"
          ]
        },
        {
          "output_type": "stream",
          "name": "stdout",
          "text": [
            "[SAME] Kim_Yong-il: Kim_Yong-il_0001.jpg vs Kim_Yong-il_0002.jpg → Sim: 0.652 → Match\n"
          ]
        },
        {
          "output_type": "stream",
          "name": "stderr",
          "text": [
            "\r 52%|█████▏    | 898/1711 [08:46<09:29,  1.43it/s]"
          ]
        },
        {
          "output_type": "stream",
          "name": "stdout",
          "text": [
            "[SAME] King_Abdullah_II: King_Abdullah_II_0001.jpg vs King_Abdullah_II_0002.jpg → Sim: 0.768 → Match\n"
          ]
        },
        {
          "output_type": "stream",
          "name": "stderr",
          "text": [
            "\r 53%|█████▎    | 902/1711 [08:48<08:41,  1.55it/s]"
          ]
        },
        {
          "output_type": "stream",
          "name": "stdout",
          "text": [
            "[SAME] Kjell_Magne_Bondevik: Kjell_Magne_Bondevik_0001.jpg vs Kjell_Magne_Bondevik_0002.jpg → Sim: 0.601 → Match\n"
          ]
        },
        {
          "output_type": "stream",
          "name": "stderr",
          "text": [
            "\r 53%|█████▎    | 903/1711 [08:50<10:26,  1.29it/s]"
          ]
        },
        {
          "output_type": "stream",
          "name": "stdout",
          "text": [
            "[SAME] Klaus_Zwickel: Klaus_Zwickel_0001.jpg vs Klaus_Zwickel_0002.jpg → Sim: 0.811 → Match\n"
          ]
        },
        {
          "output_type": "stream",
          "name": "stderr",
          "text": [
            "\r 53%|█████▎    | 904/1711 [08:52<12:27,  1.08it/s]"
          ]
        },
        {
          "output_type": "stream",
          "name": "stdout",
          "text": [
            "[SAME] Kofi_Annan: Kofi_Annan_0001.jpg vs Kofi_Annan_0002.jpg → Sim: 0.809 → Match\n"
          ]
        },
        {
          "output_type": "stream",
          "name": "stderr",
          "text": [
            "\r 53%|█████▎    | 909/1711 [08:54<09:24,  1.42it/s]"
          ]
        },
        {
          "output_type": "stream",
          "name": "stdout",
          "text": [
            "[SAME] Kristanna_Loken: Kristanna_Loken_0001.jpg vs Kristanna_Loken_0002.jpg → Sim: 0.715 → Match\n"
          ]
        },
        {
          "output_type": "stream",
          "name": "stderr",
          "text": [
            "\r 53%|█████▎    | 910/1711 [08:57<13:01,  1.02it/s]"
          ]
        },
        {
          "output_type": "stream",
          "name": "stdout",
          "text": [
            "[SAME] Kristen_Breitweiser: Kristen_Breitweiser_0001.jpg vs Kristen_Breitweiser_0002.jpg → Sim: 0.859 → Match\n"
          ]
        },
        {
          "output_type": "stream",
          "name": "stderr",
          "text": [
            "\r 53%|█████▎    | 911/1711 [09:00<16:22,  1.23s/it]"
          ]
        },
        {
          "output_type": "stream",
          "name": "stdout",
          "text": [
            "[SAME] Kristin_Davis: Kristin_Davis_0001.jpg vs Kristin_Davis_0002.jpg → Sim: 0.846 → Match\n"
          ]
        },
        {
          "output_type": "stream",
          "name": "stderr",
          "text": [
            "\r 53%|█████▎    | 914/1711 [09:03<15:25,  1.16s/it]"
          ]
        },
        {
          "output_type": "stream",
          "name": "stdout",
          "text": [
            "[SAME] Kurt_Warner: Kurt_Warner_0001.jpg vs Kurt_Warner_0002.jpg → Sim: 0.631 → Match\n"
          ]
        },
        {
          "output_type": "stream",
          "name": "stderr",
          "text": [
            "\r 54%|█████▎    | 917/1711 [09:05<13:06,  1.01it/s]"
          ]
        },
        {
          "output_type": "stream",
          "name": "stdout",
          "text": [
            "[SAME] Lance_Armstrong: Lance_Armstrong_0001.jpg vs Lance_Armstrong_0002.jpg → Sim: 0.720 → Match\n"
          ]
        },
        {
          "output_type": "stream",
          "name": "stderr",
          "text": [
            "\r 54%|█████▎    | 918/1711 [09:09<17:45,  1.34s/it]"
          ]
        },
        {
          "output_type": "stream",
          "name": "stdout",
          "text": [
            "[SAME] Lance_Bass: Lance_Bass_0001.jpg vs Lance_Bass_0002.jpg → Sim: 0.700 → Match\n"
          ]
        },
        {
          "output_type": "stream",
          "name": "stderr",
          "text": [
            "\r 54%|█████▍    | 921/1711 [09:12<16:02,  1.22s/it]"
          ]
        },
        {
          "output_type": "stream",
          "name": "stdout",
          "text": [
            "[SAME] Larry_Bowa: Larry_Bowa_0001.jpg vs Larry_Bowa_0002.jpg → Sim: 0.745 → Match\n"
          ]
        },
        {
          "output_type": "stream",
          "name": "stderr",
          "text": [
            "\r 54%|█████▍    | 922/1711 [09:14<17:42,  1.35s/it]"
          ]
        },
        {
          "output_type": "stream",
          "name": "stdout",
          "text": [
            "[SAME] Larry_Coker: Larry_Coker_0001.jpg vs Larry_Coker_0002.jpg → Sim: 0.745 → Match\n"
          ]
        },
        {
          "output_type": "stream",
          "name": "stderr",
          "text": [
            "\r 54%|█████▍    | 928/1711 [09:16<10:49,  1.21it/s]"
          ]
        },
        {
          "output_type": "stream",
          "name": "stdout",
          "text": [
            "[SAME] Larry_Thompson: Larry_Thompson_0001.jpg vs Larry_Thompson_0002.jpg → Sim: 0.796 → Match\n"
          ]
        },
        {
          "output_type": "stream",
          "name": "stderr",
          "text": [
            "\r 54%|█████▍    | 932/1711 [09:18<09:18,  1.39it/s]"
          ]
        },
        {
          "output_type": "stream",
          "name": "stdout",
          "text": [
            "[SAME] Laura_Linney: Laura_Linney_0001.jpg vs Laura_Linney_0002.jpg → Sim: 0.660 → Match\n"
          ]
        },
        {
          "output_type": "stream",
          "name": "stderr",
          "text": [
            "\r 55%|█████▍    | 936/1711 [09:22<10:21,  1.25it/s]"
          ]
        },
        {
          "output_type": "stream",
          "name": "stdout",
          "text": [
            "[SAME] Lauren_Killian: Lauren_Killian_0001.jpg vs Lauren_Killian_0002.jpg → Sim: 0.729 → Match\n"
          ]
        },
        {
          "output_type": "stream",
          "name": "stderr",
          "text": [
            "\r 55%|█████▍    | 937/1711 [09:25<13:28,  1.04s/it]"
          ]
        },
        {
          "output_type": "stream",
          "name": "stdout",
          "text": [
            "[SAME] Laurent_Jalabert: Laurent_Jalabert_0001.jpg vs Laurent_Jalabert_0002.jpg → Sim: 0.799 → Match\n"
          ]
        },
        {
          "output_type": "stream",
          "name": "stderr",
          "text": [
            "\r 55%|█████▌    | 942/1711 [09:28<10:02,  1.28it/s]"
          ]
        },
        {
          "output_type": "stream",
          "name": "stdout",
          "text": [
            "[SAME] LeBron_James: LeBron_James_0001.jpg vs LeBron_James_0002.jpg → Sim: 0.768 → Match\n"
          ]
        },
        {
          "output_type": "stream",
          "name": "stderr",
          "text": [
            "\r 55%|█████▌    | 944/1711 [09:31<12:46,  1.00it/s]"
          ]
        },
        {
          "output_type": "stream",
          "name": "stdout",
          "text": [
            "[SAME] Lea_Fastow: Lea_Fastow_0001.jpg vs Lea_Fastow_0002.jpg → Sim: 0.811 → Match\n"
          ]
        },
        {
          "output_type": "stream",
          "name": "stderr",
          "text": [
            "\r 56%|█████▌    | 953/1711 [09:33<07:07,  1.77it/s]"
          ]
        },
        {
          "output_type": "stream",
          "name": "stdout",
          "text": [
            "[SAME] Leonardo_DiCaprio: Leonardo_DiCaprio_0001.jpg vs Leonardo_DiCaprio_0002.jpg → Sim: 0.870 → Match\n"
          ]
        },
        {
          "output_type": "stream",
          "name": "stderr",
          "text": [
            "\r 56%|█████▌    | 954/1711 [09:36<09:11,  1.37it/s]"
          ]
        },
        {
          "output_type": "stream",
          "name": "stdout",
          "text": [
            "[SAME] Leonid_Kuchma: Leonid_Kuchma_0001.jpg vs Leonid_Kuchma_0002.jpg → Sim: 0.727 → Match\n"
          ]
        },
        {
          "output_type": "stream",
          "name": "stderr",
          "text": [
            "\r 56%|█████▌    | 956/1711 [09:40<12:45,  1.01s/it]"
          ]
        },
        {
          "output_type": "stream",
          "name": "stdout",
          "text": [
            "[SAME] Leslie_Moonves: Leslie_Moonves_0001.jpg vs Leslie_Moonves_0002.jpg → Sim: 0.721 → Match\n"
          ]
        },
        {
          "output_type": "stream",
          "name": "stderr",
          "text": [
            "\r 56%|█████▌    | 958/1711 [09:44<14:15,  1.14s/it]"
          ]
        },
        {
          "output_type": "stream",
          "name": "stdout",
          "text": [
            "[SAME] Leszek_Miller: Leszek_Miller_0001.jpg vs Leszek_Miller_0002.jpg → Sim: 0.689 → Match\n"
          ]
        },
        {
          "output_type": "stream",
          "name": "stderr",
          "text": [
            "\r 56%|█████▋    | 966/1711 [09:47<09:34,  1.30it/s]"
          ]
        },
        {
          "output_type": "stream",
          "name": "stdout",
          "text": [
            "[SAME] Lino_Oviedo: Lino_Oviedo_0001.jpg vs Lino_Oviedo_0002.jpg → Sim: 0.816 → Match\n"
          ]
        },
        {
          "output_type": "stream",
          "name": "stderr",
          "text": [
            "\r 57%|█████▋    | 969/1711 [09:49<09:16,  1.33it/s]"
          ]
        },
        {
          "output_type": "stream",
          "name": "stdout",
          "text": [
            "[SAME] Lisa_Marie_Presley: Lisa_Marie_Presley_0001.jpg vs Lisa_Marie_Presley_0002.jpg → Sim: 0.643 → Match\n"
          ]
        },
        {
          "output_type": "stream",
          "name": "stderr",
          "text": [
            " 57%|█████▋    | 972/1711 [09:54<12:38,  1.03s/it]"
          ]
        },
        {
          "output_type": "stream",
          "name": "stdout",
          "text": [
            "[SAME] Liza_Minnelli: Liza_Minnelli_0001.jpg vs Liza_Minnelli_0003.jpg → Sim: 0.689 → Match\n"
          ]
        },
        {
          "output_type": "stream",
          "name": "stderr",
          "text": [
            "\r 57%|█████▋    | 974/1711 [09:56<12:36,  1.03s/it]"
          ]
        },
        {
          "output_type": "stream",
          "name": "stdout",
          "text": [
            "[SAME] Lloyd_Ward: Lloyd_Ward_0001.jpg vs Lloyd_Ward_0002.jpg → Sim: 0.695 → Match\n"
          ]
        },
        {
          "output_type": "stream",
          "name": "stderr",
          "text": [
            "\r 57%|█████▋    | 978/1711 [09:58<09:56,  1.23it/s]"
          ]
        },
        {
          "output_type": "stream",
          "name": "stdout",
          "text": [
            "[SAME] Luciano_Pavarotti: Luciano_Pavarotti_0001.jpg vs Luciano_Pavarotti_0002.jpg → Sim: 0.851 → Match\n"
          ]
        },
        {
          "output_type": "stream",
          "name": "stderr",
          "text": [
            "\r 57%|█████▋    | 980/1711 [10:01<11:14,  1.08it/s]"
          ]
        },
        {
          "output_type": "stream",
          "name": "stdout",
          "text": [
            "[SAME] Lucio_Gutierrez: Lucio_Gutierrez_0001.jpg vs Lucio_Gutierrez_0002.jpg → Sim: 0.682 → Match\n"
          ]
        },
        {
          "output_type": "stream",
          "name": "stderr",
          "text": [
            "\r 57%|█████▋    | 982/1711 [10:03<12:18,  1.01s/it]"
          ]
        },
        {
          "output_type": "stream",
          "name": "stdout",
          "text": [
            "[SAME] Lucy_Liu: Lucy_Liu_0001.jpg vs Lucy_Liu_0002.jpg → Sim: 0.612 → Match\n"
          ]
        },
        {
          "output_type": "stream",
          "name": "stderr",
          "text": [
            "\r 58%|█████▊    | 984/1711 [10:06<13:16,  1.10s/it]"
          ]
        },
        {
          "output_type": "stream",
          "name": "stdout",
          "text": [
            "[SAME] Luis_Ernesto_Derbez_Bautista: Luis_Ernesto_Derbez_Bautista_0001.jpg vs Luis_Ernesto_Derbez_Bautista_0002.jpg → Sim: 0.737 → Match\n"
          ]
        },
        {
          "output_type": "stream",
          "name": "stderr",
          "text": [
            "\r 58%|█████▊    | 985/1711 [10:09<16:21,  1.35s/it]"
          ]
        },
        {
          "output_type": "stream",
          "name": "stdout",
          "text": [
            "[SAME] Luis_Figo: Luis_Figo_0001.jpg vs Luis_Figo_0002.jpg → Sim: 0.642 → Match\n"
          ]
        },
        {
          "output_type": "stream",
          "name": "stderr",
          "text": [
            "\r 58%|█████▊    | 986/1711 [10:11<17:49,  1.48s/it]"
          ]
        },
        {
          "output_type": "stream",
          "name": "stdout",
          "text": [
            "[SAME] Luis_Horna: Luis_Horna_0001.jpg vs Luis_Horna_0003.jpg → Sim: 0.758 → Match\n"
          ]
        },
        {
          "output_type": "stream",
          "name": "stderr",
          "text": [
            "\r 58%|█████▊    | 990/1711 [10:16<16:10,  1.35s/it]"
          ]
        },
        {
          "output_type": "stream",
          "name": "stdout",
          "text": [
            "[SAME] Lynn_Abraham: Lynn_Abraham_0001.jpg vs Lynn_Abraham_0002.jpg → Sim: 0.819 → Match\n"
          ]
        },
        {
          "output_type": "stream",
          "name": "stderr",
          "text": [
            "\r 58%|█████▊    | 996/1711 [10:18<09:47,  1.22it/s]"
          ]
        },
        {
          "output_type": "stream",
          "name": "stdout",
          "text": [
            "[SAME] Mahmoud_Abbas: Mahmoud_Abbas_0001.jpg vs Mahmoud_Abbas_0003.jpg → Sim: 0.669 → Match\n"
          ]
        },
        {
          "output_type": "stream",
          "name": "stderr",
          "text": [
            "\r 58%|█████▊    | 997/1711 [10:23<15:59,  1.34s/it]"
          ]
        },
        {
          "output_type": "stream",
          "name": "stdout",
          "text": [
            "[SAME] Makhdoom_Amin_Fahim: Makhdoom_Amin_Fahim_0001.jpg vs Makhdoom_Amin_Fahim_0002.jpg → Sim: 0.767 → Match\n"
          ]
        },
        {
          "output_type": "stream",
          "name": "stderr",
          "text": [
            "\r 59%|█████▉    | 1009/1711 [10:26<07:04,  1.65it/s]"
          ]
        },
        {
          "output_type": "stream",
          "name": "stdout",
          "text": [
            "[SAME] Marcelo_Rios: Marcelo_Rios_0001.jpg vs Marcelo_Rios_0002.jpg → Sim: 0.717 → Match\n"
          ]
        },
        {
          "output_type": "stream",
          "name": "stderr",
          "text": [
            "\r 59%|█████▉    | 1016/1711 [10:28<05:43,  2.03it/s]"
          ]
        },
        {
          "output_type": "stream",
          "name": "stdout",
          "text": [
            "[SAME] Maria_Shriver: Maria_Shriver_0004.jpg vs Maria_Shriver_0005.jpg → Sim: 0.593 → No Match\n"
          ]
        },
        {
          "output_type": "stream",
          "name": "stderr",
          "text": [
            "\r 60%|█████▉    | 1022/1711 [10:30<05:07,  2.24it/s]"
          ]
        },
        {
          "output_type": "stream",
          "name": "stdout",
          "text": [
            "[SAME] Marieta_Chrousala: Marieta_Chrousala_0001.jpg vs Marieta_Chrousala_0002.jpg → Sim: 0.703 → Match\n"
          ]
        },
        {
          "output_type": "stream",
          "name": "stderr",
          "text": [
            "\r 60%|█████▉    | 1025/1711 [10:32<05:34,  2.05it/s]"
          ]
        },
        {
          "output_type": "stream",
          "name": "stdout",
          "text": [
            "[SAME] Mario_Cipollini: Mario_Cipollini_0001.jpg vs Mario_Cipollini_0002.jpg → Sim: 0.771 → Match\n"
          ]
        },
        {
          "output_type": "stream",
          "name": "stderr",
          "text": [
            "\r 60%|██████    | 1028/1711 [10:35<06:37,  1.72it/s]"
          ]
        },
        {
          "output_type": "stream",
          "name": "stdout",
          "text": [
            "[SAME] Mario_Kreutzberger: Mario_Kreutzberger_0001.jpg vs Mario_Kreutzberger_0002.jpg → Sim: 0.603 → Match\n"
          ]
        },
        {
          "output_type": "stream",
          "name": "stderr",
          "text": [
            "\r 60%|██████    | 1031/1711 [10:38<07:42,  1.47it/s]"
          ]
        },
        {
          "output_type": "stream",
          "name": "stdout",
          "text": [
            "[SAME] Marissa_Jaret_Winokur: Marissa_Jaret_Winokur_0001.jpg vs Marissa_Jaret_Winokur_0002.jpg → Sim: 0.691 → Match\n"
          ]
        },
        {
          "output_type": "stream",
          "name": "stderr",
          "text": [
            "\r 60%|██████    | 1035/1711 [10:40<07:04,  1.59it/s]"
          ]
        },
        {
          "output_type": "stream",
          "name": "stdout",
          "text": [
            "[SAME] Mark_Dacey: Mark_Dacey_0001.jpg vs Mark_Dacey_0002.jpg → Sim: 0.748 → Match\n"
          ]
        },
        {
          "output_type": "stream",
          "name": "stderr",
          "text": [
            "\r 61%|██████    | 1042/1711 [10:43<05:47,  1.93it/s]"
          ]
        },
        {
          "output_type": "stream",
          "name": "stdout",
          "text": [
            "[SAME] Mark_Richt: Mark_Richt_0001.jpg vs Mark_Richt_0003.jpg → Sim: 0.695 → Match\n"
          ]
        },
        {
          "output_type": "stream",
          "name": "stderr",
          "text": [
            "\r 61%|██████▏   | 1048/1711 [10:45<05:03,  2.19it/s]"
          ]
        },
        {
          "output_type": "stream",
          "name": "stdout",
          "text": [
            "[SAME] Martha_Burk: Martha_Burk_0001.jpg vs Martha_Burk_0003.jpg → Sim: 0.665 → Match\n"
          ]
        },
        {
          "output_type": "stream",
          "name": "stderr",
          "text": [
            "\r 61%|██████▏   | 1049/1711 [10:47<06:28,  1.70it/s]"
          ]
        },
        {
          "output_type": "stream",
          "name": "stdout",
          "text": [
            "[SAME] Martha_Stewart: Martha_Stewart_0004.jpg vs Martha_Stewart_0005.jpg → Sim: 0.691 → Match\n"
          ]
        },
        {
          "output_type": "stream",
          "name": "stderr",
          "text": [
            "\r 61%|██████▏   | 1051/1711 [10:50<08:18,  1.32it/s]"
          ]
        },
        {
          "output_type": "stream",
          "name": "stdout",
          "text": [
            "[SAME] Martin_Cauchon: Martin_Cauchon_0001.jpg vs Martin_Cauchon_0002.jpg → Sim: 0.797 → Match\n"
          ]
        },
        {
          "output_type": "stream",
          "name": "stderr",
          "text": [
            "\r 62%|██████▏   | 1055/1711 [10:53<08:05,  1.35it/s]"
          ]
        },
        {
          "output_type": "stream",
          "name": "stdout",
          "text": [
            "[SAME] Martin_Sheen: Martin_Sheen_0001.jpg vs Martin_Sheen_0002.jpg → Sim: 0.707 → Match\n"
          ]
        },
        {
          "output_type": "stream",
          "name": "stderr",
          "text": [
            "\r 62%|██████▏   | 1056/1711 [10:56<10:45,  1.02it/s]"
          ]
        },
        {
          "output_type": "stream",
          "name": "stdout",
          "text": [
            "[SAME] Martin_Verkerk: Martin_Verkerk_0001.jpg vs Martin_Verkerk_0002.jpg → Sim: 0.762 → Match\n"
          ]
        },
        {
          "output_type": "stream",
          "name": "stderr",
          "text": [
            "\r 62%|██████▏   | 1060/1711 [10:59<09:41,  1.12it/s]"
          ]
        },
        {
          "output_type": "stream",
          "name": "stdout",
          "text": [
            "[SAME] Mary_Landrieu: Mary_Landrieu_0001.jpg vs Mary_Landrieu_0002.jpg → Sim: 0.627 → Match\n"
          ]
        },
        {
          "output_type": "stream",
          "name": "stderr",
          "text": [
            "\r 62%|██████▏   | 1067/1711 [11:01<06:30,  1.65it/s]"
          ]
        },
        {
          "output_type": "stream",
          "name": "stdout",
          "text": [
            "[SAME] Masum_Turker: Masum_Turker_0001.jpg vs Masum_Turker_0002.jpg → Sim: 0.861 → Match\n"
          ]
        },
        {
          "output_type": "stream",
          "name": "stderr",
          "text": [
            "\r 62%|██████▏   | 1068/1711 [11:04<08:52,  1.21it/s]"
          ]
        },
        {
          "output_type": "stream",
          "name": "stdout",
          "text": [
            "[SAME] Matt_Dillon: Matt_Dillon_0001.jpg vs Matt_Dillon_0002.jpg → Sim: 0.674 → Match\n"
          ]
        },
        {
          "output_type": "stream",
          "name": "stderr",
          "text": [
            "\r 62%|██████▏   | 1069/1711 [11:07<11:19,  1.06s/it]"
          ]
        },
        {
          "output_type": "stream",
          "name": "stdout",
          "text": [
            "[SAME] Matt_Doherty: Matt_Doherty_0001.jpg vs Matt_Doherty_0002.jpg → Sim: 0.755 → Match\n"
          ]
        },
        {
          "output_type": "stream",
          "name": "stderr",
          "text": [
            "\r 63%|██████▎   | 1084/1711 [11:10<04:46,  2.19it/s]"
          ]
        },
        {
          "output_type": "stream",
          "name": "stdout",
          "text": [
            "[SAME] Melissa_Etheridge: Melissa_Etheridge_0001.jpg vs Melissa_Etheridge_0002.jpg → Sim: 0.693 → Match\n"
          ]
        },
        {
          "output_type": "stream",
          "name": "stderr",
          "text": [
            "\r 64%|██████▍   | 1092/1711 [11:13<04:14,  2.43it/s]"
          ]
        },
        {
          "output_type": "stream",
          "name": "stdout",
          "text": [
            "[SAME] Michael_Chang: Michael_Chang_0001.jpg vs Michael_Chang_0002.jpg → Sim: 0.628 → Match\n"
          ]
        },
        {
          "output_type": "stream",
          "name": "stderr",
          "text": [
            "\r 64%|██████▍   | 1097/1711 [11:15<04:34,  2.23it/s]"
          ]
        },
        {
          "output_type": "stream",
          "name": "stdout",
          "text": [
            "[SAME] Michael_J_Sheehan: Michael_J_Sheehan_0001.jpg vs Michael_J_Sheehan_0002.jpg → Sim: 0.753 → Match\n"
          ]
        },
        {
          "output_type": "stream",
          "name": "stderr",
          "text": [
            "\r 64%|██████▍   | 1098/1711 [11:18<06:17,  1.62it/s]"
          ]
        },
        {
          "output_type": "stream",
          "name": "stdout",
          "text": [
            "[SAME] Michael_Jackson: Michael_Jackson_0001.jpg vs Michael_Jackson_0002.jpg → Sim: 0.619 → Match\n"
          ]
        },
        {
          "output_type": "stream",
          "name": "stderr",
          "text": [
            "\r 64%|██████▍   | 1099/1711 [11:21<08:03,  1.27it/s]"
          ]
        },
        {
          "output_type": "stream",
          "name": "stdout",
          "text": [
            "[SAME] Michael_Keaton: Michael_Keaton_0001.jpg vs Michael_Keaton_0002.jpg → Sim: 0.725 → Match\n"
          ]
        },
        {
          "output_type": "stream",
          "name": "stderr",
          "text": [
            "\r 64%|██████▍   | 1103/1711 [11:23<07:05,  1.43it/s]"
          ]
        },
        {
          "output_type": "stream",
          "name": "stdout",
          "text": [
            "[SAME] Michael_Phelps: Michael_Phelps_0001.jpg vs Michael_Phelps_0002.jpg → Sim: 0.763 → Match\n"
          ]
        },
        {
          "output_type": "stream",
          "name": "stderr",
          "text": [
            "\r 65%|██████▍   | 1106/1711 [11:25<07:00,  1.44it/s]"
          ]
        },
        {
          "output_type": "stream",
          "name": "stdout",
          "text": [
            "[SAME] Michael_Sullivan: Michael_Sullivan_0001.jpg vs Michael_Sullivan_0002.jpg → Sim: 0.734 → Match\n"
          ]
        },
        {
          "output_type": "stream",
          "name": "stderr",
          "text": [
            "\r 65%|██████▍   | 1110/1711 [11:28<06:48,  1.47it/s]"
          ]
        },
        {
          "output_type": "stream",
          "name": "stdout",
          "text": [
            "[SAME] Michel_Duclos: Michel_Duclos_0001.jpg vs Michel_Duclos_0002.jpg → Sim: 0.725 → Match\n"
          ]
        },
        {
          "output_type": "stream",
          "name": "stderr",
          "text": [
            "\r 65%|██████▍   | 1112/1711 [11:30<07:56,  1.26it/s]"
          ]
        },
        {
          "output_type": "stream",
          "name": "stdout",
          "text": [
            "[SAME] Michelle_Yeoh: Michelle_Yeoh_0001.jpg vs Michelle_Yeoh_0002.jpg → Sim: 0.605 → Match\n"
          ]
        },
        {
          "output_type": "stream",
          "name": "stderr",
          "text": [
            "\r 65%|██████▌   | 1118/1711 [11:33<06:28,  1.53it/s]"
          ]
        },
        {
          "output_type": "stream",
          "name": "stdout",
          "text": [
            "[SAME] Mike_Helton: Mike_Helton_0001.jpg vs Mike_Helton_0002.jpg → Sim: 0.771 → Match\n"
          ]
        },
        {
          "output_type": "stream",
          "name": "stderr",
          "text": [
            "\r 66%|██████▌   | 1127/1711 [11:36<04:37,  2.10it/s]"
          ]
        },
        {
          "output_type": "stream",
          "name": "stdout",
          "text": [
            "[SAME] Mikhail_Gorbachev: Mikhail_Gorbachev_0001.jpg vs Mikhail_Gorbachev_0002.jpg → Sim: 0.654 → Match\n"
          ]
        },
        {
          "output_type": "stream",
          "name": "stderr",
          "text": [
            "\r 66%|██████▌   | 1128/1711 [11:38<05:42,  1.70it/s]"
          ]
        },
        {
          "output_type": "stream",
          "name": "stdout",
          "text": [
            "[SAME] Mikhail_Youzhny: Mikhail_Youzhny_0001.jpg vs Mikhail_Youzhny_0002.jpg → Sim: 0.773 → Match\n"
          ]
        },
        {
          "output_type": "stream",
          "name": "stderr",
          "text": [
            "\r 66%|██████▌   | 1129/1711 [11:40<07:01,  1.38it/s]"
          ]
        },
        {
          "output_type": "stream",
          "name": "stdout",
          "text": [
            "[SAME] Mikulas_Dzurinda: Mikulas_Dzurinda_0001.jpg vs Mikulas_Dzurinda_0002.jpg → Sim: 0.772 → Match\n"
          ]
        },
        {
          "output_type": "stream",
          "name": "stderr",
          "text": [
            "\r 66%|██████▌   | 1133/1711 [11:42<06:15,  1.54it/s]"
          ]
        },
        {
          "output_type": "stream",
          "name": "stdout",
          "text": [
            "[SAME] Mireya_Moscoso: Mireya_Moscoso_0004.jpg vs Mireya_Moscoso_0005.jpg → Sim: 0.650 → Match\n"
          ]
        },
        {
          "output_type": "stream",
          "name": "stderr",
          "text": [
            "\r 67%|██████▋   | 1140/1711 [11:45<05:27,  1.74it/s]"
          ]
        },
        {
          "output_type": "stream",
          "name": "stdout",
          "text": [
            "[SAME] Mohamed_ElBaradei: Mohamed_ElBaradei_0001.jpg vs Mohamed_ElBaradei_0002.jpg → Sim: 0.736 → Match\n"
          ]
        },
        {
          "output_type": "stream",
          "name": "stderr",
          "text": [
            "\r 67%|██████▋   | 1143/1711 [11:48<06:02,  1.57it/s]"
          ]
        },
        {
          "output_type": "stream",
          "name": "stdout",
          "text": [
            "[SAME] Mohammad_Khatami: Mohammad_Khatami_0001.jpg vs Mohammad_Khatami_0002.jpg → Sim: 0.738 → Match\n"
          ]
        },
        {
          "output_type": "stream",
          "name": "stderr",
          "text": [
            "\r 67%|██████▋   | 1146/1711 [11:50<06:05,  1.54it/s]"
          ]
        },
        {
          "output_type": "stream",
          "name": "stdout",
          "text": [
            "[SAME] Mohammed_Baqir_al-Hakim: Mohammed_Baqir_al-Hakim_0001.jpg vs Mohammed_Baqir_al-Hakim_0002.jpg → Sim: 0.710 → Match\n"
          ]
        },
        {
          "output_type": "stream",
          "name": "stderr",
          "text": [
            "\r 67%|██████▋   | 1151/1711 [11:52<05:13,  1.79it/s]"
          ]
        },
        {
          "output_type": "stream",
          "name": "stdout",
          "text": [
            "[SAME] Monica_Lewinsky: Monica_Lewinsky_0001.jpg vs Monica_Lewinsky_0002.jpg → Sim: 0.610 → Match\n"
          ]
        },
        {
          "output_type": "stream",
          "name": "stderr",
          "text": [
            "\r 67%|██████▋   | 1153/1711 [11:55<06:23,  1.45it/s]"
          ]
        },
        {
          "output_type": "stream",
          "name": "stdout",
          "text": [
            "[SAME] Muhammad_Ali: Muhammad_Ali_0004.jpg vs Muhammad_Ali_0005.jpg → Sim: 0.895 → Match\n"
          ]
        },
        {
          "output_type": "stream",
          "name": "stderr",
          "text": [
            "\r 67%|██████▋   | 1154/1711 [11:57<07:45,  1.20it/s]"
          ]
        },
        {
          "output_type": "stream",
          "name": "stdout",
          "text": [
            "[SAME] Nancy_Pelosi: Nancy_Pelosi_0001.jpg vs Nancy_Pelosi_0002.jpg → Sim: 0.644 → Match\n"
          ]
        },
        {
          "output_type": "stream",
          "name": "stderr",
          "text": [
            "\r 68%|██████▊   | 1155/1711 [11:59<10:12,  1.10s/it]"
          ]
        },
        {
          "output_type": "stream",
          "name": "stdout",
          "text": [
            "[SAME] Naomi_Campbell: Naomi_Campbell_0001.jpg vs Naomi_Campbell_0002.jpg → Sim: 0.681 → Match\n"
          ]
        },
        {
          "output_type": "stream",
          "name": "stderr",
          "text": [
            "\r 68%|██████▊   | 1156/1711 [12:02<12:22,  1.34s/it]"
          ]
        },
        {
          "output_type": "stream",
          "name": "stdout",
          "text": [
            "[SAME] Naoto_Kan: Naoto_Kan_0001.jpg vs Naoto_Kan_0002.jpg → Sim: 0.882 → Match\n"
          ]
        },
        {
          "output_type": "stream",
          "name": "stderr",
          "text": [
            "\r 68%|██████▊   | 1159/1711 [12:04<09:47,  1.06s/it]"
          ]
        },
        {
          "output_type": "stream",
          "name": "stdout",
          "text": [
            "[SAME] Nasser_al-Kidwa: Nasser_al-Kidwa_0001.jpg vs Nasser_al-Kidwa_0002.jpg → Sim: 0.725 → Match\n"
          ]
        },
        {
          "output_type": "stream",
          "name": "stderr",
          "text": [
            "\r 68%|██████▊   | 1160/1711 [12:06<11:12,  1.22s/it]"
          ]
        },
        {
          "output_type": "stream",
          "name": "stdout",
          "text": [
            "[SAME] Nastassia_Kinski: Nastassia_Kinski_0001.jpg vs Nastassia_Kinski_0002.jpg → Sim: 0.778 → Match\n"
          ]
        },
        {
          "output_type": "stream",
          "name": "stderr",
          "text": [
            "\r 68%|██████▊   | 1162/1711 [12:08<10:32,  1.15s/it]"
          ]
        },
        {
          "output_type": "stream",
          "name": "stdout",
          "text": [
            "[SAME] Natalie_Coughlin: Natalie_Coughlin_0001.jpg vs Natalie_Coughlin_0002.jpg → Sim: 0.660 → Match\n"
          ]
        },
        {
          "output_type": "stream",
          "name": "stderr",
          "text": [
            "\r 68%|██████▊   | 1165/1711 [12:10<08:42,  1.04it/s]"
          ]
        },
        {
          "output_type": "stream",
          "name": "stdout",
          "text": [
            "[SAME] Natalie_Maines: Natalie_Maines_0001.jpg vs Natalie_Maines_0002.jpg → Sim: 0.659 → Match\n"
          ]
        },
        {
          "output_type": "stream",
          "name": "stderr",
          "text": [
            "\r 68%|██████▊   | 1172/1711 [12:13<06:07,  1.46it/s]"
          ]
        },
        {
          "output_type": "stream",
          "name": "stdout",
          "text": [
            "[SAME] Nicanor_Duarte_Frutos: Nicanor_Duarte_Frutos_0001.jpg vs Nicanor_Duarte_Frutos_0003.jpg → Sim: 0.736 → Match\n"
          ]
        },
        {
          "output_type": "stream",
          "name": "stderr",
          "text": [
            "\r 69%|██████▉   | 1188/1711 [12:16<02:59,  2.91it/s]"
          ]
        },
        {
          "output_type": "stream",
          "name": "stdout",
          "text": [
            "[SAME] Noah_Wyle: Noah_Wyle_0001.jpg vs Noah_Wyle_0002.jpg → Sim: 0.718 → Match\n"
          ]
        },
        {
          "output_type": "stream",
          "name": "stderr",
          "text": [
            "\r 70%|██████▉   | 1193/1711 [12:18<03:05,  2.79it/s]"
          ]
        },
        {
          "output_type": "stream",
          "name": "stdout",
          "text": [
            "[SAME] Norm_Coleman: Norm_Coleman_0001.jpg vs Norm_Coleman_0002.jpg → Sim: 0.645 → Match\n"
          ]
        },
        {
          "output_type": "stream",
          "name": "stderr",
          "text": [
            "\r 70%|███████   | 1199/1711 [12:21<03:14,  2.64it/s]"
          ]
        },
        {
          "output_type": "stream",
          "name": "stdout",
          "text": [
            "[SAME] Olivia_Newton-John: Olivia_Newton-John_0001.jpg vs Olivia_Newton-John_0002.jpg → Sim: 0.741 → Match\n"
          ]
        },
        {
          "output_type": "stream",
          "name": "stderr",
          "text": [
            " 70%|███████   | 1203/1711 [12:24<04:21,  1.94it/s]"
          ]
        },
        {
          "output_type": "stream",
          "name": "stdout",
          "text": [
            "[SAME] Osama_bin_Laden: Osama_bin_Laden_0001.jpg vs Osama_bin_Laden_0002.jpg → Sim: 0.728 → Match\n"
          ]
        },
        {
          "output_type": "stream",
          "name": "stderr",
          "text": [
            "\r 70%|███████   | 1204/1711 [12:27<05:58,  1.41it/s]"
          ]
        },
        {
          "output_type": "stream",
          "name": "stdout",
          "text": [
            "[SAME] Oscar_Elias_Biscet: Oscar_Elias_Biscet_0001.jpg vs Oscar_Elias_Biscet_0002.jpg → Sim: 0.840 → Match\n"
          ]
        },
        {
          "output_type": "stream",
          "name": "stderr",
          "text": [
            "\r 71%|███████   | 1210/1711 [12:30<05:03,  1.65it/s]"
          ]
        },
        {
          "output_type": "stream",
          "name": "stdout",
          "text": [
            "[SAME] Padraig_Harrington: Padraig_Harrington_0001.jpg vs Padraig_Harrington_0003.jpg → Sim: 0.644 → Match\n"
          ]
        },
        {
          "output_type": "stream",
          "name": "stderr",
          "text": [
            "\r 71%|███████   | 1212/1711 [12:32<05:38,  1.48it/s]"
          ]
        },
        {
          "output_type": "stream",
          "name": "stdout",
          "text": [
            "[SAME] Paris_Hilton: Paris_Hilton_0001.jpg vs Paris_Hilton_0002.jpg → Sim: 0.900 → Match\n"
          ]
        },
        {
          "output_type": "stream",
          "name": "stderr",
          "text": [
            "\r 71%|███████   | 1215/1711 [12:34<05:36,  1.47it/s]"
          ]
        },
        {
          "output_type": "stream",
          "name": "stdout",
          "text": [
            "[SAME] Pat_Burns: Pat_Burns_0001.jpg vs Pat_Burns_0002.jpg → Sim: 0.650 → Match\n"
          ]
        },
        {
          "output_type": "stream",
          "name": "stderr",
          "text": [
            "\r 72%|███████▏  | 1224/1711 [12:36<03:48,  2.13it/s]"
          ]
        },
        {
          "output_type": "stream",
          "name": "stdout",
          "text": [
            "[SAME] Patti_Labelle: Patti_Labelle_0001.jpg vs Patti_Labelle_0002.jpg → Sim: 0.733 → Match\n"
          ]
        },
        {
          "output_type": "stream",
          "name": "stderr",
          "text": [
            "\r 72%|███████▏  | 1227/1711 [12:38<04:07,  1.95it/s]"
          ]
        },
        {
          "output_type": "stream",
          "name": "stdout",
          "text": [
            "[SAME] Paul-Henri_Mathieu: Paul-Henri_Mathieu_0001.jpg vs Paul-Henri_Mathieu_0002.jpg → Sim: 0.612 → Match\n"
          ]
        },
        {
          "output_type": "stream",
          "name": "stderr",
          "text": [
            "\r 72%|███████▏  | 1229/1711 [12:42<05:36,  1.43it/s]"
          ]
        },
        {
          "output_type": "stream",
          "name": "stdout",
          "text": [
            "[SAME] Paul_Burrell: Paul_Burrell_0001.jpg vs Paul_Burrell_0002.jpg → Sim: 0.794 → Match\n"
          ]
        },
        {
          "output_type": "stream",
          "name": "stderr",
          "text": [
            "\r 72%|███████▏  | 1231/1711 [12:45<06:56,  1.15it/s]"
          ]
        },
        {
          "output_type": "stream",
          "name": "stdout",
          "text": [
            "[SAME] Paul_Hogan: Paul_Hogan_0001.jpg vs Paul_Hogan_0002.jpg → Sim: 0.777 → Match\n"
          ]
        },
        {
          "output_type": "stream",
          "name": "stderr",
          "text": [
            "\r 72%|███████▏  | 1234/1711 [12:47<06:27,  1.23it/s]"
          ]
        },
        {
          "output_type": "stream",
          "name": "stdout",
          "text": [
            "[SAME] Paul_Martin: Paul_Martin_0004.jpg vs Paul_Martin_0005.jpg → Sim: 0.533 → No Match\n"
          ]
        },
        {
          "output_type": "stream",
          "name": "stderr",
          "text": [
            "\r 72%|███████▏  | 1237/1711 [12:49<06:07,  1.29it/s]"
          ]
        },
        {
          "output_type": "stream",
          "name": "stdout",
          "text": [
            "[SAME] Paul_Patton: Paul_Patton_0001.jpg vs Paul_Patton_0002.jpg → Sim: 0.768 → Match\n"
          ]
        },
        {
          "output_type": "stream",
          "name": "stderr",
          "text": [
            "\r 72%|███████▏  | 1239/1711 [12:51<06:59,  1.13it/s]"
          ]
        },
        {
          "output_type": "stream",
          "name": "stdout",
          "text": [
            "[SAME] Paul_Sarbanes: Paul_Sarbanes_0001.jpg vs Paul_Sarbanes_0002.jpg → Sim: 0.685 → Match\n"
          ]
        },
        {
          "output_type": "stream",
          "name": "stderr",
          "text": [
            "\r 73%|███████▎  | 1248/1711 [12:54<04:19,  1.79it/s]"
          ]
        },
        {
          "output_type": "stream",
          "name": "stdout",
          "text": [
            "[SAME] Pedro_Malan: Pedro_Malan_0001.jpg vs Pedro_Malan_0003.jpg → Sim: 0.660 → Match\n"
          ]
        },
        {
          "output_type": "stream",
          "name": "stderr",
          "text": [
            "\r 73%|███████▎  | 1250/1711 [12:58<05:44,  1.34it/s]"
          ]
        },
        {
          "output_type": "stream",
          "name": "stdout",
          "text": [
            "[SAME] Pedro_Solbes: Pedro_Solbes_0001.jpg vs Pedro_Solbes_0002.jpg → Sim: 0.735 → Match\n"
          ]
        },
        {
          "output_type": "stream",
          "name": "stderr",
          "text": [
            "\r 74%|███████▍  | 1262/1711 [13:01<03:19,  2.25it/s]"
          ]
        },
        {
          "output_type": "stream",
          "name": "stdout",
          "text": [
            "[SAME] Peter_Greenaway: Peter_Greenaway_0001.jpg vs Peter_Greenaway_0002.jpg → Sim: 0.809 → Match\n"
          ]
        },
        {
          "output_type": "stream",
          "name": "stderr",
          "text": [
            "\r 74%|███████▍  | 1272/1711 [13:03<02:42,  2.71it/s]"
          ]
        },
        {
          "output_type": "stream",
          "name": "stdout",
          "text": [
            "[SAME] Phan_Van_Khai: Phan_Van_Khai_0001.jpg vs Phan_Van_Khai_0002.jpg → Sim: 0.794 → Match\n"
          ]
        },
        {
          "output_type": "stream",
          "name": "stderr",
          "text": [
            "\r 75%|███████▌  | 1284/1711 [13:05<02:02,  3.48it/s]"
          ]
        },
        {
          "output_type": "stream",
          "name": "stdout",
          "text": [
            "[SAME] Pierce_Brosnan: Pierce_Brosnan_0001.jpg vs Pierce_Brosnan_0002.jpg → Sim: 0.618 → Match\n"
          ]
        },
        {
          "output_type": "stream",
          "name": "stderr",
          "text": [
            "\r 75%|███████▌  | 1285/1711 [13:07<02:37,  2.71it/s]"
          ]
        },
        {
          "output_type": "stream",
          "name": "stdout",
          "text": [
            "[SAME] Pierre_Boulanger: Pierre_Boulanger_0001.jpg vs Pierre_Boulanger_0002.jpg → Sim: 0.750 → Match\n"
          ]
        },
        {
          "output_type": "stream",
          "name": "stderr",
          "text": [
            "\r 76%|███████▌  | 1296/1711 [13:10<02:16,  3.05it/s]"
          ]
        },
        {
          "output_type": "stream",
          "name": "stdout",
          "text": [
            "[SAME] Priscilla_Presley: Priscilla_Presley_0001.jpg vs Priscilla_Presley_0002.jpg → Sim: 0.734 → Match\n"
          ]
        },
        {
          "output_type": "stream",
          "name": "stderr",
          "text": [
            "\r 76%|███████▌  | 1301/1711 [13:13<02:28,  2.76it/s]"
          ]
        },
        {
          "output_type": "stream",
          "name": "stdout",
          "text": [
            "[SAME] Rachel_Griffiths: Rachel_Griffiths_0001.jpg vs Rachel_Griffiths_0002.jpg → Sim: 0.682 → Match\n"
          ]
        },
        {
          "output_type": "stream",
          "name": "stderr",
          "text": [
            "\r 76%|███████▌  | 1302/1711 [13:15<03:07,  2.18it/s]"
          ]
        },
        {
          "output_type": "stream",
          "name": "stdout",
          "text": [
            "[SAME] Rachel_Hunter: Rachel_Hunter_0001.jpg vs Rachel_Hunter_0002.jpg → Sim: 0.684 → Match\n"
          ]
        },
        {
          "output_type": "stream",
          "name": "stderr",
          "text": [
            "\r 76%|███████▋  | 1306/1711 [13:17<03:10,  2.13it/s]"
          ]
        },
        {
          "output_type": "stream",
          "name": "stdout",
          "text": [
            "[SAME] Raghad_Saddam_Hussein: Raghad_Saddam_Hussein_0001.jpg vs Raghad_Saddam_Hussein_0002.jpg → Sim: 0.832 → Match\n"
          ]
        },
        {
          "output_type": "stream",
          "name": "stderr",
          "text": [
            "\r 77%|███████▋  | 1309/1711 [13:19<03:26,  1.94it/s]"
          ]
        },
        {
          "output_type": "stream",
          "name": "stdout",
          "text": [
            "[SAME] Ralf_Schumacher: Ralf_Schumacher_0001.jpg vs Ralf_Schumacher_0002.jpg → Sim: 0.628 → Match\n"
          ]
        },
        {
          "output_type": "stream",
          "name": "stderr",
          "text": [
            "\r 77%|███████▋  | 1319/1711 [13:21<02:31,  2.59it/s]"
          ]
        },
        {
          "output_type": "stream",
          "name": "stdout",
          "text": [
            "[SAME] Rebecca_Romijn-Stamos: Rebecca_Romijn-Stamos_0001.jpg vs Rebecca_Romijn-Stamos_0002.jpg → Sim: 0.621 → Match\n"
          ]
        },
        {
          "output_type": "stream",
          "name": "stderr",
          "text": [
            "\r 77%|███████▋  | 1320/1711 [13:24<03:37,  1.80it/s]"
          ]
        },
        {
          "output_type": "stream",
          "name": "stdout",
          "text": [
            "[SAME] Reese_Witherspoon: Reese_Witherspoon_0001.jpg vs Reese_Witherspoon_0002.jpg → Sim: 0.697 → Match\n"
          ]
        },
        {
          "output_type": "stream",
          "name": "stderr",
          "text": [
            "\r 78%|███████▊  | 1327/1711 [13:27<03:14,  1.98it/s]"
          ]
        },
        {
          "output_type": "stream",
          "name": "stdout",
          "text": [
            "[SAME] Renee_Zellweger: Renee_Zellweger_0001.jpg vs Renee_Zellweger_0002.jpg → Sim: 0.673 → Match\n"
          ]
        },
        {
          "output_type": "stream",
          "name": "stderr",
          "text": [
            "\r 78%|███████▊  | 1328/1711 [13:30<04:14,  1.51it/s]"
          ]
        },
        {
          "output_type": "stream",
          "name": "stdout",
          "text": [
            "[SAME] Ricardo_Maduro: Ricardo_Maduro_0001.jpg vs Ricardo_Maduro_0002.jpg → Sim: 0.700 → Match\n"
          ]
        },
        {
          "output_type": "stream",
          "name": "stderr",
          "text": [
            "\r 78%|███████▊  | 1330/1711 [13:32<04:36,  1.38it/s]"
          ]
        },
        {
          "output_type": "stream",
          "name": "stdout",
          "text": [
            "[SAME] Rich_Gannon: Rich_Gannon_0001.jpg vs Rich_Gannon_0002.jpg → Sim: 0.756 → Match\n"
          ]
        },
        {
          "output_type": "stream",
          "name": "stderr",
          "text": [
            "\r 78%|███████▊  | 1331/1711 [13:34<05:31,  1.15it/s]"
          ]
        },
        {
          "output_type": "stream",
          "name": "stdout",
          "text": [
            "[SAME] Richard_Butler: Richard_Butler_0001.jpg vs Richard_Butler_0002.jpg → Sim: 0.739 → Match\n"
          ]
        },
        {
          "output_type": "stream",
          "name": "stderr",
          "text": [
            "\r 78%|███████▊  | 1333/1711 [13:36<05:50,  1.08it/s]"
          ]
        },
        {
          "output_type": "stream",
          "name": "stdout",
          "text": [
            "[SAME] Richard_Gere: Richard_Gere_0001.jpg vs Richard_Gere_0002.jpg → Sim: 0.616 → Match\n"
          ]
        },
        {
          "output_type": "stream",
          "name": "stderr",
          "text": [
            "\r 78%|███████▊  | 1336/1711 [13:39<05:58,  1.05it/s]"
          ]
        },
        {
          "output_type": "stream",
          "name": "stdout",
          "text": [
            "[SAME] Richard_Norton-Taylor: Richard_Norton-Taylor_0001.jpg vs Richard_Norton-Taylor_0002.jpg → Sim: 0.809 → Match\n"
          ]
        },
        {
          "output_type": "stream",
          "name": "stderr",
          "text": [
            "\r 78%|███████▊  | 1342/1711 [13:42<04:23,  1.40it/s]"
          ]
        },
        {
          "output_type": "stream",
          "name": "stdout",
          "text": [
            "[SAME] Richard_Shelby: Richard_Shelby_0001.jpg vs Richard_Shelby_0002.jpg → Sim: 0.677 → Match\n"
          ]
        },
        {
          "output_type": "stream",
          "name": "stderr",
          "text": [
            "\r 79%|███████▊  | 1344/1711 [13:44<04:42,  1.30it/s]"
          ]
        },
        {
          "output_type": "stream",
          "name": "stdout",
          "text": [
            "[SAME] Richie_Adubato: Richie_Adubato_0001.jpg vs Richie_Adubato_0002.jpg → Sim: 0.648 → Match\n"
          ]
        },
        {
          "output_type": "stream",
          "name": "stderr",
          "text": [
            "\r 79%|███████▊  | 1346/1711 [13:47<05:22,  1.13it/s]"
          ]
        },
        {
          "output_type": "stream",
          "name": "stdout",
          "text": [
            "[SAME] Rick_Carlisle: Rick_Carlisle_0001.jpg vs Rick_Carlisle_0002.jpg → Sim: 0.605 → Match\n"
          ]
        },
        {
          "output_type": "stream",
          "name": "stderr",
          "text": [
            "\r 79%|███████▉  | 1348/1711 [13:49<05:57,  1.02it/s]"
          ]
        },
        {
          "output_type": "stream",
          "name": "stdout",
          "text": [
            "[SAME] Rick_Dinse: Rick_Dinse_0001.jpg vs Rick_Dinse_0002.jpg → Sim: 0.829 → Match\n"
          ]
        },
        {
          "output_type": "stream",
          "name": "stderr",
          "text": [
            "\r 79%|███████▉  | 1349/1711 [13:52<07:28,  1.24s/it]"
          ]
        },
        {
          "output_type": "stream",
          "name": "stdout",
          "text": [
            "[SAME] Rick_Perry: Rick_Perry_0001.jpg vs Rick_Perry_0002.jpg → Sim: 0.635 → Match\n"
          ]
        },
        {
          "output_type": "stream",
          "name": "stderr",
          "text": [
            "\r 79%|███████▉  | 1350/1711 [13:55<08:53,  1.48s/it]"
          ]
        },
        {
          "output_type": "stream",
          "name": "stdout",
          "text": [
            "[SAME] Rick_Pitino: Rick_Pitino_0001.jpg vs Rick_Pitino_0002.jpg → Sim: 0.685 → Match\n"
          ]
        },
        {
          "output_type": "stream",
          "name": "stderr",
          "text": [
            "\r 79%|███████▉  | 1351/1711 [13:57<09:30,  1.59s/it]"
          ]
        },
        {
          "output_type": "stream",
          "name": "stdout",
          "text": [
            "[SAME] Rick_Romley: Rick_Romley_0001.jpg vs Rick_Romley_0002.jpg → Sim: 0.761 → Match\n"
          ]
        },
        {
          "output_type": "stream",
          "name": "stderr",
          "text": [
            "\r 79%|███████▉  | 1352/1711 [13:59<10:02,  1.68s/it]"
          ]
        },
        {
          "output_type": "stream",
          "name": "stdout",
          "text": [
            "[SAME] Rick_Wagoner: Rick_Wagoner_0001.jpg vs Rick_Wagoner_0002.jpg → Sim: 0.660 → Match\n"
          ]
        },
        {
          "output_type": "stream",
          "name": "stderr",
          "text": [
            "\r 79%|███████▉  | 1354/1711 [14:01<08:26,  1.42s/it]"
          ]
        },
        {
          "output_type": "stream",
          "name": "stdout",
          "text": [
            "[SAME] Ricky_Ponting: Ricky_Ponting_0001.jpg vs Ricky_Ponting_0002.jpg → Sim: 0.718 → Match\n"
          ]
        },
        {
          "output_type": "stream",
          "name": "stderr",
          "text": [
            "\r 79%|███████▉  | 1357/1711 [14:03<06:23,  1.08s/it]"
          ]
        },
        {
          "output_type": "stream",
          "name": "stdout",
          "text": [
            "[SAME] Rita_Grande: Rita_Grande_0001.jpg vs Rita_Grande_0002.jpg → Sim: 0.656 → Match\n"
          ]
        },
        {
          "output_type": "stream",
          "name": "stderr",
          "text": [
            "\r 79%|███████▉  | 1358/1711 [14:06<08:35,  1.46s/it]"
          ]
        },
        {
          "output_type": "stream",
          "name": "stdout",
          "text": [
            "[SAME] Rita_Moreno: Rita_Moreno_0001.jpg vs Rita_Moreno_0002.jpg → Sim: 0.736 → Match\n"
          ]
        },
        {
          "output_type": "stream",
          "name": "stderr",
          "text": [
            "\r 80%|███████▉  | 1362/1711 [14:10<07:00,  1.20s/it]"
          ]
        },
        {
          "output_type": "stream",
          "name": "stdout",
          "text": [
            "[SAME] Rob_Schneider: Rob_Schneider_0001.jpg vs Rob_Schneider_0002.jpg → Sim: 0.664 → Match\n"
          ]
        },
        {
          "output_type": "stream",
          "name": "stderr",
          "text": [
            "\r 80%|███████▉  | 1363/1711 [14:12<07:42,  1.33s/it]"
          ]
        },
        {
          "output_type": "stream",
          "name": "stdout",
          "text": [
            "[SAME] Robbie_Fowler: Robbie_Fowler_0001.jpg vs Robbie_Fowler_0002.jpg → Sim: 0.871 → Match\n"
          ]
        },
        {
          "output_type": "stream",
          "name": "stderr",
          "text": [
            "\r 80%|████████  | 1369/1711 [14:15<04:59,  1.14it/s]"
          ]
        },
        {
          "output_type": "stream",
          "name": "stdout",
          "text": [
            "[SAME] Robert_Evans: Robert_Evans_0001.jpg vs Robert_Evans_0002.jpg → Sim: 0.797 → Match\n"
          ]
        },
        {
          "output_type": "stream",
          "name": "stderr",
          "text": [
            "\r 80%|████████  | 1374/1711 [14:17<03:51,  1.45it/s]"
          ]
        },
        {
          "output_type": "stream",
          "name": "stdout",
          "text": [
            "[SAME] Robert_Horan: Robert_Horan_0001.jpg vs Robert_Horan_0002.jpg → Sim: 0.759 → Match\n"
          ]
        },
        {
          "output_type": "stream",
          "name": "stderr",
          "text": [
            "\r 81%|████████  | 1379/1711 [14:20<03:28,  1.59it/s]"
          ]
        },
        {
          "output_type": "stream",
          "name": "stdout",
          "text": [
            "[SAME] Robert_Mueller: Robert_Mueller_0001.jpg vs Robert_Mueller_0002.jpg → Sim: 0.758 → Match\n"
          ]
        },
        {
          "output_type": "stream",
          "name": "stderr",
          "text": [
            "\r 81%|████████  | 1382/1711 [14:23<04:05,  1.34it/s]"
          ]
        },
        {
          "output_type": "stream",
          "name": "stdout",
          "text": [
            "[SAME] Robert_Redford: Robert_Redford_0001.jpg vs Robert_Redford_0002.jpg → Sim: 0.732 → Match\n"
          ]
        },
        {
          "output_type": "stream",
          "name": "stderr",
          "text": [
            "\r 81%|████████  | 1387/1711 [14:25<03:34,  1.51it/s]"
          ]
        },
        {
          "output_type": "stream",
          "name": "stdout",
          "text": [
            "[SAME] Robin_Cook: Robin_Cook_0001.jpg vs Robin_Cook_0002.jpg → Sim: 0.812 → Match\n"
          ]
        },
        {
          "output_type": "stream",
          "name": "stderr",
          "text": [
            "\r 81%|████████  | 1390/1711 [14:28<03:48,  1.41it/s]"
          ]
        },
        {
          "output_type": "stream",
          "name": "stdout",
          "text": [
            "[SAME] Rod_Blagojevich: Rod_Blagojevich_0001.jpg vs Rod_Blagojevich_0002.jpg → Sim: 0.762 → Match\n"
          ]
        },
        {
          "output_type": "stream",
          "name": "stderr",
          "text": [
            "\r 81%|████████▏ | 1391/1711 [14:30<04:29,  1.19it/s]"
          ]
        },
        {
          "output_type": "stream",
          "name": "stdout",
          "text": [
            "[SAME] Rod_Stewart: Rod_Stewart_0001.jpg vs Rod_Stewart_0002.jpg → Sim: 0.665 → Match\n"
          ]
        },
        {
          "output_type": "stream",
          "name": "stderr",
          "text": [
            "\r 81%|████████▏ | 1393/1711 [14:33<05:11,  1.02it/s]"
          ]
        },
        {
          "output_type": "stream",
          "name": "stdout",
          "text": [
            "[SAME] Rodrigo_Borja: Rodrigo_Borja_0001.jpg vs Rodrigo_Borja_0002.jpg → Sim: 0.633 → Match\n"
          ]
        },
        {
          "output_type": "stream",
          "name": "stderr",
          "text": [
            "\r 82%|████████▏ | 1395/1711 [14:36<05:49,  1.10s/it]"
          ]
        },
        {
          "output_type": "stream",
          "name": "stdout",
          "text": [
            "[SAME] Roger_Clemens: Roger_Clemens_0001.jpg vs Roger_Clemens_0002.jpg → Sim: 0.732 → Match\n"
          ]
        },
        {
          "output_type": "stream",
          "name": "stderr",
          "text": [
            "\r 82%|████████▏ | 1406/1711 [14:39<02:43,  1.87it/s]"
          ]
        },
        {
          "output_type": "stream",
          "name": "stdout",
          "text": [
            "[SAME] Romano_Prodi: Romano_Prodi_0001.jpg vs Romano_Prodi_0002.jpg → Sim: 0.664 → Match\n"
          ]
        },
        {
          "output_type": "stream",
          "name": "stderr",
          "text": [
            "\r 82%|████████▏ | 1407/1711 [14:41<03:31,  1.44it/s]"
          ]
        },
        {
          "output_type": "stream",
          "name": "stdout",
          "text": [
            "[SAME] Ron_Howard: Ron_Howard_0001.jpg vs Ron_Howard_0002.jpg → Sim: 0.765 → Match\n"
          ]
        },
        {
          "output_type": "stream",
          "name": "stderr",
          "text": [
            "\r 82%|████████▏ | 1409/1711 [14:43<03:48,  1.32it/s]"
          ]
        },
        {
          "output_type": "stream",
          "name": "stdout",
          "text": [
            "[SAME] Ronaldo_Luis_Nazario_de_Lima: Ronaldo_Luis_Nazario_de_Lima_0001.jpg vs Ronaldo_Luis_Nazario_de_Lima_0002.jpg → Sim: 0.708 → Match\n"
          ]
        },
        {
          "output_type": "stream",
          "name": "stderr",
          "text": [
            "\r 83%|████████▎ | 1414/1711 [14:45<03:03,  1.62it/s]"
          ]
        },
        {
          "output_type": "stream",
          "name": "stdout",
          "text": [
            "[SAME] Rosemarie_Stack: Rosemarie_Stack_0001.jpg vs Rosemarie_Stack_0002.jpg → Sim: 0.693 → Match\n"
          ]
        },
        {
          "output_type": "stream",
          "name": "stderr",
          "text": [
            "\r 83%|████████▎ | 1417/1711 [14:48<03:23,  1.45it/s]"
          ]
        },
        {
          "output_type": "stream",
          "name": "stdout",
          "text": [
            "[SAME] Roy_Moore: Roy_Moore_0001.jpg vs Roy_Moore_0002.jpg → Sim: 0.772 → Match\n"
          ]
        },
        {
          "output_type": "stream",
          "name": "stderr",
          "text": [
            "\r 83%|████████▎ | 1419/1711 [14:51<04:00,  1.21it/s]"
          ]
        },
        {
          "output_type": "stream",
          "name": "stdout",
          "text": [
            "[SAME] Roy_Williams: Roy_Williams_0001.jpg vs Roy_Williams_0002.jpg → Sim: 0.620 → Match\n"
          ]
        },
        {
          "output_type": "stream",
          "name": "stderr",
          "text": [
            "\r 83%|████████▎ | 1423/1711 [14:54<03:53,  1.23it/s]"
          ]
        },
        {
          "output_type": "stream",
          "name": "stdout",
          "text": [
            "[SAME] Rupert_Grint: Rupert_Grint_0001.jpg vs Rupert_Grint_0002.jpg → Sim: 0.831 → Match\n"
          ]
        },
        {
          "output_type": "stream",
          "name": "stderr",
          "text": [
            "\r 83%|████████▎ | 1424/1711 [14:56<04:32,  1.05it/s]"
          ]
        },
        {
          "output_type": "stream",
          "name": "stdout",
          "text": [
            "[SAME] Rupert_Murdoch: Rupert_Murdoch_0001.jpg vs Rupert_Murdoch_0002.jpg → Sim: 0.672 → Match\n"
          ]
        },
        {
          "output_type": "stream",
          "name": "stderr",
          "text": [
            "\r 83%|████████▎ | 1426/1711 [14:58<04:35,  1.04it/s]"
          ]
        },
        {
          "output_type": "stream",
          "name": "stdout",
          "text": [
            "[SAME] Russell_Coutts: Russell_Coutts_0001.jpg vs Russell_Coutts_0002.jpg → Sim: 0.703 → Match\n"
          ]
        },
        {
          "output_type": "stream",
          "name": "stderr",
          "text": [
            "\r 83%|████████▎ | 1427/1711 [15:01<05:48,  1.23s/it]"
          ]
        },
        {
          "output_type": "stream",
          "name": "stdout",
          "text": [
            "[SAME] Russell_Crowe: Russell_Crowe_0001.jpg vs Russell_Crowe_0002.jpg → Sim: 0.782 → Match\n"
          ]
        },
        {
          "output_type": "stream",
          "name": "stderr",
          "text": [
            "\r 84%|████████▍ | 1433/1711 [15:04<03:49,  1.21it/s]"
          ]
        },
        {
          "output_type": "stream",
          "name": "stdout",
          "text": [
            "[SAME] Sally_Kirkland: Sally_Kirkland_0001.jpg vs Sally_Kirkland_0002.jpg → Sim: 0.612 → Match\n"
          ]
        },
        {
          "output_type": "stream",
          "name": "stderr",
          "text": [
            "\r 84%|████████▍ | 1434/1711 [15:06<04:33,  1.01it/s]"
          ]
        },
        {
          "output_type": "stream",
          "name": "stdout",
          "text": [
            "[SAME] Salma_Hayek: Salma_Hayek_0001.jpg vs Salma_Hayek_0002.jpg → Sim: 0.637 → Match\n"
          ]
        },
        {
          "output_type": "stream",
          "name": "stderr",
          "text": [
            "\r 84%|████████▍ | 1438/1711 [15:08<03:37,  1.26it/s]"
          ]
        },
        {
          "output_type": "stream",
          "name": "stdout",
          "text": [
            "[SAME] Sam_Mendes: Sam_Mendes_0001.jpg vs Sam_Mendes_0002.jpg → Sim: 0.776 → Match\n"
          ]
        },
        {
          "output_type": "stream",
          "name": "stderr",
          "text": [
            "\r 84%|████████▍ | 1440/1711 [15:11<04:23,  1.03it/s]"
          ]
        },
        {
          "output_type": "stream",
          "name": "stdout",
          "text": [
            "[SAME] Samuel_Waksal: Samuel_Waksal_0001.jpg vs Samuel_Waksal_0002.jpg → Sim: 0.774 → Match\n"
          ]
        },
        {
          "output_type": "stream",
          "name": "stderr",
          "text": [
            "\r 84%|████████▍ | 1444/1711 [15:14<03:45,  1.18it/s]"
          ]
        },
        {
          "output_type": "stream",
          "name": "stdout",
          "text": [
            "[SAME] Sarah_Jessica_Parker: Sarah_Jessica_Parker_0004.jpg vs Sarah_Jessica_Parker_0005.jpg → Sim: 0.575 → No Match\n"
          ]
        },
        {
          "output_type": "stream",
          "name": "stderr",
          "text": [
            "\r 85%|████████▍ | 1450/1711 [15:16<02:54,  1.50it/s]"
          ]
        },
        {
          "output_type": "stream",
          "name": "stdout",
          "text": [
            "[SAME] Scott_McClellan: Scott_McClellan_0001.jpg vs Scott_McClellan_0002.jpg → Sim: 0.751 → Match\n"
          ]
        },
        {
          "output_type": "stream",
          "name": "stderr",
          "text": [
            "\r 85%|████████▍ | 1451/1711 [15:19<03:45,  1.15it/s]"
          ]
        },
        {
          "output_type": "stream",
          "name": "stdout",
          "text": [
            "[SAME] Scott_McNealy: Scott_McNealy_0001.jpg vs Scott_McNealy_0002.jpg → Sim: 0.734 → Match\n"
          ]
        },
        {
          "output_type": "stream",
          "name": "stderr",
          "text": [
            "\r 85%|████████▌ | 1457/1711 [15:21<02:38,  1.60it/s]"
          ]
        },
        {
          "output_type": "stream",
          "name": "stdout",
          "text": [
            "[SAME] Sean_Astin: Sean_Astin_0001.jpg vs Sean_Astin_0002.jpg → Sim: 0.633 → Match\n"
          ]
        },
        {
          "output_type": "stream",
          "name": "stderr",
          "text": [
            "\r 85%|████████▌ | 1458/1711 [15:23<03:13,  1.31it/s]"
          ]
        },
        {
          "output_type": "stream",
          "name": "stdout",
          "text": [
            "[SAME] Sean_OKeefe: Sean_OKeefe_0001.jpg vs Sean_OKeefe_0002.jpg → Sim: 0.725 → Match\n"
          ]
        },
        {
          "output_type": "stream",
          "name": "stderr",
          "text": [
            "\r 85%|████████▌ | 1459/1711 [15:25<03:51,  1.09it/s]"
          ]
        },
        {
          "output_type": "stream",
          "name": "stdout",
          "text": [
            "[SAME] Sean_Patrick_OMalley: Sean_Patrick_OMalley_0001.jpg vs Sean_Patrick_OMalley_0002.jpg → Sim: 0.834 → Match\n"
          ]
        },
        {
          "output_type": "stream",
          "name": "stderr",
          "text": [
            "\r 85%|████████▌ | 1461/1711 [15:28<04:14,  1.02s/it]"
          ]
        },
        {
          "output_type": "stream",
          "name": "stdout",
          "text": [
            "[SAME] Sean_Penn: Sean_Penn_0001.jpg vs Sean_Penn_0002.jpg → Sim: 0.714 → Match\n"
          ]
        },
        {
          "output_type": "stream",
          "name": "stderr",
          "text": [
            "\r 86%|████████▌ | 1465/1711 [15:31<03:34,  1.15it/s]"
          ]
        },
        {
          "output_type": "stream",
          "name": "stdout",
          "text": [
            "[SAME] Sergey_Lavrov: Sergey_Lavrov_0001.jpg vs Sergey_Lavrov_0002.jpg → Sim: 0.701 → Match\n"
          ]
        },
        {
          "output_type": "stream",
          "name": "stderr",
          "text": [
            "\r 86%|████████▌ | 1469/1711 [15:33<03:13,  1.25it/s]"
          ]
        },
        {
          "output_type": "stream",
          "name": "stdout",
          "text": [
            "[SAME] Shane_Mosley: Shane_Mosley_0001.jpg vs Shane_Mosley_0002.jpg → Sim: 0.702 → Match\n"
          ]
        },
        {
          "output_type": "stream",
          "name": "stderr",
          "text": [
            "\r 86%|████████▌ | 1472/1711 [15:36<03:15,  1.23it/s]"
          ]
        },
        {
          "output_type": "stream",
          "name": "stdout",
          "text": [
            "[SAME] Shannon_OBrien: Shannon_OBrien_0001.jpg vs Shannon_OBrien_0002.jpg → Sim: 0.619 → Match\n"
          ]
        },
        {
          "output_type": "stream",
          "name": "stderr",
          "text": [
            "\r 86%|████████▌ | 1473/1711 [15:38<04:05,  1.03s/it]"
          ]
        },
        {
          "output_type": "stream",
          "name": "stdout",
          "text": [
            "[SAME] Shaukat_Aziz: Shaukat_Aziz_0001.jpg vs Shaukat_Aziz_0002.jpg → Sim: 0.736 → Match\n"
          ]
        },
        {
          "output_type": "stream",
          "name": "stderr",
          "text": [
            "\r 86%|████████▌ | 1474/1711 [15:41<04:58,  1.26s/it]"
          ]
        },
        {
          "output_type": "stream",
          "name": "stdout",
          "text": [
            "[SAME] Shaul_Mofaz: Shaul_Mofaz_0001.jpg vs Shaul_Mofaz_0002.jpg → Sim: 0.765 → Match\n"
          ]
        },
        {
          "output_type": "stream",
          "name": "stderr",
          "text": [
            "\r 86%|████████▋ | 1478/1711 [15:44<04:02,  1.04s/it]"
          ]
        },
        {
          "output_type": "stream",
          "name": "stdout",
          "text": [
            "[SAME] Sheila_Wellstone: Sheila_Wellstone_0001.jpg vs Sheila_Wellstone_0002.jpg → Sim: 0.675 → Match\n"
          ]
        },
        {
          "output_type": "stream",
          "name": "stderr",
          "text": [
            "\r 87%|████████▋ | 1486/1711 [15:47<02:27,  1.52it/s]"
          ]
        },
        {
          "output_type": "stream",
          "name": "stdout",
          "text": [
            "[SAME] Silvio_Berlusconi: Silvio_Berlusconi_0001.jpg vs Silvio_Berlusconi_0002.jpg → Sim: 0.657 → Match\n"
          ]
        },
        {
          "output_type": "stream",
          "name": "stderr",
          "text": [
            "\r 87%|████████▋ | 1494/1711 [15:49<01:43,  2.10it/s]"
          ]
        },
        {
          "output_type": "stream",
          "name": "stdout",
          "text": [
            "[SAME] Spencer_Abraham: Spencer_Abraham_0001.jpg vs Spencer_Abraham_0002.jpg → Sim: 0.683 → Match\n"
          ]
        },
        {
          "output_type": "stream",
          "name": "stderr",
          "text": [
            "\r 88%|████████▊ | 1499/1711 [15:51<01:36,  2.19it/s]"
          ]
        },
        {
          "output_type": "stream",
          "name": "stdout",
          "text": [
            "[SAME] Stan_Heath: Stan_Heath_0001.jpg vs Stan_Heath_0002.jpg → Sim: 0.704 → Match\n"
          ]
        },
        {
          "output_type": "stream",
          "name": "stderr",
          "text": [
            "\r 88%|████████▊ | 1501/1711 [15:53<01:51,  1.88it/s]"
          ]
        },
        {
          "output_type": "stream",
          "name": "stdout",
          "text": [
            "[SAME] Stefano_Accorsi: Stefano_Accorsi_0001.jpg vs Stefano_Accorsi_0002.jpg → Sim: 0.831 → Match\n"
          ]
        },
        {
          "output_type": "stream",
          "name": "stderr",
          "text": [
            "\r 88%|████████▊ | 1503/1711 [15:55<02:07,  1.63it/s]"
          ]
        },
        {
          "output_type": "stream",
          "name": "stdout",
          "text": [
            "[SAME] Steffi_Graf: Steffi_Graf_0004.jpg vs Steffi_Graf_0005.jpg → Sim: 0.664 → Match\n"
          ]
        },
        {
          "output_type": "stream",
          "name": "stderr",
          "text": [
            "\r 88%|████████▊ | 1504/1711 [15:58<03:00,  1.14it/s]"
          ]
        },
        {
          "output_type": "stream",
          "name": "stdout",
          "text": [
            "[SAME] Stellan_Skarsgard: Stellan_Skarsgard_0001.jpg vs Stellan_Skarsgard_0002.jpg → Sim: 0.696 → Match\n"
          ]
        },
        {
          "output_type": "stream",
          "name": "stderr",
          "text": [
            "\r 89%|████████▊ | 1518/1711 [16:02<01:31,  2.11it/s]"
          ]
        },
        {
          "output_type": "stream",
          "name": "stdout",
          "text": [
            "[SAME] Steve_Lavin: Steve_Lavin_0001.jpg vs Steve_Lavin_0002.jpg → Sim: 0.631 → Match\n"
          ]
        },
        {
          "output_type": "stream",
          "name": "stderr",
          "text": [
            "\r 89%|████████▉ | 1526/1711 [16:04<01:13,  2.53it/s]"
          ]
        },
        {
          "output_type": "stream",
          "name": "stdout",
          "text": [
            "[SAME] Steven_Hatfill: Steven_Hatfill_0001.jpg vs Steven_Hatfill_0002.jpg → Sim: 0.750 → Match\n"
          ]
        },
        {
          "output_type": "stream",
          "name": "stderr",
          "text": [
            "\r 90%|████████▉ | 1539/1711 [16:06<00:49,  3.48it/s]"
          ]
        },
        {
          "output_type": "stream",
          "name": "stdout",
          "text": [
            "[SAME] Susie_Castillo: Susie_Castillo_0001.jpg vs Susie_Castillo_0002.jpg → Sim: 0.696 → Match\n"
          ]
        },
        {
          "output_type": "stream",
          "name": "stderr",
          "text": [
            "\r 90%|█████████ | 1542/1711 [16:08<00:57,  2.96it/s]"
          ]
        },
        {
          "output_type": "stream",
          "name": "stdout",
          "text": [
            "[SAME] Svetlana_Koroleva: Svetlana_Koroleva_0001.jpg vs Svetlana_Koroleva_0002.jpg → Sim: 0.895 → Match\n"
          ]
        },
        {
          "output_type": "stream",
          "name": "stderr",
          "text": [
            "\r 91%|█████████ | 1550/1711 [16:10<00:50,  3.22it/s]"
          ]
        },
        {
          "output_type": "stream",
          "name": "stdout",
          "text": [
            "[SAME] Tang_Jiaxuan: Tang_Jiaxuan_0001.jpg vs Tang_Jiaxuan_0002.jpg → Sim: 0.874 → Match\n"
          ]
        },
        {
          "output_type": "stream",
          "name": "stderr",
          "text": [
            "\r 91%|█████████ | 1554/1711 [16:14<01:06,  2.37it/s]"
          ]
        },
        {
          "output_type": "stream",
          "name": "stdout",
          "text": [
            "[SAME] Tassos_Papadopoulos: Tassos_Papadopoulos_0001.jpg vs Tassos_Papadopoulos_0002.jpg → Sim: 0.743 → Match\n"
          ]
        },
        {
          "output_type": "stream",
          "name": "stderr",
          "text": [
            "\r 91%|█████████▏| 1565/1711 [16:16<00:48,  3.00it/s]"
          ]
        },
        {
          "output_type": "stream",
          "name": "stdout",
          "text": [
            "[SAME] Terry_McAuliffe: Terry_McAuliffe_0001.jpg vs Terry_McAuliffe_0002.jpg → Sim: 0.635 → Match\n"
          ]
        },
        {
          "output_type": "stream",
          "name": "stderr",
          "text": [
            "\r 92%|█████████▏| 1570/1711 [16:18<00:49,  2.87it/s]"
          ]
        },
        {
          "output_type": "stream",
          "name": "stdout",
          "text": [
            "[SAME] Thabo_Mbeki: Thabo_Mbeki_0004.jpg vs Thabo_Mbeki_0005.jpg → Sim: 0.654 → Match\n"
          ]
        },
        {
          "output_type": "stream",
          "name": "stderr",
          "text": [
            "\r 92%|█████████▏| 1571/1711 [16:20<01:02,  2.24it/s]"
          ]
        },
        {
          "output_type": "stream",
          "name": "stdout",
          "text": [
            "[SAME] Thaksin_Shinawatra: Thaksin_Shinawatra_0001.jpg vs Thaksin_Shinawatra_0002.jpg → Sim: 0.747 → Match\n"
          ]
        },
        {
          "output_type": "stream",
          "name": "stderr",
          "text": [
            "\r 92%|█████████▏| 1572/1711 [16:22<01:19,  1.76it/s]"
          ]
        },
        {
          "output_type": "stream",
          "name": "stdout",
          "text": [
            "[SAME] Theo_Epstein: Theo_Epstein_0001.jpg vs Theo_Epstein_0002.jpg → Sim: 0.778 → Match\n"
          ]
        },
        {
          "output_type": "stream",
          "name": "stderr",
          "text": [
            "\r 92%|█████████▏| 1573/1711 [16:24<01:38,  1.40it/s]"
          ]
        },
        {
          "output_type": "stream",
          "name": "stdout",
          "text": [
            "[SAME] Theodore_Tweed_Roosevelt: Theodore_Tweed_Roosevelt_0001.jpg vs Theodore_Tweed_Roosevelt_0002.jpg → Sim: 0.760 → Match\n"
          ]
        },
        {
          "output_type": "stream",
          "name": "stderr",
          "text": [
            "\r 92%|█████████▏| 1580/1711 [16:28<01:19,  1.64it/s]"
          ]
        },
        {
          "output_type": "stream",
          "name": "stdout",
          "text": [
            "[SAME] Thomas_OBrien: Thomas_OBrien_0001.jpg vs Thomas_OBrien_0002.jpg → Sim: 0.739 → Match\n"
          ]
        },
        {
          "output_type": "stream",
          "name": "stderr",
          "text": [
            "\r 93%|█████████▎| 1586/1711 [16:30<01:06,  1.89it/s]"
          ]
        },
        {
          "output_type": "stream",
          "name": "stdout",
          "text": [
            "[SAME] Tim_Allen: Tim_Allen_0001.jpg vs Tim_Allen_0002.jpg → Sim: 0.846 → Match\n"
          ]
        },
        {
          "output_type": "stream",
          "name": "stderr",
          "text": [
            "\r 93%|█████████▎| 1587/1711 [16:32<01:21,  1.53it/s]"
          ]
        },
        {
          "output_type": "stream",
          "name": "stdout",
          "text": [
            "[SAME] Tim_Curry: Tim_Curry_0001.jpg vs Tim_Curry_0002.jpg → Sim: 0.729 → Match\n"
          ]
        },
        {
          "output_type": "stream",
          "name": "stderr",
          "text": [
            "\r 93%|█████████▎| 1597/1711 [16:34<00:46,  2.44it/s]"
          ]
        },
        {
          "output_type": "stream",
          "name": "stdout",
          "text": [
            "[SAME] Tippi_Hedren: Tippi_Hedren_0001.jpg vs Tippi_Hedren_0002.jpg → Sim: 0.752 → Match\n"
          ]
        },
        {
          "output_type": "stream",
          "name": "stderr",
          "text": [
            "\r 93%|█████████▎| 1599/1711 [16:37<00:59,  1.89it/s]"
          ]
        },
        {
          "output_type": "stream",
          "name": "stdout",
          "text": [
            "[SAME] Todd_Haynes: Todd_Haynes_0001.jpg vs Todd_Haynes_0002.jpg → Sim: 0.738 → Match\n"
          ]
        },
        {
          "output_type": "stream",
          "name": "stderr",
          "text": [
            "\r 94%|█████████▎| 1603/1711 [16:39<00:56,  1.91it/s]"
          ]
        },
        {
          "output_type": "stream",
          "name": "stdout",
          "text": [
            "[SAME] Tom_Coverdale: Tom_Coverdale_0001.jpg vs Tom_Coverdale_0002.jpg → Sim: 0.614 → Match\n"
          ]
        },
        {
          "output_type": "stream",
          "name": "stderr",
          "text": [
            "\r 94%|█████████▎| 1604/1711 [16:42<01:20,  1.33it/s]"
          ]
        },
        {
          "output_type": "stream",
          "name": "stdout",
          "text": [
            "[SAME] Tom_Cruise: Tom_Cruise_0001.jpg vs Tom_Cruise_0002.jpg → Sim: 0.743 → Match\n"
          ]
        },
        {
          "output_type": "stream",
          "name": "stderr",
          "text": [
            "\r 94%|█████████▍| 1606/1711 [16:45<01:34,  1.11it/s]"
          ]
        },
        {
          "output_type": "stream",
          "name": "stdout",
          "text": [
            "[SAME] Tom_Glavine: Tom_Glavine_0001.jpg vs Tom_Glavine_0002.jpg → Sim: 0.770 → Match\n"
          ]
        },
        {
          "output_type": "stream",
          "name": "stderr",
          "text": [
            "\r 94%|█████████▍| 1611/1711 [16:48<01:14,  1.35it/s]"
          ]
        },
        {
          "output_type": "stream",
          "name": "stdout",
          "text": [
            "[SAME] Tommy_Franks: Tommy_Franks_0001.jpg vs Tommy_Franks_0002.jpg → Sim: 0.622 → Match\n"
          ]
        },
        {
          "output_type": "stream",
          "name": "stderr",
          "text": [
            "\r 94%|█████████▍| 1612/1711 [16:50<01:27,  1.13it/s]"
          ]
        },
        {
          "output_type": "stream",
          "name": "stdout",
          "text": [
            "[SAME] Tommy_Haas: Tommy_Haas_0001.jpg vs Tommy_Haas_0002.jpg → Sim: 0.671 → Match\n"
          ]
        },
        {
          "output_type": "stream",
          "name": "stderr",
          "text": [
            "\r 94%|█████████▍| 1616/1711 [16:52<01:15,  1.26it/s]"
          ]
        },
        {
          "output_type": "stream",
          "name": "stdout",
          "text": [
            "[SAME] Tomoko_Hagiwara: Tomoko_Hagiwara_0001.jpg vs Tomoko_Hagiwara_0002.jpg → Sim: 0.651 → Match\n"
          ]
        },
        {
          "output_type": "stream",
          "name": "stderr",
          "text": [
            "\r 95%|█████████▍| 1618/1711 [16:55<01:24,  1.11it/s]"
          ]
        },
        {
          "output_type": "stream",
          "name": "stdout",
          "text": [
            "[SAME] Tony_Shalhoub: Tony_Shalhoub_0001.jpg vs Tony_Shalhoub_0002.jpg → Sim: 0.633 → Match\n"
          ]
        },
        {
          "output_type": "stream",
          "name": "stderr",
          "text": [
            "\r 95%|█████████▍| 1619/1711 [16:59<02:00,  1.31s/it]"
          ]
        },
        {
          "output_type": "stream",
          "name": "stdout",
          "text": [
            "[SAME] Tony_Stewart: Tony_Stewart_0001.jpg vs Tony_Stewart_0002.jpg → Sim: 0.685 → Match\n"
          ]
        },
        {
          "output_type": "stream",
          "name": "stderr",
          "text": [
            "\r 95%|█████████▍| 1623/1711 [17:02<01:32,  1.05s/it]"
          ]
        },
        {
          "output_type": "stream",
          "name": "stdout",
          "text": [
            "[SAME] Tracee_Ellis_Ross: Tracee_Ellis_Ross_0001.jpg vs Tracee_Ellis_Ross_0002.jpg → Sim: 0.760 → Match\n"
          ]
        },
        {
          "output_type": "stream",
          "name": "stderr",
          "text": [
            "\r 95%|█████████▌| 1629/1711 [17:04<00:58,  1.41it/s]"
          ]
        },
        {
          "output_type": "stream",
          "name": "stdout",
          "text": [
            "[SAME] Tsutomu_Takebe: Tsutomu_Takebe_0001.jpg vs Tsutomu_Takebe_0002.jpg → Sim: 0.766 → Match\n"
          ]
        },
        {
          "output_type": "stream",
          "name": "stderr",
          "text": [
            "\r 95%|█████████▌| 1631/1711 [17:08<01:14,  1.08it/s]"
          ]
        },
        {
          "output_type": "stream",
          "name": "stdout",
          "text": [
            "[SAME] Vaclav_Havel: Vaclav_Havel_0001.jpg vs Vaclav_Havel_0002.jpg → Sim: 0.678 → Match\n"
          ]
        },
        {
          "output_type": "stream",
          "name": "stderr",
          "text": [
            "\r 95%|█████████▌| 1633/1711 [17:11<01:22,  1.05s/it]"
          ]
        },
        {
          "output_type": "stream",
          "name": "stdout",
          "text": [
            "[SAME] Valery_Giscard_dEstaing: Valery_Giscard_dEstaing_0001.jpg vs Valery_Giscard_dEstaing_0002.jpg → Sim: 0.735 → Match\n"
          ]
        },
        {
          "output_type": "stream",
          "name": "stderr",
          "text": [
            "\r 96%|█████████▌| 1638/1711 [17:13<00:58,  1.24it/s]"
          ]
        },
        {
          "output_type": "stream",
          "name": "stdout",
          "text": [
            "[SAME] Vicente_Fernandez: Vicente_Fernandez_0001.jpg vs Vicente_Fernandez_0003.jpg → Sim: 0.648 → Match\n"
          ]
        },
        {
          "output_type": "stream",
          "name": "stderr",
          "text": [
            "\r 96%|█████████▌| 1639/1711 [17:16<01:12,  1.00s/it]"
          ]
        },
        {
          "output_type": "stream",
          "name": "stdout",
          "text": [
            "[SAME] Vicente_Fox: Vicente_Fox_0001.jpg vs Vicente_Fox_0002.jpg → Sim: 0.703 → Match\n"
          ]
        },
        {
          "output_type": "stream",
          "name": "stderr",
          "text": [
            "\r 96%|█████████▋| 1647/1711 [17:18<00:37,  1.71it/s]"
          ]
        },
        {
          "output_type": "stream",
          "name": "stdout",
          "text": [
            "[SAME] Vincent_Brooks: Vincent_Brooks_0001.jpg vs Vincent_Brooks_0002.jpg → Sim: 0.827 → Match\n"
          ]
        },
        {
          "output_type": "stream",
          "name": "stderr",
          "text": [
            "\r 97%|█████████▋| 1652/1711 [17:20<00:31,  1.90it/s]"
          ]
        },
        {
          "output_type": "stream",
          "name": "stdout",
          "text": [
            "[SAME] Vladimir_Spidla: Vladimir_Spidla_0001.jpg vs Vladimir_Spidla_0002.jpg → Sim: 0.768 → Match\n"
          ]
        },
        {
          "output_type": "stream",
          "name": "stderr",
          "text": [
            "\r 97%|█████████▋| 1658/1711 [17:22<00:24,  2.17it/s]"
          ]
        },
        {
          "output_type": "stream",
          "name": "stdout",
          "text": [
            "[SAME] Wang_Yingfan: Wang_Yingfan_0001.jpg vs Wang_Yingfan_0002.jpg → Sim: 0.714 → Match\n"
          ]
        },
        {
          "output_type": "stream",
          "name": "stderr",
          "text": [
            "\r 97%|█████████▋| 1660/1711 [17:25<00:31,  1.62it/s]"
          ]
        },
        {
          "output_type": "stream",
          "name": "stdout",
          "text": [
            "[SAME] Warren_Beatty: Warren_Beatty_0001.jpg vs Warren_Beatty_0002.jpg → Sim: 0.718 → Match\n"
          ]
        },
        {
          "output_type": "stream",
          "name": "stderr",
          "text": [
            "\r 97%|█████████▋| 1661/1711 [17:27<00:39,  1.28it/s]"
          ]
        },
        {
          "output_type": "stream",
          "name": "stdout",
          "text": [
            "[SAME] Warren_Buffett: Warren_Buffett_0001.jpg vs Warren_Buffett_0002.jpg → Sim: 0.620 → Match\n"
          ]
        },
        {
          "output_type": "stream",
          "name": "stderr",
          "text": [
            "\r 97%|█████████▋| 1667/1711 [17:29<00:25,  1.72it/s]"
          ]
        },
        {
          "output_type": "stream",
          "name": "stdout",
          "text": [
            "[SAME] Wesley_Clark: Wesley_Clark_0001.jpg vs Wesley_Clark_0002.jpg → Sim: 0.685 → Match\n"
          ]
        },
        {
          "output_type": "stream",
          "name": "stderr",
          "text": [
            "\r 98%|█████████▊| 1670/1711 [17:31<00:24,  1.66it/s]"
          ]
        },
        {
          "output_type": "stream",
          "name": "stdout",
          "text": [
            "[SAME] Will_Smith: Will_Smith_0001.jpg vs Will_Smith_0002.jpg → Sim: 0.640 → Match\n"
          ]
        },
        {
          "output_type": "stream",
          "name": "stderr",
          "text": [
            "\r 98%|█████████▊| 1671/1711 [17:33<00:30,  1.33it/s]"
          ]
        },
        {
          "output_type": "stream",
          "name": "stdout",
          "text": [
            "[SAME] William_Burns: William_Burns_0001.jpg vs William_Burns_0002.jpg → Sim: 0.732 → Match\n"
          ]
        },
        {
          "output_type": "stream",
          "name": "stderr",
          "text": [
            "\r 98%|█████████▊| 1675/1711 [17:35<00:23,  1.51it/s]"
          ]
        },
        {
          "output_type": "stream",
          "name": "stdout",
          "text": [
            "[SAME] William_Macy: William_Macy_0001.jpg vs William_Macy_0003.jpg → Sim: 0.772 → Match\n"
          ]
        },
        {
          "output_type": "stream",
          "name": "stderr",
          "text": [
            "\r 98%|█████████▊| 1676/1711 [17:38<00:31,  1.11it/s]"
          ]
        },
        {
          "output_type": "stream",
          "name": "stdout",
          "text": [
            "[SAME] William_Martin: William_Martin_0001.jpg vs William_Martin_0002.jpg → Sim: 0.716 → Match\n"
          ]
        },
        {
          "output_type": "stream",
          "name": "stderr",
          "text": [
            "\r 98%|█████████▊| 1679/1711 [17:41<00:28,  1.11it/s]"
          ]
        },
        {
          "output_type": "stream",
          "name": "stdout",
          "text": [
            "[SAME] William_Rehnquist: William_Rehnquist_0001.jpg vs William_Rehnquist_0002.jpg → Sim: 0.727 → Match\n"
          ]
        },
        {
          "output_type": "stream",
          "name": "stderr",
          "text": [
            "\r 98%|█████████▊| 1684/1711 [17:43<00:19,  1.37it/s]"
          ]
        },
        {
          "output_type": "stream",
          "name": "stdout",
          "text": [
            "[SAME] Winona_Ryder: Winona_Ryder_0001.jpg vs Winona_Ryder_0003.jpg → Sim: 0.649 → Match\n"
          ]
        },
        {
          "output_type": "stream",
          "name": "stderr",
          "text": [
            "\r 99%|█████████▉| 1696/1711 [17:45<00:05,  2.55it/s]"
          ]
        },
        {
          "output_type": "stream",
          "name": "stdout",
          "text": [
            "[SAME] Yevgeny_Kafelnikov: Yevgeny_Kafelnikov_0001.jpg vs Yevgeny_Kafelnikov_0003.jpg → Sim: 0.601 → Match\n"
          ]
        },
        {
          "output_type": "stream",
          "name": "stderr",
          "text": [
            "\r 99%|█████████▉| 1699/1711 [17:47<00:05,  2.25it/s]"
          ]
        },
        {
          "output_type": "stream",
          "name": "stdout",
          "text": [
            "[SAME] Yoriko_Kawaguchi: Yoriko_Kawaguchi_0001.jpg vs Yoriko_Kawaguchi_0002.jpg → Sim: 0.660 → Match\n"
          ]
        },
        {
          "output_type": "stream",
          "name": "stderr",
          "text": [
            "100%|██████████| 1711/1711 [17:49<00:00,  1.60it/s]"
          ]
        },
        {
          "output_type": "stream",
          "name": "stdout",
          "text": [
            "[SAME] Zoran_Djindjic: Zoran_Djindjic_0001.jpg vs Zoran_Djindjic_0002.jpg → Sim: 0.797 → Match\n",
            "\n",
            "Evaluating one-to-one different-person pairs (single image only)...\n"
          ]
        },
        {
          "output_type": "stream",
          "name": "stderr",
          "text": [
            "\n"
          ]
        },
        {
          "output_type": "stream",
          "name": "stdout",
          "text": [
            "[DIFFERENT] AJ_Lamas vs Aaron_Guiel → Sim: 0.065 → No Match\n",
            "[DIFFERENT] Aaron_Tippin vs Abba_Eban → Sim: -0.078 → No Match\n",
            "[DIFFERENT] Abdul_Majeed_Shobokshi vs Abdulaziz_Kamilov → Sim: 0.090 → No Match\n",
            "[DIFFERENT] Abel_Aguilar vs Adam_Ant → Sim: 0.014 → No Match\n",
            "[DIFFERENT] Adam_Kennedy vs Adrian_Annus → Sim: 0.018 → No Match\n",
            "[DIFFERENT] Adrian_Murrell vs Adriana_Lima → Sim: -0.022 → No Match\n",
            "[DIFFERENT] Adriana_Perez_Navarro vs Agbani_Darego → Sim: 0.012 → No Match\n",
            "[DIFFERENT] Agnelo_Queiroz vs Ahmed_Ghazi → Sim: -0.030 → No Match\n",
            "[DIFFERENT] Aileen_Riggin_Soule vs Ain_Seppik → Sim: -0.082 → No Match\n",
            "[DIFFERENT] Al_Cardenas vs Alan_Dershowitz → Sim: 0.084 → No Match\n",
            "[DIFFERENT] Alan_Stonecipher vs Alan_Zemaitis → Sim: -0.022 → No Match\n",
            "[DIFFERENT] Alecos_Markides vs Alejandro_Fernandez → Sim: 0.060 → No Match\n",
            "[DIFFERENT] Aleksander_Voloshin vs Alessandro_Nesta → Sim: 0.016 → No Match\n",
            "[DIFFERENT] Alex_Cabrera vs Alex_Corretja → Sim: 0.060 → No Match\n",
            "[DIFFERENT] Alex_Zanardi vs Alexandra_Pelosi → Sim: -0.066 → No Match\n",
            "[DIFFERENT] Alexandra_Rozovskaya vs Alexis_Dennisoff → Sim: 0.080 → No Match\n",
            "[DIFFERENT] Alfonso_Portillo vs Alfonso_Soriano → Sim: -0.034 → No Match\n",
            "[DIFFERENT] Ali_Fallahian vs Ali_Mohammed_Maher → Sim: -0.027 → No Match\n",
            "[DIFFERENT] Alicia_Keys vs Alicia_Molik → Sim: -0.081 → No Match\n",
            "[DIFFERENT] Aline_Chretien vs Alisha_Richman → Sim: -0.037 → No Match\n",
            "[DIFFERENT] Allen_Rock vs Allison_Searing → Sim: 0.093 → No Match\n",
            "[DIFFERENT] Amanda_Marsh vs Ambrose_Lee → Sim: -0.023 → No Match\n",
            "[DIFFERENT] Amporn_Falise vs Amy_Gale → Sim: 0.038 → No Match\n",
            "[DIFFERENT] Amy_Yasbeck vs AnFernce_Negron → Sim: -0.044 → No Match\n",
            "[DIFFERENT] Ana_Paula_Gerard vs Anatoliy_Kinakh → Sim: 0.086 → No Match\n",
            "[DIFFERENT] Andre_Bucher vs Andre_Lange → Sim: 0.020 → No Match\n",
            "[DIFFERENT] Andre_Smith vs Andrea_De_Cruz → Sim: 0.013 → No Match\n",
            "[DIFFERENT] Andrew_Caldecott vs Andrew_Sabey → Sim: 0.012 → No Match\n",
            "[DIFFERENT] Andrew_Shutley vs Andrew_Wetzler → Sim: 0.055 → No Match\n",
            "[DIFFERENT] Andy_Garcia vs Angela_Mascia-Frye → Sim: 0.029 → No Match\n",
            "[DIFFERENT] Ann_Godbehere vs Anna_Chicherova → Sim: -0.016 → No Match\n",
            "[DIFFERENT] Anna_Faris vs Anna_Nicole_Smith → Sim: 0.042 → No Match\n",
            "[DIFFERENT] Annie_Chaplin vs Annika_Sorenstam → Sim: 0.147 → No Match\n",
            "[DIFFERENT] Anthony_Principi vs Antonio_Bernardo → Sim: -0.027 → No Match\n",
            "[DIFFERENT] Antonio_Elias_Saca vs Aretha_Franklin → Sim: 0.040 → No Match\n",
            "[DIFFERENT] Ari_Bousbib vs Arie_Haan → Sim: -0.081 → No Match\n",
            "[DIFFERENT] Armand_Sargen vs Armando_Avila_Panchame → Sim: 0.042 → No Match\n",
            "[DIFFERENT] Armando_Carrillo vs Art_Cooper → Sim: 0.046 → No Match\n",
            "[DIFFERENT] Arthur_Johnson vs Ascencion_Barajas → Sim: -0.008 → No Match\n",
            "[DIFFERENT] Ashlea_Talbot vs Ashley_Judd → Sim: -0.004 → No Match\n",
            "[DIFFERENT] Asif_Ali_Zardari vs Assad_Ahmadi → Sim: -0.033 → No Match\n",
            "[DIFFERENT] Astou_Ndiaye-Diatta vs Astrid_Betancourt → Sim: 0.030 → No Match\n",
            "[DIFFERENT] Babe_Ruth vs Barbara_Bach → Sim: 0.009 → No Match\n",
            "[DIFFERENT] Barbara_Becker vs Barbara_De_Brun → Sim: -0.036 → No Match\n",
            "[DIFFERENT] Barbara_Esbin vs Barbara_Felt-Miller → Sim: 0.025 → No Match\n",
            "[DIFFERENT] Barbara_Roberts vs Barbora_Strycova → Sim: -0.041 → No Match\n",
            "[DIFFERENT] Barry_Diller vs Barry_Nakell → Sim: -0.001 → No Match\n",
            "[DIFFERENT] Barry_Switzer vs Barry_Williams → Sim: -0.105 → No Match\n",
            "[DIFFERENT] Bart_Freundlich vs Barzan_al-Tikriti → Sim: 0.028 → No Match\n",
            "[DIFFERENT] Beecher_Ray_Kirby vs Ben_Broussard → Sim: -0.002 → No Match\n",
            "[DIFFERENT] Ben_Cohen vs Ben_Davis → Sim: 0.105 → No Match\n",
            "[DIFFERENT] Benicio_Del_Toro vs Benjamin_McKenzie → Sim: -0.003 → No Match\n",
            "[DIFFERENT] Benjamin_Neulander vs Betsy_Coffin → Sim: 0.019 → No Match\n",
            "[DIFFERENT] Betty_Williams vs Bianca_Jagger → Sim: -0.056 → No Match\n",
            "[DIFFERENT] Bill_Carmody vs Bill_Clancy → Sim: -0.025 → No Match\n",
            "[DIFFERENT] Bill_Curry vs Bill_Fennelly → Sim: -0.011 → No Match\n",
            "[DIFFERENT] Bill_Kollar vs Bill_Maher → Sim: -0.042 → No Match\n",
            "[DIFFERENT] Bill_Mauldin vs Bill_Self → Sim: 0.036 → No Match\n",
            "[DIFFERENT] Billy_Andrade vs Billy_Boyd → Sim: 0.037 → No Match\n",
            "[DIFFERENT] Billy_Crawford vs Billy_Rork → Sim: -0.005 → No Match\n",
            "[DIFFERENT] Bing_Crosby vs Bob_Eskridge → Sim: 0.059 → No Match\n",
            "[DIFFERENT] Bob_Goldman vs Bob_Iger → Sim: -0.015 → No Match\n",
            "[DIFFERENT] Bob_Newhart vs Bob_Riley → Sim: 0.031 → No Match\n",
            "[DIFFERENT] Bobby_Jackson vs Bobo_Balde → Sim: -0.004 → No Match\n",
            "[DIFFERENT] Bonnie_Fuller vs Boutros_Boutros_Ghali → Sim: 0.038 → No Match\n",
            "[DIFFERENT] Brad_Banks vs Brad_Miller → Sim: -0.014 → No Match\n",
            "[DIFFERENT] Brad_Smith vs Brandon_Knight → Sim: -0.023 → No Match\n",
            "[DIFFERENT] Brandon_Larson vs Brandon_Lloyd → Sim: -0.003 → No Match\n",
            "[DIFFERENT] Brandon_Robinson vs Brandon_Webb → Sim: 0.052 → No Match\n",
            "[DIFFERENT] Brawley_King vs Brenda_Magana → Sim: 0.051 → No Match\n",
            "[DIFFERENT] Brett_Boone vs Brett_Hawke → Sim: -0.046 → No Match\n",
            "[DIFFERENT] Brian_Florence vs Brian_Jordan → Sim: -0.136 → No Match\n",
            "[DIFFERENT] Brian_McIntyre vs Brian_Scalabrine → Sim: -0.082 → No Match\n",
            "[DIFFERENT] Brian_Weaver vs Brian_Williams → Sim: 0.079 → No Match\n",
            "[DIFFERENT] Brock_Berlin vs Bronson_Arroyo → Sim: -0.011 → No Match\n",
            "[DIFFERENT] Brooke_Adams vs Bruce_Gebhardt → Sim: 0.020 → No Match\n",
            "[DIFFERENT] Bruce_Willis vs Bryan_Thomas → Sim: -0.031 → No Match\n",
            "[DIFFERENT] Buddy_Ryan vs Calbert_Cheaney → Sim: -0.078 → No Match\n",
            "[DIFFERENT] Calvin_Harrison vs Calvin_Joseph_Coleman → Sim: 0.041 → No Match\n",
            "[DIFFERENT] Camilla_Parker_Bowles vs Camille_Lewis → Sim: -0.048 → No Match\n",
            "[DIFFERENT] Carey_Lowell vs Cari_Davis → Sim: 0.101 → No Match\n",
            "[DIFFERENT] Carlo_Azeglio_Ciampi vs Carlos_Arroyo → Sim: 0.003 → No Match\n",
            "[DIFFERENT] Carlos_Beltran vs Carlos_Iturgaitz → Sim: -0.022 → No Match\n",
            "[DIFFERENT] Carlos_Juarez vs Carlton_Baugh → Sim: -0.072 → No Match\n",
            "[DIFFERENT] Carlton_Dotson vs Carly_Gullickson → Sim: -0.108 → No Match\n",
            "[DIFFERENT] Caroline_Dhavernas vs Caroline_Link → Sim: 0.058 → No Match\n",
            "[DIFFERENT] Carson_Daly vs Casey_Crowder → Sim: -0.028 → No Match\n",
            "[DIFFERENT] Cass_Ballenger vs Casy_Preslar → Sim: -0.031 → No Match\n",
            "[DIFFERENT] Cathy_Chisholm vs Cathy_Freeman → Sim: 0.049 → No Match\n",
            "[DIFFERENT] Cecilia_Chang vs Cecilia_Cheung → Sim: -0.017 → No Match\n",
            "[DIFFERENT] Cedric_Benson vs Celia_Cruz → Sim: -0.010 → No Match\n",
            "[DIFFERENT] Cesar_Maia vs Chang_Jae_On → Sim: -0.025 → No Match\n",
            "[DIFFERENT] Chang_Tso vs Chante_Jawan_Mallard → Sim: -0.015 → No Match\n",
            "[DIFFERENT] Charla_Moye vs Charlene_Barshefsky → Sim: -0.003 → No Match\n",
            "[DIFFERENT] Charles_Cope vs Charles_Pouty → Sim: 0.003 → No Match\n",
            "[DIFFERENT] Charles_Rogers vs Charles_Tannok → Sim: -0.063 → No Match\n",
            "[DIFFERENT] Charley_Armey vs Charlie_Sheen → Sim: 0.016 → No Match\n",
            "[DIFFERENT] Charmaine_Crooks vs Chawki_Armali → Sim: -0.033 → No Match\n",
            "[DIFFERENT] Chea_Sophara vs Chhouk_Rin → Sim: 0.113 → No Match\n",
            "[DIFFERENT] Chin-Feng_Chen vs Chris_Andrews → Sim: -0.003 → No Match\n",
            "[DIFFERENT] Chris_Byrd vs Chris_Cirino → Sim: 0.114 → No Match\n",
            "[DIFFERENT] Chris_Dodd vs Chris_Gratton → Sim: -0.055 → No Match\n",
            "[DIFFERENT] Chris_Kolanas vs Chris_Matthews → Sim: -0.003 → No Match\n",
            "[DIFFERENT] Chris_Noth vs Christian_Patino → Sim: -0.050 → No Match\n",
            "[DIFFERENT] Christiane_Wulff vs Christine_Rau → Sim: 0.057 → No Match\n",
            "[DIFFERENT] Christopher_Russell vs Chuanyun_Li → Sim: -0.054 → No Match\n",
            "[DIFFERENT] Chuck_Woolery vs Ciaran_Hinds → Sim: 0.096 → No Match\n",
            "[DIFFERENT] Cindy_Taylor vs Claire_De_Gryse → Sim: 0.018 → No Match\n",
            "[DIFFERENT] Claire_Tomalin vs Clark_Randt → Sim: -0.096 → No Match\n",
            "[DIFFERENT] Claudette_Robinson vs Claudia_Coslovich → Sim: -0.057 → No Match\n",
            "[DIFFERENT] Claudio_Lopez vs Clifford_Etienne → Sim: 0.015 → No Match\n",
            "[DIFFERENT] Coleen_Rowley vs Colin_Campbell → Sim: -0.063 → No Match\n",
            "[DIFFERENT] Colleen_OClair vs Colleen_Ryan → Sim: 0.095 → No Match\n",
            "[DIFFERENT] Collis_Temple_III vs Conrad_Black → Sim: 0.004 → No Match\n",
            "[DIFFERENT] Cora_Cambell vs Courtney_Love → Sim: 0.026 → No Match\n",
            "[DIFFERENT] Craig_Burley vs Craig_Fitzgibbon → Sim: 0.060 → No Match\n",
            "[DIFFERENT] Craig_MacTavish vs Craig_Morgan → Sim: 0.063 → No Match\n",
            "[DIFFERENT] Cristina_Fernandez vs Cristina_Torrens_Valero → Sim: 0.066 → No Match\n",
            "[DIFFERENT] Curtis_Joseph vs Damarius_Bilbo → Sim: -0.060 → No Match\n",
            "[DIFFERENT] Damon_Stoudamire vs Dan_Ackroyd → Sim: 0.128 → No Match\n",
            "[DIFFERENT] Dan_Bylsma vs Daniel_Comisso_Urdaneta → Sim: 0.007 → No Match\n",
            "[DIFFERENT] Daniel_Darnell vs Daniel_Kurtzer → Sim: -0.008 → No Match\n",
            "[DIFFERENT] Daniel_Montgomery vs Daniel_Ortega → Sim: 0.009 → No Match\n",
            "[DIFFERENT] Daniel_Osorno vs Daniel_Zelman → Sim: -0.036 → No Match\n",
            "[DIFFERENT] Daniele_Nardello vs Daniell_Sunjata → Sim: -0.038 → No Match\n",
            "[DIFFERENT] Danielle_Spencer vs Danis_Tanovic → Sim: 0.017 → No Match\n",
            "[DIFFERENT] Danny_Green vs Danny_Morgan → Sim: 0.081 → No Match\n",
            "[DIFFERENT] Darrell_Dickey vs Darryl_McDaniels → Sim: -0.069 → No Match\n",
            "[DIFFERENT] Darryl_Stingley vs Darvis_Patton → Sim: 0.026 → No Match\n",
            "[DIFFERENT] Daryl_Sabara vs Dave_Johnson → Sim: 0.062 → No Match\n",
            "[DIFFERENT] Dave_McGinnis vs David_Alpay → Sim: -0.027 → No Match\n",
            "[DIFFERENT] David_Bisbal vs David_Blaine → Sim: 0.007 → No Match\n",
            "[DIFFERENT] David_Braley vs David_Carradine → Sim: -0.060 → No Match\n",
            "[DIFFERENT] David_Collenette vs David_Eldon → Sim: 0.071 → No Match\n",
            "[DIFFERENT] David_Glenn vs David_Hasselhoff → Sim: -0.043 → No Match\n",
            "[DIFFERENT] David_Howard vs David_McCallum → Sim: 0.070 → No Match\n",
            "[DIFFERENT] David_Shayler vs David_Surrett → Sim: -0.020 → No Match\n",
            "[DIFFERENT] Dean_Jacek vs Dean_Sheremet → Sim: -0.010 → No Match\n",
            "[DIFFERENT] Deece_Eckstein vs Demetrin_Veal → Sim: -0.046 → No Match\n",
            "[DIFFERENT] Denis_Coderre vs Denise_Johnson → Sim: -0.002 → No Match\n",
            "[DIFFERENT] Denise_van_Outen vs Derrick_Battie → Sim: 0.035 → No Match\n",
            "[DIFFERENT] Derrick_Taylor vs Diane_Lane → Sim: -0.019 → No Match\n",
            "[DIFFERENT] Dick_Armey vs Dick_Vermeil → Sim: -0.026 → No Match\n",
            "[DIFFERENT] Dieter_Zetsche vs Din_Samsudin → Sim: -0.003 → No Match\n",
            "[DIFFERENT] Dionigi_Tettamanzi vs Dirk_Kempthorne → Sim: -0.012 → No Match\n",
            "[DIFFERENT] Dominic_Monaghan vs Don_Boudria → Sim: -0.026 → No Match\n",
            "[DIFFERENT] Don_Carcieri vs Don_King → Sim: 0.102 → No Match\n",
            "[DIFFERENT] Don_Lake vs Donald_Anderson → Sim: -0.003 → No Match\n",
            "[DIFFERENT] Donald_Carty vs Donald_Keck → Sim: -0.020 → No Match\n",
            "[DIFFERENT] Donald_Regan vs Donna_Brazile → Sim: -0.006 → No Match\n",
            "[DIFFERENT] Donna_Walker vs Dorothy_Loudon → Sim: -0.100 → No Match\n",
            "[DIFFERENT] Doug_Collins vs Douglas_Gansler → Sim: 0.139 → No Match\n",
            "[DIFFERENT] Dunn_Lampton vs Dustan_Mohr → Sim: 0.142 → No Match\n",
            "[DIFFERENT] Earl_Counter vs Earl_Fritts → Sim: -0.124 → No Match\n",
            "[DIFFERENT] Earl_Scruggs vs Ed_Mekertichian → Sim: 0.004 → No Match\n",
            "[DIFFERENT] Ed_Sullivan vs Ed_Wade → Sim: 0.056 → No Match\n",
            "[DIFFERENT] Eddie_Lucio vs Edith_Masai → Sim: -0.006 → No Match\n",
            "[DIFFERENT] Edward_Belvin vs Edward_Egan → Sim: 0.028 → No Match\n",
            "[DIFFERENT] Edward_Greenspan vs Edward_Norton → Sim: 0.027 → No Match\n",
            "[DIFFERENT] Edward_Seaga vs Ekaterina_Dmitriev → Sim: -0.055 → No Match\n",
            "[DIFFERENT] Eladio_Larez vs Elaine_Chao → Sim: 0.018 → No Match\n",
            "[DIFFERENT] Elena_Dementieva vs Elena_Likhovtseva → Sim: 0.085 → No Match\n",
            "[DIFFERENT] Elgin_Baylor vs Eli_Broad → Sim: 0.008 → No Match\n",
            "[DIFFERENT] Eli_Rosenbaum vs Elin_Nordegren → Sim: 0.028 → No Match\n",
            "[DIFFERENT] Eliott_Spitzer vs Elisabeth_Schumacher → Sim: 0.047 → No Match\n",
            "[DIFFERENT] Elisabeth_Welch vs Eliza_Dushku → Sim: 0.027 → No Match\n",
            "[DIFFERENT] Elizabeth_Pena vs Elizabeth_Regan → Sim: -0.060 → No Match\n",
            "[DIFFERENT] Ellen_Barkin vs Ellen_Pompeo → Sim: 0.056 → No Match\n",
            "[DIFFERENT] Elliott_Mincberg vs Elmar_Brok → Sim: 0.047 → No Match\n",
            "[DIFFERENT] Eloy_Gutierrez vs Elvis_Costello → Sim: -0.018 → No Match\n",
            "[DIFFERENT] Emilio_Botin vs Emily_Stevens → Sim: -0.003 → No Match\n",
            "[DIFFERENT] Emmanuel_Filiberto vs Enrica_Fico → Sim: 0.064 → No Match\n",
            "[DIFFERENT] Enrik_Vendt vs Enrique_Haroldo_Gorriaran_Merlo → Sim: 0.035 → No Match\n",
            "[DIFFERENT] Eric_Bana vs Eric_Daze → Sim: 0.135 → No Match\n",
            "[DIFFERENT] Eric_Dubin vs Eric_Lindros → Sim: 0.118 → No Match\n",
            "[DIFFERENT] Eric_Snow vs Eric_Vigouroux → Sim: 0.036 → No Match\n",
            "[DIFFERENT] Erika_Reyes vs Erwin_Abdullah → Sim: 0.009 → No Match\n",
            "[DIFFERENT] Erwin_Mapasseng vs Esad_Landzo → Sim: -0.025 → No Match\n",
            "[DIFFERENT] Estelle_Morris vs Etta_James → Sim: 0.049 → No Match\n",
            "[DIFFERENT] Eugene_Melnyk vs Eugene_Teslovic → Sim: 0.044 → No Match\n",
            "[DIFFERENT] Eva_Amurri vs Eva_Mendes → Sim: 0.081 → No Match\n",
            "[DIFFERENT] Evan_Marriott vs Evelyn_Lauder → Sim: 0.038 → No Match\n",
            "[DIFFERENT] Fann_Wong vs Farouk_Kaddoumi → Sim: 0.128 → No Match\n",
            "[DIFFERENT] Fatma_Kusibeh vs Fatmir_Limaj → Sim: -0.012 → No Match\n",
            "[DIFFERENT] Felix_Doh vs Felix_Sanchez → Sim: -0.058 → No Match\n",
            "[DIFFERENT] Fernando_Leon_de_Aranoa vs Fernando_Vargas → Sim: -0.019 → No Match\n",
            "[DIFFERENT] Festus_Mogae vs Filip_De_Winter → Sim: -0.035 → No Match\n",
            "[DIFFERENT] Flavia_Pennetta vs Flor_Montulo → Sim: 0.030 → No Match\n",
            "[DIFFERENT] Floyd_Keith vs Floyd_Mayweather → Sim: -0.033 → No Match\n",
            "[DIFFERENT] Fran_Drescher vs Francis_Ricciardone → Sim: -0.003 → No Match\n",
            "[DIFFERENT] Francisco_Maturana vs Franco_Frattini → Sim: 0.005 → No Match\n",
            "[DIFFERENT] Frank_Hsieh vs Frank_Murkowski → Sim: -0.043 → No Match\n",
            "[DIFFERENT] Frank_Pallone vs Frank_Schmoekel → Sim: -0.044 → No Match\n",
            "[DIFFERENT] Frank_Sinatra vs Frank_Van_Ecke → Sim: 0.041 → No Match\n",
            "[DIFFERENT] Frank_Zappa vs Franklin_Brown → Sim: 0.000 → No Match\n",
            "[DIFFERENT] Franklin_Damann vs Fred_Durst → Sim: 0.129 → No Match\n",
            "[DIFFERENT] Frederick_Madden vs Fredric_Seaman → Sim: 0.023 → No Match\n",
            "[DIFFERENT] Fruit_Chan vs Gabrielle_Union → Sim: 0.091 → No Match\n",
            "[DIFFERENT] Garry_McCoy vs Garry_Witherall → Sim: -0.021 → No Match\n",
            "[DIFFERENT] Gary_Dellaverson vs Gary_Gero → Sim: 0.004 → No Match\n",
            "[DIFFERENT] Gary_Leon_Ridgway vs Gary_Sayler → Sim: 0.056 → No Match\n",
            "[DIFFERENT] Gary_Stevens vs Gavin_Degraw → Sim: 0.054 → No Match\n",
            "[DIFFERENT] Gene_Orza vs Gene_Sauers → Sim: -0.088 → No Match\n",
            "[DIFFERENT] Geoffrey_Davis vs George_Blaney → Sim: 0.013 → No Match\n",
            "[DIFFERENT] George_Harrison vs George_Lucas → Sim: -0.007 → No Match\n",
            "[DIFFERENT] George_Maxwell_Richards vs Georgia_Giddings → Sim: 0.017 → No Match\n",
            "[DIFFERENT] Gerald_Calabrese vs Gerard_Tronche → Sim: 0.019 → No Match\n",
            "[DIFFERENT] Gerard_de_Cortanze vs Gerhard_Boekel → Sim: -0.035 → No Match\n",
            "[DIFFERENT] Gerry_Kelly vs Ghassan_Elashi → Sim: 0.102 → No Match\n",
            "[DIFFERENT] Gholamreza_Aghazadeh vs Giannina_Facio → Sim: 0.017 → No Match\n",
            "[DIFFERENT] Gideon_Yago vs Gina_Gershon → Sim: -0.038 → No Match\n",
            "[DIFFERENT] Glen_Clark vs Glen_Sather → Sim: -0.044 → No Match\n",
            "[DIFFERENT] Glenn_Tilton vs Gloria_Gaynor → Sim: -0.023 → No Match\n",
            "[DIFFERENT] Goran_Zivkovic vs Gordon_Lightfoot → Sim: -0.093 → No Match\n",
            "[DIFFERENT] Grace_Kelly vs Greg_Hodge → Sim: -0.028 → No Match\n",
            "[DIFFERENT] Greg_Kinnear vs Greg_Ostertag → Sim: -0.092 → No Match\n",
            "[DIFFERENT] Gregor_Gysi vs Gregory_Peck → Sim: -0.009 → No Match\n",
            "[DIFFERENT] Guenter_Verheugen vs Guillaume_Cannet → Sim: 0.049 → No Match\n",
            "[DIFFERENT] Guillermo_Monroy vs Guillermo_Ruiz_Polanco → Sim: 0.124 → No Match\n",
            "[DIFFERENT] Gunilla_Backman vs Gus_Frerotte → Sim: -0.023 → No Match\n",
            "[DIFFERENT] Gustavo_Franco vs Guy_Verhofstadt → Sim: -0.041 → No Match\n",
            "[DIFFERENT] Habib_Hisham vs Hal_McCoy → Sim: 0.008 → No Match\n",
            "[DIFFERENT] Halbert_Fillinger vs Hamza_Atiya_Muhsen → Sim: 0.040 → No Match\n",
            "[DIFFERENT] Hana_Makhmalbaf vs Hana_Urushima → Sim: 0.004 → No Match\n",
            "[DIFFERENT] Hank_Aaron vs Hank_McKinnell → Sim: 0.120 → No Match\n",
            "[DIFFERENT] Hanns_Schumacher vs Hans_Leistritz → Sim: 0.069 → No Match\n",
            "[DIFFERENT] Harland_Braun vs Harold_Scott → Sim: -0.032 → No Match\n",
            "[DIFFERENT] Harry_Kalas vs Hartmut_Mehdorn → Sim: 0.010 → No Match\n",
            "[DIFFERENT] Harvey_Fierstein vs Harvey_Wachsman → Sim: -0.001 → No Match\n",
            "[DIFFERENT] Hashan_Tillakaratne vs Hayley_Tullett → Sim: 0.016 → No Match\n",
            "[DIFFERENT] Heidi_Fleiss vs Helene_Eksterowicz → Sim: -0.022 → No Match\n",
            "[DIFFERENT] Helio_Castroneves vs Henning_Scherf → Sim: -0.004 → No Match\n",
            "[DIFFERENT] Henry_Suazo vs Herb_Brooks → Sim: -0.001 → No Match\n",
            "[DIFFERENT] Herbie_Hancock vs Hermando_Harton → Sim: -0.064 → No Match\n",
            "[DIFFERENT] Hermann_Maier vs Hestrie_Cloette → Sim: 0.070 → No Match\n",
            "[DIFFERENT] Hideki_Sato vs Hidetoshi_Nakata → Sim: 0.116 → No Match\n",
            "[DIFFERENT] Hilmi_Akin_Zorlu vs Hisashi_Owada → Sim: -0.024 → No Match\n",
            "[DIFFERENT] Horace_Newcomb vs Horacio_de_Jesus_Montoya → Sim: -0.005 → No Match\n",
            "[DIFFERENT] Howard_Ross vs Howard_Smith → Sim: 0.011 → No Match\n",
            "[DIFFERENT] Howard_Stern vs Hubie_Brown → Sim: 0.028 → No Match\n",
            "[DIFFERENT] Hugh_Miller vs Hunter_Bates → Sim: -0.096 → No Match\n",
            "[DIFFERENT] Hussam_Mohammed_Amin vs Hutomo_Mandala_Putra → Sim: -0.055 → No Match\n",
            "[DIFFERENT] Ian_Campbell vs Ian_Moran → Sim: -0.020 → No Match\n",
            "[DIFFERENT] Iban_Mayo vs Ibrahim_Haddad → Sim: 0.015 → No Match\n",
            "[DIFFERENT] Idi_Amin vs Ignatius_Wang → Sim: 0.057 → No Match\n",
            "[DIFFERENT] Ilham_Aliev vs Ilie_Nastase → Sim: 0.009 → No Match\n",
            "[DIFFERENT] Imam_Samudra vs Ion_Iliescu → Sim: -0.017 → No Match\n",
            "[DIFFERENT] Ion_Tiriac vs Irene_Kahn → Sim: -0.083 → No Match\n",
            "[DIFFERENT] Irina_Yatchenko vs Isabelle_Huppert → Sim: 0.015 → No Match\n",
            "[DIFFERENT] Isaiah_Washington vs Islam_Karimov → Sim: -0.038 → No Match\n",
            "[DIFFERENT] Ismail_Abu_Shanab vs Ismail_Cem → Sim: 0.021 → No Match\n",
            "[DIFFERENT] Ismail_Khan vs Itamar_Franco → Sim: -0.004 → No Match\n",
            "[DIFFERENT] Ivan_Lee vs Ivo_Dubs → Sim: 0.086 → No Match\n",
            "[DIFFERENT] Izzat_Ibrahim vs JP_Suarez → Sim: 0.041 → No Match\n",
            "[DIFFERENT] Jack_Welch vs Jake_Plummer → Sim: -0.119 → No Match\n",
            "[DIFFERENT] Jalal_Talabani vs James_Becker → Sim: -0.043 → No Match\n",
            "[DIFFERENT] James_Brosnahan vs James_Coburn → Sim: -0.064 → No Match\n",
            "[DIFFERENT] James_Comey vs James_Hughes → Sim: -0.043 → No Match\n",
            "[DIFFERENT] James_Kirtley vs James_Lockhart → Sim: -0.097 → No Match\n",
            "[DIFFERENT] James_Mathis vs James_Sensenbrenner → Sim: 0.024 → No Match\n",
            "[DIFFERENT] James_Wallack vs James_Williams → Sim: -0.070 → No Match\n",
            "[DIFFERENT] Jamie_King vs Jan_Paul_Miller → Sim: 0.049 → No Match\n",
            "[DIFFERENT] Jana_Pittman vs Jane_Rooney → Sim: -0.067 → No Match\n",
            "[DIFFERENT] Janet_Chandler vs Janet_Crawford → Sim: 0.211 → No Match\n",
            "[DIFFERENT] Janet_Ecker vs Janet_Horvath → Sim: 0.001 → No Match\n",
            "[DIFFERENT] Janez_Drnovsek vs Janica_Kostelic → Sim: 0.058 → No Match\n",
            "[DIFFERENT] Janice_Goldfinger vs Janis_Ruth_Coulter → Sim: -0.117 → No Match\n",
            "[DIFFERENT] Jason_Clermont vs Jason_Kapono → Sim: -0.049 → No Match\n",
            "[DIFFERENT] Jason_Keep vs Jason_Mewes → Sim: -0.053 → No Match\n",
            "[DIFFERENT] Jason_Sehorn vs Jason_White → Sim: 0.137 → No Match\n",
            "[DIFFERENT] Javier_Camara vs Javier_Zanetti → Sim: 0.091 → No Match\n",
            "[DIFFERENT] Jawad_Boulus vs Jaymon_Crabb → Sim: -0.140 → No Match\n",
            "[DIFFERENT] Jean-Marc_Olive vs Jean-Patrick_Nazon → Sim: 0.011 → No Match\n",
            "[DIFFERENT] Jean_Carnahan vs Jean_Todt → Sim: -0.012 → No Match\n",
            "[DIFFERENT] Jeane_Kirkpatrick vs Jeanne_Anne_Schroeder → Sim: 0.120 → No Match\n",
            "[DIFFERENT] Jeannette_Biedermann vs Jeff_Dederian → Sim: 0.098 → No Match\n",
            "[DIFFERENT] Jeff_Roehm vs Jefferson_Perez → Sim: 0.023 → No Match\n",
            "[DIFFERENT] Jeffery_Hendren vs Jeffrey_Katzenberg → Sim: 0.097 → No Match\n",
            "[DIFFERENT] Jeffrey_Pfeffer vs Jen_Bice → Sim: -0.022 → No Match\n",
            "[DIFFERENT] Jenna_Elfman vs Jennette_Bradley → Sim: -0.019 → No Match\n",
            "[DIFFERENT] Jennie_Finch vs Jennie_Garth → Sim: 0.075 → No Match\n",
            "[DIFFERENT] Jennifer_Granholm vs Jennifer_Renee_Short → Sim: -0.091 → No Match\n",
            "[DIFFERENT] Jennifer_Rodriguez vs Jeremy_Wotherspoon → Sim: 0.069 → No Match\n",
            "[DIFFERENT] Jerome_Jenkins vs Jerry_Bruckheimer → Sim: -0.014 → No Match\n",
            "[DIFFERENT] Jerry_Jones vs Jerry_McEntee → Sim: 0.037 → No Match\n",
            "[DIFFERENT] Jerry_Oliver vs Jerry_Seinfeld → Sim: 0.090 → No Match\n",
            "[DIFFERENT] Jerry_Sexton vs Jesse_James → Sim: -0.167 → No Match\n",
            "[DIFFERENT] Jessica_Biel vs Jessica_Capshaw → Sim: 0.021 → No Match\n",
            "[DIFFERENT] Jessica_Simpson vs Jim_Abbott → Sim: -0.020 → No Match\n",
            "[DIFFERENT] Jim_Beattie vs Jim_Calhoun → Sim: -0.023 → No Match\n",
            "[DIFFERENT] Jim_Cantalupo vs Jim_Doyle → Sim: 0.045 → No Match\n",
            "[DIFFERENT] Jim_Flaherty vs Jim_Freudenberg → Sim: 0.109 → No Match\n",
            "[DIFFERENT] Jim_Haslett vs Jim_Jeffords → Sim: -0.073 → No Match\n",
            "[DIFFERENT] Jim_Spinoza vs Joaquin_Phoenix → Sim: 0.039 → No Match\n",
            "[DIFFERENT] Joe_Cocker vs Joe_DeLamielleure → Sim: -0.107 → No Match\n",
            "[DIFFERENT] Joe_Dicaro vs Joe_Mantegna → Sim: -0.003 → No Match\n",
            "[DIFFERENT] Joe_Pantoliano vs Joe_Paterno → Sim: -0.066 → No Match\n",
            "[DIFFERENT] Joe_Plumeri vs Joe_Strummer → Sim: -0.087 → No Match\n",
            "[DIFFERENT] Joey_Buttafuoco vs Johan_Bruyneel → Sim: -0.050 → No Match\n",
            "[DIFFERENT] John_Baldacci vs John_Belushi → Sim: -0.053 → No Match\n",
            "[DIFFERENT] John_Burkett vs John_Danforth → Sim: -0.028 → No Match\n",
            "[DIFFERENT] John_Engler vs John_Franco → Sim: -0.036 → No Match\n",
            "[DIFFERENT] John_Herrington vs John_Jones → Sim: 0.072 → No Match\n",
            "[DIFFERENT] John_Kerr vs John_Lawrence → Sim: 0.019 → No Match\n",
            "[DIFFERENT] John_Lynch vs John_Mabry → Sim: 0.014 → No Match\n",
            "[DIFFERENT] John_McCallum vs John_Moxley → Sim: 0.119 → No Match\n",
            "[DIFFERENT] John_Nash vs John_Paul_DeJoria → Sim: -0.034 → No Match\n",
            "[DIFFERENT] John_Robbins vs John_Stallworth → Sim: -0.017 → No Match\n",
            "[DIFFERENT] John_Tyson vs John_Wayne → Sim: 0.033 → No Match\n",
            "[DIFFERENT] Johnny_Depp vs Jon_Kitna → Sim: -0.010 → No Match\n",
            "[DIFFERENT] Jorge_Moreno vs Jorge_Quiroga → Sim: 0.002 → No Match\n",
            "[DIFFERENT] Jose_Alencar vs Jose_Bove → Sim: -0.055 → No Match\n",
            "[DIFFERENT] Jose_Canseco_Sr vs Jose_Cevallos → Sim: -0.124 → No Match\n",
            "[DIFFERENT] Jose_Genoino vs Jose_Luis_Chilavert → Sim: 0.064 → No Match\n",
            "[DIFFERENT] Jose_Luis_Rodriguez_Zapatero vs Joseph_Galante → Sim: 0.060 → No Match\n",
            "[DIFFERENT] Joseph_Salgado vs Josh_Kronfeld → Sim: -0.023 → No Match\n",
            "[DIFFERENT] Joshua_Harapko vs Joshua_Perper → Sim: -0.014 → No Match\n",
            "[DIFFERENT] Joxel_Garcia vs Juan_Carlos → Sim: -0.021 → No Match\n",
            "[DIFFERENT] Juan_Roman_Riquelme vs Juan_Sanchez → Sim: 0.061 → No Match\n",
            "[DIFFERENT] Jude_Law vs Judi_Dench → Sim: 0.018 → No Match\n",
            "[DIFFERENT] Judi_Patton vs Judy_Dean → Sim: -0.131 → No Match\n",
            "[DIFFERENT] Juergen_Chrobog vs Jules_Asner → Sim: -0.033 → No Match\n",
            "[DIFFERENT] Julia_Ormond vs Julien_Boutter → Sim: 0.055 → No Match\n",
            "[DIFFERENT] Julio_Cesar_Chavez vs Julio_De_Brun → Sim: 0.028 → No Match\n",
            "[DIFFERENT] Juljia_Vysotskij vs Kaisser_Bazan → Sim: -0.035 → No Match\n",
            "[DIFFERENT] Kajsa_Bergqvist vs Kang_Gum-sil → Sim: 0.011 → No Match\n",
            "[DIFFERENT] Kaoru_Hasuike vs Karen_Allen → Sim: 0.071 → No Match\n",
            "[DIFFERENT] Karin_Viard vs Karl-Heinz_Rummenigge → Sim: 0.091 → No Match\n",
            "[DIFFERENT] Katie_Boone vs Katie_Holmes → Sim: -0.073 → No Match\n",
            "[DIFFERENT] Katie_Wagner vs Kay_Bailey_Hutchison → Sim: -0.040 → No Match\n",
            "[DIFFERENT] Kay_Behrensmeyer vs Keith_Lockhart → Sim: -0.050 → No Match\n",
            "[DIFFERENT] Keith_Osik vs Kelly_Ripa → Sim: 0.010 → No Match\n",
            "[DIFFERENT] Ken_Balk vs Kenneth_Cooper → Sim: -0.034 → No Match\n",
            "[DIFFERENT] Kent_Robinson vs Kevin_Gil → Sim: 0.031 → No Match\n",
            "[DIFFERENT] Kevin_Harvick vs Kevin_Hearn → Sim: 0.060 → No Match\n",
            "[DIFFERENT] Kevin_James vs Kevin_Satterfield → Sim: 0.067 → No Match\n",
            "[DIFFERENT] Khader_Rashid_Rahim vs Kim_Hong-gul → Sim: -0.150 → No Match\n",
            "[DIFFERENT] Kim_Weeks vs King_Gyanendra → Sim: 0.079 → No Match\n",
            "[DIFFERENT] Kirk_Ferentz vs Kirsten_Clark → Sim: -0.037 → No Match\n",
            "[DIFFERENT] Koichi_Tanaka vs Koichiro_Matsuura → Sim: -0.166 → No Match\n",
            "[DIFFERENT] Koji_Uehara vs Kosuke_Kitajima → Sim: 0.055 → No Match\n",
            "[DIFFERENT] Kurt_Budke vs Kurt_Hellstrom → Sim: 0.035 → No Match\n",
            "[DIFFERENT] Kyoko_Nakayama vs LK_Advani → Sim: 0.029 → No Match\n",
            "[DIFFERENT] Larry_Donald vs Larry_Greene → Sim: -0.005 → No Match\n",
            "[DIFFERENT] Larry_Hagman vs Larry_Ralston → Sim: 0.091 → No Match\n",
            "[DIFFERENT] Larry_Templeton vs Laszlo_Kovacs → Sim: -0.007 → No Match\n",
            "[DIFFERENT] Latrell_Sprewell vs Laura_Elena_Harring → Sim: 0.005 → No Match\n",
            "[DIFFERENT] Laura_Pausini vs Laura_Romero → Sim: -0.171 → No Match\n",
            "[DIFFERENT] Laurel_Clark vs Laurent_Woulzy → Sim: -0.048 → No Match\n",
            "[DIFFERENT] Laurie_Hobbs vs Lawrence_Di_Rita → Sim: -0.076 → No Match\n",
            "[DIFFERENT] Lawrence_Roberts vs LeRoy_Millette_Jr → Sim: 0.067 → No Match\n",
            "[DIFFERENT] Lee_Ann_Knight vs Lee_Ann_Terlaji → Sim: 0.049 → No Match\n",
            "[DIFFERENT] Lee_Baca vs Leisel_Jones → Sim: -0.015 → No Match\n",
            "[DIFFERENT] Lena_Katina vs Leon_Lai → Sim: -0.006 → No Match\n",
            "[DIFFERENT] Leonard_Glick vs Leonard_Schrank → Sim: -0.040 → No Match\n",
            "[DIFFERENT] Lesley_Coppin vs Leslie_Wiser_Jr → Sim: -0.131 → No Match\n",
            "[DIFFERENT] Leticia_Van_de_Putte vs Lily_Tomlin → Sim: 0.013 → No Match\n",
            "[DIFFERENT] Linda_Amicangioli vs Linda_Franklin → Sim: 0.000 → No Match\n",
            "[DIFFERENT] Linda_Mason vs Lindsay_Lohan → Sim: 0.053 → No Match\n",
            "[DIFFERENT] Lindy_Ruff vs Lisa_Girman → Sim: -0.044 → No Match\n",
            "[DIFFERENT] Lisa_Leslie vs Lisa_Murkowski → Sim: 0.028 → No Match\n",
            "[DIFFERENT] Lloyd_Mudiwa vs Lokendra_Bahadur_Chand → Sim: -0.048 → No Match\n",
            "[DIFFERENT] Lou_Lang vs Lou_Ye → Sim: 0.079 → No Match\n",
            "[DIFFERENT] Lucie_Lapovsky vs Lucrecia_Orozco → Sim: -0.024 → No Match\n",
            "[DIFFERENT] Ludwig_Ovalle vs Luis_Pujols → Sim: 0.023 → No Match\n",
            "[DIFFERENT] Luis_Sanchez vs Lydia_Shum → Sim: 0.031 → No Match\n",
            "[DIFFERENT] Lynne_Slepian vs Mack_Brown → Sim: -0.062 → No Match\n",
            "[DIFFERENT] Madeleine_Webber vs Madge_Overhouse → Sim: -0.023 → No Match\n",
            "[DIFFERENT] Mahima_Chaudhari vs Makiko_Tanaka → Sim: -0.004 → No Match\n",
            "[DIFFERENT] Malak_Habbak vs Malcolm_Wild → Sim: -0.029 → No Match\n",
            "[DIFFERENT] Malik_Mahmud vs Mamdouh_Habib → Sim: 0.019 → No Match\n",
            "[DIFFERENT] Manijeh_Hekmat vs Manuel_Jesus → Sim: -0.023 → No Match\n",
            "[DIFFERENT] Manuel_Pellegrini vs Marc_Anthony → Sim: 0.079 → No Match\n",
            "[DIFFERENT] Marc_Racicot vs Marcella_Anderson → Sim: -0.033 → No Match\n",
            "[DIFFERENT] Marco_Irizarry vs Margaret_Hasley → Sim: 0.039 → No Match\n",
            "[DIFFERENT] Margerry_Bakley vs Margie_Puente → Sim: 0.010 → No Match\n",
            "[DIFFERENT] Maria_Burks vs Maria_Callas → Sim: -0.034 → No Match\n",
            "[DIFFERENT] Maria_Simon vs Marian_Dolan → Sim: -0.018 → No Match\n",
            "[DIFFERENT] Marianne_Stanley vs Mariano_Zabaleta → Sim: -0.016 → No Match\n",
            "[DIFFERENT] Marie_Haghal vs Marina_Canetti → Sim: 0.025 → No Match\n",
            "[DIFFERENT] Marina_Silva vs Mario_Dumont → Sim: 0.050 → No Match\n",
            "[DIFFERENT] Mario_Jardel vs Mario_Lemieux → Sim: 0.029 → No Match\n",
            "[DIFFERENT] Marisol_Martinez_Sambran vs Mark_Andrew → Sim: 0.018 → No Match\n",
            "[DIFFERENT] Mark_Broxmeyer vs Mark_Butcher → Sim: -0.058 → No Match\n",
            "[DIFFERENT] Mark_Hanson vs Mark_Leno → Sim: 0.052 → No Match\n",
            "[DIFFERENT] Mark_Mariscal vs Mark_Martin → Sim: -0.005 → No Match\n",
            "[DIFFERENT] Mark_Mishkin vs Mark_Mulder → Sim: 0.041 → No Match\n",
            "[DIFFERENT] Marquier_Montano_Contreras vs Marquis_Estill → Sim: -0.096 → No Match\n",
            "[DIFFERENT] Marricia_Tate vs Marsah_Ambrosius → Sim: 0.032 → No Match\n",
            "[DIFFERENT] Marta_Dominguz vs Martin_Burnham → Sim: 0.061 → No Match\n",
            "[DIFFERENT] Martin_Frost vs Martin_Landau → Sim: 0.033 → No Match\n",
            "[DIFFERENT] Martin_Luther_King_III vs Mary_Bono → Sim: -0.045 → No Match\n",
            "[DIFFERENT] Mary_Descenza vs Mary_Frances_Seiter → Sim: 0.003 → No Match\n",
            "[DIFFERENT] Mary_Maddux vs Mary_Matalin → Sim: -0.034 → No Match\n",
            "[DIFFERENT] Mary_McCarty vs Maryn_McKenna → Sim: 0.005 → No Match\n",
            "[DIFFERENT] Masamori_Tokuyama vs Masaru_Hayami → Sim: -0.017 → No Match\n",
            "[DIFFERENT] Matt_Walters vs Matt_Welsh → Sim: -0.106 → No Match\n",
            "[DIFFERENT] Matthew_Broderick vs Matthew_During → Sim: 0.001 → No Match\n",
            "[DIFFERENT] Matthew_McConaughey vs Matthias_Sammer → Sim: -0.068 → No Match\n",
            "[DIFFERENT] Maurice_Papon vs Mauricio_Macri → Sim: -0.028 → No Match\n",
            "[DIFFERENT] Mehdi_Baala vs Melana_Scantlin → Sim: 0.015 → No Match\n",
            "[DIFFERENT] Melchor_Cob_Castro vs Melinda_Czink → Sim: 0.059 → No Match\n",
            "[DIFFERENT] Melissa_Joan_Hart vs Melissa_Mulloy → Sim: 0.159 → No Match\n",
            "[DIFFERENT] Melvin_Talbert vs Micah_Knorr → Sim: 0.084 → No Match\n",
            "[DIFFERENT] Michael_Andretti vs Michael_Arif → Sim: 0.137 → No Match\n",
            "[DIFFERENT] Michael_Broad vs Michael_DeMinico → Sim: 0.050 → No Match\n",
            "[DIFFERENT] Michael_Denzel vs Michael_Guiler → Sim: 0.095 → No Match\n",
            "[DIFFERENT] Michael_Haneke vs Michael_Killeen → Sim: -0.055 → No Match\n",
            "[DIFFERENT] Michael_Linscott vs Michael_Milton → Sim: 0.009 → No Match\n",
            "[DIFFERENT] Michael_Sheehan vs Michael_Smith_Foster → Sim: 0.041 → No Match\n",
            "[DIFFERENT] Michael_Weiss vs Michalis_Chrisohoides → Sim: -0.003 → No Match\n",
            "[DIFFERENT] Michel_Charles_Chretien vs Michel_Kratochvil → Sim: -0.048 → No Match\n",
            "[DIFFERENT] Miguel_Aldana_Ibarra vs Miguel_Contreras → Sim: -0.026 → No Match\n",
            "[DIFFERENT] Miguel_Jimenez vs Mika_Hakkinen → Sim: -0.029 → No Match\n",
            "[DIFFERENT] Mike_Duke vs Mike_Leach → Sim: -0.061 → No Match\n",
            "[DIFFERENT] Mike_Maroth vs Mike_Matheny → Sim: 0.119 → No Match\n",
            "[DIFFERENT] Mike_Price vs Mike_Richter → Sim: -0.114 → No Match\n",
            "[DIFFERENT] Mike_Sherman vs Mike_Slive → Sim: 0.040 → No Match\n",
            "[DIFFERENT] Mike_Smith vs Miles_Stewart → Sim: 0.029 → No Match\n",
            "[DIFFERENT] Mirela_Manjani vs Mireya_Elisa_Moscoso_Rodriguez → Sim: -0.097 → No Match\n",
            "[DIFFERENT] Mitch_Kupchak vs Mitchell_Garabedian → Sim: -0.006 → No Match\n",
            "[DIFFERENT] Mitchell_McLaughlin vs Mitchell_Potter → Sim: -0.014 → No Match\n",
            "[DIFFERENT] Mitchell_Swartz vs Moby → Sim: -0.065 → No Match\n",
            "[DIFFERENT] Mohammad_Aktar vs Mohammad_Al-Sharief → Sim: 0.062 → No Match\n",
            "[DIFFERENT] Mohammed_Abu_Sharia vs Mohammed_Abulhasan → Sim: 0.077 → No Match\n",
            "[DIFFERENT] Mohammed_Salmane vs Momir_Nikolic → Sim: 0.041 → No Match\n",
            "[DIFFERENT] Mona_Ayoub vs Monica_Gabrielle → Sim: -0.067 → No Match\n",
            "[DIFFERENT] Mufti_Mohammad_Syed vs Narayan_Singh_Pun → Sim: 0.035 → No Match\n",
            "[DIFFERENT] Narendra_Modi vs Nastia_Liukin → Sim: -0.053 → No Match\n",
            "[DIFFERENT] Natalie_Imbruglia vs Natalie_Juniardi → Sim: 0.004 → No Match\n",
            "[DIFFERENT] Natasha_Henstridge vs Nathalie_Gagnon → Sim: 0.002 → No Match\n",
            "[DIFFERENT] Neil_Goldman vs Neil_Moritz → Sim: -0.040 → No Match\n",
            "[DIFFERENT] Newt_Gingrich vs Niall_Connolly → Sim: 0.143 → No Match\n",
            "[DIFFERENT] Nicholoas_DiMarzio vs Nick_Price → Sim: -0.025 → No Match\n",
            "[DIFFERENT] Nick_Reilly vs Nick_Rimando → Sim: 0.004 → No Match\n",
            "[DIFFERENT] Nicolas_Eyzaguirre vs Nicolas_Macrozonaris → Sim: -0.036 → No Match\n",
            "[DIFFERENT] Nicolas_Sarkozy vs Nicoletta_Braschi → Sim: -0.050 → No Match\n",
            "[DIFFERENT] Nida_Blanca vs Nikki_Cascone → Sim: -0.025 → No Match\n",
            "[DIFFERENT] Nikki_Teasley vs Nikolay_Davydenko → Sim: -0.013 → No Match\n",
            "[DIFFERENT] Nila_Ferran vs Nina_Pecari → Sim: 0.056 → No Match\n",
            "[DIFFERENT] Noer_Muis vs Nora_Bendijo → Sim: 0.075 → No Match\n",
            "[DIFFERENT] Norbert_van_Heyst vs Norman_Mailer → Sim: 0.008 → No Match\n",
            "[DIFFERENT] Norman_Mineta vs Nuon_Chea → Sim: 0.011 → No Match\n",
            "[DIFFERENT] Oleg_Romantsev vs Oliver_Neuville → Sim: -0.076 → No Match\n",
            "[DIFFERENT] Omar_Khan_Sharif vs Oracene_Williams → Sim: 0.040 → No Match\n",
            "[DIFFERENT] Osmond_Smith vs Oswald_Gruebel → Sim: 0.034 → No Match\n",
            "[DIFFERENT] Owen_Wilson vs Ozzie_Smith → Sim: -0.084 → No Match\n",
            "[DIFFERENT] Pak_Gil_Yon vs Park_Jie-won → Sim: 0.066 → No Match\n",
            "[DIFFERENT] Parthiv_Patel vs Pat_DAmuro → Sim: 0.034 → No Match\n",
            "[DIFFERENT] Pat_Summerall vs Pat_Summitt → Sim: 0.005 → No Match\n",
            "[DIFFERENT] Patricia_Medina vs Patricia_Phillips → Sim: -0.002 → No Match\n",
            "[DIFFERENT] Patrick_Rafter vs Patsy_Kensit → Sim: 0.004 → No Match\n",
            "[DIFFERENT] Patty_Schnyder vs Patty_Sheehan → Sim: 0.023 → No Match\n",
            "[DIFFERENT] Paul_Bettany vs Paul_Clark → Sim: -0.090 → No Match\n",
            "[DIFFERENT] Paul_Kariya vs Paul_Krueger → Sim: 0.022 → No Match\n",
            "[DIFFERENT] Paul_Michael_Daniels vs Paul_Newman → Sim: 0.016 → No Match\n",
            "[DIFFERENT] Paul_Reiser vs Paul_Schrader → Sim: -0.067 → No Match\n",
            "[DIFFERENT] Paul_Tracy vs Paul_Vathis → Sim: -0.025 → No Match\n",
            "[DIFFERENT] Paula_Abdul vs Paula_Locke → Sim: 0.085 → No Match\n",
            "[DIFFERENT] Paula_Prentiss vs Pauline_Phillips → Sim: 0.227 → No Match\n",
            "[DIFFERENT] Pedro_Alvarez vs Pedro_Martinez → Sim: 0.049 → No Match\n",
            "[DIFFERENT] Percy_Gibson vs Peri_Gilpin → Sim: -0.013 → No Match\n",
            "[DIFFERENT] Perry_Compton vs Perry_Farrell → Sim: -0.067 → No Match\n",
            "[DIFFERENT] Peter_Camejo vs Peter_Caruana → Sim: -0.028 → No Match\n",
            "[DIFFERENT] Peter_Fisher vs Peter_Fitzgerald → Sim: 0.072 → No Match\n",
            "[DIFFERENT] Peter_Gilmour vs Peter_Goldmark → Sim: 0.034 → No Match\n",
            "[DIFFERENT] Peter_Hartz vs Peter_Hollingworth → Sim: 0.058 → No Match\n",
            "[DIFFERENT] Peter_Hunt vs Peter_Mansbridge → Sim: 0.043 → No Match\n",
            "[DIFFERENT] Peter_Mullan vs Peter_OToole → Sim: 0.128 → No Match\n",
            "[DIFFERENT] Peter_Rasch vs Peter_Schultz → Sim: 0.001 → No Match\n",
            "[DIFFERENT] Peter_Sejna vs Phil_Bennett → Sim: 0.046 → No Match\n",
            "[DIFFERENT] Phil_Bredesen vs Phil_Cullen → Sim: -0.052 → No Match\n",
            "[DIFFERENT] Phil_Jackson vs Phil_McGraw → Sim: -0.034 → No Match\n",
            "[DIFFERENT] Phil_Morris vs Philip_Zalewski → Sim: -0.031 → No Match\n",
            "[DIFFERENT] Phillip_Fulmer vs Phillip_Seymor_Hoffmann → Sim: 0.016 → No Match\n",
            "[DIFFERENT] Phillipe_Comtois vs Phillips_Idowu → Sim: -0.001 → No Match\n",
            "[DIFFERENT] Pierre_Png vs Pierre_Van_Hooijdonk → Sim: 0.020 → No Match\n",
            "[DIFFERENT] Pieter_Bouw vs Pinar_del_Rio → Sim: -0.027 → No Match\n",
            "[DIFFERENT] Polona_Bas vs Portia_de_Rossi → Sim: 0.102 → No Match\n",
            "[DIFFERENT] Princess_Diana vs Princess_Hisako → Sim: -0.027 → No Match\n",
            "[DIFFERENT] Princess_Stephanie vs Prospero_Pichay → Sim: 0.007 → No Match\n",
            "[DIFFERENT] Qazi_Hussain_Ahmed vs Queen_Noor → Sim: 0.005 → No Match\n",
            "[DIFFERENT] Raaf_Schefter vs Rachel_Wheatley → Sim: 0.007 → No Match\n",
            "[DIFFERENT] Rafael_Bielsa vs Rafiq_Hariri → Sim: -0.007 → No Match\n",
            "[DIFFERENT] Rahul_Dravid vs Raja_Zafar-ul-Haq → Sim: -0.017 → No Match\n",
            "[DIFFERENT] Ramiro_Goben_Reducindo vs Ramon_Delgado → Sim: -0.055 → No Match\n",
            "[DIFFERENT] Ramona_Rispton vs Rand_Beers → Sim: 0.053 → No Match\n",
            "[DIFFERENT] Randall_Terry vs Randy_Dryer → Sim: 0.055 → No Match\n",
            "[DIFFERENT] Randy_Travis vs Ray_Liotta → Sim: 0.199 → No Match\n",
            "[DIFFERENT] Ray_Sherman vs Reggie_Lewis → Sim: 0.054 → No Match\n",
            "[DIFFERENT] Regina_Ip vs Reginald_Hudlin → Sim: 0.083 → No Match\n",
            "[DIFFERENT] Reina_Hayes vs Renato_Soru → Sim: 0.028 → No Match\n",
            "[DIFFERENT] Rene_Portland vs Rich_Brooks → Sim: -0.049 → No Match\n",
            "[DIFFERENT] Richard_Carl vs Richard_Hellfant → Sim: 0.117 → No Match\n",
            "[DIFFERENT] Richard_Langille vs Richard_Penniman → Sim: 0.012 → No Match\n",
            "[DIFFERENT] Richard_Pennington vs Richard_Regenhard → Sim: 0.084 → No Match\n",
            "[DIFFERENT] Richard_Reid vs Richard_Rodriguez → Sim: 0.012 → No Match\n",
            "[DIFFERENT] Richard_Ward vs Rick_Bragg → Sim: 0.054 → No Match\n",
            "[DIFFERENT] Rick_Caruso vs Ricky_Cottrill → Sim: -0.023 → No Match\n",
            "[DIFFERENT] Ricky_Quick vs Riek_Blanjaar → Sim: 0.072 → No Match\n",
            "[DIFFERENT] Rob_Moore vs Rob_Niedermayer → Sim: -0.004 → No Match\n",
            "[DIFFERENT] Rob_Ramsay vs Robbie_Mc_Ewen → Sim: 0.128 → No Match\n",
            "[DIFFERENT] Robbie_Naish vs Robby_Ginepri → Sim: 0.085 → No Match\n",
            "[DIFFERENT] Robert_Douglas vs Robert_Downey_Jr → Sim: -0.074 → No Match\n",
            "[DIFFERENT] Robert_Flodquist vs Robert_Gallo → Sim: -0.057 → No Match\n",
            "[DIFFERENT] Robert_Gordon_Card vs Robert_Hanssen → Sim: 0.060 → No Match\n",
            "[DIFFERENT] Robert_Lee_Yates_Jr vs Robert_McKee → Sim: -0.029 → No Match\n",
            "[DIFFERENT] Robert_Nardelli vs Robert_Nillson → Sim: -0.003 → No Match\n",
            "[DIFFERENT] Robert_Tyrrell vs Robert_Wagner → Sim: -0.014 → No Match\n",
            "[DIFFERENT] Robert_Woody_Johnson vs Roberto_Robaina → Sim: -0.044 → No Match\n",
            "[DIFFERENT] Robin_Tunney vs Robin_Williams → Sim: -0.019 → No Match\n",
            "[DIFFERENT] Rod_Thorn vs Rodrigo_de_la_Cerna → Sim: -0.000 → No Match\n",
            "[DIFFERENT] Roger_Cook vs Roger_Daltrey → Sim: 0.039 → No Match\n",
            "[DIFFERENT] Roger_Etchegaray vs Roger_Lyons → Sim: 0.079 → No Match\n",
            "[DIFFERENT] Roger_Suarez vs Roger_Toussaint → Sim: -0.026 → No Match\n",
            "[DIFFERENT] Roger_Winter vs Rohman_al-Ghozi → Sim: 0.081 → No Match\n",
            "[DIFFERENT] Roman_Coppola vs Roman_Tam → Sim: -0.070 → No Match\n",
            "[DIFFERENT] Ron_Kirk vs Rosa_Haywa_de_Condori → Sim: 0.020 → No Match\n",
            "[DIFFERENT] Rosalyn_Carter vs Rosario_Dawson → Sim: -0.040 → No Match\n",
            "[DIFFERENT] Rose_Linkins vs Rosny_Desroches → Sim: -0.045 → No Match\n",
            "[DIFFERENT] Ruano_Pascual vs Rudolf_Schuster → Sim: -0.030 → No Match\n",
            "[DIFFERENT] Rulon_Gardner vs Russ_Ortiz → Sim: 0.062 → No Match\n",
            "[DIFFERENT] Ruth_Bader_Ginsburg vs Ruth_Christofferson → Sim: 0.063 → No Match\n",
            "[DIFFERENT] Ruth_Pearce vs Ruth_Stubbs → Sim: 0.118 → No Match\n",
            "[DIFFERENT] Sally_Clark vs Salman_Khan → Sim: 0.061 → No Match\n",
            "[DIFFERENT] Sam_Brownback vs Sam_Gerald → Sim: -0.053 → No Match\n",
            "[DIFFERENT] Sami_Al-Arian vs Sananda_Maitreya → Sim: -0.001 → No Match\n",
            "[DIFFERENT] Sandra_Milo vs Sarah_Canale → Sim: -0.024 → No Match\n",
            "[DIFFERENT] Sarah_Wynter vs Sasha_Cohen → Sim: 0.001 → No Match\n",
            "[DIFFERENT] Scott_Dalton vs Scott_Dickson → Sim: -0.016 → No Match\n",
            "[DIFFERENT] Scott_Fawell vs Scott_Rolen → Sim: 0.123 → No Match\n",
            "[DIFFERENT] Scott_Weiland vs Scott_Wittman → Sim: -0.009 → No Match\n",
            "[DIFFERENT] Scott_Yates vs Se_Hyuk_Joo → Sim: -0.072 → No Match\n",
            "[DIFFERENT] Sean_Patrick_Thomas vs Sebastian_Cuattrin → Sim: -0.028 → No Match\n",
            "[DIFFERENT] Sedigh_Barmak vs Serge_Melac → Sim: -0.104 → No Match\n",
            "[DIFFERENT] Sergio_Castellitto vs Seth_Gorney → Sim: -0.027 → No Match\n",
            "[DIFFERENT] Seydou_Diarra vs Shania_Twain → Sim: 0.044 → No Match\n",
            "[DIFFERENT] Shanna_Zolman vs Shavon_Earp → Sim: 0.063 → No Match\n",
            "[DIFFERENT] Shawn_Marion vs Sheila_Taormina → Sim: -0.025 → No Match\n",
            "[DIFFERENT] Shigeru_Ishiba vs Shinya_Taniguchi → Sim: 0.050 → No Match\n",
            "[DIFFERENT] Shinzo_Abe vs Shireen_Amir_Begum → Sim: -0.041 → No Match\n",
            "[DIFFERENT] Shirley_Jones vs Shoshannah_Stern → Sim: 0.008 → No Match\n",
            "[DIFFERENT] Sidney_Kimmel vs Simon_Chalk → Sim: 0.033 → No Match\n",
            "[DIFFERENT] Simon_Larose vs Sinead_OConnor → Sim: 0.039 → No Match\n",
            "[DIFFERENT] Skip_Prosser vs Soenarno → Sim: 0.036 → No Match\n",
            "[DIFFERENT] Sofyan_Dawood vs Stacey_Dales-Schuman → Sim: 0.011 → No Match\n",
            "[DIFFERENT] Stacey_Jones vs Stacey_Yamaguchi → Sim: -0.003 → No Match\n",
            "[DIFFERENT] Stacy_Nelson vs Stefan_Holm → Sim: 0.039 → No Match\n",
            "[DIFFERENT] Stefano_Gabbana vs Stepan_Demirchian → Sim: 0.071 → No Match\n",
            "[DIFFERENT] Stephan_Eberharter vs Stephane_Delajoux → Sim: 0.092 → No Match\n",
            "[DIFFERENT] Stephanie_Cohen_Aloro vs Stephen_Crampton → Sim: -0.015 → No Match\n",
            "[DIFFERENT] Stephen_Glassroth vs Stephen_Oake → Sim: -0.044 → No Match\n",
            "[DIFFERENT] Sterling_Hitchcock vs Steve_Blankenship → Sim: -0.042 → No Match\n",
            "[DIFFERENT] Steve_Case vs Steve_Coogan → Sim: -0.002 → No Match\n",
            "[DIFFERENT] Steve_Cox vs Steve_Cutler → Sim: 0.065 → No Match\n",
            "[DIFFERENT] Steve_Pagliuca vs Steve_Patterson → Sim: 0.117 → No Match\n",
            "[DIFFERENT] Steve_Peace vs Steve_Valentine → Sim: -0.013 → No Match\n",
            "[DIFFERENT] Steve_Wariner vs Steve_Zahn → Sim: 0.002 → No Match\n",
            "[DIFFERENT] Steven_Curtis_Chapman vs Steven_Van_Zandt → Sim: 0.014 → No Match\n",
            "[DIFFERENT] Stipe_Mesic vs Stuart_Townsend → Sim: -0.022 → No Match\n",
            "[DIFFERENT] Stuart_Whitman vs Sue_Grafton → Sim: -0.072 → No Match\n",
            "[DIFFERENT] Sue_Guevara vs Sue_Slavec → Sim: 0.087 → No Match\n",
            "[DIFFERENT] Sun_Myung_Moon vs Sung_Hong_Choi → Sim: 0.119 → No Match\n",
            "[DIFFERENT] Surakait_Sathirathai vs Susan_Collins → Sim: -0.088 → No Match\n",
            "[DIFFERENT] Susan_Whelan vs Svend_Aage_Jensby → Sim: -0.015 → No Match\n",
            "[DIFFERENT] Svetlana_Belousova vs Sylvie_Guillem → Sim: 0.050 → No Match\n",
            "[DIFFERENT] Tab_Baldwin vs Takeo_Fukui → Sim: -0.093 → No Match\n",
            "[DIFFERENT] Talisa_Soto vs Tamara_Mowry → Sim: 0.054 → No Match\n",
            "[DIFFERENT] Tamika_Catchings vs Tammy_Lynn_Michaels → Sim: -0.019 → No Match\n",
            "[DIFFERENT] Tara_Dawn_Christensen vs Tara_Reid → Sim: -0.064 → No Match\n",
            "[DIFFERENT] Tara_VanDerveer vs Tatiana_Kennedy_Schlossberg → Sim: 0.131 → No Match\n",
            "[DIFFERENT] Tatsuya_Fuji vs Tavis_Smiley → Sim: 0.041 → No Match\n",
            "[DIFFERENT] Ted_Nolan vs Teddy_Kollek → Sim: 0.071 → No Match\n",
            "[DIFFERENT] Teresa_Williams vs Teri_Files → Sim: 0.084 → No Match\n",
            "[DIFFERENT] Terrence_Trammell vs Terri_Clark → Sim: 0.010 → No Match\n",
            "[DIFFERENT] Terry_Lynn_Barton vs Terry_Semel → Sim: -0.087 → No Match\n",
            "[DIFFERENT] Teruaki_Masumoto vs Terunobu_Maeda → Sim: 0.049 → No Match\n",
            "[DIFFERENT] Tessa_Jowell vs Thierry_Mariani → Sim: 0.056 → No Match\n",
            "[DIFFERENT] Thomas_Day vs Thomas_Ferguson → Sim: -0.019 → No Match\n",
            "[DIFFERENT] Thomas_Haeggstroem vs Thomas_Klestil → Sim: -0.013 → No Match\n",
            "[DIFFERENT] Thomas_Mesereau_Jr vs Thomas_Stewart → Sim: -0.005 → No Match\n",
            "[DIFFERENT] Thomas_Van_Essen vs Thomas_Watjen → Sim: -0.091 → No Match\n",
            "[DIFFERENT] Tia_Mowry vs Tian_Liang → Sim: 0.004 → No Match\n",
            "[DIFFERENT] Tim_Lopes vs Tim_Norbeck → Sim: 0.028 → No Match\n",
            "[DIFFERENT] Tim_Pawlenty vs Tim_Salmon → Sim: 0.069 → No Match\n",
            "[DIFFERENT] Timothy_Goebel vs Timothy_McVeigh → Sim: 0.076 → No Match\n",
            "[DIFFERENT] Tina_Fey vs Tina_Sinatra → Sim: 0.014 → No Match\n",
            "[DIFFERENT] Tino_Martinez vs Tirunesh_Dibaba → Sim: -0.024 → No Match\n",
            "[DIFFERENT] Todd_Parrott vs Todd_Petit → Sim: 0.005 → No Match\n",
            "[DIFFERENT] Tom_Amstutz vs Tom_Foy → Sim: -0.017 → No Match\n",
            "[DIFFERENT] Tom_Scully vs Tom_Sizemore → Sim: -0.042 → No Match\n",
            "[DIFFERENT] Tom_Smothers vs Tommy_Amaker → Sim: 0.054 → No Match\n",
            "[DIFFERENT] Tommy_Lasorda vs Tommy_Shane_Steiner → Sim: 0.019 → No Match\n",
            "[DIFFERENT] Tommy_Tubberville vs Tony_Clement → Sim: 0.127 → No Match\n",
            "[DIFFERENT] Tonya_Payne vs Tora_Takagi → Sim: -0.007 → No Match\n",
            "[DIFFERENT] Toshi_Izawa vs Tracee_Treadwell → Sim: -0.047 → No Match\n",
            "[DIFFERENT] Travis_Rudolph vs Tristan_Gretzky → Sim: 0.026 → No Match\n",
            "[DIFFERENT] Troy_Polamalu vs Trudi_Lacey → Sim: 0.053 → No Match\n",
            "[DIFFERENT] Tyler_Hamilton vs Vadim_Strogalev → Sim: 0.024 → No Match\n",
            "[DIFFERENT] Vanessa_Laine vs Vassilis_Xiros → Sim: -0.004 → No Match\n",
            "[DIFFERENT] Vecdi_Gonul vs Viara_Vike-Freiberga → Sim: -0.019 → No Match\n",
            "[DIFFERENT] Victor_Garber vs Victor_Hanescu → Sim: -0.002 → No Match\n",
            "[DIFFERENT] Vijay_Nambiar vs Viktor_Yushchenko → Sim: -0.005 → No Match\n",
            "[DIFFERENT] Vince_Dooley vs Vince_Vaughan → Sim: -0.059 → No Match\n",
            "[DIFFERENT] Vincent_Cianci_Jr vs Vincent_Sombrotto → Sim: -0.027 → No Match\n",
            "[DIFFERENT] Virgina_Ruano_Pascal vs Vladimir_Meciar → Sim: -0.009 → No Match\n",
            "[DIFFERENT] Vladimir_Ustinov vs Vyacheslav_Fetisov → Sim: 0.097 → No Match\n",
            "[DIFFERENT] Walid_Al-Awadi vs Wallace_Capel → Sim: -0.078 → No Match\n",
            "[DIFFERENT] Walt_Harris vs Ward_Cuff → Sim: -0.112 → No Match\n",
            "[DIFFERENT] Warren_Truss vs Wayne_Newton → Sim: 0.025 → No Match\n",
            "[DIFFERENT] Wendell_Bryant vs Wendy_Selig → Sim: -0.003 → No Match\n",
            "[DIFFERENT] Werner_Schlager vs Wilbert_Elki_Meza_Majino → Sim: 0.060 → No Match\n",
            "[DIFFERENT] Will_Ofenheusle vs William_Delahunt → Sim: 0.036 → No Match\n",
            "[DIFFERENT] William_Genego vs William_Harrison → Sim: -0.020 → No Match\n",
            "[DIFFERENT] William_McDonough vs William_Nessen → Sim: -0.025 → No Match\n",
            "[DIFFERENT] William_Umbach vs Willie_Nelson → Sim: 0.086 → No Match\n",
            "[DIFFERENT] Willie_Wilson vs Wilton_Gregory → Sim: 0.053 → No Match\n",
            "[DIFFERENT] Wolfgang_Becker vs Wolfgang_Clement → Sim: -0.034 → No Match\n",
            "[DIFFERENT] Wolfgang_Schneiderhan vs Wolfgang_Schwarz → Sim: -0.066 → No Match\n",
            "[DIFFERENT] Woodrow_Stanley vs Wycliffe_Grousbeck → Sim: -0.003 → No Match\n",
            "[DIFFERENT] Xiang_Xu vs Yang_Pao-yu → Sim: -0.014 → No Match\n",
            "[DIFFERENT] Yasushi_Akashi vs Yasushi_Chimura → Sim: -0.084 → No Match\n",
            "[DIFFERENT] Yekaterina_Guseva vs Yishan_Zhang → Sim: -0.002 → No Match\n",
            "[DIFFERENT] Yoon_Jeong_Cho vs Yukiko_Okudo → Sim: -0.063 → No Match\n",
            "[DIFFERENT] Yves_Brodeur vs Zach_Parise → Sim: 0.021 → No Match\n",
            "[DIFFERENT] Zach_Safrin vs Zeljko_Rebraca → Sim: 0.012 → No Match\n",
            "[DIFFERENT] Zelma_Novelo vs Zhang_Yimou → Sim: 0.082 → No Match\n",
            "[DIFFERENT] Zhang_Ziyi vs Zoe_Ball → Sim: 0.050 → No Match\n",
            "[DIFFERENT] Zulfiqar_Ahmed vs Zurab_Tsereteli → Sim: 0.044 → No Match\n",
            "\n",
            "--- Confusion Matrix ---\n",
            "[[415   5]\n",
            " [  0 629]]\n",
            "\n",
            "--- Classification Report ---\n",
            "                        precision    recall  f1-score   support\n",
            "\n",
            "Different-Person (Neg)       0.99      1.00      1.00       629\n",
            "     Same-Person (Pos)       1.00      0.99      0.99       420\n",
            "\n",
            "              accuracy                           1.00      1049\n",
            "             macro avg       1.00      0.99      1.00      1049\n",
            "          weighted avg       1.00      1.00      1.00      1049\n",
            "\n"
          ]
        }
      ]
    }
  ]
}